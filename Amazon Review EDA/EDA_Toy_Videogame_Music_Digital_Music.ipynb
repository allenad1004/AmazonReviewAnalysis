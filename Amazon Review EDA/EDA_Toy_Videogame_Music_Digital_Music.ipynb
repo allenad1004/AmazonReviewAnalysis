{
 "cells": [
  {
   "cell_type": "code",
   "execution_count": 32,
   "metadata": {},
   "outputs": [],
   "source": [
    "# Import other modules not related to PySpark\n",
    "import os\n",
    "import sys\n",
    "import pandas as pd\n",
    "from pandas import DataFrame\n",
    "import numpy as np\n",
    "import matplotlib.pyplot as plt\n",
    "import matplotlib.ticker as mtick\n",
    "import matplotlib\n",
    "from mpl_toolkits.mplot3d import Axes3D\n",
    "import math\n",
    "from IPython.core.interactiveshell import InteractiveShell\n",
    "from datetime import *\n",
    "import statistics as stats\n",
    "# This helps auto print out the items without explixitly using 'print'\n",
    "InteractiveShell.ast_node_interactivity = \"all\" \n",
    "%matplotlib inline"
   ]
  },
  {
   "cell_type": "code",
   "execution_count": 33,
   "metadata": {},
   "outputs": [],
   "source": [
    "# Import PySpark related modules\n",
    "import pyspark\n",
    "from pyspark.rdd import RDD\n",
    "from pyspark.sql import Row\n",
    "from pyspark.sql import DataFrame\n",
    "from pyspark.sql import SparkSession\n",
    "from pyspark.sql import SQLContext\n",
    "from pyspark.sql import functions\n",
    "from pyspark.sql.functions import lit, desc, col, size, array_contains\\\n",
    ", isnan, udf, hour, array_min, array_max, countDistinct\n",
    "from pyspark.sql.types import *"
   ]
  },
  {
   "cell_type": "code",
   "execution_count": 3,
   "metadata": {},
   "outputs": [
    {
     "data": {
      "text/plain": [
       "[('spark.eventLog.enabled', 'true'),\n",
       " ('spark.yarn.jars',\n",
       "  'local:/opt/cloudera/parcels/CDH-6.3.0-1.cdh6.3.0.p0.1279813/lib/spark/jars/*,local:/opt/cloudera/parcels/CDH-6.3.0-1.cdh6.3.0.p0.1279813/lib/spark/hive/*'),\n",
       " ('spark.yarn.appMasterEnv.MKL_NUM_THREADS', '1'),\n",
       " ('spark.sql.queryExecutionListeners',\n",
       "  'com.cloudera.spark.lineage.NavigatorQueryListener'),\n",
       " ('spark.lineage.log.dir', '/var/log/spark/lineage'),\n",
       " ('spark.org.apache.hadoop.yarn.server.webproxy.amfilter.AmIpFilter.param.PROXY_HOSTS',\n",
       "  'md01.rcc.local,md02.rcc.local'),\n",
       " ('spark.serializer', 'org.apache.spark.serializer.KryoSerializer'),\n",
       " ('spark.executorEnv.PYTHONPATH',\n",
       "  '/opt/cloudera/parcels/CDH/lib/spark/python/lib/py4j-0.10.7-src.zip:/opt/cloudera/parcels/CDH/lib/spark/python/lib/pyspark.zip<CPS>/opt/cloudera/parcels/CDH-6.3.0-1.cdh6.3.0.p0.1279813/lib/spark/python/lib/py4j-0.10.7-src.zip<CPS>/opt/cloudera/parcels/CDH-6.3.0-1.cdh6.3.0.p0.1279813/lib/spark/python/lib/pyspark.zip'),\n",
       " ('spark.yarn.historyServer.address', 'http://hd01.rcc.local:18088'),\n",
       " ('spark.ui.filters',\n",
       "  'org.apache.hadoop.yarn.server.webproxy.amfilter.AmIpFilter'),\n",
       " ('spark.network.crypto.enabled', 'false'),\n",
       " ('spark.executorEnv.MKL_NUM_THREADS', '1'),\n",
       " ('spark.executor.memory', '4g'),\n",
       " ('spark.ui.enabled', 'true'),\n",
       " ('spark.driver.port', '42182'),\n",
       " ('spark.executor.id', 'driver'),\n",
       " ('spark.executor.extraLibraryPath',\n",
       "  '/opt/cloudera/parcels/CDH-6.3.0-1.cdh6.3.0.p0.1279813/lib/hadoop/lib/native'),\n",
       " ('spark.dynamicAllocation.schedulerBacklogTimeout', '1'),\n",
       " ('spark.yarn.config.gatewayPath', '/opt/cloudera/parcels'),\n",
       " ('spark.extraListeners', 'com.cloudera.spark.lineage.NavigatorAppListener'),\n",
       " ('spark.port.maxRetries', '60'),\n",
       " ('spark.sql.warehouse.dir', '/user/hive/warehouse'),\n",
       " ('spark.app.name', 'Spark Updated Conf'),\n",
       " ('spark.sql.catalogImplementation', 'hive'),\n",
       " ('spark.driver.log.persistToDfs.enabled', 'true'),\n",
       " ('spark.yarn.config.replacementPath', '{{HADOOP_COMMON_HOME}}/../../..'),\n",
       " ('spark.executorEnv.OPENBLAS_NUM_THREADS', '1'),\n",
       " ('spark.ui.proxyBase', '/proxy/application_1643652317966_4570'),\n",
       " ('spark.driver.extraLibraryPath',\n",
       "  '/opt/cloudera/parcels/CDH-6.3.0-1.cdh6.3.0.p0.1279813/lib/hadoop/lib/native'),\n",
       " ('spark.app.id', 'application_1643652317966_4570'),\n",
       " ('spark.driver.memory', '4g'),\n",
       " ('spark.ui.killEnabled', 'true'),\n",
       " ('spark.cores.max', '4'),\n",
       " ('spark.eventLog.dir', 'hdfs://nameservice1/user/spark/applicationHistory'),\n",
       " ('spark.dynamicAllocation.executorIdleTimeout', '60'),\n",
       " ('spark.executor.cores', '4'),\n",
       " ('spark.io.encryption.enabled', 'false'),\n",
       " ('spark.authenticate', 'false'),\n",
       " ('spark.serializer.objectStreamReset', '100'),\n",
       " ('spark.submit.deployMode', 'client'),\n",
       " ('spark.org.apache.hadoop.yarn.server.webproxy.amfilter.AmIpFilter.param.RM_HA_URLS',\n",
       "  'md01.rcc.local:8088,md02.rcc.local:8088'),\n",
       " ('spark.shuffle.service.enabled', 'true'),\n",
       " ('spark.yarn.historyServer.allowTracking', 'true'),\n",
       " ('spark.yarn.appMasterEnv.OPENBLAS_NUM_THREADS', '1'),\n",
       " ('spark.shuffle.service.port', '7337'),\n",
       " ('spark.lineage.enabled', 'true'),\n",
       " ('spark.master', 'yarn'),\n",
       " ('spark.driver.host', 'md01.rcc.local'),\n",
       " ('spark.rdd.compress', 'True'),\n",
       " ('spark.yarn.am.extraLibraryPath',\n",
       "  '/opt/cloudera/parcels/CDH-6.3.0-1.cdh6.3.0.p0.1279813/lib/hadoop/lib/native'),\n",
       " ('spark.dynamicAllocation.minExecutors', '0'),\n",
       " ('spark.org.apache.hadoop.yarn.server.webproxy.amfilter.AmIpFilter.param.PROXY_URI_BASES',\n",
       "  'http://md01.rcc.local:8088/proxy/application_1643652317966_4570,http://md02.rcc.local:8088/proxy/application_1643652317966_4570'),\n",
       " ('spark.dynamicAllocation.enabled', 'true'),\n",
       " ('spark.yarn.isPython', 'true'),\n",
       " ('spark.driver.appUIAddress', 'http://md01.rcc.local:4058'),\n",
       " ('spark.ui.showConsoleProgress', 'true'),\n",
       " ('spark.driver.log.dfsDir', '/user/spark/driverLogs')]"
      ]
     },
     "execution_count": 3,
     "metadata": {},
     "output_type": "execute_result"
    }
   ],
   "source": [
    "spark = SparkSession.builder.appName('Project').getOrCreate()\n",
    "\n",
    "#change configuration settings on Spark \n",
    "conf = spark.sparkContext._conf.setAll([('spark.executor.memory', '4g'), ('spark.app.name', 'Spark Updated Conf'), ('spark.executor.cores', '4'), ('spark.cores.max', '4'), ('spark.driver.memory','4g')])\n",
    "\n",
    "#print spark configuration settings\n",
    "spark.sparkContext.getConf().getAll()"
   ]
  },
  {
   "cell_type": "code",
   "execution_count": 4,
   "metadata": {},
   "outputs": [
    {
     "name": "stdout",
     "output_type": "stream",
     "text": [
      "WARNING: log4j.properties is not found. HADOOP_CONF_DIR may be incomplete.\n",
      "Java HotSpot(TM) 64-Bit Server VM warning: ignoring option MaxPermSize=512M; support was removed in 8.0\n",
      "Found 10 items\n",
      "-rw-r--r--   3 klaurens klaurens 3238702530 2022-02-09 16:45 /user/klaurens/project/project/amazon_reviews_us_Books_v1_02.tsv\n",
      "-rw-r--r--   3 klaurens klaurens 3224038446 2022-02-09 16:46 /user/klaurens/project/project/amazon_reviews_us_Digital_Ebook_Purchase_v1_01.tsv\n",
      "-rw-r--r--   3 klaurens klaurens  628880453 2022-02-09 16:46 /user/klaurens/project/project/amazon_reviews_us_Digital_Music_Purchase_v1_00.tsv\n",
      "-rw-r--r--   3 klaurens klaurens   53855391 2022-02-09 16:47 /user/klaurens/project/project/amazon_reviews_us_Digital_Software_v1_00.tsv\n",
      "-rw-r--r--   3 klaurens klaurens 1288048833 2022-02-09 16:45 /user/klaurens/project/project/amazon_reviews_us_Digital_Video_Download_v1_00.tsv\n",
      "-rw-r--r--   3 klaurens klaurens 3671037159 2022-02-09 16:45 /user/klaurens/project/project/amazon_reviews_us_Music_v1_00.tsv\n",
      "-rw-r--r--   3 klaurens klaurens  249565371 2022-02-09 16:44 /user/klaurens/project/project/amazon_reviews_us_Software_v1_00.tsv\n",
      "-rw-r--r--   3 klaurens klaurens 1962834272 2022-02-09 16:46 /user/klaurens/project/project/amazon_reviews_us_Toys_v1_00.tsv\n",
      "-rw-r--r--   3 klaurens klaurens 3708889477 2022-02-09 16:47 /user/klaurens/project/project/amazon_reviews_us_Video_DVD_v1_00.tsv\n",
      "-rw-r--r--   3 klaurens klaurens 1204902329 2022-02-09 16:45 /user/klaurens/project/project/amazon_reviews_us_Video_Games_v1_00.tsv\n"
     ]
    }
   ],
   "source": [
    "! hdfs dfs -ls '/user/klaurens/project/project/'"
   ]
  },
  {
   "cell_type": "markdown",
   "metadata": {},
   "source": [
    "Read dataset from CSV file"
   ]
  },
  {
   "cell_type": "markdown",
   "metadata": {},
   "source": [
    "## Data Import"
   ]
  },
  {
   "cell_type": "code",
   "execution_count": 5,
   "metadata": {},
   "outputs": [],
   "source": [
    "toy = spark.read.csv(\"/user/klaurens/project/project/amazon_reviews_us_Toys_v1_00.tsv\", sep='\\t',inferSchema=True, header=True)\n",
    "vidgame = spark.read.csv(\"/user/klaurens/project/project/amazon_reviews_us_Video_Games_v1_00.tsv\", sep='\\t',inferSchema=True, header=True)\n",
    "music = spark.read.csv(\"/user/klaurens/project/project/amazon_reviews_us_Music_v1_00.tsv\", sep='\\t',inferSchema=True, header=True)\n",
    "digimusic = spark.read.csv(\"/user/klaurens/project/project/amazon_reviews_us_Digital_Music_Purchase_v1_00.tsv\", sep='\\t',inferSchema=True, header=True)"
   ]
  },
  {
   "cell_type": "code",
   "execution_count": 6,
   "metadata": {
    "scrolled": true
   },
   "outputs": [
    {
     "name": "stdout",
     "output_type": "stream",
     "text": [
      "--toy--\n",
      "17\n",
      "--video--\n",
      "17\n",
      "--music--\n",
      "28\n",
      "--digital--\n",
      "17\n"
     ]
    }
   ],
   "source": [
    "#number of partitions\n",
    "print(\"--toy--\")\n",
    "print(toy.rdd.getNumPartitions())\n",
    "print(\"--video--\")\n",
    "print(vidgame.rdd.getNumPartitions())\n",
    "print(\"--music--\")\n",
    "print(music.rdd.getNumPartitions())\n",
    "print(\"--digital--\")\n",
    "print(digimusic.rdd.getNumPartitions())"
   ]
  },
  {
   "cell_type": "markdown",
   "metadata": {},
   "source": [
    "## Overview of Dataset"
   ]
  },
  {
   "cell_type": "code",
   "execution_count": 37,
   "metadata": {},
   "outputs": [
    {
     "name": "stdout",
     "output_type": "stream",
     "text": [
      "--toy--\n",
      "root\n",
      " |-- marketplace: string (nullable = true)\n",
      " |-- customer_id: integer (nullable = true)\n",
      " |-- review_id: string (nullable = true)\n",
      " |-- product_id: string (nullable = true)\n",
      " |-- product_parent: integer (nullable = true)\n",
      " |-- product_title: string (nullable = true)\n",
      " |-- product_category: string (nullable = true)\n",
      " |-- star_rating: integer (nullable = true)\n",
      " |-- helpful_votes: integer (nullable = true)\n",
      " |-- total_votes: integer (nullable = true)\n",
      " |-- vine: string (nullable = true)\n",
      " |-- verified_purchase: string (nullable = true)\n",
      " |-- review_headline: string (nullable = true)\n",
      " |-- review_body: string (nullable = true)\n",
      " |-- review_date: timestamp (nullable = true)\n",
      "\n",
      "None\n",
      "          Column Name  Data type\n",
      "0         marketplace     string\n",
      "1         customer_id        int\n",
      "2           review_id     string\n",
      "3          product_id     string\n",
      "4      product_parent        int\n",
      "5       product_title     string\n",
      "6    product_category     string\n",
      "7         star_rating        int\n",
      "8       helpful_votes        int\n",
      "9         total_votes        int\n",
      "10               vine     string\n",
      "11  verified_purchase     string\n",
      "12    review_headline     string\n",
      "13        review_body     string\n",
      "14        review_date  timestamp\n",
      "--video game--\n",
      "root\n",
      " |-- marketplace: string (nullable = true)\n",
      " |-- customer_id: integer (nullable = true)\n",
      " |-- review_id: string (nullable = true)\n",
      " |-- product_id: string (nullable = true)\n",
      " |-- product_parent: integer (nullable = true)\n",
      " |-- product_title: string (nullable = true)\n",
      " |-- product_category: string (nullable = true)\n",
      " |-- star_rating: integer (nullable = true)\n",
      " |-- helpful_votes: integer (nullable = true)\n",
      " |-- total_votes: integer (nullable = true)\n",
      " |-- vine: string (nullable = true)\n",
      " |-- verified_purchase: string (nullable = true)\n",
      " |-- review_headline: string (nullable = true)\n",
      " |-- review_body: string (nullable = true)\n",
      " |-- review_date: timestamp (nullable = true)\n",
      "\n",
      "None\n",
      "          Column Name  Data type\n",
      "0         marketplace     string\n",
      "1         customer_id        int\n",
      "2           review_id     string\n",
      "3          product_id     string\n",
      "4      product_parent        int\n",
      "5       product_title     string\n",
      "6    product_category     string\n",
      "7         star_rating        int\n",
      "8       helpful_votes        int\n",
      "9         total_votes        int\n",
      "10               vine     string\n",
      "11  verified_purchase     string\n",
      "12    review_headline     string\n",
      "13        review_body     string\n",
      "14        review_date  timestamp\n",
      "--music--\n",
      "root\n",
      " |-- marketplace: string (nullable = true)\n",
      " |-- customer_id: integer (nullable = true)\n",
      " |-- review_id: string (nullable = true)\n",
      " |-- product_id: string (nullable = true)\n",
      " |-- product_parent: integer (nullable = true)\n",
      " |-- product_title: string (nullable = true)\n",
      " |-- product_category: string (nullable = true)\n",
      " |-- star_rating: integer (nullable = true)\n",
      " |-- helpful_votes: integer (nullable = true)\n",
      " |-- total_votes: integer (nullable = true)\n",
      " |-- vine: string (nullable = true)\n",
      " |-- verified_purchase: string (nullable = true)\n",
      " |-- review_headline: string (nullable = true)\n",
      " |-- review_body: string (nullable = true)\n",
      " |-- review_date: timestamp (nullable = true)\n",
      "\n",
      "None\n",
      "          Column Name  Data type\n",
      "0         marketplace     string\n",
      "1         customer_id        int\n",
      "2           review_id     string\n",
      "3          product_id     string\n",
      "4      product_parent        int\n",
      "5       product_title     string\n",
      "6    product_category     string\n",
      "7         star_rating        int\n",
      "8       helpful_votes        int\n",
      "9         total_votes        int\n",
      "10               vine     string\n",
      "11  verified_purchase     string\n",
      "12    review_headline     string\n",
      "13        review_body     string\n",
      "14        review_date  timestamp\n",
      "--digital music--\n",
      "root\n",
      " |-- marketplace: string (nullable = true)\n",
      " |-- customer_id: integer (nullable = true)\n",
      " |-- review_id: string (nullable = true)\n",
      " |-- product_id: string (nullable = true)\n",
      " |-- product_parent: integer (nullable = true)\n",
      " |-- product_title: string (nullable = true)\n",
      " |-- product_category: string (nullable = true)\n",
      " |-- star_rating: integer (nullable = true)\n",
      " |-- helpful_votes: integer (nullable = true)\n",
      " |-- total_votes: integer (nullable = true)\n",
      " |-- vine: string (nullable = true)\n",
      " |-- verified_purchase: string (nullable = true)\n",
      " |-- review_headline: string (nullable = true)\n",
      " |-- review_body: string (nullable = true)\n",
      " |-- review_date: timestamp (nullable = true)\n",
      "\n",
      "None\n",
      "          Column Name  Data type\n",
      "0         marketplace     string\n",
      "1         customer_id        int\n",
      "2           review_id     string\n",
      "3          product_id     string\n",
      "4      product_parent        int\n",
      "5       product_title     string\n",
      "6    product_category     string\n",
      "7         star_rating        int\n",
      "8       helpful_votes        int\n",
      "9         total_votes        int\n",
      "10               vine     string\n",
      "11  verified_purchase     string\n",
      "12    review_headline     string\n",
      "13        review_body     string\n",
      "14        review_date  timestamp\n"
     ]
    }
   ],
   "source": [
    "#it is good when the data types are as expected. this indicates no corrupted records\n",
    "print(\"--toy--\")\n",
    "print(toy.printSchema())\n",
    "print(pd.DataFrame(toy.dtypes, columns = ['Column Name','Data type']))\n",
    "print(\"--video game--\")\n",
    "print(vidgame.printSchema())\n",
    "print(pd.DataFrame(vidgame.dtypes, columns = ['Column Name','Data type']))\n",
    "print(\"--music--\")\n",
    "print(music.printSchema())\n",
    "print(pd.DataFrame(music.dtypes, columns = ['Column Name','Data type']))\n",
    "print(\"--digital music--\")\n",
    "print(digimusic.printSchema())\n",
    "print(pd.DataFrame(digimusic.dtypes, columns = ['Column Name','Data type']))"
   ]
  },
  {
   "cell_type": "code",
   "execution_count": 10,
   "metadata": {},
   "outputs": [
    {
     "name": "stdout",
     "output_type": "stream",
     "text": [
      "root\n",
      " |-- marketplace: string (nullable = true)\n",
      " |-- customer_id: integer (nullable = true)\n",
      " |-- review_id: string (nullable = true)\n",
      " |-- product_id: string (nullable = true)\n",
      " |-- product_parent: integer (nullable = true)\n",
      " |-- product_title: string (nullable = true)\n",
      " |-- product_category: string (nullable = true)\n",
      " |-- star_rating: integer (nullable = true)\n",
      " |-- helpful_votes: integer (nullable = true)\n",
      " |-- total_votes: integer (nullable = true)\n",
      " |-- vine: string (nullable = true)\n",
      " |-- verified_purchase: string (nullable = true)\n",
      " |-- review_headline: string (nullable = true)\n",
      " |-- review_body: string (nullable = true)\n",
      " |-- review_date: timestamp (nullable = true)\n",
      "\n"
     ]
    }
   ],
   "source": [
    "toy.printSchema()"
   ]
  },
  {
   "cell_type": "code",
   "execution_count": 12,
   "metadata": {},
   "outputs": [
    {
     "name": "stdout",
     "output_type": "stream",
     "text": [
      "--toy--\n",
      "4864249\n",
      "--video--\n",
      "1785997\n",
      "--music--\n",
      "4751577\n",
      "--digital--\n",
      "1688884\n"
     ]
    }
   ],
   "source": [
    "print(\"--toy--\")\n",
    "print(toy.count())\n",
    "print(\"--video--\")\n",
    "print(vidgame.count())\n",
    "print(\"--music--\")\n",
    "print(music.count())\n",
    "print(\"--digital--\")\n",
    "print(digimusic.count())"
   ]
  },
  {
   "cell_type": "code",
   "execution_count": 19,
   "metadata": {},
   "outputs": [
    {
     "name": "stdout",
     "output_type": "stream",
     "text": [
      "+-----------+-----------+--------------+----------+--------------+--------------------+----------------+-----------+-------------+-----------+----+-----------------+--------------------+--------------------+-------------------+\n",
      "|marketplace|customer_id|     review_id|product_id|product_parent|       product_title|product_category|star_rating|helpful_votes|total_votes|vine|verified_purchase|     review_headline|         review_body|        review_date|\n",
      "+-----------+-----------+--------------+----------+--------------+--------------------+----------------+-----------+-------------+-----------+----+-----------------+--------------------+--------------------+-------------------+\n",
      "|         US|   18778586| RDIJS7QYB6XNR|B00EDBY7X8|     122952789|Monopoly Junior B...|            Toys|          5|            0|          0|   N|                Y|          Five Stars|        Excellent!!!|2015-08-31 00:00:00|\n",
      "|         US|   24769659|R36ED1U38IELG8|B00D7JFOPC|     952062646|56 Pieces of Wood...|            Toys|          5|            0|          0|   N|                Y|Good quality trac...|Great quality woo...|2015-08-31 00:00:00|\n",
      "|         US|   44331596| R1UE3RPRGCOLD|B002LHA74O|     818126353|Super Jumbo Playi...|            Toys|          2|            1|          1|   N|                Y|           Two Stars|Cards are not as ...|2015-08-31 00:00:00|\n",
      "|         US|   23310293|R298788GS6I901|B00ARPLCGY|     261944918|Barbie Doll and F...|            Toys|          5|            0|          0|   N|                Y|my daughter loved...|my daughter loved...|2015-08-31 00:00:00|\n",
      "|         US|   38745832|  RNX4EXOBBPN5|B00UZOPOFW|     717410439|Emazing Lights eL...|            Toys|          1|            1|          1|   N|                Y|     DONT BUY THESE!|Do not buy these!...|2015-08-31 00:00:00|\n",
      "+-----------+-----------+--------------+----------+--------------+--------------------+----------------+-----------+-------------+-----------+----+-----------------+--------------------+--------------------+-------------------+\n",
      "only showing top 5 rows\n",
      "\n"
     ]
    }
   ],
   "source": [
    "toy.show(5)"
   ]
  },
  {
   "cell_type": "code",
   "execution_count": 20,
   "metadata": {},
   "outputs": [
    {
     "name": "stdout",
     "output_type": "stream",
     "text": [
      "+-----------+-----------+--------------+----------+--------------+--------------------+----------------+-----------+-------------+-----------+----+-----------------+--------------------+--------------------+-------------------+\n",
      "|marketplace|customer_id|     review_id|product_id|product_parent|       product_title|product_category|star_rating|helpful_votes|total_votes|vine|verified_purchase|     review_headline|         review_body|        review_date|\n",
      "+-----------+-----------+--------------+----------+--------------+--------------------+----------------+-----------+-------------+-----------+----+-----------------+--------------------+--------------------+-------------------+\n",
      "|         US|   12039526| RTIS3L2M1F5SM|B001CXYMFS|     737716809|Thrustmaster T-Fl...|     Video Games|          5|            0|          0|   N|                Y|an amazing joysti...|Used this for Eli...|2015-08-31 00:00:00|\n",
      "|         US|    9636577| R1ZV7R40OLHKD|B00M920ND6|     569686175|Tonsee 6 buttons ...|     Video Games|          5|            0|          0|   N|                Y|Definitely a sile...|Loved it,  I didn...|2015-08-31 00:00:00|\n",
      "|         US|    2331478|R3BH071QLH8QMC|B0029CSOD2|      98937668|Hidden Mysteries:...|     Video Games|          1|            0|          1|   N|                Y|            One Star|poor quality work...|2015-08-31 00:00:00|\n",
      "|         US|   52495923|R127K9NTSXA2YH|B00GOOSV98|      23143350|GelTabz Performan...|     Video Games|          3|            0|          0|   N|                Y|good, but could b...|nice, but tend to...|2015-08-31 00:00:00|\n",
      "|         US|   14533949|R32ZWUXDJPW27Q|B00Y074JOM|     821342511|Zero Suit Samus a...|     Video Games|          4|            0|          0|   N|                Y|   Great but flawed.|Great amiibo, gre...|2015-08-31 00:00:00|\n",
      "+-----------+-----------+--------------+----------+--------------+--------------------+----------------+-----------+-------------+-----------+----+-----------------+--------------------+--------------------+-------------------+\n",
      "only showing top 5 rows\n",
      "\n"
     ]
    }
   ],
   "source": [
    "vidgame.show(5)"
   ]
  },
  {
   "cell_type": "code",
   "execution_count": 21,
   "metadata": {},
   "outputs": [
    {
     "name": "stdout",
     "output_type": "stream",
     "text": [
      "+-----------+-----------+--------------+----------+--------------+--------------------+----------------+-----------+-------------+-----------+----+-----------------+--------------------+--------------------+-------------------+\n",
      "|marketplace|customer_id|     review_id|product_id|product_parent|       product_title|product_category|star_rating|helpful_votes|total_votes|vine|verified_purchase|     review_headline|         review_body|        review_date|\n",
      "+-----------+-----------+--------------+----------+--------------+--------------------+----------------+-----------+-------------+-----------+----+-----------------+--------------------+--------------------+-------------------+\n",
      "|         US|   10140119|R3LI5TRP3YIDQL|B00TXH4OLC|     384427924|Whatever's for Us...|           Music|          5|            0|          0|   N|                Y|          Five Stars|Love this CD alon...|2015-08-31 00:00:00|\n",
      "|         US|   27664622|R3LGC3EKEG84PX|B00B6QXN6U|     831769051|Same Trailer Diff...|           Music|          5|            0|          0|   N|                Y|A new fave in our...|This is the album...|2015-08-31 00:00:00|\n",
      "|         US|   45946560| R9PYL3OYH55QY|B001GCZXW6|      14067376| Soaring (Jazz Club)|           Music|          5|            0|          1|   N|                Y|          Five Stars|  Excellent / thanks|2015-08-31 00:00:00|\n",
      "|         US|   15146326|R3PWBAWUS4NT0Q|B000003EK6|     566295619|     CARIBBEAN PARTY|           Music|          3|            0|          0|   N|                Y|         Three Stars|Nice variety of c...|2015-08-31 00:00:00|\n",
      "|         US|   16794688|R15LYP3O51UU9E|B00N1F0BKK|     210426072|         Pain Killer|           Music|          5|            0|          0|   N|                Y|          Five Stars|Purchased as a gi...|2015-08-31 00:00:00|\n",
      "+-----------+-----------+--------------+----------+--------------+--------------------+----------------+-----------+-------------+-----------+----+-----------------+--------------------+--------------------+-------------------+\n",
      "only showing top 5 rows\n",
      "\n"
     ]
    }
   ],
   "source": [
    "music.show(5)"
   ]
  },
  {
   "cell_type": "code",
   "execution_count": 22,
   "metadata": {},
   "outputs": [
    {
     "name": "stdout",
     "output_type": "stream",
     "text": [
      "+-----------+-----------+--------------+----------+--------------+--------------------+--------------------+-----------+-------------+-----------+----+-----------------+--------------------+--------------------+-------------------+\n",
      "|marketplace|customer_id|     review_id|product_id|product_parent|       product_title|    product_category|star_rating|helpful_votes|total_votes|vine|verified_purchase|     review_headline|         review_body|        review_date|\n",
      "+-----------+-----------+--------------+----------+--------------+--------------------+--------------------+-----------+-------------+-----------+----+-----------------+--------------------+--------------------+-------------------+\n",
      "|         US|   10293599|R14LVB34Z2Z53I|B000YMOQZY|     262935067|Knockin' On Heave...|Digital_Music_Pur...|          5|            0|          0|   N|                Y|           favorites|Great  rendition....|2015-08-31 00:00:00|\n",
      "|         US|    6087195|R2M0R9CWPC82LT|B00ISAEC80|     452318038|            Flawless|Digital_Music_Pur...|          5|            0|          0|   N|                Y|          Five Stars|A good music to l...|2015-08-31 00:00:00|\n",
      "|         US|   33717063| RQNQI2R3BM52A|B00VBB6AVU|     675969129|    Scandal of Grace|Digital_Music_Pur...|          4|            0|          0|   N|                Y|                Good|Not as good as th...|2015-08-31 00:00:00|\n",
      "|         US|   14948020| RTUIX1135HUAB|B008A5POJO|     282925893|  I Surrender (Live)|Digital_Music_Pur...|          5|            0|          0|   N|                Y|Wonderful lyrics!...|Time to worship a...|2015-08-31 00:00:00|\n",
      "|         US|   21694522| RE3QSAT8TL010|B014CW2RN4|     109077793|We Are Young (Jer...|Digital_Music_Pur...|          4|            0|          0|   N|                Y|Hot remix but too...|So this should be...|2015-08-31 00:00:00|\n",
      "+-----------+-----------+--------------+----------+--------------+--------------------+--------------------+-----------+-------------+-----------+----+-----------------+--------------------+--------------------+-------------------+\n",
      "only showing top 5 rows\n",
      "\n"
     ]
    }
   ],
   "source": [
    "digimusic.show(5)"
   ]
  },
  {
   "cell_type": "markdown",
   "metadata": {},
   "source": [
    "### Data Summary"
   ]
  },
  {
   "cell_type": "code",
   "execution_count": 10,
   "metadata": {},
   "outputs": [
    {
     "data": {
      "text/html": [
       "<div>\n",
       "<style scoped>\n",
       "    .dataframe tbody tr th:only-of-type {\n",
       "        vertical-align: middle;\n",
       "    }\n",
       "\n",
       "    .dataframe tbody tr th {\n",
       "        vertical-align: top;\n",
       "    }\n",
       "\n",
       "    .dataframe thead th {\n",
       "        text-align: right;\n",
       "    }\n",
       "</style>\n",
       "<table border=\"1\" class=\"dataframe\">\n",
       "  <thead>\n",
       "    <tr style=\"text-align: right;\">\n",
       "      <th></th>\n",
       "      <th>summary</th>\n",
       "      <th>marketplace</th>\n",
       "      <th>customer_id</th>\n",
       "      <th>review_id</th>\n",
       "      <th>product_id</th>\n",
       "      <th>product_parent</th>\n",
       "      <th>product_title</th>\n",
       "      <th>product_category</th>\n",
       "      <th>star_rating</th>\n",
       "      <th>helpful_votes</th>\n",
       "      <th>total_votes</th>\n",
       "      <th>vine</th>\n",
       "      <th>verified_purchase</th>\n",
       "      <th>review_headline</th>\n",
       "      <th>review_body</th>\n",
       "    </tr>\n",
       "  </thead>\n",
       "  <tbody>\n",
       "    <tr>\n",
       "      <th>0</th>\n",
       "      <td>count</td>\n",
       "      <td>4864249</td>\n",
       "      <td>4864249</td>\n",
       "      <td>4864249</td>\n",
       "      <td>4864249</td>\n",
       "      <td>4864249</td>\n",
       "      <td>4864249</td>\n",
       "      <td>4864243</td>\n",
       "      <td>4864243</td>\n",
       "      <td>4864243</td>\n",
       "      <td>4864243</td>\n",
       "      <td>4864243</td>\n",
       "      <td>4864243</td>\n",
       "      <td>4864236</td>\n",
       "      <td>4863513</td>\n",
       "    </tr>\n",
       "    <tr>\n",
       "      <th>1</th>\n",
       "      <td>mean</td>\n",
       "      <td>None</td>\n",
       "      <td>2.7251137614531245E7</td>\n",
       "      <td>None</td>\n",
       "      <td>2.734841414072982E9</td>\n",
       "      <td>4.997667630695071E8</td>\n",
       "      <td>1.975257680616857E11</td>\n",
       "      <td>None</td>\n",
       "      <td>4.211734693353107</td>\n",
       "      <td>1.4768606338129078</td>\n",
       "      <td>1.868630535111013</td>\n",
       "      <td>None</td>\n",
       "      <td>None</td>\n",
       "      <td>4.591836734693878E34</td>\n",
       "      <td>227489.0198019802</td>\n",
       "    </tr>\n",
       "    <tr>\n",
       "      <th>2</th>\n",
       "      <td>stddev</td>\n",
       "      <td>None</td>\n",
       "      <td>1.5288841150743637E7</td>\n",
       "      <td>None</td>\n",
       "      <td>2.8482576154764304E9</td>\n",
       "      <td>2.8874621558326256E8</td>\n",
       "      <td>1.168578154794534E12</td>\n",
       "      <td>None</td>\n",
       "      <td>1.26335131645639</td>\n",
       "      <td>15.459835274847498</td>\n",
       "      <td>16.315268069708278</td>\n",
       "      <td>None</td>\n",
       "      <td>None</td>\n",
       "      <td>6.428571428571428E35</td>\n",
       "      <td>1609200.550087123</td>\n",
       "    </tr>\n",
       "    <tr>\n",
       "      <th>3</th>\n",
       "      <td>min</td>\n",
       "      <td>US</td>\n",
       "      <td>10023</td>\n",
       "      <td>R100016JQ17TWV</td>\n",
       "      <td>0000031860</td>\n",
       "      <td>463</td>\n",
       "      <td>Namits ~ the Game of Think: Original</td>\n",
       "      <td>Toys</td>\n",
       "      <td>1</td>\n",
       "      <td>0</td>\n",
       "      <td>0</td>\n",
       "      <td>N</td>\n",
       "      <td>N</td>\n",
       "      <td>\u001a\u001a\u001a\u001a\u001a\u001a</td>\n",
       "      <td>\b\b\b\b\b So realistic my two-year-old screamed wh...</td>\n",
       "    </tr>\n",
       "    <tr>\n",
       "      <th>4</th>\n",
       "      <td>max</td>\n",
       "      <td>US</td>\n",
       "      <td>53096592</td>\n",
       "      <td>RZZZZFRKXKP55</td>\n",
       "      <td>BT00E0U25U</td>\n",
       "      <td>999998493</td>\n",
       "      <td>ＳＵＰＥＲ ＢＥＳＴ 変身ベルトシリーズ ＤＸケータッチ【海外盤】</td>\n",
       "      <td>Toys</td>\n",
       "      <td>5</td>\n",
       "      <td>12188</td>\n",
       "      <td>12380</td>\n",
       "      <td>Y</td>\n",
       "      <td>Y</td>\n",
       "      <td>😿</td>\n",
       "      <td>🚁 🚁 🚁 🚁 Thanks</td>\n",
       "    </tr>\n",
       "  </tbody>\n",
       "</table>\n",
       "</div>"
      ],
      "text/plain": [
       "  summary marketplace           customer_id       review_id  \\\n",
       "0   count     4864249               4864249         4864249   \n",
       "1    mean        None  2.7251137614531245E7            None   \n",
       "2  stddev        None  1.5288841150743637E7            None   \n",
       "3     min          US                 10023  R100016JQ17TWV   \n",
       "4     max          US              53096592   RZZZZFRKXKP55   \n",
       "\n",
       "             product_id        product_parent  \\\n",
       "0               4864249               4864249   \n",
       "1   2.734841414072982E9   4.997667630695071E8   \n",
       "2  2.8482576154764304E9  2.8874621558326256E8   \n",
       "3            0000031860                   463   \n",
       "4            BT00E0U25U             999998493   \n",
       "\n",
       "                           product_title product_category        star_rating  \\\n",
       "0                                4864249          4864243            4864243   \n",
       "1                   1.975257680616857E11             None  4.211734693353107   \n",
       "2                   1.168578154794534E12             None   1.26335131645639   \n",
       "3   Namits ~ the Game of Think: Original             Toys                  1   \n",
       "4      ＳＵＰＥＲ ＢＥＳＴ 変身ベルトシリーズ ＤＸケータッチ【海外盤】             Toys                  5   \n",
       "\n",
       "        helpful_votes         total_votes     vine verified_purchase  \\\n",
       "0             4864243             4864243  4864243           4864243   \n",
       "1  1.4768606338129078   1.868630535111013     None              None   \n",
       "2  15.459835274847498  16.315268069708278     None              None   \n",
       "3                   0                   0        N                 N   \n",
       "4               12188               12380        Y                 Y   \n",
       "\n",
       "        review_headline                                        review_body  \n",
       "0               4864236                                            4863513  \n",
       "1  4.591836734693878E34                                  227489.0198019802  \n",
       "2  6.428571428571428E35                                  1609200.550087123  \n",
       "3                \u001a\u001a\u001a\u001a\u001a\u001a  \b\b\b\b\b So realistic my two-year-old screamed wh...  \n",
       "4                     😿                                     🚁 🚁 🚁 🚁 Thanks  "
      ]
     },
     "execution_count": 10,
     "metadata": {},
     "output_type": "execute_result"
    }
   ],
   "source": [
    "toy.select('marketplace', 'customer_id', 'review_id','product_id','product_parent','product_title','product_category','star_rating','helpful_votes','total_votes','vine','verified_purchase','review_headline','review_body','review_date').describe().toPandas()"
   ]
  },
  {
   "cell_type": "code",
   "execution_count": 11,
   "metadata": {},
   "outputs": [
    {
     "data": {
      "text/html": [
       "<div>\n",
       "<style scoped>\n",
       "    .dataframe tbody tr th:only-of-type {\n",
       "        vertical-align: middle;\n",
       "    }\n",
       "\n",
       "    .dataframe tbody tr th {\n",
       "        vertical-align: top;\n",
       "    }\n",
       "\n",
       "    .dataframe thead th {\n",
       "        text-align: right;\n",
       "    }\n",
       "</style>\n",
       "<table border=\"1\" class=\"dataframe\">\n",
       "  <thead>\n",
       "    <tr style=\"text-align: right;\">\n",
       "      <th></th>\n",
       "      <th>summary</th>\n",
       "      <th>marketplace</th>\n",
       "      <th>customer_id</th>\n",
       "      <th>review_id</th>\n",
       "      <th>product_id</th>\n",
       "      <th>product_parent</th>\n",
       "      <th>product_title</th>\n",
       "      <th>product_category</th>\n",
       "      <th>star_rating</th>\n",
       "      <th>helpful_votes</th>\n",
       "      <th>total_votes</th>\n",
       "      <th>vine</th>\n",
       "      <th>verified_purchase</th>\n",
       "      <th>review_headline</th>\n",
       "      <th>review_body</th>\n",
       "    </tr>\n",
       "  </thead>\n",
       "  <tbody>\n",
       "    <tr>\n",
       "      <th>0</th>\n",
       "      <td>count</td>\n",
       "      <td>1785997</td>\n",
       "      <td>1785997</td>\n",
       "      <td>1785997</td>\n",
       "      <td>1785997</td>\n",
       "      <td>1785997</td>\n",
       "      <td>1785997</td>\n",
       "      <td>1785997</td>\n",
       "      <td>1785997</td>\n",
       "      <td>1785997</td>\n",
       "      <td>1785997</td>\n",
       "      <td>1785997</td>\n",
       "      <td>1785997</td>\n",
       "      <td>1785996</td>\n",
       "      <td>1785893</td>\n",
       "    </tr>\n",
       "    <tr>\n",
       "      <th>1</th>\n",
       "      <td>mean</td>\n",
       "      <td>None</td>\n",
       "      <td>2.8009987123456534E7</td>\n",
       "      <td>None</td>\n",
       "      <td>6.889544703960784E9</td>\n",
       "      <td>4.954031009174556E8</td>\n",
       "      <td>1946.2</td>\n",
       "      <td>None</td>\n",
       "      <td>4.059892597803915</td>\n",
       "      <td>2.2593492598251843</td>\n",
       "      <td>3.757368573407458</td>\n",
       "      <td>None</td>\n",
       "      <td>None</td>\n",
       "      <td>Infinity</td>\n",
       "      <td>102.05</td>\n",
       "    </tr>\n",
       "    <tr>\n",
       "      <th>2</th>\n",
       "      <td>stddev</td>\n",
       "      <td>None</td>\n",
       "      <td>1.5634292437667282E7</td>\n",
       "      <td>None</td>\n",
       "      <td>3.4571998561565146E9</td>\n",
       "      <td>2.9089978421969724E8</td>\n",
       "      <td>13.281566172707196</td>\n",
       "      <td>None</td>\n",
       "      <td>1.3558117532896716</td>\n",
       "      <td>19.171285092305975</td>\n",
       "      <td>22.45439170150926</td>\n",
       "      <td>None</td>\n",
       "      <td>None</td>\n",
       "      <td>NaN</td>\n",
       "      <td>441.9151183144471</td>\n",
       "    </tr>\n",
       "    <tr>\n",
       "      <th>3</th>\n",
       "      <td>min</td>\n",
       "      <td>US</td>\n",
       "      <td>10018</td>\n",
       "      <td>R10003I619LWL0</td>\n",
       "      <td>0000118532</td>\n",
       "      <td>3140</td>\n",
       "      <td>! Aikatsu Cinderella lessons (inclusion benefi...</td>\n",
       "      <td>Video Games</td>\n",
       "      <td>1</td>\n",
       "      <td>0</td>\n",
       "      <td>0</td>\n",
       "      <td>N</td>\n",
       "      <td>N</td>\n",
       "      <td>\u001a\u001a\u001a\u001a\u001a\u001a</td>\n",
       "      <td>\bIt doesn't work for Macs. That's disappointin...</td>\n",
       "    </tr>\n",
       "    <tr>\n",
       "      <th>4</th>\n",
       "      <td>max</td>\n",
       "      <td>US</td>\n",
       "      <td>53096565</td>\n",
       "      <td>RZZZYCP48D6MH</td>\n",
       "      <td>B01LYUA6OS</td>\n",
       "      <td>999968458</td>\n",
       "      <td>（X'mas Gift Deals）Badasheng Universal Gaming H...</td>\n",
       "      <td>Video Games</td>\n",
       "      <td>5</td>\n",
       "      <td>10498</td>\n",
       "      <td>10780</td>\n",
       "      <td>Y</td>\n",
       "      <td>Y</td>\n",
       "      <td>😻Great😻</td>\n",
       "      <td>🙈🙉🙊</td>\n",
       "    </tr>\n",
       "  </tbody>\n",
       "</table>\n",
       "</div>"
      ],
      "text/plain": [
       "  summary marketplace           customer_id       review_id  \\\n",
       "0   count     1785997               1785997         1785997   \n",
       "1    mean        None  2.8009987123456534E7            None   \n",
       "2  stddev        None  1.5634292437667282E7            None   \n",
       "3     min          US                 10018  R10003I619LWL0   \n",
       "4     max          US              53096565   RZZZYCP48D6MH   \n",
       "\n",
       "             product_id        product_parent  \\\n",
       "0               1785997               1785997   \n",
       "1   6.889544703960784E9   4.954031009174556E8   \n",
       "2  3.4571998561565146E9  2.9089978421969724E8   \n",
       "3            0000118532                  3140   \n",
       "4            B01LYUA6OS             999968458   \n",
       "\n",
       "                                       product_title product_category  \\\n",
       "0                                            1785997          1785997   \n",
       "1                                             1946.2             None   \n",
       "2                                 13.281566172707196             None   \n",
       "3  ! Aikatsu Cinderella lessons (inclusion benefi...      Video Games   \n",
       "4  （X'mas Gift Deals）Badasheng Universal Gaming H...      Video Games   \n",
       "\n",
       "          star_rating       helpful_votes        total_votes     vine  \\\n",
       "0             1785997             1785997            1785997  1785997   \n",
       "1   4.059892597803915  2.2593492598251843  3.757368573407458     None   \n",
       "2  1.3558117532896716  19.171285092305975  22.45439170150926     None   \n",
       "3                   1                   0                  0        N   \n",
       "4                   5               10498              10780        Y   \n",
       "\n",
       "  verified_purchase review_headline  \\\n",
       "0           1785997         1785996   \n",
       "1              None        Infinity   \n",
       "2              None             NaN   \n",
       "3                 N          \u001a\u001a\u001a\u001a\u001a\u001a   \n",
       "4                 Y         😻Great😻   \n",
       "\n",
       "                                         review_body  \n",
       "0                                            1785893  \n",
       "1                                             102.05  \n",
       "2                                  441.9151183144471  \n",
       "3  \bIt doesn't work for Macs. That's disappointin...  \n",
       "4                                                🙈🙉🙊  "
      ]
     },
     "execution_count": 11,
     "metadata": {},
     "output_type": "execute_result"
    }
   ],
   "source": [
    "vidgame.select('marketplace', 'customer_id', 'review_id','product_id','product_parent','product_title','product_category','star_rating','helpful_votes','total_votes','vine','verified_purchase','review_headline','review_body','review_date').describe().toPandas()"
   ]
  },
  {
   "cell_type": "code",
   "execution_count": 12,
   "metadata": {},
   "outputs": [
    {
     "data": {
      "text/html": [
       "<div>\n",
       "<style scoped>\n",
       "    .dataframe tbody tr th:only-of-type {\n",
       "        vertical-align: middle;\n",
       "    }\n",
       "\n",
       "    .dataframe tbody tr th {\n",
       "        vertical-align: top;\n",
       "    }\n",
       "\n",
       "    .dataframe thead th {\n",
       "        text-align: right;\n",
       "    }\n",
       "</style>\n",
       "<table border=\"1\" class=\"dataframe\">\n",
       "  <thead>\n",
       "    <tr style=\"text-align: right;\">\n",
       "      <th></th>\n",
       "      <th>summary</th>\n",
       "      <th>marketplace</th>\n",
       "      <th>customer_id</th>\n",
       "      <th>review_id</th>\n",
       "      <th>product_id</th>\n",
       "      <th>product_parent</th>\n",
       "      <th>product_title</th>\n",
       "      <th>product_category</th>\n",
       "      <th>star_rating</th>\n",
       "      <th>helpful_votes</th>\n",
       "      <th>total_votes</th>\n",
       "      <th>vine</th>\n",
       "      <th>verified_purchase</th>\n",
       "      <th>review_headline</th>\n",
       "      <th>review_body</th>\n",
       "    </tr>\n",
       "  </thead>\n",
       "  <tbody>\n",
       "    <tr>\n",
       "      <th>0</th>\n",
       "      <td>count</td>\n",
       "      <td>4751577</td>\n",
       "      <td>4751577</td>\n",
       "      <td>4751577</td>\n",
       "      <td>4751577</td>\n",
       "      <td>4751577</td>\n",
       "      <td>4751577</td>\n",
       "      <td>4751542</td>\n",
       "      <td>4751540</td>\n",
       "      <td>4751540</td>\n",
       "      <td>4751540</td>\n",
       "      <td>4751540</td>\n",
       "      <td>4751540</td>\n",
       "      <td>4751425</td>\n",
       "      <td>4751191</td>\n",
       "    </tr>\n",
       "    <tr>\n",
       "      <th>1</th>\n",
       "      <td>mean</td>\n",
       "      <td>None</td>\n",
       "      <td>3.424994321195195E7</td>\n",
       "      <td>None</td>\n",
       "      <td>3.117511857826964E9</td>\n",
       "      <td>5.006262001079482E8</td>\n",
       "      <td>Infinity</td>\n",
       "      <td>None</td>\n",
       "      <td>4.43662139011773</td>\n",
       "      <td>2.6616869478106047</td>\n",
       "      <td>3.7984463984308245</td>\n",
       "      <td>None</td>\n",
       "      <td>None</td>\n",
       "      <td>Infinity</td>\n",
       "      <td>1.8020056243636364E8</td>\n",
       "    </tr>\n",
       "    <tr>\n",
       "      <th>2</th>\n",
       "      <td>stddev</td>\n",
       "      <td>None</td>\n",
       "      <td>1.4980015973838417E7</td>\n",
       "      <td>None</td>\n",
       "      <td>2.607222626580634E9</td>\n",
       "      <td>2.8820800267931664E8</td>\n",
       "      <td>NaN</td>\n",
       "      <td>None</td>\n",
       "      <td>1.0359271682225708</td>\n",
       "      <td>7.791597632549229</td>\n",
       "      <td>9.421716739653</td>\n",
       "      <td>None</td>\n",
       "      <td>None</td>\n",
       "      <td>NaN</td>\n",
       "      <td>1.3302585543436477E9</td>\n",
       "    </tr>\n",
       "    <tr>\n",
       "      <th>3</th>\n",
       "      <td>min</td>\n",
       "      <td>US</td>\n",
       "      <td>10099</td>\n",
       "      <td>R10005TITYMOJ5</td>\n",
       "      <td>0001377647</td>\n",
       "      <td>734</td>\n",
       "      <td>Fine in Time</td>\n",
       "      <td>2012-12-15</td>\n",
       "      <td>1</td>\n",
       "      <td>0</td>\n",
       "      <td>0</td>\n",
       "      <td>N</td>\n",
       "      <td>N</td>\n",
       "      <td>\\tFINALLY!!!!! &amp;#34;They&amp;#34; had put out the ...</td>\n",
       "      <td>\u0010\u0010\u0010\u0010\u0010\u0010\u0010\u0010\u0010Quais-jazz and second rate disco ruin...</td>\n",
       "    </tr>\n",
       "    <tr>\n",
       "      <th>4</th>\n",
       "      <td>max</td>\n",
       "      <td>US</td>\n",
       "      <td>53096589</td>\n",
       "      <td>RZZZY0N4QNCXE</td>\n",
       "      <td>BT00CHI1V2</td>\n",
       "      <td>999999808</td>\n",
       "      <td>�COMO CANTAS TU?.(LA COCCINELLA)</td>\n",
       "      <td>Music</td>\n",
       "      <td>5</td>\n",
       "      <td>2181</td>\n",
       "      <td>2246</td>\n",
       "      <td>Y</td>\n",
       "      <td>Y</td>\n",
       "      <td>🙏</td>\n",
       "      <td>🙏❤💙❤💙❤❤❤💙❤💙❤💙❤</td>\n",
       "    </tr>\n",
       "  </tbody>\n",
       "</table>\n",
       "</div>"
      ],
      "text/plain": [
       "  summary marketplace           customer_id       review_id  \\\n",
       "0   count     4751577               4751577         4751577   \n",
       "1    mean        None   3.424994321195195E7            None   \n",
       "2  stddev        None  1.4980015973838417E7            None   \n",
       "3     min          US                 10099  R10005TITYMOJ5   \n",
       "4     max          US              53096589   RZZZY0N4QNCXE   \n",
       "\n",
       "            product_id        product_parent  \\\n",
       "0              4751577               4751577   \n",
       "1  3.117511857826964E9   5.006262001079482E8   \n",
       "2  2.607222626580634E9  2.8820800267931664E8   \n",
       "3           0001377647                   734   \n",
       "4           BT00CHI1V2             999999808   \n",
       "\n",
       "                      product_title product_category         star_rating  \\\n",
       "0                           4751577          4751542             4751540   \n",
       "1                          Infinity             None    4.43662139011773   \n",
       "2                               NaN             None  1.0359271682225708   \n",
       "3                      Fine in Time       2012-12-15                   1   \n",
       "4  �COMO CANTAS TU?.(LA COCCINELLA)            Music                   5   \n",
       "\n",
       "        helpful_votes         total_votes     vine verified_purchase  \\\n",
       "0             4751540             4751540  4751540           4751540   \n",
       "1  2.6616869478106047  3.7984463984308245     None              None   \n",
       "2   7.791597632549229      9.421716739653     None              None   \n",
       "3                   0                   0        N                 N   \n",
       "4                2181                2246        Y                 Y   \n",
       "\n",
       "                                     review_headline  \\\n",
       "0                                            4751425   \n",
       "1                                           Infinity   \n",
       "2                                                NaN   \n",
       "3  \\tFINALLY!!!!! &#34;They&#34; had put out the ...   \n",
       "4                                                  🙏   \n",
       "\n",
       "                                         review_body  \n",
       "0                                            4751191  \n",
       "1                               1.8020056243636364E8  \n",
       "2                               1.3302585543436477E9  \n",
       "3  \u0010\u0010\u0010\u0010\u0010\u0010\u0010\u0010\u0010Quais-jazz and second rate disco ruin...  \n",
       "4                                     🙏❤💙❤💙❤❤❤💙❤💙❤💙❤  "
      ]
     },
     "execution_count": 12,
     "metadata": {},
     "output_type": "execute_result"
    }
   ],
   "source": [
    "music.select('marketplace', 'customer_id', 'review_id','product_id','product_parent','product_title','product_category','star_rating','helpful_votes','total_votes','vine','verified_purchase','review_headline','review_body','review_date').describe().toPandas()"
   ]
  },
  {
   "cell_type": "code",
   "execution_count": 13,
   "metadata": {},
   "outputs": [
    {
     "data": {
      "text/html": [
       "<div>\n",
       "<style scoped>\n",
       "    .dataframe tbody tr th:only-of-type {\n",
       "        vertical-align: middle;\n",
       "    }\n",
       "\n",
       "    .dataframe tbody tr th {\n",
       "        vertical-align: top;\n",
       "    }\n",
       "\n",
       "    .dataframe thead th {\n",
       "        text-align: right;\n",
       "    }\n",
       "</style>\n",
       "<table border=\"1\" class=\"dataframe\">\n",
       "  <thead>\n",
       "    <tr style=\"text-align: right;\">\n",
       "      <th></th>\n",
       "      <th>summary</th>\n",
       "      <th>marketplace</th>\n",
       "      <th>customer_id</th>\n",
       "      <th>review_id</th>\n",
       "      <th>product_id</th>\n",
       "      <th>product_parent</th>\n",
       "      <th>product_title</th>\n",
       "      <th>product_category</th>\n",
       "      <th>star_rating</th>\n",
       "      <th>helpful_votes</th>\n",
       "      <th>total_votes</th>\n",
       "      <th>vine</th>\n",
       "      <th>verified_purchase</th>\n",
       "      <th>review_headline</th>\n",
       "      <th>review_body</th>\n",
       "    </tr>\n",
       "  </thead>\n",
       "  <tbody>\n",
       "    <tr>\n",
       "      <th>0</th>\n",
       "      <td>count</td>\n",
       "      <td>1688884</td>\n",
       "      <td>1688884</td>\n",
       "      <td>1688884</td>\n",
       "      <td>1688884</td>\n",
       "      <td>1688884</td>\n",
       "      <td>1688884</td>\n",
       "      <td>1688881</td>\n",
       "      <td>1688881</td>\n",
       "      <td>1688881</td>\n",
       "      <td>1688881</td>\n",
       "      <td>1688881</td>\n",
       "      <td>1688881</td>\n",
       "      <td>1688881</td>\n",
       "      <td>1688633</td>\n",
       "    </tr>\n",
       "    <tr>\n",
       "      <th>1</th>\n",
       "      <td>mean</td>\n",
       "      <td>None</td>\n",
       "      <td>2.8645493398535363E7</td>\n",
       "      <td>None</td>\n",
       "      <td>None</td>\n",
       "      <td>4.9897434959403723E8</td>\n",
       "      <td>Infinity</td>\n",
       "      <td>None</td>\n",
       "      <td>4.642890766134499</td>\n",
       "      <td>0.5002886526641013</td>\n",
       "      <td>0.7248237146370881</td>\n",
       "      <td>None</td>\n",
       "      <td>None</td>\n",
       "      <td>5.251461956198478E19</td>\n",
       "      <td>1954.3046511627906</td>\n",
       "    </tr>\n",
       "    <tr>\n",
       "      <th>2</th>\n",
       "      <td>stddev</td>\n",
       "      <td>None</td>\n",
       "      <td>1.4921452257062148E7</td>\n",
       "      <td>None</td>\n",
       "      <td>None</td>\n",
       "      <td>2.8826604385404783E8</td>\n",
       "      <td>NaN</td>\n",
       "      <td>None</td>\n",
       "      <td>0.8604533998421666</td>\n",
       "      <td>2.9582372627007283</td>\n",
       "      <td>3.7927727842109142</td>\n",
       "      <td>None</td>\n",
       "      <td>None</td>\n",
       "      <td>7.025977248218688E20</td>\n",
       "      <td>28625.687652459048</td>\n",
       "    </tr>\n",
       "    <tr>\n",
       "      <th>3</th>\n",
       "      <td>min</td>\n",
       "      <td>US</td>\n",
       "      <td>10128</td>\n",
       "      <td>R100007TERQ36I</td>\n",
       "      <td>B000PI8FDQ</td>\n",
       "      <td>2457</td>\n",
       "      <td>Raise Southern Dixie</td>\n",
       "      <td>Digital_Music_Purchase</td>\n",
       "      <td>1</td>\n",
       "      <td>0</td>\n",
       "      <td>0</td>\n",
       "      <td>N</td>\n",
       "      <td>N</td>\n",
       "      <td>\\tExcellent\\t2014-10-07</td>\n",
       "      <td>\u0010Anytime Ray and \u0010Willie sing, they bring a sp...</td>\n",
       "    </tr>\n",
       "    <tr>\n",
       "      <th>4</th>\n",
       "      <td>max</td>\n",
       "      <td>US</td>\n",
       "      <td>53096570</td>\n",
       "      <td>RZZZYCR4NZADZ</td>\n",
       "      <td>B0180NVZBG</td>\n",
       "      <td>999999678</td>\n",
       "      <td>�Äkäskero</td>\n",
       "      <td>Digital_Music_Purchase</td>\n",
       "      <td>5</td>\n",
       "      <td>609</td>\n",
       "      <td>736</td>\n",
       "      <td>N</td>\n",
       "      <td>Y</td>\n",
       "      <td>😢💔😭 💛</td>\n",
       "      <td>🙏</td>\n",
       "    </tr>\n",
       "  </tbody>\n",
       "</table>\n",
       "</div>"
      ],
      "text/plain": [
       "  summary marketplace           customer_id       review_id  product_id  \\\n",
       "0   count     1688884               1688884         1688884     1688884   \n",
       "1    mean        None  2.8645493398535363E7            None        None   \n",
       "2  stddev        None  1.4921452257062148E7            None        None   \n",
       "3     min          US                 10128  R100007TERQ36I  B000PI8FDQ   \n",
       "4     max          US              53096570   RZZZYCR4NZADZ  B0180NVZBG   \n",
       "\n",
       "         product_parent           product_title        product_category  \\\n",
       "0               1688884                 1688884                 1688881   \n",
       "1  4.9897434959403723E8                Infinity                    None   \n",
       "2  2.8826604385404783E8                     NaN                    None   \n",
       "3                  2457   Raise Southern Dixie   Digital_Music_Purchase   \n",
       "4             999999678               �Äkäskero  Digital_Music_Purchase   \n",
       "\n",
       "          star_rating       helpful_votes         total_votes     vine  \\\n",
       "0             1688881             1688881             1688881  1688881   \n",
       "1   4.642890766134499  0.5002886526641013  0.7248237146370881     None   \n",
       "2  0.8604533998421666  2.9582372627007283  3.7927727842109142     None   \n",
       "3                   1                   0                   0        N   \n",
       "4                   5                 609                 736        N   \n",
       "\n",
       "  verified_purchase          review_headline  \\\n",
       "0           1688881                  1688881   \n",
       "1              None     5.251461956198478E19   \n",
       "2              None     7.025977248218688E20   \n",
       "3                 N  \\tExcellent\\t2014-10-07   \n",
       "4                 Y                    😢💔😭 💛   \n",
       "\n",
       "                                         review_body  \n",
       "0                                            1688633  \n",
       "1                                 1954.3046511627906  \n",
       "2                                 28625.687652459048  \n",
       "3  \u0010Anytime Ray and \u0010Willie sing, they bring a sp...  \n",
       "4                                                  🙏  "
      ]
     },
     "execution_count": 13,
     "metadata": {},
     "output_type": "execute_result"
    }
   ],
   "source": [
    "digimusic.select('marketplace', 'customer_id', 'review_id','product_id','product_parent','product_title','product_category','star_rating','helpful_votes','total_votes','vine','verified_purchase','review_headline','review_body','review_date').describe().toPandas()"
   ]
  },
  {
   "cell_type": "markdown",
   "metadata": {},
   "source": [
    "### Detect missing values and abnormal zeros"
   ]
  },
  {
   "cell_type": "code",
   "execution_count": 39,
   "metadata": {},
   "outputs": [],
   "source": [
    "toy = toy.drop(\"vine\", \"verified_purchase\")"
   ]
  },
  {
   "cell_type": "code",
   "execution_count": 41,
   "metadata": {},
   "outputs": [],
   "source": [
    "vidgame = vidgame.drop(\"vine\", \"verified_purchase\")\n",
    "music = music.drop(\"vine\", \"verified_purchase\")\n",
    "digimusic = digimusic.drop(\"vine\", \"verified_purchase\")"
   ]
  },
  {
   "cell_type": "code",
   "execution_count": 40,
   "metadata": {},
   "outputs": [
    {
     "name": "stdout",
     "output_type": "stream",
     "text": [
      "Columns overview\n"
     ]
    },
    {
     "data": {
      "text/html": [
       "<div>\n",
       "<style scoped>\n",
       "    .dataframe tbody tr th:only-of-type {\n",
       "        vertical-align: middle;\n",
       "    }\n",
       "\n",
       "    .dataframe tbody tr th {\n",
       "        vertical-align: top;\n",
       "    }\n",
       "\n",
       "    .dataframe thead th {\n",
       "        text-align: right;\n",
       "    }\n",
       "</style>\n",
       "<table border=\"1\" class=\"dataframe\">\n",
       "  <thead>\n",
       "    <tr style=\"text-align: right;\">\n",
       "      <th></th>\n",
       "      <th>Column Name</th>\n",
       "      <th>Data type</th>\n",
       "    </tr>\n",
       "  </thead>\n",
       "  <tbody>\n",
       "    <tr>\n",
       "      <th>0</th>\n",
       "      <td>marketplace</td>\n",
       "      <td>string</td>\n",
       "    </tr>\n",
       "    <tr>\n",
       "      <th>1</th>\n",
       "      <td>customer_id</td>\n",
       "      <td>int</td>\n",
       "    </tr>\n",
       "    <tr>\n",
       "      <th>2</th>\n",
       "      <td>review_id</td>\n",
       "      <td>string</td>\n",
       "    </tr>\n",
       "    <tr>\n",
       "      <th>3</th>\n",
       "      <td>product_id</td>\n",
       "      <td>string</td>\n",
       "    </tr>\n",
       "    <tr>\n",
       "      <th>4</th>\n",
       "      <td>product_parent</td>\n",
       "      <td>int</td>\n",
       "    </tr>\n",
       "    <tr>\n",
       "      <th>5</th>\n",
       "      <td>product_title</td>\n",
       "      <td>string</td>\n",
       "    </tr>\n",
       "    <tr>\n",
       "      <th>6</th>\n",
       "      <td>product_category</td>\n",
       "      <td>string</td>\n",
       "    </tr>\n",
       "    <tr>\n",
       "      <th>7</th>\n",
       "      <td>star_rating</td>\n",
       "      <td>int</td>\n",
       "    </tr>\n",
       "    <tr>\n",
       "      <th>8</th>\n",
       "      <td>helpful_votes</td>\n",
       "      <td>int</td>\n",
       "    </tr>\n",
       "    <tr>\n",
       "      <th>9</th>\n",
       "      <td>total_votes</td>\n",
       "      <td>int</td>\n",
       "    </tr>\n",
       "    <tr>\n",
       "      <th>10</th>\n",
       "      <td>review_headline</td>\n",
       "      <td>string</td>\n",
       "    </tr>\n",
       "    <tr>\n",
       "      <th>11</th>\n",
       "      <td>review_body</td>\n",
       "      <td>string</td>\n",
       "    </tr>\n",
       "    <tr>\n",
       "      <th>12</th>\n",
       "      <td>review_date</td>\n",
       "      <td>timestamp</td>\n",
       "    </tr>\n",
       "  </tbody>\n",
       "</table>\n",
       "</div>"
      ],
      "text/plain": [
       "         Column Name  Data type\n",
       "0        marketplace     string\n",
       "1        customer_id        int\n",
       "2          review_id     string\n",
       "3         product_id     string\n",
       "4     product_parent        int\n",
       "5      product_title     string\n",
       "6   product_category     string\n",
       "7        star_rating        int\n",
       "8      helpful_votes        int\n",
       "9        total_votes        int\n",
       "10   review_headline     string\n",
       "11       review_body     string\n",
       "12       review_date  timestamp"
      ]
     },
     "execution_count": 40,
     "metadata": {},
     "output_type": "execute_result"
    }
   ],
   "source": [
    "print('Columns overview')\n",
    "pd.DataFrame(toy.dtypes, columns = ['Column Name','Data type'])"
   ]
  },
  {
   "cell_type": "code",
   "execution_count": null,
   "metadata": {},
   "outputs": [],
   "source": [
    "toy.select([count(when(isnan(c) | col(c).isNull(), c)).alias(c) for c in s.columns]).show()"
   ]
  },
  {
   "cell_type": "code",
   "execution_count": 61,
   "metadata": {},
   "outputs": [],
   "source": [
    "string_columns = ['marketplace', 'review_id', 'product_id','product_title','product_category','review_headline','review_body']\n",
    "numeric_columns = ['customer_id','product_parent','star_rating','helpful_votes','total_votes']\n",
    "timestamp_columns = ['review_date']"
   ]
  },
  {
   "cell_type": "code",
   "execution_count": 59,
   "metadata": {},
   "outputs": [],
   "source": [
    "def find_missing (data):\n",
    "    for index, column in enumerate(data.columns):\n",
    "        if column in string_columns:    # check string columns with None and Null values\n",
    "            missing_count = data.filter(col(column).eqNullSafe(None) | col(column).isNull()).count()\n",
    "            missing_values.update({column:missing_count})\n",
    "        if column in numeric_columns:  # check zeroes, None, NaN\n",
    "            missing_count = data.where(col(column).isin([0,None,np.nan])).count()\n",
    "            missing_values.update({column:missing_count})\n",
    "        if column in timestamp_columns:  # check Null values for timestamp data\n",
    "            missing_count = data.filter(col(column).eqNullSafe(None) | col(column).isNull()).count()\n",
    "            missing_values.update({column:missing_count})\n",
    "     \n",
    "    missing_data = pd.DataFrame.from_dict([missing_values])\n",
    "    return missing_data"
   ]
  },
  {
   "cell_type": "code",
   "execution_count": 62,
   "metadata": {},
   "outputs": [
    {
     "data": {
      "text/html": [
       "<div>\n",
       "<style scoped>\n",
       "    .dataframe tbody tr th:only-of-type {\n",
       "        vertical-align: middle;\n",
       "    }\n",
       "\n",
       "    .dataframe tbody tr th {\n",
       "        vertical-align: top;\n",
       "    }\n",
       "\n",
       "    .dataframe thead th {\n",
       "        text-align: right;\n",
       "    }\n",
       "</style>\n",
       "<table border=\"1\" class=\"dataframe\">\n",
       "  <thead>\n",
       "    <tr style=\"text-align: right;\">\n",
       "      <th></th>\n",
       "      <th>customer_id</th>\n",
       "      <th>helpful_votes</th>\n",
       "      <th>marketplace</th>\n",
       "      <th>product_category</th>\n",
       "      <th>product_id</th>\n",
       "      <th>product_parent</th>\n",
       "      <th>product_title</th>\n",
       "      <th>review_body</th>\n",
       "      <th>review_date</th>\n",
       "      <th>review_headline</th>\n",
       "      <th>review_id</th>\n",
       "      <th>star_rating</th>\n",
       "      <th>total_votes</th>\n",
       "    </tr>\n",
       "  </thead>\n",
       "  <tbody>\n",
       "    <tr>\n",
       "      <th>0</th>\n",
       "      <td>0</td>\n",
       "      <td>3344984</td>\n",
       "      <td>0</td>\n",
       "      <td>6</td>\n",
       "      <td>0</td>\n",
       "      <td>0</td>\n",
       "      <td>0</td>\n",
       "      <td>736</td>\n",
       "      <td>374</td>\n",
       "      <td>13</td>\n",
       "      <td>0</td>\n",
       "      <td>0</td>\n",
       "      <td>3011339</td>\n",
       "    </tr>\n",
       "  </tbody>\n",
       "</table>\n",
       "</div>"
      ],
      "text/plain": [
       "   customer_id  helpful_votes  marketplace  product_category  product_id  \\\n",
       "0            0        3344984            0                 6           0   \n",
       "\n",
       "   product_parent  product_title  review_body  review_date  review_headline  \\\n",
       "0               0              0          736          374               13   \n",
       "\n",
       "   review_id  star_rating  total_votes  \n",
       "0          0            0      3011339  "
      ]
     },
     "execution_count": 62,
     "metadata": {},
     "output_type": "execute_result"
    }
   ],
   "source": [
    "find_missing(toy)"
   ]
  },
  {
   "cell_type": "code",
   "execution_count": 60,
   "metadata": {},
   "outputs": [
    {
     "data": {
      "text/html": [
       "<div>\n",
       "<style scoped>\n",
       "    .dataframe tbody tr th:only-of-type {\n",
       "        vertical-align: middle;\n",
       "    }\n",
       "\n",
       "    .dataframe tbody tr th {\n",
       "        vertical-align: top;\n",
       "    }\n",
       "\n",
       "    .dataframe thead th {\n",
       "        text-align: right;\n",
       "    }\n",
       "</style>\n",
       "<table border=\"1\" class=\"dataframe\">\n",
       "  <thead>\n",
       "    <tr style=\"text-align: right;\">\n",
       "      <th></th>\n",
       "      <th>customer_id</th>\n",
       "      <th>helpful_votes</th>\n",
       "      <th>marketplace</th>\n",
       "      <th>product_category</th>\n",
       "      <th>product_id</th>\n",
       "      <th>product_parent</th>\n",
       "      <th>product_title</th>\n",
       "      <th>review_body</th>\n",
       "      <th>review_date</th>\n",
       "      <th>review_headline</th>\n",
       "      <th>review_id</th>\n",
       "      <th>star_rating</th>\n",
       "      <th>total_votes</th>\n",
       "    </tr>\n",
       "  </thead>\n",
       "  <tbody>\n",
       "    <tr>\n",
       "      <th>0</th>\n",
       "      <td>0</td>\n",
       "      <td>1087671</td>\n",
       "      <td>0</td>\n",
       "      <td>0</td>\n",
       "      <td>0</td>\n",
       "      <td>0</td>\n",
       "      <td>0</td>\n",
       "      <td>104</td>\n",
       "      <td>59</td>\n",
       "      <td>1</td>\n",
       "      <td>0</td>\n",
       "      <td>0</td>\n",
       "      <td>879529</td>\n",
       "    </tr>\n",
       "  </tbody>\n",
       "</table>\n",
       "</div>"
      ],
      "text/plain": [
       "   customer_id  helpful_votes  marketplace  product_category  product_id  \\\n",
       "0            0        1087671            0                 0           0   \n",
       "\n",
       "   product_parent  product_title  review_body  review_date  review_headline  \\\n",
       "0               0              0          104           59                1   \n",
       "\n",
       "   review_id  star_rating  total_votes  \n",
       "0          0            0       879529  "
      ]
     },
     "execution_count": 60,
     "metadata": {},
     "output_type": "execute_result"
    }
   ],
   "source": [
    "find_missing(vidgame)"
   ]
  },
  {
   "cell_type": "code",
   "execution_count": 63,
   "metadata": {},
   "outputs": [
    {
     "data": {
      "text/html": [
       "<div>\n",
       "<style scoped>\n",
       "    .dataframe tbody tr th:only-of-type {\n",
       "        vertical-align: middle;\n",
       "    }\n",
       "\n",
       "    .dataframe tbody tr th {\n",
       "        vertical-align: top;\n",
       "    }\n",
       "\n",
       "    .dataframe thead th {\n",
       "        text-align: right;\n",
       "    }\n",
       "</style>\n",
       "<table border=\"1\" class=\"dataframe\">\n",
       "  <thead>\n",
       "    <tr style=\"text-align: right;\">\n",
       "      <th></th>\n",
       "      <th>customer_id</th>\n",
       "      <th>helpful_votes</th>\n",
       "      <th>marketplace</th>\n",
       "      <th>product_category</th>\n",
       "      <th>product_id</th>\n",
       "      <th>product_parent</th>\n",
       "      <th>product_title</th>\n",
       "      <th>review_body</th>\n",
       "      <th>review_date</th>\n",
       "      <th>review_headline</th>\n",
       "      <th>review_id</th>\n",
       "      <th>star_rating</th>\n",
       "      <th>total_votes</th>\n",
       "    </tr>\n",
       "  </thead>\n",
       "  <tbody>\n",
       "    <tr>\n",
       "      <th>0</th>\n",
       "      <td>0</td>\n",
       "      <td>2054675</td>\n",
       "      <td>0</td>\n",
       "      <td>35</td>\n",
       "      <td>0</td>\n",
       "      <td>0</td>\n",
       "      <td>0</td>\n",
       "      <td>386</td>\n",
       "      <td>581</td>\n",
       "      <td>152</td>\n",
       "      <td>0</td>\n",
       "      <td>0</td>\n",
       "      <td>1654066</td>\n",
       "    </tr>\n",
       "  </tbody>\n",
       "</table>\n",
       "</div>"
      ],
      "text/plain": [
       "   customer_id  helpful_votes  marketplace  product_category  product_id  \\\n",
       "0            0        2054675            0                35           0   \n",
       "\n",
       "   product_parent  product_title  review_body  review_date  review_headline  \\\n",
       "0               0              0          386          581              152   \n",
       "\n",
       "   review_id  star_rating  total_votes  \n",
       "0          0            0      1654066  "
      ]
     },
     "execution_count": 63,
     "metadata": {},
     "output_type": "execute_result"
    }
   ],
   "source": [
    "find_missing(music)"
   ]
  },
  {
   "cell_type": "code",
   "execution_count": 64,
   "metadata": {},
   "outputs": [
    {
     "data": {
      "text/html": [
       "<div>\n",
       "<style scoped>\n",
       "    .dataframe tbody tr th:only-of-type {\n",
       "        vertical-align: middle;\n",
       "    }\n",
       "\n",
       "    .dataframe tbody tr th {\n",
       "        vertical-align: top;\n",
       "    }\n",
       "\n",
       "    .dataframe thead th {\n",
       "        text-align: right;\n",
       "    }\n",
       "</style>\n",
       "<table border=\"1\" class=\"dataframe\">\n",
       "  <thead>\n",
       "    <tr style=\"text-align: right;\">\n",
       "      <th></th>\n",
       "      <th>customer_id</th>\n",
       "      <th>helpful_votes</th>\n",
       "      <th>marketplace</th>\n",
       "      <th>product_category</th>\n",
       "      <th>product_id</th>\n",
       "      <th>product_parent</th>\n",
       "      <th>product_title</th>\n",
       "      <th>review_body</th>\n",
       "      <th>review_date</th>\n",
       "      <th>review_headline</th>\n",
       "      <th>review_id</th>\n",
       "      <th>star_rating</th>\n",
       "      <th>total_votes</th>\n",
       "    </tr>\n",
       "  </thead>\n",
       "  <tbody>\n",
       "    <tr>\n",
       "      <th>0</th>\n",
       "      <td>0</td>\n",
       "      <td>1371161</td>\n",
       "      <td>0</td>\n",
       "      <td>3</td>\n",
       "      <td>0</td>\n",
       "      <td>0</td>\n",
       "      <td>0</td>\n",
       "      <td>251</td>\n",
       "      <td>232</td>\n",
       "      <td>3</td>\n",
       "      <td>0</td>\n",
       "      <td>0</td>\n",
       "      <td>1302899</td>\n",
       "    </tr>\n",
       "  </tbody>\n",
       "</table>\n",
       "</div>"
      ],
      "text/plain": [
       "   customer_id  helpful_votes  marketplace  product_category  product_id  \\\n",
       "0            0        1371161            0                 3           0   \n",
       "\n",
       "   product_parent  product_title  review_body  review_date  review_headline  \\\n",
       "0               0              0          251          232                3   \n",
       "\n",
       "   review_id  star_rating  total_votes  \n",
       "0          0            0      1302899  "
      ]
     },
     "execution_count": 64,
     "metadata": {},
     "output_type": "execute_result"
    }
   ],
   "source": [
    "find_missing(digimusic)"
   ]
  },
  {
   "cell_type": "markdown",
   "metadata": {},
   "source": [
    "### Dropping rows with null review_body data to use for review analysis later on"
   ]
  },
  {
   "cell_type": "code",
   "execution_count": 66,
   "metadata": {},
   "outputs": [
    {
     "data": {
      "text/plain": [
       "4863513"
      ]
     },
     "execution_count": 66,
     "metadata": {},
     "output_type": "execute_result"
    }
   ],
   "source": [
    "toy2 = toy.na.drop(subset=[\"review_body\"])\n",
    "toy2.select().count() #4864249 "
   ]
  },
  {
   "cell_type": "code",
   "execution_count": 68,
   "metadata": {},
   "outputs": [],
   "source": [
    "vidgame2 = vidgame.na.drop(subset=[\"review_body\"])\n",
    "music2 = music.na.drop(subset=[\"review_body\"])\n",
    "digimusic2 = digimusic.na.drop(subset=[\"review_body\"])"
   ]
  },
  {
   "cell_type": "markdown",
   "metadata": {},
   "source": [
    "## Exploratory Data Analysis "
   ]
  },
  {
   "cell_type": "code",
   "execution_count": 69,
   "metadata": {},
   "outputs": [
    {
     "data": {
      "text/plain": [
       "2"
      ]
     },
     "execution_count": 69,
     "metadata": {},
     "output_type": "execute_result"
    }
   ],
   "source": [
    "#count the number of distinct Results\n",
    "toy.select('product_category').distinct().count()"
   ]
  },
  {
   "cell_type": "code",
   "execution_count": 72,
   "metadata": {},
   "outputs": [
    {
     "name": "stdout",
     "output_type": "stream",
     "text": [
      "+----------------+\n",
      "|product_category|\n",
      "+----------------+\n",
      "|            null|\n",
      "|            Toys|\n",
      "+----------------+\n",
      "\n",
      "None\n",
      "+----------------+\n",
      "|product_category|\n",
      "+----------------+\n",
      "|     Video Games|\n",
      "+----------------+\n",
      "\n",
      "None\n",
      "+----------------+\n",
      "|product_category|\n",
      "+----------------+\n",
      "|            null|\n",
      "|      2012-12-15|\n",
      "|      2013-05-18|\n",
      "|           Music|\n",
      "+----------------+\n",
      "\n",
      "None\n",
      "+--------------------+\n",
      "|    product_category|\n",
      "+--------------------+\n",
      "|                null|\n",
      "|Digital_Music_Pur...|\n",
      "+--------------------+\n",
      "\n",
      "None\n"
     ]
    }
   ],
   "source": [
    "# string_columns = ['marketplace', 'review_id', 'product_id','product_title','product_category','review_headline','review_body']\n",
    "\n",
    "print (toy.select('product_category').distinct().show())\n",
    "print (vidgame.select('product_category').distinct().show())\n",
    "print (music.select('product_category').distinct().show())\n",
    "print (digimusic.select('product_category').distinct().show())\n"
   ]
  },
  {
   "cell_type": "markdown",
   "metadata": {},
   "source": [
    "### Found Music has weird data for product_cateogry column so removed"
   ]
  },
  {
   "cell_type": "code",
   "execution_count": 77,
   "metadata": {},
   "outputs": [
    {
     "name": "stdout",
     "output_type": "stream",
     "text": [
      "+-----------+-----------+--------------+----------+--------------+--------------------+----------------+-----------+-------------+-----------+---------------+-----------+-----------+\n",
      "|marketplace|customer_id|     review_id|product_id|product_parent|       product_title|product_category|star_rating|helpful_votes|total_votes|review_headline|review_body|review_date|\n",
      "+-----------+-----------+--------------+----------+--------------+--------------------+----------------+-----------+-------------+-----------+---------------+-----------+-----------+\n",
      "|         US|   38214553|R21OUILTGE5KMG|B000BGQXYA|     581528669|\"One Woman's Life...|      2012-12-15|       null|         null|       null|           null|       null|       null|\n",
      "+-----------+-----------+--------------+----------+--------------+--------------------+----------------+-----------+-------------+-----------+---------------+-----------+-----------+\n",
      "\n"
     ]
    }
   ],
   "source": [
    "# music.select('product_category').distinct().show()\n",
    "# music.filter(music(\"product_category\")==\"2012-12-15\").show()\n",
    "# df.filter(\"state = 'TX'\")\n",
    "music.filter(\"product_category == '2012-12-15'\").show()"
   ]
  },
  {
   "cell_type": "code",
   "execution_count": 82,
   "metadata": {},
   "outputs": [
    {
     "name": "stdout",
     "output_type": "stream",
     "text": [
      "+-----------+-----------+--------------+----------+--------------+--------------------+----------------+-----------+-------------+-----------+--------------------+--------------------+-------------------+\n",
      "|marketplace|customer_id|     review_id|product_id|product_parent|       product_title|product_category|star_rating|helpful_votes|total_votes|     review_headline|         review_body|        review_date|\n",
      "+-----------+-----------+--------------+----------+--------------+--------------------+----------------+-----------+-------------+-----------+--------------------+--------------------+-------------------+\n",
      "|         US|   10140119|R3LI5TRP3YIDQL|B00TXH4OLC|     384427924|Whatever's for Us...|           Music|          5|            0|          0|          Five Stars|Love this CD alon...|2015-08-31 00:00:00|\n",
      "|         US|   27664622|R3LGC3EKEG84PX|B00B6QXN6U|     831769051|Same Trailer Diff...|           Music|          5|            0|          0|A new fave in our...|This is the album...|2015-08-31 00:00:00|\n",
      "+-----------+-----------+--------------+----------+--------------+--------------------+----------------+-----------+-------------+-----------+--------------------+--------------------+-------------------+\n",
      "only showing top 2 rows\n",
      "\n"
     ]
    }
   ],
   "source": [
    "cond = (F.col('product_category') == '2012-12-15')\n",
    "music = music.filter(~cond)\n",
    "music.show(2)"
   ]
  },
  {
   "cell_type": "code",
   "execution_count": 78,
   "metadata": {
    "scrolled": true
   },
   "outputs": [
    {
     "name": "stdout",
     "output_type": "stream",
     "text": [
      "+-----------+-----------+-------------+----------+--------------+--------------------+----------------+-----------+-------------+-----------+---------------+-----------+-----------+\n",
      "|marketplace|customer_id|    review_id|product_id|product_parent|       product_title|product_category|star_rating|helpful_votes|total_votes|review_headline|review_body|review_date|\n",
      "+-----------+-----------+-------------+----------+--------------+--------------------+----------------+-----------+-------------+-----------+---------------+-----------+-----------+\n",
      "|         US|   34635256|R6MSH2WZLSANF|B005U2YSC4|     393977021|\"Round Midnight /...|      2013-05-18|       null|         null|       null|           null|       null|       null|\n",
      "+-----------+-----------+-------------+----------+--------------+--------------------+----------------+-----------+-------------+-----------+---------------+-----------+-----------+\n",
      "\n"
     ]
    }
   ],
   "source": [
    "music.filter(\"product_category == '2013-05-18'\").show()"
   ]
  },
  {
   "cell_type": "code",
   "execution_count": 84,
   "metadata": {
    "scrolled": true
   },
   "outputs": [
    {
     "name": "stdout",
     "output_type": "stream",
     "text": [
      "+-----------+-----------+--------------+----------+--------------+--------------------+----------------+-----------+-------------+-----------+--------------------+--------------------+-------------------+\n",
      "|marketplace|customer_id|     review_id|product_id|product_parent|       product_title|product_category|star_rating|helpful_votes|total_votes|     review_headline|         review_body|        review_date|\n",
      "+-----------+-----------+--------------+----------+--------------+--------------------+----------------+-----------+-------------+-----------+--------------------+--------------------+-------------------+\n",
      "|         US|   10140119|R3LI5TRP3YIDQL|B00TXH4OLC|     384427924|Whatever's for Us...|           Music|          5|            0|          0|          Five Stars|Love this CD alon...|2015-08-31 00:00:00|\n",
      "|         US|   27664622|R3LGC3EKEG84PX|B00B6QXN6U|     831769051|Same Trailer Diff...|           Music|          5|            0|          0|A new fave in our...|This is the album...|2015-08-31 00:00:00|\n",
      "+-----------+-----------+--------------+----------+--------------+--------------------+----------------+-----------+-------------+-----------+--------------------+--------------------+-------------------+\n",
      "only showing top 2 rows\n",
      "\n"
     ]
    }
   ],
   "source": [
    "cond = (F.col('product_category') == '2013-05-18')\n",
    "music = music.filter(~cond)\n",
    "music.show(2)"
   ]
  },
  {
   "cell_type": "code",
   "execution_count": 87,
   "metadata": {
    "scrolled": true
   },
   "outputs": [
    {
     "name": "stdout",
     "output_type": "stream",
     "text": [
      "+-------+------------------+\n",
      "|summary|       star_rating|\n",
      "+-------+------------------+\n",
      "|  count|           4864243|\n",
      "|   mean| 4.211734693353107|\n",
      "| stddev|1.2633513164563899|\n",
      "|    min|                 1|\n",
      "|    max|                 5|\n",
      "+-------+------------------+\n",
      "\n"
     ]
    }
   ],
   "source": [
    "toy.describe('star_rating').show()"
   ]
  },
  {
   "cell_type": "code",
   "execution_count": 98,
   "metadata": {},
   "outputs": [],
   "source": [
    "toymean = toy.agg({'star_rating': 'mean'}).head()[0]\n",
    "vidgamemean = vidgame.agg({'star_rating': 'mean'}).head()[0]\n",
    "musicmean = music.agg({'star_rating': 'mean'}).head()[0]\n",
    "digimusicmean = digimusic.agg({'star_rating': 'mean'}).head()[0]"
   ]
  },
  {
   "cell_type": "code",
   "execution_count": 103,
   "metadata": {},
   "outputs": [],
   "source": [
    "means = [['Toy', toymean], ['Video Game', vidgamemean], ['Music', musicmean], ['Digital Music', digimusicmean]]\n",
    "means = pd.DataFrame(means, columns = ['Category', 'Star Ratings Avg'])"
   ]
  },
  {
   "cell_type": "markdown",
   "metadata": {},
   "source": [
    "### Digital Music Over Music & Toy Over Video Game"
   ]
  },
  {
   "cell_type": "code",
   "execution_count": 105,
   "metadata": {},
   "outputs": [
    {
     "data": {
      "text/plain": [
       "<matplotlib.axes._subplots.AxesSubplot at 0x7f781fb2f6d8>"
      ]
     },
     "execution_count": 105,
     "metadata": {},
     "output_type": "execute_result"
    },
    {
     "data": {
      "image/png": "[encoded data removed]",
      "text/plain": [
       "<Figure size 432x288 with 1 Axes>"
      ]
     },
     "metadata": {},
     "output_type": "display_data"
    }
   ],
   "source": [
    "means.plot(kind= 'bar', x='Category')"
   ]
  },
  {
   "cell_type": "code",
   "execution_count": 107,
   "metadata": {},
   "outputs": [
    {
     "name": "stdout",
     "output_type": "stream",
     "text": [
      "+-------+-----------------+\n",
      "|summary|      star_rating|\n",
      "+-------+-----------------+\n",
      "|  count|          4864243|\n",
      "|   mean|4.211734693353107|\n",
      "| stddev| 1.26335131645639|\n",
      "|    min|                1|\n",
      "|    25%|                4|\n",
      "|    50%|                5|\n",
      "|    75%|                5|\n",
      "|    max|                5|\n",
      "+-------+-----------------+\n",
      "\n"
     ]
    }
   ],
   "source": [
    "toy.select('star_rating').summary().show()"
   ]
  },
  {
   "cell_type": "code",
   "execution_count": 108,
   "metadata": {},
   "outputs": [
    {
     "name": "stdout",
     "output_type": "stream",
     "text": [
      "+-------+------------------+\n",
      "|summary|       star_rating|\n",
      "+-------+------------------+\n",
      "|  count|           1785997|\n",
      "|   mean| 4.059892597803915|\n",
      "| stddev|1.3558117532896719|\n",
      "|    min|                 1|\n",
      "|    25%|                 4|\n",
      "|    50%|                 5|\n",
      "|    75%|                 5|\n",
      "|    max|                 5|\n",
      "+-------+------------------+\n",
      "\n"
     ]
    }
   ],
   "source": [
    "vidgame.select('star_rating').summary().show()"
   ]
  },
  {
   "cell_type": "code",
   "execution_count": 109,
   "metadata": {},
   "outputs": [
    {
     "name": "stdout",
     "output_type": "stream",
     "text": [
      "+-------+-----------------+\n",
      "|summary|      star_rating|\n",
      "+-------+-----------------+\n",
      "|  count|          4751540|\n",
      "|   mean| 4.43662139011773|\n",
      "| stddev|1.035927168222571|\n",
      "|    min|                1|\n",
      "|    25%|                4|\n",
      "|    50%|                5|\n",
      "|    75%|                5|\n",
      "|    max|                5|\n",
      "+-------+-----------------+\n",
      "\n"
     ]
    }
   ],
   "source": [
    "music.select('star_rating').summary().show()"
   ]
  },
  {
   "cell_type": "code",
   "execution_count": 110,
   "metadata": {},
   "outputs": [
    {
     "name": "stdout",
     "output_type": "stream",
     "text": [
      "+-------+------------------+\n",
      "|summary|       star_rating|\n",
      "+-------+------------------+\n",
      "|  count|           1688881|\n",
      "|   mean| 4.642890766134499|\n",
      "| stddev|0.8604533998421674|\n",
      "|    min|                 1|\n",
      "|    25%|                 5|\n",
      "|    50%|                 5|\n",
      "|    75%|                 5|\n",
      "|    max|                 5|\n",
      "+-------+------------------+\n",
      "\n"
     ]
    }
   ],
   "source": [
    "digimusic.select('star_rating').summary().show()"
   ]
  },
  {
   "cell_type": "code",
   "execution_count": null,
   "metadata": {},
   "outputs": [],
   "source": [
    "trytoy = toy.select('review_date', 'star_rating') # streaming DataFrame of schema { timestamp: Timestamp, word: String }\n",
    "trytoy = trytoy.toPandas()\n",
    "trytoy.head(5)\n",
    "# # Group the data by window and word and compute the count of each group\n",
    "# windowedTry = trytoy.groupBy(\n",
    "#     Window(trytoy.timestamp, \"60 minutes\", \"30 minutes\"),\n",
    "#     trytoy.star_rating\n",
    "# ).count()"
   ]
  },
  {
   "cell_type": "code",
   "execution_count": 136,
   "metadata": {},
   "outputs": [],
   "source": [
    "import datetime\n",
    "from pyspark.sql.functions import year, month, dayofmonth\n",
    "from pyspark.sql.functions import sum,avg,max,min,mean,count"
   ]
  },
  {
   "cell_type": "code",
   "execution_count": 154,
   "metadata": {},
   "outputs": [],
   "source": [
    "yeartoy = toy.groupBy(year(\"review_date\").alias(\"year\")).agg(mean(\"star_rating\").alias(\"mean\")).orderBy(col(\"year\"))"
   ]
  },
  {
   "cell_type": "code",
   "execution_count": 183,
   "metadata": {},
   "outputs": [],
   "source": [
    "#convert Pyspark dataframe to Pandas dataframe for plotting\n",
    "yeartoy2 = yeartoy.toPandas()"
   ]
  },
  {
   "cell_type": "code",
   "execution_count": 157,
   "metadata": {
    "scrolled": true
   },
   "outputs": [
    {
     "data": {
      "text/plain": [
       "<matplotlib.axes._subplots.AxesSubplot at 0x7f782866e320>"
      ]
     },
     "execution_count": 157,
     "metadata": {},
     "output_type": "execute_result"
    },
    {
     "data": {
      "image/png": "[encoded data removed]",
      "text/plain": [
       "<Figure size 432x288 with 1 Axes>"
      ]
     },
     "metadata": {},
     "output_type": "display_data"
    }
   ],
   "source": [
    "yeartoy2.plot.line(x='year',y='mean')"
   ]
  },
  {
   "cell_type": "code",
   "execution_count": 184,
   "metadata": {},
   "outputs": [],
   "source": [
    "yearvidgame = vidgame.groupBy(year(\"review_date\").alias(\"year\")).agg(mean(\"star_rating\").alias(\"mean\")).orderBy(col(\"year\"))\n",
    "yearvidgame2 = yearvidgame.toPandas()"
   ]
  },
  {
   "cell_type": "markdown",
   "metadata": {},
   "source": [
    "### Yearly Star Rating Avg Comparison Between Toy & Video Game"
   ]
  },
  {
   "cell_type": "code",
   "execution_count": 193,
   "metadata": {},
   "outputs": [
    {
     "data": {
      "text/plain": [
       "<matplotlib.axes._subplots.AxesSubplot at 0x7f781f4a0400>"
      ]
     },
     "execution_count": 193,
     "metadata": {},
     "output_type": "execute_result"
    },
    {
     "data": {
      "text/plain": [
       "<matplotlib.axes._subplots.AxesSubplot at 0x7f781f4a0400>"
      ]
     },
     "execution_count": 193,
     "metadata": {},
     "output_type": "execute_result"
    },
    {
     "data": {
      "text/plain": [
       "(1995, 2017)"
      ]
     },
     "execution_count": 193,
     "metadata": {},
     "output_type": "execute_result"
    },
    {
     "data": {
      "text/plain": [
       "(3.0, 5)"
      ]
     },
     "execution_count": 193,
     "metadata": {},
     "output_type": "execute_result"
    },
    {
     "data": {
      "text/plain": [
       "<matplotlib.legend.Legend at 0x7f781f45f748>"
      ]
     },
     "execution_count": 193,
     "metadata": {},
     "output_type": "execute_result"
    },
    {
     "data": {
      "image/png": "[encoded data removed]",
      "text/plain": [
       "<Figure size 432x288 with 1 Axes>"
      ]
     },
     "metadata": {},
     "output_type": "display_data"
    }
   ],
   "source": [
    "fig, ax = plt.subplots()\n",
    "\n",
    "yeartoy2.plot.line(x='year', y='mean', ax=ax, label='Toy') # <--- pass ax=ax here\n",
    "yearvidgame2.plot.line(x='year', y='mean',  color='r', ax=ax, label = 'Video Game') # <--- pass ax=ax here\n",
    "\n",
    "plt.xlim(1995,2017)\n",
    "plt.ylim(3.0,5)\n",
    "\n",
    "plt.legend()\n",
    "plt.show()"
   ]
  },
  {
   "cell_type": "markdown",
   "metadata": {},
   "source": [
    "### Yearly Star Rating Avg Comparison Between Music & Digital Music"
   ]
  },
  {
   "cell_type": "code",
   "execution_count": 197,
   "metadata": {},
   "outputs": [],
   "source": [
    "yearmusic = music.groupBy(year(\"review_date\").alias(\"year\")).agg(mean(\"star_rating\").alias(\"mean\")).orderBy(col(\"year\"))\n",
    "yearmusic2 = yearmusic.toPandas()"
   ]
  },
  {
   "cell_type": "code",
   "execution_count": 198,
   "metadata": {},
   "outputs": [],
   "source": [
    "yeardigimusic = digimusic.groupBy(year(\"review_date\").alias(\"year\")).agg(mean(\"star_rating\").alias(\"mean\")).orderBy(col(\"year\"))\n",
    "yeardigimusic2 = yeardigimusic.toPandas()"
   ]
  },
  {
   "cell_type": "code",
   "execution_count": 202,
   "metadata": {},
   "outputs": [
    {
     "data": {
      "text/plain": [
       "<matplotlib.axes._subplots.AxesSubplot at 0x7f781f273630>"
      ]
     },
     "execution_count": 202,
     "metadata": {},
     "output_type": "execute_result"
    },
    {
     "data": {
      "text/plain": [
       "<matplotlib.axes._subplots.AxesSubplot at 0x7f781f273630>"
      ]
     },
     "execution_count": 202,
     "metadata": {},
     "output_type": "execute_result"
    },
    {
     "data": {
      "text/plain": [
       "(1992, 2017)"
      ]
     },
     "execution_count": 202,
     "metadata": {},
     "output_type": "execute_result"
    },
    {
     "data": {
      "text/plain": [
       "(3.5, 5)"
      ]
     },
     "execution_count": 202,
     "metadata": {},
     "output_type": "execute_result"
    },
    {
     "data": {
      "text/plain": [
       "<matplotlib.legend.Legend at 0x7f781f26bd68>"
      ]
     },
     "execution_count": 202,
     "metadata": {},
     "output_type": "execute_result"
    },
    {
     "data": {
      "image/png": "[encoded data removed]",
      "text/plain": [
       "<Figure size 432x288 with 1 Axes>"
      ]
     },
     "metadata": {},
     "output_type": "display_data"
    }
   ],
   "source": [
    "fig, ax = plt.subplots()\n",
    "\n",
    "yearmusic2.plot.line(x='year', y='mean', ax=ax, label='Music') # <--- pass ax=ax here\n",
    "yeardigimusic2.plot.line(x='year', y='mean',  color='r', ax=ax, label = 'Digital Music') # <--- pass ax=ax here\n",
    "\n",
    "plt.xlim(1992,2017)\n",
    "plt.ylim(3.5,5)\n",
    "\n",
    "plt.legend()\n",
    "plt.show()"
   ]
  },
  {
   "cell_type": "markdown",
   "metadata": {},
   "source": [
    "### Star Rating Avg Comparison Between Music Vs Digital Music By Month (Regardless of Year)"
   ]
  },
  {
   "cell_type": "code",
   "execution_count": 203,
   "metadata": {},
   "outputs": [],
   "source": [
    "momusic = music.groupBy(month(\"review_date\").alias(\"month\")).agg(mean(\"star_rating\").alias(\"mean\")).orderBy(col(\"month\"))\n",
    "momusic2 = momusic.toPandas()"
   ]
  },
  {
   "cell_type": "code",
   "execution_count": 204,
   "metadata": {},
   "outputs": [],
   "source": [
    "modigimusic = digimusic.groupBy(month(\"review_date\").alias(\"month\")).agg(mean(\"star_rating\").alias(\"mean\")).orderBy(col(\"month\"))\n",
    "modigimusic2 = modigimusic.toPandas()"
   ]
  },
  {
   "cell_type": "code",
   "execution_count": 206,
   "metadata": {},
   "outputs": [
    {
     "data": {
      "text/plain": [
       "<matplotlib.axes._subplots.AxesSubplot at 0x7f781f1c79e8>"
      ]
     },
     "execution_count": 206,
     "metadata": {},
     "output_type": "execute_result"
    },
    {
     "data": {
      "text/plain": [
       "<matplotlib.axes._subplots.AxesSubplot at 0x7f781f1c79e8>"
      ]
     },
     "execution_count": 206,
     "metadata": {},
     "output_type": "execute_result"
    },
    {
     "data": {
      "text/plain": [
       "(1, 12)"
      ]
     },
     "execution_count": 206,
     "metadata": {},
     "output_type": "execute_result"
    },
    {
     "data": {
      "text/plain": [
       "(3.5, 5)"
      ]
     },
     "execution_count": 206,
     "metadata": {},
     "output_type": "execute_result"
    },
    {
     "data": {
      "text/plain": [
       "<matplotlib.legend.Legend at 0x7f781f1d0ef0>"
      ]
     },
     "execution_count": 206,
     "metadata": {},
     "output_type": "execute_result"
    },
    {
     "data": {
      "image/png": "[encoded data removed]",
      "text/plain": [
       "<Figure size 432x288 with 1 Axes>"
      ]
     },
     "metadata": {},
     "output_type": "display_data"
    }
   ],
   "source": [
    "fig, ax = plt.subplots()\n",
    "\n",
    "momusic2.plot.line(x='month', y='mean', ax=ax, label='Music') # <--- pass ax=ax here\n",
    "modigimusic2.plot.line(x='month', y='mean',  color='r', ax=ax, label = 'Digital Music') # <--- pass ax=ax here\n",
    "\n",
    "plt.xlim(1,12)\n",
    "plt.ylim(3.5,5)\n",
    "\n",
    "plt.legend()\n",
    "plt.show()"
   ]
  },
  {
   "cell_type": "markdown",
   "metadata": {},
   "source": [
    "### Star Rating Avg Comparison Between Toy & Video Game By Month (Regardless of Year)"
   ]
  },
  {
   "cell_type": "code",
   "execution_count": 208,
   "metadata": {},
   "outputs": [
    {
     "data": {
      "text/plain": [
       "<matplotlib.axes._subplots.AxesSubplot at 0x7f781f0bdfd0>"
      ]
     },
     "execution_count": 208,
     "metadata": {},
     "output_type": "execute_result"
    },
    {
     "data": {
      "text/plain": [
       "<matplotlib.axes._subplots.AxesSubplot at 0x7f781f0bdfd0>"
      ]
     },
     "execution_count": 208,
     "metadata": {},
     "output_type": "execute_result"
    },
    {
     "data": {
      "text/plain": [
       "(1, 12)"
      ]
     },
     "execution_count": 208,
     "metadata": {},
     "output_type": "execute_result"
    },
    {
     "data": {
      "text/plain": [
       "(3.5, 5)"
      ]
     },
     "execution_count": 208,
     "metadata": {},
     "output_type": "execute_result"
    },
    {
     "data": {
      "text/plain": [
       "<matplotlib.legend.Legend at 0x7f781f060ef0>"
      ]
     },
     "execution_count": 208,
     "metadata": {},
     "output_type": "execute_result"
    },
    {
     "data": {
      "image/png": "[encoded data removed]",
      "text/plain": [
       "<Figure size 432x288 with 1 Axes>"
      ]
     },
     "metadata": {},
     "output_type": "display_data"
    }
   ],
   "source": [
    "motoy = toy.groupBy(month(\"review_date\").alias(\"month\")).agg(mean(\"star_rating\").alias(\"mean\")).orderBy(col(\"month\"))\n",
    "motoy2 = motoy.toPandas()\n",
    "movidgame = vidgame.groupBy(month(\"review_date\").alias(\"month\")).agg(mean(\"star_rating\").alias(\"mean\")).orderBy(col(\"month\"))\n",
    "movidgame2 = movidgame.toPandas()\n",
    "\n",
    "fig, ax = plt.subplots()\n",
    "\n",
    "motoy2.plot.line(x='month', y='mean', ax=ax, label='Toy') # <--- pass ax=ax here\n",
    "movidgame2.plot.line(x='month', y='mean',  color='r', ax=ax, label = 'Video Game') # <--- pass ax=ax here\n",
    "\n",
    "plt.xlim(1,12)\n",
    "plt.ylim(3.5,5)\n",
    "\n",
    "plt.legend()\n",
    "plt.show()"
   ]
  },
  {
   "cell_type": "code",
   "execution_count": 214,
   "metadata": {},
   "outputs": [],
   "source": [
    "#Products per Product Parent \n",
    "prparenttoy = toy.groupBy('product_parent').agg(count('product_id'))\n",
    "prparentvidgame = vidgame.groupBy('product_parent').agg(count('product_id'))\n",
    "prparentmusic = music.groupBy('product_parent').agg(count('product_id'))\n",
    "prparentdigimusic = digimusic.groupBy('product_parent').agg(count('product_id'))"
   ]
  },
  {
   "cell_type": "markdown",
   "metadata": {},
   "source": [
    "### Top Product Parent Based On Mean Star Rating"
   ]
  },
  {
   "cell_type": "markdown",
   "metadata": {},
   "source": [
    "#### 263404 products have in average 5 ratings"
   ]
  },
  {
   "cell_type": "code",
   "execution_count": 226,
   "metadata": {},
   "outputs": [],
   "source": [
    "prprtoy = toy.groupBy('product_parent').agg(mean('star_rating')).sort(col(\"avg(star_rating)\").desc())"
   ]
  },
  {
   "cell_type": "code",
   "execution_count": 230,
   "metadata": {},
   "outputs": [
    {
     "name": "stdout",
     "output_type": "stream",
     "text": [
      "+------------------+---------------------+\n",
      "|  avg(star_rating)|count(product_parent)|\n",
      "+------------------+---------------------+\n",
      "|               5.0|               263404|\n",
      "|4.9818181818181815|                    1|\n",
      "|              4.98|                    1|\n",
      "|4.9787234042553195|                    1|\n",
      "| 4.978260869565218|                    3|\n",
      "| 4.977777777777778|                    2|\n",
      "| 4.976744186046512|                    1|\n",
      "| 4.976190476190476|                    1|\n",
      "|             4.975|                    2|\n",
      "|4.9743589743589745|                    3|\n",
      "| 4.973684210526316|                    4|\n",
      "| 4.972972972972973|                    8|\n",
      "|4.9714285714285715|                    2|\n",
      "| 4.970588235294118|                    1|\n",
      "|  4.96969696969697|                    6|\n",
      "|           4.96875|                    7|\n",
      "| 4.967741935483871|                    5|\n",
      "| 4.966666666666667|                    4|\n",
      "| 4.966101694915254|                    1|\n",
      "|4.9655172413793105|                   10|\n",
      "+------------------+---------------------+\n",
      "only showing top 20 rows\n",
      "\n"
     ]
    }
   ],
   "source": [
    "prprtoy.groupBy('avg(star_rating)').agg(count('product_parent')).show()"
   ]
  },
  {
   "cell_type": "markdown",
   "metadata": {},
   "source": [
    "#### 13386 products have in average 5 ratings"
   ]
  },
  {
   "cell_type": "code",
   "execution_count": 233,
   "metadata": {},
   "outputs": [
    {
     "name": "stdout",
     "output_type": "stream",
     "text": [
      "+------------------+---------------------+\n",
      "|  avg(star_rating)|count(product_parent)|\n",
      "+------------------+---------------------+\n",
      "|               5.0|                13386|\n",
      "| 4.972222222222222|                    1|\n",
      "|4.9714285714285715|                    1|\n",
      "| 4.966101694915254|                    1|\n",
      "| 4.961538461538462|                    1|\n",
      "|              4.96|                    2|\n",
      "| 4.958333333333333|                    1|\n",
      "| 4.954545454545454|                    1|\n",
      "|4.9523809523809526|                    2|\n",
      "|              4.95|                    3|\n",
      "| 4.949275362318841|                    1|\n",
      "| 4.947368421052632|                    2|\n",
      "| 4.944444444444445|                    5|\n",
      "| 4.942857142857143|                    1|\n",
      "|4.9411764705882355|                    7|\n",
      "|            4.9375|                    9|\n",
      "| 4.935483870967742|                    1|\n",
      "| 4.934782608695652|                    1|\n",
      "| 4.933333333333334|                    6|\n",
      "| 4.928571428571429|                   13|\n",
      "+------------------+---------------------+\n",
      "only showing top 20 rows\n",
      "\n"
     ]
    }
   ],
   "source": [
    "prprvidgame = vidgame.groupBy('product_parent').agg(mean('star_rating')).sort(col(\"avg(star_rating)\").desc())\n",
    "prprvidgame.groupBy('avg(star_rating)').agg(count('product_parent')).show()"
   ]
  },
  {
   "cell_type": "markdown",
   "metadata": {},
   "source": [
    "### Sum of Helpful Votes Per Product Parent"
   ]
  },
  {
   "cell_type": "markdown",
   "metadata": {},
   "source": [
    "#### Interesting pattern of seeing product parent with the most number of helpful votes paired with lower average star_rating"
   ]
  },
  {
   "cell_type": "code",
   "execution_count": 239,
   "metadata": {
    "scrolled": true
   },
   "outputs": [
    {
     "name": "stdout",
     "output_type": "stream",
     "text": [
      "+--------------+------------------+------------------+\n",
      "|product_parent|sum(helpful_votes)|  avg(star_rating)|\n",
      "+--------------+------------------+------------------+\n",
      "|     809260231|             43208| 2.986547085201794|\n",
      "|     829220659|             29075|4.8597076384599545|\n",
      "|     873299726|             28493| 4.529626623376624|\n",
      "|     147901978|             18905| 3.409090909090909|\n",
      "|     579462056|             16957|3.6844919786096257|\n",
      "|     244796398|             16425|3.9158512720156557|\n",
      "|     320546735|             14955| 4.658780231335436|\n",
      "|     853385546|             10279| 4.227777777777778|\n",
      "|     286256560|              9532| 4.246913580246914|\n",
      "|     824071926|              7946| 4.219971056439942|\n",
      "|     826592483|              7446|3.8699715562779358|\n",
      "|     860841835|              6597|  4.34703196347032|\n",
      "|     539899566|              6353| 4.647560491868306|\n",
      "|     275514823|              6033|3.3293357933579335|\n",
      "|      55838119|              5643| 4.376470588235295|\n",
      "|     906353090|              5478| 4.044776119402985|\n",
      "|     477360679|              5465|3.8034591194968552|\n",
      "|     769968817|              5380| 4.448559670781893|\n",
      "|     419014956|              5304| 4.331991951710261|\n",
      "|     764458661|              5132|3.6951219512195124|\n",
      "+--------------+------------------+------------------+\n",
      "only showing top 20 rows\n",
      "\n"
     ]
    }
   ],
   "source": [
    "toy.groupBy('product_parent').agg(sum('helpful_votes'), mean('star_rating')).sort(col(\"sum(helpful_votes)\").desc()).show()"
   ]
  },
  {
   "cell_type": "code",
   "execution_count": 238,
   "metadata": {},
   "outputs": [
    {
     "name": "stdout",
     "output_type": "stream",
     "text": [
      "+--------------+------------------+------------------+\n",
      "|product_parent|sum(helpful_votes)|  avg(star_rating)|\n",
      "+--------------+------------------+------------------+\n",
      "|     111226018|             53319| 2.433485622144585|\n",
      "|     366059078|             50124|1.6473079249848759|\n",
      "|     636511565|             48282| 4.163867979154603|\n",
      "|     265303108|             39416| 1.452920443101712|\n",
      "|      39181653|             23301|3.4581151832460733|\n",
      "|     936979138|             17788|3.9295892707460185|\n",
      "|     868275572|             17105|3.0697799248523885|\n",
      "|     151985175|             12811| 2.488162344983089|\n",
      "|     793022980|             11353| 3.176762661370407|\n",
      "|     468471190|             11253|4.5337243401759535|\n",
      "|     746038909|             11125| 1.697142857142857|\n",
      "|     541259922|             10958| 3.808965228320067|\n",
      "|     928566066|              8704|3.5884917175239757|\n",
      "|     320220176|              8006| 4.248780487804878|\n",
      "|     512137293|              7928| 4.351044504995459|\n",
      "|      72412442|              7776| 3.444549763033175|\n",
      "|       4799572|              7718|2.2122448979591836|\n",
      "|     991465511|              7090|             2.275|\n",
      "|      18715758|              6841|      4.7236328125|\n",
      "|     400972702|              6646| 4.564177362893815|\n",
      "+--------------+------------------+------------------+\n",
      "only showing top 20 rows\n",
      "\n"
     ]
    }
   ],
   "source": [
    "vidgame.groupBy('product_parent').agg(sum('helpful_votes'), mean('star_rating')).sort(col(\"sum(helpful_votes)\").desc()).show()"
   ]
  },
  {
   "cell_type": "code",
   "execution_count": 240,
   "metadata": {},
   "outputs": [
    {
     "name": "stdout",
     "output_type": "stream",
     "text": [
      "+--------------+------------------+------------------+\n",
      "|product_parent|sum(helpful_votes)|  avg(star_rating)|\n",
      "+--------------+------------------+------------------+\n",
      "|     453915760|             20609| 4.402201524132091|\n",
      "|     133243244|             18914| 4.492572786690434|\n",
      "|     388483600|             12123| 2.800647088103534|\n",
      "|     770378780|             11533|1.4059829059829059|\n",
      "|       3458816|             10718| 4.798534798534798|\n",
      "|     132646905|             10554| 3.287348586810229|\n",
      "|     496059914|             10129| 4.841772151898734|\n",
      "|     453610477|             10128| 3.183632734530938|\n",
      "|     658034343|              9996|3.9835958005249346|\n",
      "|     900371546|              9346| 4.258492129246065|\n",
      "|     376609974|              8575| 4.580548414738646|\n",
      "|     248144974|              7500| 4.312977099236641|\n",
      "|     482689955|              7110| 4.013748191027497|\n",
      "|     809803813|              7040| 3.384297520661157|\n",
      "|     897909419|              6979| 4.040730337078652|\n",
      "|     295152250|              6904| 4.455284552845528|\n",
      "|     481160368|              6811| 3.792307692307692|\n",
      "|     186187358|              6617|3.9971719457013575|\n",
      "|      96770875|              6558| 4.640278657378087|\n",
      "|     300170247|              6179| 3.642857142857143|\n",
      "+--------------+------------------+------------------+\n",
      "only showing top 20 rows\n",
      "\n"
     ]
    }
   ],
   "source": [
    "music.groupBy('product_parent').agg(sum('helpful_votes'), mean('star_rating')).sort(col(\"sum(helpful_votes)\").desc()).show()"
   ]
  },
  {
   "cell_type": "code",
   "execution_count": 241,
   "metadata": {},
   "outputs": [
    {
     "name": "stdout",
     "output_type": "stream",
     "text": [
      "+--------------+------------------+------------------+\n",
      "|product_parent|sum(helpful_votes)|  avg(star_rating)|\n",
      "+--------------+------------------+------------------+\n",
      "|     710124392|              3725| 3.844106463878327|\n",
      "|      79351231|              3493|1.2912621359223302|\n",
      "|     930328267|              1438|2.6596858638743455|\n",
      "|     362621454|              1219|3.2835249042145596|\n",
      "|     218937759|              1158| 4.746951219512195|\n",
      "|     348335832|              1137|3.0913978494623655|\n",
      "|     117182852|              1123|4.2656716417910445|\n",
      "|     380805388|              1108| 2.129032258064516|\n",
      "|     570268002|              1028|4.6117647058823525|\n",
      "|     780153659|               969| 4.855704697986577|\n",
      "|     223143825|               932| 4.004889975550122|\n",
      "|     260957349|               916|4.0213523131672595|\n",
      "|     999623290|               895| 3.437956204379562|\n",
      "|     412555628|               874|1.9764705882352942|\n",
      "|     419353887|               830|4.9010989010989015|\n",
      "|     411217559|               826| 4.755208333333333|\n",
      "|     459867075|               791| 1.595959595959596|\n",
      "|     338262524|               774| 4.473429951690822|\n",
      "|     916893093|               746|4.0675675675675675|\n",
      "|     533760036|               741|             4.375|\n",
      "+--------------+------------------+------------------+\n",
      "only showing top 20 rows\n",
      "\n"
     ]
    }
   ],
   "source": [
    "digimusic.groupBy('product_parent').agg(sum('helpful_votes'), mean('star_rating')).sort(col(\"sum(helpful_votes)\").desc()).show()"
   ]
  }
 ],
 "metadata": {
  "kernelspec": {
   "display_name": "Python 3",
   "language": "python",
   "name": "python3"
  },
  "language_info": {
   "codemirror_mode": {
    "name": "ipython",
    "version": 3
   },
   "file_extension": ".py",
   "mimetype": "text/x-python",
   "name": "python",
   "nbconvert_exporter": "python",
   "pygments_lexer": "ipython3",
   "version": "3.7.6"
  }
 },
 "nbformat": 4,
 "nbformat_minor": 4
}
