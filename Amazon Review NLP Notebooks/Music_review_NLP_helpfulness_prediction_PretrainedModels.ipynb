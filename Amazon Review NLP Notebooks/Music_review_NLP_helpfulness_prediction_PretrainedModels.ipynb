{
 "cells": [
  {
   "cell_type": "markdown",
   "metadata": {},
   "source": [
    "# Review NLP Helpfulness Prediction PretrainedModels (Music)"
   ]
  },
  {
   "cell_type": "markdown",
   "metadata": {},
   "source": [
    "## Creating Spark Session & Importing All Necessary Libraries"
   ]
  },
  {
   "cell_type": "code",
   "execution_count": 1,
   "metadata": {},
   "outputs": [],
   "source": [
    "import findspark\n",
    "findspark.init()"
   ]
  },
  {
   "cell_type": "code",
   "execution_count": 2,
   "metadata": {},
   "outputs": [],
   "source": [
    "# Import Spark NLP\n",
    "from sparknlp.base import *\n",
    "from sparknlp.annotator import *\n",
    "from sparknlp.pretrained import PretrainedPipeline\n",
    "from pyspark.sql import functions as F\n",
    "\n",
    "import sparknlp\n",
    "\n",
    "# Start SparkSession with Spark NLP\n",
    "# start() functions has 5 parameters: gpu, spark23, spark24, spark32, and memory\n",
    "# sparknlp.start(gpu=True) will start the session with GPU support\n",
    "# sparknlp.start(spark23=True) is when you have Apache Spark 2.3.x installed\n",
    "# sparknlp.start(spark24=True) is when you have Apache Spark 2.4.x installed\n",
    "# sparknlp.start(spark32=True) is when you have Apache Spark 3.2.x installed\n",
    "# sparknlp.start(memory=\"16G\") to change the default driver memory in SparkSession\n",
    "spark = sparknlp.start(gpu = True, spark32= True)"
   ]
  },
  {
   "cell_type": "markdown",
   "metadata": {},
   "source": [
    "### Reading in Data"
   ]
  },
  {
   "cell_type": "code",
   "execution_count": 3,
   "metadata": {},
   "outputs": [],
   "source": [
    "df = spark.read \\\n",
    "    .option(\"quote\", \"\\\"\")  \\\n",
    "    .option(\"escape\", \"\\\"\") \\\n",
    "    .option(\"ignoreLeadingWhiteSpace\",True) \\\n",
    "    .csv(r\"C:\\Users\\kenne\\OneDrive\\Desktop\\UChicago\\Python\\Final Project Big Data Amazon Review\\Amazon Review Kaggle Data\\amazon_reviews_us_Music_v1_00.tsv\",inferSchema=True,header=True, sep='\\t' )"
   ]
  },
  {
   "cell_type": "markdown",
   "metadata": {},
   "source": [
    "## Code Cleaning"
   ]
  },
  {
   "cell_type": "code",
   "execution_count": 4,
   "metadata": {
    "scrolled": true
   },
   "outputs": [
    {
     "name": "stdout",
     "output_type": "stream",
     "text": [
      "-RECORD 0--------------------------------------------------------------------\n",
      " marketplace       | US                                                      \n",
      " customer_id       | 10140119                                                \n",
      " review_id         | R3LI5TRP3YIDQL                                          \n",
      " product_id        | B00TXH4OLC                                              \n",
      " product_parent    | 384427924                                               \n",
      " product_title     | Whatever's for Us: Remastered                           \n",
      " product_category  | Music                                                   \n",
      " star_rating       | 5                                                       \n",
      " helpful_votes     | 0                                                       \n",
      " total_votes       | 0                                                       \n",
      " vine              | N                                                       \n",
      " verified_purchase | Y                                                       \n",
      " review_headline   | Five Stars                                              \n",
      " review_body       | Love this CD along with other CDs by the same musician. \n",
      " review_date       | 2015-08-31                                              \n",
      "only showing top 1 row\n",
      "\n"
     ]
    }
   ],
   "source": [
    "df.show(1, vertical = True, truncate = False)"
   ]
  },
  {
   "cell_type": "code",
   "execution_count": 5,
   "metadata": {},
   "outputs": [],
   "source": [
    "df = df.select('product_id', 'star_rating', 'product_category', 'review_headline', 'review_body', 'helpful_votes', 'total_votes')"
   ]
  },
  {
   "cell_type": "code",
   "execution_count": 6,
   "metadata": {},
   "outputs": [
    {
     "name": "stdout",
     "output_type": "stream",
     "text": [
      "-RECORD 0-------------------------------------------------------------------\n",
      " product_id       | B00TXH4OLC                                              \n",
      " star_rating      | 5                                                       \n",
      " product_category | Music                                                   \n",
      " review_headline  | Five Stars                                              \n",
      " review_body      | Love this CD along with other CDs by the same musician. \n",
      " helpful_votes    | 0                                                       \n",
      " total_votes      | 0                                                       \n",
      "only showing top 1 row\n",
      "\n"
     ]
    }
   ],
   "source": [
    "df.show(1, vertical = True, truncate = False)"
   ]
  },
  {
   "cell_type": "code",
   "execution_count": 7,
   "metadata": {},
   "outputs": [
    {
     "data": {
      "text/plain": [
       "4751006"
      ]
     },
     "execution_count": 7,
     "metadata": {},
     "output_type": "execute_result"
    }
   ],
   "source": [
    "df.dropna().count()"
   ]
  },
  {
   "cell_type": "code",
   "execution_count": 8,
   "metadata": {},
   "outputs": [
    {
     "name": "stdout",
     "output_type": "stream",
     "text": [
      "+----------+-----------+----------------+---------------+-----------+-------------+-----------+\n",
      "|product_id|star_rating|product_category|review_headline|review_body|helpful_votes|total_votes|\n",
      "+----------+-----------+----------------+---------------+-----------+-------------+-----------+\n",
      "|         0|         37|              35|            219|        389|           37|         37|\n",
      "+----------+-----------+----------------+---------------+-----------+-------------+-----------+\n",
      "\n"
     ]
    }
   ],
   "source": [
    "from pyspark.sql.functions import col,isnan, when, count\n",
    "df.select([count(when(isnan(c) | col(c).isNull(), c)).alias(c) for c in df.columns]\n",
    "   ).show()"
   ]
  },
  {
   "cell_type": "code",
   "execution_count": 9,
   "metadata": {},
   "outputs": [
    {
     "name": "stdout",
     "output_type": "stream",
     "text": [
      "-RECORD 0-----------------\n",
      " product_id       | 198   \n",
      " star_rating      | 37    \n",
      " product_category | 35    \n",
      " review_headline  | 950   \n",
      " review_body      | 20498 \n",
      " helpful_votes    | 37    \n",
      " total_votes      | 37    \n",
      "\n"
     ]
    }
   ],
   "source": [
    "df2 = df.select([count(when(col(c).contains('None') | \\\n",
    "                            col(c).contains('NULL') | \\\n",
    "                            (col(c) == '' ) | \\\n",
    "                            col(c).isNull() | \\\n",
    "                            isnan(c), c \n",
    "                           )).alias(c)\n",
    "                    for c in df.columns])\n",
    "df2.count()\n",
    "df2.show(5, vertical = True)"
   ]
  },
  {
   "cell_type": "code",
   "execution_count": 10,
   "metadata": {},
   "outputs": [
    {
     "data": {
      "text/plain": [
       "406095"
      ]
     },
     "execution_count": 10,
     "metadata": {},
     "output_type": "execute_result"
    }
   ],
   "source": [
    "df = df.filter(col('total_votes') > 10)\n",
    "df.count()"
   ]
  },
  {
   "cell_type": "code",
   "execution_count": 11,
   "metadata": {},
   "outputs": [],
   "source": [
    "df = df.fillna(\"\", \"review_body\")\n",
    "df = df.fillna(\"\", \"review_headline\")"
   ]
  },
  {
   "cell_type": "code",
   "execution_count": 12,
   "metadata": {},
   "outputs": [
    {
     "name": "stdout",
     "output_type": "stream",
     "text": [
      "-RECORD 0--------------------------------------------------------------------------------------------------------------------------------------------------------------------------------------------------------------------------------------------------------------------------------------------------------------------------------------------------------------------------------------------------------------------------------------------------------------------------------------------------------------------------------------------------------------------------------------------------------------------------------------------------------------------------------------------------------------------------------------------------------------------------------------------------------------------------------------------------------------------------------------------------------------------------------------------------------------------------------------------------------------------------------------------------------------------------------------------------------------------------------------------------------------------------------------------------------------------------------------------------------------------------------------------------------------------------------------------------------------------------------------------------------------------------------------------------------------------------------------------------------------------------------------------------------------------------------------------------------------------------------------------------------------------------------------------------------\n",
      " product_id       | B010FP0WRU                                                                                                                                                                                                                                                                                                                                                                                                                                                                                                                                                                                                                                                                                                                                                                                                                                                                                                                                                                                                                                                                                                                                                                                                                                                                                                                                                                                                                                                                                                                                                                                                                                                                                   \n",
      " star_rating      | 3                                                                                                                                                                                                                                                                                                                                                                                                                                                                                                                                                                                                                                                                                                                                                                                                                                                                                                                                                                                                                                                                                                                                                                                                                                                                                                                                                                                                                                                                                                                                                                                                                                                                                            \n",
      " product_category | Music                                                                                                                                                                                                                                                                                                                                                                                                                                                                                                                                                                                                                                                                                                                                                                                                                                                                                                                                                                                                                                                                                                                                                                                                                                                                                                                                                                                                                                                                                                                                                                                                                                                                                        \n",
      " review_headline  | Up it by a half-star if you put it on shuffle play.                                                                                                                                                                                                                                                                                                                                                                                                                                                                                                                                                                                                                                                                                                                                                                                                                                                                                                                                                                                                                                                                                                                                                                                                                                                                                                                                                                                                                                                                                                                                                                                                                                          \n",
      " review_body      | A solid collection of tracks assembled from a series of 10&#34; singles dating between 2012-2015.<br /><br />The six 10&#34; EPs themselves each contained one new A-side, one new cover tune, and one reworking of a song from Crenshaw's back catalogue.  The compilation contains only the six A-sides and six cover tunes, and none of the reworkings.  Also included is a bonus live track and a bonus demo dating back to sometime in the 90s.<br /><br />The new songs are all in Marshall's later mode: mid-tempo, sometimes downbeat, often with a wryly reflective point of view.  As well, the well-scrubbed pop hooks of thirty years ago are now much more subtle, and may take a few spins to sink in.  Unfortunately, the album isn't well served by putting all six of these originals back-to-back to lead off the album, as the tone of each of these six songs is somewhat similar, and it makes the album seem more monochromatic than it actually is.<br /><br />The seven covers (including the live bonus track) are a little more stylistically diverse, ranging from some rock-oriented Everly Brothers material to an achingly sincere &#34;Close To You&#34;.<br /><br />Overall, there's nothing absolutely revelatory about #392, but the album is still chock full of good songcraft performed with skill and passion.  If you're a long-term Crenshaw fan, this is a worthwhile purchase.  But if you're just getting in to Mr. Crenshaw's work?  I would say that there are other albums (Downtown, Life's Too Short, Marshall Crenshaw) that show him to greater advantage -- explore those ones first.                                                     \n",
      " helpful_votes    | 25                                                                                                                                                                                                                                                                                                                                                                                                                                                                                                                                                                                                                                                                                                                                                                                                                                                                                                                                                                                                                                                                                                                                                                                                                                                                                                                                                                                                                                                                                                                                                                                                                                                                                           \n",
      " total_votes      | 26                                                                                                                                                                                                                                                                                                                                                                                                                                                                                                                                                                                                                                                                                                                                                                                                                                                                                                                                                                                                                                                                                                                                                                                                                                                                                                                                                                                                                                                                                                                                                                                                                                                                                           \n",
      " review_text      | Up it by a half-star if you put it on shuffle play. A solid collection of tracks assembled from a series of 10&#34; singles dating between 2012-2015.<br /><br />The six 10&#34; EPs themselves each contained one new A-side, one new cover tune, and one reworking of a song from Crenshaw's back catalogue.  The compilation contains only the six A-sides and six cover tunes, and none of the reworkings.  Also included is a bonus live track and a bonus demo dating back to sometime in the 90s.<br /><br />The new songs are all in Marshall's later mode: mid-tempo, sometimes downbeat, often with a wryly reflective point of view.  As well, the well-scrubbed pop hooks of thirty years ago are now much more subtle, and may take a few spins to sink in.  Unfortunately, the album isn't well served by putting all six of these originals back-to-back to lead off the album, as the tone of each of these six songs is somewhat similar, and it makes the album seem more monochromatic than it actually is.<br /><br />The seven covers (including the live bonus track) are a little more stylistically diverse, ranging from some rock-oriented Everly Brothers material to an achingly sincere &#34;Close To You&#34;.<br /><br />Overall, there's nothing absolutely revelatory about #392, but the album is still chock full of good songcraft performed with skill and passion.  If you're a long-term Crenshaw fan, this is a worthwhile purchase.  But if you're just getting in to Mr. Crenshaw's work?  I would say that there are other albums (Downtown, Life's Too Short, Marshall Crenshaw) that show him to greater advantage -- explore those ones first. \n",
      "only showing top 1 row\n",
      "\n"
     ]
    }
   ],
   "source": [
    "df = df.withColumn('review_text', F.concat('review_headline', F.lit(\" \"), 'review_body'))\n",
    "df.show(1, vertical = True, truncate = False)"
   ]
  },
  {
   "cell_type": "code",
   "execution_count": 13,
   "metadata": {},
   "outputs": [
    {
     "name": "stdout",
     "output_type": "stream",
     "text": [
      "(0 rows)\n",
      "\n"
     ]
    }
   ],
   "source": [
    "df.filter((col(\"review_text\").isNull()) | ( col(\"review_text\") == \"\")).show(1, vertical = True, truncate = False)"
   ]
  },
  {
   "cell_type": "code",
   "execution_count": 14,
   "metadata": {},
   "outputs": [
    {
     "name": "stdout",
     "output_type": "stream",
     "text": [
      "-RECORD 0---------------\n",
      " product_id       | 0   \n",
      " star_rating      | 0   \n",
      " product_category | 0   \n",
      " review_headline  | 9   \n",
      " review_body      | 7   \n",
      " helpful_votes    | 0   \n",
      " total_votes      | 0   \n",
      " review_text      | 0   \n",
      "\n"
     ]
    }
   ],
   "source": [
    "df.select([count(when((col(c) == '' ) | \\\n",
    "                            col(c).isNull() | \\\n",
    "                            isnan(c), c \n",
    "                           )).alias(c)\n",
    "                    for c in df.columns]).show(5, vertical = True)"
   ]
  },
  {
   "cell_type": "code",
   "execution_count": 15,
   "metadata": {},
   "outputs": [
    {
     "name": "stdout",
     "output_type": "stream",
     "text": [
      "-RECORD 0--------------------------------------------------------------------------------------------------------------------------------------------------------------------------------------------------------------------------------------------------------------------------------------------------------------------------------------------------------------------------------------------------------------------------------------------------------------------------------------------------------------------------------------------------------------------------------------------------------------------------------------------------------------------------------------------------------------------------------------------------------------------------------------------------------------------------------------------------------------------------------------------------------------------------------------------------------------------------------------------------------------------------------------------------------------------------------------------------------------------------------------------------------------------------------------------------------------------------------------------------------------------------------------------------------------------------------------------------------------------------------------------------------------------------------------------------------------------------------------------------------------------------------------------------------------------------------------------------------------------------------------------------------------------------------------------------------\n",
      " product_id       | B010FP0WRU                                                                                                                                                                                                                                                                                                                                                                                                                                                                                                                                                                                                                                                                                                                                                                                                                                                                                                                                                                                                                                                                                                                                                                                                                                                                                                                                                                                                                                                                                                                                                                                                                                                                                   \n",
      " star_rating      | 3                                                                                                                                                                                                                                                                                                                                                                                                                                                                                                                                                                                                                                                                                                                                                                                                                                                                                                                                                                                                                                                                                                                                                                                                                                                                                                                                                                                                                                                                                                                                                                                                                                                                                            \n",
      " product_category | Music                                                                                                                                                                                                                                                                                                                                                                                                                                                                                                                                                                                                                                                                                                                                                                                                                                                                                                                                                                                                                                                                                                                                                                                                                                                                                                                                                                                                                                                                                                                                                                                                                                                                                        \n",
      " review_headline  | Up it by a half-star if you put it on shuffle play.                                                                                                                                                                                                                                                                                                                                                                                                                                                                                                                                                                                                                                                                                                                                                                                                                                                                                                                                                                                                                                                                                                                                                                                                                                                                                                                                                                                                                                                                                                                                                                                                                                          \n",
      " review_body      | A solid collection of tracks assembled from a series of 10&#34; singles dating between 2012-2015.<br /><br />The six 10&#34; EPs themselves each contained one new A-side, one new cover tune, and one reworking of a song from Crenshaw's back catalogue.  The compilation contains only the six A-sides and six cover tunes, and none of the reworkings.  Also included is a bonus live track and a bonus demo dating back to sometime in the 90s.<br /><br />The new songs are all in Marshall's later mode: mid-tempo, sometimes downbeat, often with a wryly reflective point of view.  As well, the well-scrubbed pop hooks of thirty years ago are now much more subtle, and may take a few spins to sink in.  Unfortunately, the album isn't well served by putting all six of these originals back-to-back to lead off the album, as the tone of each of these six songs is somewhat similar, and it makes the album seem more monochromatic than it actually is.<br /><br />The seven covers (including the live bonus track) are a little more stylistically diverse, ranging from some rock-oriented Everly Brothers material to an achingly sincere &#34;Close To You&#34;.<br /><br />Overall, there's nothing absolutely revelatory about #392, but the album is still chock full of good songcraft performed with skill and passion.  If you're a long-term Crenshaw fan, this is a worthwhile purchase.  But if you're just getting in to Mr. Crenshaw's work?  I would say that there are other albums (Downtown, Life's Too Short, Marshall Crenshaw) that show him to greater advantage -- explore those ones first.                                                     \n",
      " helpful_votes    | 25                                                                                                                                                                                                                                                                                                                                                                                                                                                                                                                                                                                                                                                                                                                                                                                                                                                                                                                                                                                                                                                                                                                                                                                                                                                                                                                                                                                                                                                                                                                                                                                                                                                                                           \n",
      " total_votes      | 26                                                                                                                                                                                                                                                                                                                                                                                                                                                                                                                                                                                                                                                                                                                                                                                                                                                                                                                                                                                                                                                                                                                                                                                                                                                                                                                                                                                                                                                                                                                                                                                                                                                                                           \n",
      " review_text      | Up it by a half-star if you put it on shuffle play. A solid collection of tracks assembled from a series of 10&#34; singles dating between 2012-2015.<br /><br />The six 10&#34; EPs themselves each contained one new A-side, one new cover tune, and one reworking of a song from Crenshaw's back catalogue.  The compilation contains only the six A-sides and six cover tunes, and none of the reworkings.  Also included is a bonus live track and a bonus demo dating back to sometime in the 90s.<br /><br />The new songs are all in Marshall's later mode: mid-tempo, sometimes downbeat, often with a wryly reflective point of view.  As well, the well-scrubbed pop hooks of thirty years ago are now much more subtle, and may take a few spins to sink in.  Unfortunately, the album isn't well served by putting all six of these originals back-to-back to lead off the album, as the tone of each of these six songs is somewhat similar, and it makes the album seem more monochromatic than it actually is.<br /><br />The seven covers (including the live bonus track) are a little more stylistically diverse, ranging from some rock-oriented Everly Brothers material to an achingly sincere &#34;Close To You&#34;.<br /><br />Overall, there's nothing absolutely revelatory about #392, but the album is still chock full of good songcraft performed with skill and passion.  If you're a long-term Crenshaw fan, this is a worthwhile purchase.  But if you're just getting in to Mr. Crenshaw's work?  I would say that there are other albums (Downtown, Life's Too Short, Marshall Crenshaw) that show him to greater advantage -- explore those ones first. \n",
      " helpful_ratio    | 0.9615384615384616                                                                                                                                                                                                                                                                                                                                                                                                                                                                                                                                                                                                                                                                                                                                                                                                                                                                                                                                                                                                                                                                                                                                                                                                                                                                                                                                                                                                                                                                                                                                                                                                                                                                           \n",
      "only showing top 1 row\n",
      "\n"
     ]
    }
   ],
   "source": [
    "df = df.withColumn('helpful_ratio', F.col('helpful_votes') / F.col('total_votes'))\n",
    "df.show(1, vertical = True, truncate = False)"
   ]
  },
  {
   "cell_type": "code",
   "execution_count": 16,
   "metadata": {},
   "outputs": [
    {
     "data": {
      "text/plain": [
       "0"
      ]
     },
     "execution_count": 16,
     "metadata": {},
     "output_type": "execute_result"
    }
   ],
   "source": [
    "df.filter(col('helpful_ratio') < 0).count()"
   ]
  },
  {
   "cell_type": "code",
   "execution_count": 17,
   "metadata": {},
   "outputs": [],
   "source": [
    "df = df.withColumn('helpful', when(col(\"helpful_ratio\") < 0.5, 0).otherwise(1))"
   ]
  },
  {
   "cell_type": "code",
   "execution_count": 18,
   "metadata": {
    "scrolled": true
   },
   "outputs": [
    {
     "name": "stdout",
     "output_type": "stream",
     "text": [
      "-RECORD 0--------------------------------\n",
      " product_id       | B010FP0WRU           \n",
      " star_rating      | 3                    \n",
      " product_category | Music                \n",
      " review_headline  | Up it by a half-s... \n",
      " review_body      | A solid collectio... \n",
      " helpful_votes    | 25                   \n",
      " total_votes      | 26                   \n",
      " review_text      | Up it by a half-s... \n",
      " helpful_ratio    | 0.9615384615384616   \n",
      " helpful          | 1                    \n",
      "-RECORD 1--------------------------------\n",
      " product_id       | B00ZGJ85Y8           \n",
      " star_rating      | 5                    \n",
      " product_category | Music                \n",
      " review_headline  | Awesome Soundtrack   \n",
      " review_body      | Yes, I love every... \n",
      " helpful_votes    | 14                   \n",
      " total_votes      | 15                   \n",
      " review_text      | Awesome Soundtrac... \n",
      " helpful_ratio    | 0.9333333333333333   \n",
      " helpful          | 1                    \n",
      "-RECORD 2--------------------------------\n",
      " product_id       | B00ZYBH6M0           \n",
      " star_rating      | 5                    \n",
      " product_category | Music                \n",
      " review_headline  | Miles Live in Tok... \n",
      " review_body      | This is not to be... \n",
      " helpful_votes    | 25                   \n",
      " total_votes      | 26                   \n",
      " review_text      | Miles Live in Tok... \n",
      " helpful_ratio    | 0.9615384615384616   \n",
      " helpful          | 1                    \n",
      "-RECORD 3--------------------------------\n",
      " product_id       | B010PD9F16           \n",
      " star_rating      | 5                    \n",
      " product_category | Music                \n",
      " review_headline  | The last title in... \n",
      " review_body      | The Disney legacy... \n",
      " helpful_votes    | 13                   \n",
      " total_votes      | 13                   \n",
      " review_text      | The last title in... \n",
      " helpful_ratio    | 1.0                  \n",
      " helpful          | 1                    \n",
      "-RECORD 4--------------------------------\n",
      " product_id       | B00WP8QDUQ           \n",
      " star_rating      | 1                    \n",
      " product_category | Music                \n",
      " review_headline  | One Star             \n",
      " review_body      | Didn't like at al... \n",
      " helpful_votes    | 1                    \n",
      " total_votes      | 12                   \n",
      " review_text      | One Star Didn't l... \n",
      " helpful_ratio    | 0.08333333333333333  \n",
      " helpful          | 0                    \n",
      "only showing top 5 rows\n",
      "\n"
     ]
    }
   ],
   "source": [
    "df.show(5, vertical = True)"
   ]
  },
  {
   "cell_type": "markdown",
   "metadata": {},
   "source": [
    "## USE Pipeline"
   ]
  },
  {
   "cell_type": "code",
   "execution_count": 19,
   "metadata": {},
   "outputs": [],
   "source": [
    "#USE (Universal Sentence Encoder) Sentence Embedding\n",
    "document = DocumentAssembler()\\\n",
    "    .setInputCol(\"review_text\")\\\n",
    "    .setOutputCol(\"document\")\n",
    "    \n",
    "embeddingsSentence = UniversalSentenceEncoder.load('tfhub_use_en_2.4.0_2.4_1587136330099') \\\n",
    " .setInputCols([\"document\"])\\\n",
    " .setOutputCol(\"sentence_embeddings\")\n",
    "\n",
    "classifierdl = ClassifierDLApproach()\\\n",
    "  .setInputCols([\"sentence_embeddings\"])\\\n",
    "  .setOutputCol(\"prediction\")\\\n",
    "  .setLabelColumn(\"helpful\")\\\n",
    "  .setMaxEpochs(5)\\\n",
    "  .setEnableOutputLogs(True)\n",
    "\n",
    "use_clf_pipeline = Pipeline(\n",
    "    stages = [\n",
    "        document,\n",
    "        embeddingsSentence,\n",
    "        classifierdl\n",
    "    ])"
   ]
  },
  {
   "cell_type": "code",
   "execution_count": 20,
   "metadata": {},
   "outputs": [],
   "source": [
    "train, test = df.randomSplit([0.8, 0.2], seed=12345)"
   ]
  },
  {
   "cell_type": "code",
   "execution_count": 21,
   "metadata": {},
   "outputs": [
    {
     "name": "stdout",
     "output_type": "stream",
     "text": [
      "Wall time: 3min 52s\n"
     ]
    }
   ],
   "source": [
    "%%time\n",
    "pipeline2 = use_clf_pipeline.fit(train)"
   ]
  },
  {
   "cell_type": "code",
   "execution_count": 22,
   "metadata": {},
   "outputs": [
    {
     "name": "stdout",
     "output_type": "stream",
     "text": [
      "Wall time: 93.8 ms\n"
     ]
    }
   ],
   "source": [
    "%%time\n",
    "final = pipeline2.transform(test)"
   ]
  },
  {
   "cell_type": "code",
   "execution_count": 23,
   "metadata": {},
   "outputs": [],
   "source": [
    "metrics = final.select('helpful','product_id',\"prediction.result\")"
   ]
  },
  {
   "cell_type": "markdown",
   "metadata": {},
   "source": [
    "## USE Results"
   ]
  },
  {
   "cell_type": "code",
   "execution_count": 24,
   "metadata": {
    "scrolled": true
   },
   "outputs": [
    {
     "name": "stdout",
     "output_type": "stream",
     "text": [
      "              precision    recall  f1-score   support\n",
      "\n",
      "           0       0.00      0.00      0.00     22655\n",
      "           1       0.72      1.00      0.84     58711\n",
      "\n",
      "    accuracy                           0.72     81366\n",
      "   macro avg       0.36      0.50      0.42     81366\n",
      "weighted avg       0.52      0.72      0.60     81366\n",
      "\n",
      "0.7215667477816287\n",
      "Wall time: 20.4 s\n"
     ]
    },
    {
     "name": "stderr",
     "output_type": "stream",
     "text": [
      "C:\\Users\\kenne\\anaconda3\\lib\\site-packages\\sklearn\\metrics\\_classification.py:1272: UndefinedMetricWarning: Precision and F-score are ill-defined and being set to 0.0 in labels with no predicted samples. Use `zero_division` parameter to control this behavior.\n",
      "  _warn_prf(average, modifier, msg_start, len(result))\n"
     ]
    }
   ],
   "source": [
    "%%time\n",
    "from sklearn.metrics import classification_report, accuracy_score\n",
    "metrics_final = metrics.toPandas()\n",
    "metrics_final['result'] = metrics_final['result'].apply(lambda x: x[0])\n",
    "metrics_final['result'] = metrics_final['result'].astype('int')\n",
    "\n",
    "print(classification_report(metrics_final.helpful, metrics_final.result))\n",
    "print(accuracy_score(metrics_final.helpful, metrics_final.result))"
   ]
  },
  {
   "cell_type": "markdown",
   "metadata": {},
   "source": [
    "## USE Inference"
   ]
  },
  {
   "cell_type": "code",
   "execution_count": 25,
   "metadata": {},
   "outputs": [
    {
     "data": {
      "text/plain": [
       "'1'"
      ]
     },
     "execution_count": 25,
     "metadata": {},
     "output_type": "execute_result"
    }
   ],
   "source": [
    "light_model = LightPipeline(pipeline2)\n",
    "#Using a review that was stated Helpful on Amazon\n",
    "text=\"The images are beautiful, though I wish there was a little bit of gentle camera movement. A slooow zoom in, out, or pan would be nice. The music was the best for meditation or relaxation out of all of the videos I tried here, so far.\"\n",
    "light_model.annotate(text)['prediction'][0]"
   ]
  },
  {
   "cell_type": "code",
   "execution_count": 26,
   "metadata": {},
   "outputs": [
    {
     "data": {
      "text/plain": [
       "'1'"
      ]
     },
     "execution_count": 26,
     "metadata": {},
     "output_type": "execute_result"
    }
   ],
   "source": [
    "#Using a review that has not beed stated Helpful on Amazon YET\n",
    "text=\"Was good\"\n",
    "light_model.annotate(text)['prediction'][0]"
   ]
  },
  {
   "cell_type": "code",
   "execution_count": 27,
   "metadata": {
    "scrolled": true
   },
   "outputs": [
    {
     "data": {
      "text/plain": [
       "'1'"
      ]
     },
     "execution_count": 27,
     "metadata": {},
     "output_type": "execute_result"
    }
   ],
   "source": [
    "#Using a review that has not beed stated Helpful on Amazon YET\n",
    "text=\"No complaints, was good, could be better, not gonna buy again\"\n",
    "light_model.annotate(text)['prediction'][0]"
   ]
  },
  {
   "cell_type": "markdown",
   "metadata": {},
   "source": [
    "## BERT_uncased Embedding Pipeline"
   ]
  },
  {
   "cell_type": "code",
   "execution_count": 28,
   "metadata": {},
   "outputs": [],
   "source": [
    "#BERT Sentence Embedding\n",
    "document = DocumentAssembler()\\\n",
    "    .setInputCol(\"review_text\")\\\n",
    "    .setOutputCol(\"document\")\n",
    "    \n",
    "bert_cmlm = BertSentenceEmbeddings.load('sent_bert_base_uncased_en_2.6.0_2.4_1598346203624')\\\n",
    ".setInputCols([\"document\"])\\\n",
    ".setOutputCol(\"sentence_embeddings\")\n",
    "\n",
    "classifierdl = ClassifierDLApproach()\\\n",
    "  .setInputCols([\"sentence_embeddings\"])\\\n",
    "  .setOutputCol(\"prediction\")\\\n",
    "  .setLabelColumn(\"helpful\")\\\n",
    "  .setMaxEpochs(5)\\\n",
    "  .setEnableOutputLogs(True)\n",
    "\n",
    "use_clf_pipeline = Pipeline(\n",
    "    stages = [\n",
    "        document,\n",
    "        embeddingsSentence,\n",
    "        classifierdl\n",
    "    ])"
   ]
  },
  {
   "cell_type": "code",
   "execution_count": 29,
   "metadata": {},
   "outputs": [
    {
     "name": "stdout",
     "output_type": "stream",
     "text": [
      "Wall time: 3min 52s\n"
     ]
    }
   ],
   "source": [
    "%%time\n",
    "pipeline2 = use_clf_pipeline.fit(train)"
   ]
  },
  {
   "cell_type": "code",
   "execution_count": 30,
   "metadata": {},
   "outputs": [
    {
     "name": "stdout",
     "output_type": "stream",
     "text": [
      "Wall time: 64.1 ms\n"
     ]
    }
   ],
   "source": [
    "%%time\n",
    "final = pipeline2.transform(test)"
   ]
  },
  {
   "cell_type": "code",
   "execution_count": 31,
   "metadata": {},
   "outputs": [],
   "source": [
    "metrics = final.select('helpful','product_id',\"prediction.result\")"
   ]
  },
  {
   "cell_type": "markdown",
   "metadata": {},
   "source": [
    "## BERT_uncased Embedding Results"
   ]
  },
  {
   "cell_type": "code",
   "execution_count": 32,
   "metadata": {},
   "outputs": [
    {
     "name": "stdout",
     "output_type": "stream",
     "text": [
      "              precision    recall  f1-score   support\n",
      "\n",
      "           0       0.73      0.69      0.71     22655\n",
      "           1       0.88      0.90      0.89     58711\n",
      "\n",
      "    accuracy                           0.84     81366\n",
      "   macro avg       0.81      0.80      0.80     81366\n",
      "weighted avg       0.84      0.84      0.84     81366\n",
      "\n",
      "0.8442592729149768\n",
      "Wall time: 18.6 s\n"
     ]
    }
   ],
   "source": [
    "%%time\n",
    "from sklearn.metrics import classification_report, accuracy_score\n",
    "metrics_final = metrics.toPandas()\n",
    "metrics_final['result'] = metrics_final['result'].apply(lambda x: x[0])\n",
    "metrics_final['result'] = metrics_final['result'].astype('int')\n",
    "\n",
    "print(classification_report(metrics_final.helpful, metrics_final.result))\n",
    "print(accuracy_score(metrics_final.helpful, metrics_final.result))"
   ]
  },
  {
   "cell_type": "markdown",
   "metadata": {},
   "source": [
    "## BERT Inference"
   ]
  },
  {
   "cell_type": "code",
   "execution_count": 33,
   "metadata": {},
   "outputs": [
    {
     "data": {
      "text/plain": [
       "'1'"
      ]
     },
     "execution_count": 33,
     "metadata": {},
     "output_type": "execute_result"
    }
   ],
   "source": [
    "light_model = LightPipeline(pipeline2)\n",
    "#Using a review that was stated Helpful on Amazon\n",
    "text=\"The images are beautiful, though I wish there was a little bit of gentle camera movement. A slooow zoom in, out, or pan would be nice. The music was the best for meditation or relaxation out of all of the videos I tried here, so far.\"\n",
    "light_model.annotate(text)['prediction'][0]"
   ]
  },
  {
   "cell_type": "code",
   "execution_count": 34,
   "metadata": {},
   "outputs": [
    {
     "data": {
      "text/plain": [
       "'0'"
      ]
     },
     "execution_count": 34,
     "metadata": {},
     "output_type": "execute_result"
    }
   ],
   "source": [
    "#Using a review that has not beed stated Helpful on Amazon YET\n",
    "text=\"Was good\"\n",
    "light_model.annotate(text)['prediction'][0]"
   ]
  },
  {
   "cell_type": "code",
   "execution_count": 35,
   "metadata": {
    "scrolled": true
   },
   "outputs": [
    {
     "data": {
      "text/plain": [
       "'0'"
      ]
     },
     "execution_count": 35,
     "metadata": {},
     "output_type": "execute_result"
    }
   ],
   "source": [
    "#Using a review that has not beed stated Helpful on Amazon YET\n",
    "text=\"No complaints, was good, could be better, not gonna buy again\"\n",
    "light_model.annotate(text)['prediction'][0]"
   ]
  }
 ],
 "metadata": {
  "kernelspec": {
   "display_name": "Python 3",
   "language": "python",
   "name": "python3"
  },
  "language_info": {
   "codemirror_mode": {
    "name": "ipython",
    "version": 3
   },
   "file_extension": ".py",
   "mimetype": "text/x-python",
   "name": "python",
   "nbconvert_exporter": "python",
   "pygments_lexer": "ipython3",
   "version": "3.7.6"
  }
 },
 "nbformat": 4,
 "nbformat_minor": 4
}
