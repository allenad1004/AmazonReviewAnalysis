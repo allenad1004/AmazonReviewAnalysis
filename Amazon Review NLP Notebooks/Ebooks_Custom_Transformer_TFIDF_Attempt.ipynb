{
 "cells": [
  {
   "cell_type": "markdown",
   "metadata": {},
   "source": [
    "### Code Cleaning"
   ]
  },
  {
   "cell_type": "code",
   "execution_count": 1,
   "metadata": {},
   "outputs": [],
   "source": [
    "from pyspark.sql import SparkSession\n",
    "from pyspark.sql import functions as F"
   ]
  },
  {
   "cell_type": "code",
   "execution_count": 2,
   "metadata": {},
   "outputs": [],
   "source": [
    "df = spark.read \\\n",
    "    .option(\"quote\", \"\\\"\")  \\\n",
    "    .option(\"escape\", \"\\\"\") \\\n",
    "    .option(\"ignoreLeadingWhiteSpace\",True) \\\n",
    "    .csv(\"/user/klaurens/project/project/amazon_reviews_us_Digital_Ebook_Purchase_v1_01.tsv\",inferSchema=True,header=True, sep='\\t' )"
   ]
  },
  {
   "cell_type": "code",
   "execution_count": 3,
   "metadata": {},
   "outputs": [
    {
     "name": "stdout",
     "output_type": "stream",
     "text": [
      "-RECORD 0---------------------------------------------------------------------------------------------------------------------------------------------\n",
      " marketplace       | US                                                                                                                               \n",
      " customer_id       | 33605939                                                                                                                         \n",
      " review_id         | RGYFDX8QXKEIR                                                                                                                    \n",
      " product_id        | B007KO2MLO                                                                                                                       \n",
      " product_parent    | 328837464                                                                                                                        \n",
      " product_title     | Big Maria                                                                                                                        \n",
      " product_category  | Digital_Ebook_Purchase                                                                                                           \n",
      " star_rating       | 4                                                                                                                                \n",
      " helpful_votes     | 0                                                                                                                                \n",
      " total_votes       | 0                                                                                                                                \n",
      " vine              | N                                                                                                                                \n",
      " verified_purchase | N                                                                                                                                \n",
      " review_headline   | Quirky                                                                                                                           \n",
      " review_body       | Elmore Leonard meets the cast of Sierra Madre. Just a quirky read that will make you want to keep trying no matter what happens. \n",
      " review_date       | 2013-09-09 00:00:00                                                                                                              \n",
      "only showing top 1 row\n",
      "\n"
     ]
    }
   ],
   "source": [
    "df.show(1, vertical = True, truncate = False)"
   ]
  },
  {
   "cell_type": "code",
   "execution_count": 4,
   "metadata": {},
   "outputs": [],
   "source": [
    "df = df.select('product_id', 'star_rating', 'product_category', 'review_headline', 'review_body', 'helpful_votes', 'total_votes')"
   ]
  },
  {
   "cell_type": "code",
   "execution_count": 5,
   "metadata": {},
   "outputs": [
    {
     "name": "stdout",
     "output_type": "stream",
     "text": [
      "-RECORD 0--------------------------------------------------------------------------------------------------------------------------------------------\n",
      " product_id       | B007KO2MLO                                                                                                                       \n",
      " star_rating      | 4                                                                                                                                \n",
      " product_category | Digital_Ebook_Purchase                                                                                                           \n",
      " review_headline  | Quirky                                                                                                                           \n",
      " review_body      | Elmore Leonard meets the cast of Sierra Madre. Just a quirky read that will make you want to keep trying no matter what happens. \n",
      " helpful_votes    | 0                                                                                                                                \n",
      " total_votes      | 0                                                                                                                                \n",
      "only showing top 1 row\n",
      "\n"
     ]
    }
   ],
   "source": [
    "df.show(1, vertical = True, truncate = False)"
   ]
  },
  {
   "cell_type": "code",
   "execution_count": 6,
   "metadata": {},
   "outputs": [
    {
     "data": {
      "text/plain": [
       "5101525"
      ]
     },
     "execution_count": 6,
     "metadata": {},
     "output_type": "execute_result"
    }
   ],
   "source": [
    "df.dropna().count()"
   ]
  },
  {
   "cell_type": "code",
   "execution_count": 7,
   "metadata": {},
   "outputs": [
    {
     "name": "stdout",
     "output_type": "stream",
     "text": [
      "+----------+-----------+----------------+---------------+-----------+-------------+-----------+\n",
      "|product_id|star_rating|product_category|review_headline|review_body|helpful_votes|total_votes|\n",
      "+----------+-----------+----------------+---------------+-----------+-------------+-----------+\n",
      "|         0|         17|              12|             60|        125|           17|         17|\n",
      "+----------+-----------+----------------+---------------+-----------+-------------+-----------+\n",
      "\n"
     ]
    }
   ],
   "source": [
    "from pyspark.sql.functions import col,isnan, when, count\n",
    "df.select([count(when(isnan(c) | col(c).isNull(), c)).alias(c) for c in df.columns]\n",
    "   ).show()"
   ]
  },
  {
   "cell_type": "code",
   "execution_count": 8,
   "metadata": {},
   "outputs": [
    {
     "name": "stdout",
     "output_type": "stream",
     "text": [
      "-RECORD 0----------------\n",
      " product_id       | 2    \n",
      " star_rating      | 17   \n",
      " product_category | 12   \n",
      " review_headline  | 5038 \n",
      " review_body      | 9632 \n",
      " helpful_votes    | 17   \n",
      " total_votes      | 17   \n",
      "\n"
     ]
    }
   ],
   "source": [
    "df2 = df.select([count(when(col(c).contains('None') | \\\n",
    "                            col(c).contains('NULL') | \\\n",
    "                            (col(c) == '' ) | \\\n",
    "                            col(c).isNull() | \\\n",
    "                            isnan(c), c \n",
    "                           )).alias(c)\n",
    "                    for c in df.columns])\n",
    "df2.count()\n",
    "df2.show(5, vertical = True)"
   ]
  },
  {
   "cell_type": "code",
   "execution_count": 9,
   "metadata": {},
   "outputs": [
    {
     "data": {
      "text/plain": [
       "196219"
      ]
     },
     "execution_count": 9,
     "metadata": {},
     "output_type": "execute_result"
    }
   ],
   "source": [
    "df = df.filter(col('total_votes') > 10)\n",
    "df.count()"
   ]
  },
  {
   "cell_type": "code",
   "execution_count": 10,
   "metadata": {},
   "outputs": [],
   "source": [
    "df = df.fillna(\"\", \"review_body\")\n",
    "df = df.fillna(\"\", \"review_headline\")"
   ]
  },
  {
   "cell_type": "code",
   "execution_count": 11,
   "metadata": {},
   "outputs": [
    {
     "name": "stdout",
     "output_type": "stream",
     "text": [
      "-RECORD 0------------------------------------------------------------------------------------------------------------------------------------------------------------------------------------------------------------------------------------------------------------------------------------------------------------------------------------------------------------------------------------------------------------------------------------------------------------------------------------------------------------------------------------------------------------------------------------------------------------------------------------------------------------------------------------------------------------------------------------------------------------------------------------------------------------------------------------------------\n",
      " product_id       | B006NG0GXQ                                                                                                                                                                                                                                                                                                                                                                                                                                                                                                                                                                                                                                                                                                                                                                                                                           \n",
      " star_rating      | 1                                                                                                                                                                                                                                                                                                                                                                                                                                                                                                                                                                                                                                                                                                                                                                                                                                    \n",
      " product_category | Digital_Ebook_Purchase                                                                                                                                                                                                                                                                                                                                                                                                                                                                                                                                                                                                                                                                                                                                                                                                               \n",
      " review_headline  | Completely absurd                                                                                                                                                                                                                                                                                                                                                                                                                                                                                                                                                                                                                                                                                                                                                                                                                    \n",
      " review_body      | From the time that Celine travels back until the end she becomes a loathsome character.  She is weak and written to be quite pathetic.  How she can so quickly fall in love with a cruel man (and he is cruel and rude until about 3/4 of the way through) is beyond me.  I was rooting for the villain to do away with them both.  I read some of the dialogue between the two love interests to my husband and we laughed at its absurdity.<br /><br />The writing style was very good but the plot and characters were not endearing in any way.  I would have rather had the female character just play along, quietly until she could return to her time instead of simpering and desperate.  This, to me, was not a romance but a twisted Stockholm syndrome fiction.<br /><br />Spend your money elsewhere.                   \n",
      " helpful_votes    | 36                                                                                                                                                                                                                                                                                                                                                                                                                                                                                                                                                                                                                                                                                                                                                                                                                                   \n",
      " total_votes      | 47                                                                                                                                                                                                                                                                                                                                                                                                                                                                                                                                                                                                                                                                                                                                                                                                                                   \n",
      " review_text      | Completely absurd From the time that Celine travels back until the end she becomes a loathsome character.  She is weak and written to be quite pathetic.  How she can so quickly fall in love with a cruel man (and he is cruel and rude until about 3/4 of the way through) is beyond me.  I was rooting for the villain to do away with them both.  I read some of the dialogue between the two love interests to my husband and we laughed at its absurdity.<br /><br />The writing style was very good but the plot and characters were not endearing in any way.  I would have rather had the female character just play along, quietly until she could return to her time instead of simpering and desperate.  This, to me, was not a romance but a twisted Stockholm syndrome fiction.<br /><br />Spend your money elsewhere. \n",
      "only showing top 1 row\n",
      "\n"
     ]
    }
   ],
   "source": [
    "df = df.withColumn('review_text', F.concat('review_headline', F.lit(\" \"), 'review_body'))\n",
    "df.show(1, vertical = True, truncate = False)"
   ]
  },
  {
   "cell_type": "code",
   "execution_count": 12,
   "metadata": {},
   "outputs": [
    {
     "name": "stdout",
     "output_type": "stream",
     "text": [
      "(0 rows)\n",
      "\n"
     ]
    }
   ],
   "source": [
    "df.filter((col(\"review_text\").isNull()) | ( col(\"review_text\") == \"\")).show(1, vertical = True, truncate = False)"
   ]
  },
  {
   "cell_type": "code",
   "execution_count": 13,
   "metadata": {},
   "outputs": [
    {
     "name": "stdout",
     "output_type": "stream",
     "text": [
      "-RECORD 0---------------\n",
      " product_id       | 0   \n",
      " star_rating      | 0   \n",
      " product_category | 0   \n",
      " review_headline  | 1   \n",
      " review_body      | 4   \n",
      " helpful_votes    | 0   \n",
      " total_votes      | 0   \n",
      " review_text      | 0   \n",
      "\n"
     ]
    }
   ],
   "source": [
    "df.select([count(when((col(c) == '' ) | \\\n",
    "                            col(c).isNull() | \\\n",
    "                            isnan(c), c \n",
    "                           )).alias(c)\n",
    "                    for c in df.columns]).show(5, vertical = True)"
   ]
  },
  {
   "cell_type": "code",
   "execution_count": 14,
   "metadata": {},
   "outputs": [
    {
     "name": "stdout",
     "output_type": "stream",
     "text": [
      "-RECORD 0------------------------------------------------------------------------------------------------------------------------------------------------------------------------------------------------------------------------------------------------------------------------------------------------------------------------------------------------------------------------------------------------------------------------------------------------------------------------------------------------------------------------------------------------------------------------------------------------------------------------------------------------------------------------------------------------------------------------------------------------------------------------------------------------------------------------------------------------\n",
      " product_id       | B006NG0GXQ                                                                                                                                                                                                                                                                                                                                                                                                                                                                                                                                                                                                                                                                                                                                                                                                                           \n",
      " star_rating      | 1                                                                                                                                                                                                                                                                                                                                                                                                                                                                                                                                                                                                                                                                                                                                                                                                                                    \n",
      " product_category | Digital_Ebook_Purchase                                                                                                                                                                                                                                                                                                                                                                                                                                                                                                                                                                                                                                                                                                                                                                                                               \n",
      " review_headline  | Completely absurd                                                                                                                                                                                                                                                                                                                                                                                                                                                                                                                                                                                                                                                                                                                                                                                                                    \n",
      " review_body      | From the time that Celine travels back until the end she becomes a loathsome character.  She is weak and written to be quite pathetic.  How she can so quickly fall in love with a cruel man (and he is cruel and rude until about 3/4 of the way through) is beyond me.  I was rooting for the villain to do away with them both.  I read some of the dialogue between the two love interests to my husband and we laughed at its absurdity.<br /><br />The writing style was very good but the plot and characters were not endearing in any way.  I would have rather had the female character just play along, quietly until she could return to her time instead of simpering and desperate.  This, to me, was not a romance but a twisted Stockholm syndrome fiction.<br /><br />Spend your money elsewhere.                   \n",
      " helpful_votes    | 36                                                                                                                                                                                                                                                                                                                                                                                                                                                                                                                                                                                                                                                                                                                                                                                                                                   \n",
      " total_votes      | 47                                                                                                                                                                                                                                                                                                                                                                                                                                                                                                                                                                                                                                                                                                                                                                                                                                   \n",
      " review_text      | Completely absurd From the time that Celine travels back until the end she becomes a loathsome character.  She is weak and written to be quite pathetic.  How she can so quickly fall in love with a cruel man (and he is cruel and rude until about 3/4 of the way through) is beyond me.  I was rooting for the villain to do away with them both.  I read some of the dialogue between the two love interests to my husband and we laughed at its absurdity.<br /><br />The writing style was very good but the plot and characters were not endearing in any way.  I would have rather had the female character just play along, quietly until she could return to her time instead of simpering and desperate.  This, to me, was not a romance but a twisted Stockholm syndrome fiction.<br /><br />Spend your money elsewhere. \n",
      " helpful_ratio    | 0.7659574468085106                                                                                                                                                                                                                                                                                                                                                                                                                                                                                                                                                                                                                                                                                                                                                                                                                   \n",
      "only showing top 1 row\n",
      "\n"
     ]
    }
   ],
   "source": [
    "df = df.withColumn('helpful_ratio', F.col('helpful_votes') / F.col('total_votes'))\n",
    "df.show(1, vertical = True, truncate = False)"
   ]
  },
  {
   "cell_type": "code",
   "execution_count": 15,
   "metadata": {},
   "outputs": [
    {
     "data": {
      "text/plain": [
       "0"
      ]
     },
     "execution_count": 15,
     "metadata": {},
     "output_type": "execute_result"
    }
   ],
   "source": [
    "df.filter(col('helpful_ratio') < 0).count()"
   ]
  },
  {
   "cell_type": "code",
   "execution_count": 16,
   "metadata": {},
   "outputs": [],
   "source": [
    "df = df.withColumn('helpful', when(col(\"helpful_ratio\") < 0.5, 0).otherwise(1))"
   ]
  },
  {
   "cell_type": "code",
   "execution_count": 17,
   "metadata": {
    "scrolled": true
   },
   "outputs": [
    {
     "name": "stdout",
     "output_type": "stream",
     "text": [
      "-RECORD 0--------------------------------\n",
      " product_id       | B006NG0GXQ           \n",
      " star_rating      | 1                    \n",
      " product_category | Digital_Ebook_Pur... \n",
      " review_headline  | Completely absurd    \n",
      " review_body      | From the time tha... \n",
      " helpful_votes    | 36                   \n",
      " total_votes      | 47                   \n",
      " review_text      | Completely absurd... \n",
      " helpful_ratio    | 0.7659574468085106   \n",
      " helpful          | 1                    \n",
      "-RECORD 1--------------------------------\n",
      " product_id       | B0078T6YHY           \n",
      " star_rating      | 1                    \n",
      " product_category | Digital_Ebook_Pur... \n",
      " review_headline  | No thanks            \n",
      " review_body      | This work should ... \n",
      " helpful_votes    | 16                   \n",
      " total_votes      | 26                   \n",
      " review_text      | No thanks This wo... \n",
      " helpful_ratio    | 0.6153846153846154   \n",
      " helpful          | 1                    \n",
      "-RECORD 2--------------------------------\n",
      " product_id       | B00CKXCNH8           \n",
      " star_rating      | 4                    \n",
      " product_category | Digital_Ebook_Pur... \n",
      " review_headline  | Fell in love with... \n",
      " review_body      | I like books that... \n",
      " helpful_votes    | 12                   \n",
      " total_votes      | 12                   \n",
      " review_text      | Fell in love with... \n",
      " helpful_ratio    | 1.0                  \n",
      " helpful          | 1                    \n",
      "-RECORD 3--------------------------------\n",
      " product_id       | B00A25FAYO           \n",
      " star_rating      | 1                    \n",
      " product_category | Digital_Ebook_Pur... \n",
      " review_headline  | A Big Disappointment \n",
      " review_body      | I was disappointe... \n",
      " helpful_votes    | 8                    \n",
      " total_votes      | 11                   \n",
      " review_text      | A Big Disappointm... \n",
      " helpful_ratio    | 0.7272727272727273   \n",
      " helpful          | 1                    \n",
      "-RECORD 4--------------------------------\n",
      " product_id       | B00F225YK2           \n",
      " star_rating      | 5                    \n",
      " product_category | Digital_Ebook_Pur... \n",
      " review_headline  | Holy Hotness, Bla... \n",
      " review_body      | Another Fave of 2... \n",
      " helpful_votes    | 28                   \n",
      " total_votes      | 36                   \n",
      " review_text      | Holy Hotness, Bla... \n",
      " helpful_ratio    | 0.7777777777777778   \n",
      " helpful          | 1                    \n",
      "only showing top 5 rows\n",
      "\n"
     ]
    }
   ],
   "source": [
    "df.show(5, vertical = True)"
   ]
  },
  {
   "cell_type": "markdown",
   "metadata": {},
   "source": [
    "### NLP Modeling"
   ]
  },
  {
   "cell_type": "code",
   "execution_count": 18,
   "metadata": {},
   "outputs": [],
   "source": [
    "from pyspark.sql import SparkSession\n",
    "from pyspark.sql import functions as F\n",
    "from pyspark.sql.functions import lower, col\n",
    "from pyspark.sql.types import ArrayType, StringType\n",
    "from pyspark.ml.feature import HashingTF, IDF, Tokenizer\n",
    "from nltk.stem.snowball import SnowballStemmer\n",
    "from nltk.stem import WordNetLemmatizer\n",
    "from pyspark.ml.feature import StopWordsRemover\n",
    "\n",
    "import matplotlib.pyplot as plt\n",
    "%matplotlib inline"
   ]
  },
  {
   "cell_type": "code",
   "execution_count": 19,
   "metadata": {},
   "outputs": [],
   "source": [
    "df_clean = df"
   ]
  },
  {
   "cell_type": "code",
   "execution_count": 20,
   "metadata": {},
   "outputs": [
    {
     "name": "stdout",
     "output_type": "stream",
     "text": [
      "root\n",
      " |-- product_id: string (nullable = true)\n",
      " |-- star_rating: integer (nullable = true)\n",
      " |-- product_category: string (nullable = true)\n",
      " |-- review_headline: string (nullable = false)\n",
      " |-- review_body: string (nullable = false)\n",
      " |-- helpful_votes: integer (nullable = true)\n",
      " |-- total_votes: integer (nullable = true)\n",
      " |-- review_text: string (nullable = false)\n",
      " |-- helpful_ratio: double (nullable = true)\n",
      " |-- helpful: integer (nullable = false)\n",
      "\n"
     ]
    }
   ],
   "source": [
    "df_clean.printSchema()"
   ]
  },
  {
   "cell_type": "code",
   "execution_count": 21,
   "metadata": {
    "scrolled": true
   },
   "outputs": [
    {
     "name": "stdout",
     "output_type": "stream",
     "text": [
      "+-------+\n",
      "|helpful|\n",
      "+-------+\n",
      "|      1|\n",
      "|      0|\n",
      "+-------+\n",
      "\n"
     ]
    }
   ],
   "source": [
    "df_clean.select(\"helpful\").distinct().show()"
   ]
  },
  {
   "cell_type": "markdown",
   "metadata": {},
   "source": [
    "### Cleaning the Review_Text"
   ]
  },
  {
   "cell_type": "code",
   "execution_count": 22,
   "metadata": {},
   "outputs": [],
   "source": [
    "#Making the review text to all lower case\n",
    "df_clean=df_clean.withColumn('review_text_l', F.lower(F.col('review_text')))"
   ]
  },
  {
   "cell_type": "code",
   "execution_count": 23,
   "metadata": {},
   "outputs": [
    {
     "name": "stdout",
     "output_type": "stream",
     "text": [
      "-RECORD 0-----------------------------\n",
      " review_text_l | completely absurd... \n",
      "-RECORD 1-----------------------------\n",
      " review_text_l | no thanks this wo... \n",
      "-RECORD 2-----------------------------\n",
      " review_text_l | fell in love with... \n",
      "-RECORD 3-----------------------------\n",
      " review_text_l | a big disappointm... \n",
      "-RECORD 4-----------------------------\n",
      " review_text_l | holy hotness, bla... \n",
      "only showing top 5 rows\n",
      "\n"
     ]
    }
   ],
   "source": [
    "df_clean.select(df_clean.columns[10]).show(5, vertical = True)"
   ]
  },
  {
   "cell_type": "code",
   "execution_count": 24,
   "metadata": {},
   "outputs": [],
   "source": [
    "#Removing all of the additional punctuations\n",
    "df_clean=df_clean.withColumn('review_text_l', F.regexp_replace('review_text_l', '\\'', ''))\n",
    "                                                          \n",
    "df_clean=df_clean.withColumn('review_text_l', F.regexp_replace('review_text_l', '\\\\n|[^\\w]', ' ')).withColumn('review_text_l', F.regexp_replace('review_text_l', '\\s+', ' '))"
   ]
  },
  {
   "cell_type": "code",
   "execution_count": 25,
   "metadata": {},
   "outputs": [
    {
     "name": "stdout",
     "output_type": "stream",
     "text": [
      "-RECORD 0---------------------------------------------------------------------------------------------------------------------------------------------------------------------------------------------------------------------------------------------------------------------------------------------------------------------------------------------------------------------------------------------------------------------------------------------------------------------------------------------------------------------------------------------------------------------------------------------------------------------------------------------------------------------------------------------------------------------------------------------------------------------------------------------------------------------------------------------------------------------------------------------------------------------------------------------------------------------------------------------------------------------------------------------------------------------------------------------------------------------------------------------------------------------------------------------------------------------------------------------------------------------------------------------------------------------------------------------------------------------------------------------------------------------------------------------------------------------------------------------------------------------------------------------------------------------------------------------------------------------------------------------------------------------------------------------------------------------------------------------------------------------------------------------------------------------------------------------------------------------------------------------------------------------------------------------------------------------------------------------------------------------------------------------------------------------------------------------------------------------------------------------------------------------------------------------------------------------------------------------------------------------------------------------------------------------------------------------------------------------------------------------------------------------------------------------------------------------------------------------------------------------------------------------------------------------------------------------------------------------------------------------------------------------------------------------------------------------------------------------------------------------------------------------------------------------------------------------------------------------------------------------------------------------------------------------------------------------------------------------------------------------------------------------------------------------------------------------------------------------------------------------------------------------------------------------------------------------------------------------------------------------------------------------------------------------------------------------------------------------------------------------------------------------------------------------------------------------------------------------------------------------------------------------------------------------------------------------------------------------------------------------------------------------------------------------------------------------------------------------------------------------------------------------------------------------------------------------------------------------------------------------------------------------------------------------------------------------------------------------------------------------------------------------------------------------------------------------------------------------------------------------------------------------------------------------------------------------------------------------------------------------------------------------------------------------------------------------------------------------------------------------------------------------------------------------------------------------------------------------------------------------------------------------------------------------------------------------------------------------------------------------------------------------------------------------------------------------------------------------------------------------------------------------------------------------------------------------------------------------------------------------------------------------------------------------------------------------------------------------------------------------------------------------------------------------------------------------------------------------------------------------------------------------------------------------------------------------------------------------------------------------------------------------------------------------------------------------------------------------------------------------------------------------------------------------------------------------------------------------------------------------------------------------------------------------------------------------------------------------------------------------------------------------------------------------------------------------------------------------------------------------------------------------------------------------------------------------------------------\n",
      " review_text_l | completely absurd from the time that celine travels back until the end she becomes a loathsome character she is weak and written to be quite pathetic how she can so quickly fall in love with a cruel man and he is cruel and rude until about 3 4 of the way through is beyond me i was rooting for the villain to do away with them both i read some of the dialogue between the two love interests to my husband and we laughed at its absurdity br br the writing style was very good but the plot and characters were not endearing in any way i would have rather had the female character just play along quietly until she could return to her time instead of simpering and desperate this to me was not a romance but a twisted stockholm syndrome fiction br br spend your money elsewhere                                                                                                                                                                                                                                                                                                                                                                                                                                                                                                                                                                                                                                                                                                                                                                                                                                                                                                                                                                                                                                                                                                                                                                                                                                                                                                                                                                                                                                                                                                                                                                                                                                                                                                                                                                                                                                                                                                                                                                                                                                                                                                                                                                                                                                                                                                                                                                                                                                                                                                                                                                                                                                                                                                                                                                                                                                                                                                                                                                                                                                                                                                                                                                                                                                                                                                                                                                                                                                                                                                                                                                                                                                                                                                                                                                                                                                                                                                                                                                                                                                                                                                                                                                                                                                                                                                                                                                                                                                                                                                                                                                                                                                                                                                                                                                                                                                                                                                                                                                                                                                                 \n",
      "-RECORD 1---------------------------------------------------------------------------------------------------------------------------------------------------------------------------------------------------------------------------------------------------------------------------------------------------------------------------------------------------------------------------------------------------------------------------------------------------------------------------------------------------------------------------------------------------------------------------------------------------------------------------------------------------------------------------------------------------------------------------------------------------------------------------------------------------------------------------------------------------------------------------------------------------------------------------------------------------------------------------------------------------------------------------------------------------------------------------------------------------------------------------------------------------------------------------------------------------------------------------------------------------------------------------------------------------------------------------------------------------------------------------------------------------------------------------------------------------------------------------------------------------------------------------------------------------------------------------------------------------------------------------------------------------------------------------------------------------------------------------------------------------------------------------------------------------------------------------------------------------------------------------------------------------------------------------------------------------------------------------------------------------------------------------------------------------------------------------------------------------------------------------------------------------------------------------------------------------------------------------------------------------------------------------------------------------------------------------------------------------------------------------------------------------------------------------------------------------------------------------------------------------------------------------------------------------------------------------------------------------------------------------------------------------------------------------------------------------------------------------------------------------------------------------------------------------------------------------------------------------------------------------------------------------------------------------------------------------------------------------------------------------------------------------------------------------------------------------------------------------------------------------------------------------------------------------------------------------------------------------------------------------------------------------------------------------------------------------------------------------------------------------------------------------------------------------------------------------------------------------------------------------------------------------------------------------------------------------------------------------------------------------------------------------------------------------------------------------------------------------------------------------------------------------------------------------------------------------------------------------------------------------------------------------------------------------------------------------------------------------------------------------------------------------------------------------------------------------------------------------------------------------------------------------------------------------------------------------------------------------------------------------------------------------------------------------------------------------------------------------------------------------------------------------------------------------------------------------------------------------------------------------------------------------------------------------------------------------------------------------------------------------------------------------------------------------------------------------------------------------------------------------------------------------------------------------------------------------------------------------------------------------------------------------------------------------------------------------------------------------------------------------------------------------------------------------------------------------------------------------------------------------------------------------------------------------------------------------------------------------------------------------------------------------------------------------------------------------------------------------------------------------------------------------------------------------------------------------------------------------------------------------------------------------------------------------------------------------------------------------------------------------------------------------------------------------------------------------------------------------------------------------------------------------------------------------------------------------------------------------------------\n",
      " review_text_l | no thanks this work should not be put in the category that it is put into it is not clean and i wish there were better filters or standards no thanks                                                                                                                                                                                                                                                                                                                                                                                                                                                                                                                                                                                                                                                                                                                                                                                                                                                                                                                                                                                                                                                                                                                                                                                                                                                                                                                                                                                                                                                                                                                                                                                                                                                                                                                                                                                                                                                                                                                                                                                                                                                                                                                                                                                                                                                                                                                                                                                                                                                                                                                                                                                                                                                                                                                                                                                                                                                                                                                                                                                                                                                                                                                                                                                                                                                                                                                                                                                                                                                                                                                                                                                                                                                                                                                                                                                                                                                                                                                                                                                                                                                                                                                                                                                                                                                                                                                                                                                                                                                                                                                                                                                                                                                                                                                                                                                                                                                                                                                                                                                                                                                                                                                                                                                                                                                                                                                                                                                                                                                                                                                                                                                                                                                                                                  \n",
      "-RECORD 2---------------------------------------------------------------------------------------------------------------------------------------------------------------------------------------------------------------------------------------------------------------------------------------------------------------------------------------------------------------------------------------------------------------------------------------------------------------------------------------------------------------------------------------------------------------------------------------------------------------------------------------------------------------------------------------------------------------------------------------------------------------------------------------------------------------------------------------------------------------------------------------------------------------------------------------------------------------------------------------------------------------------------------------------------------------------------------------------------------------------------------------------------------------------------------------------------------------------------------------------------------------------------------------------------------------------------------------------------------------------------------------------------------------------------------------------------------------------------------------------------------------------------------------------------------------------------------------------------------------------------------------------------------------------------------------------------------------------------------------------------------------------------------------------------------------------------------------------------------------------------------------------------------------------------------------------------------------------------------------------------------------------------------------------------------------------------------------------------------------------------------------------------------------------------------------------------------------------------------------------------------------------------------------------------------------------------------------------------------------------------------------------------------------------------------------------------------------------------------------------------------------------------------------------------------------------------------------------------------------------------------------------------------------------------------------------------------------------------------------------------------------------------------------------------------------------------------------------------------------------------------------------------------------------------------------------------------------------------------------------------------------------------------------------------------------------------------------------------------------------------------------------------------------------------------------------------------------------------------------------------------------------------------------------------------------------------------------------------------------------------------------------------------------------------------------------------------------------------------------------------------------------------------------------------------------------------------------------------------------------------------------------------------------------------------------------------------------------------------------------------------------------------------------------------------------------------------------------------------------------------------------------------------------------------------------------------------------------------------------------------------------------------------------------------------------------------------------------------------------------------------------------------------------------------------------------------------------------------------------------------------------------------------------------------------------------------------------------------------------------------------------------------------------------------------------------------------------------------------------------------------------------------------------------------------------------------------------------------------------------------------------------------------------------------------------------------------------------------------------------------------------------------------------------------------------------------------------------------------------------------------------------------------------------------------------------------------------------------------------------------------------------------------------------------------------------------------------------------------------------------------------------------------------------------------------------------------------------------------------------------------------------------------------------------------------------------------------------------------------------------------------------------------------------------------------------------------------------------------------------------------------------------------------------------------------------------------------------------------------------------------------------------------------------------------------------------------------------------------------------------------------------------------------------------------------------------------------------------------------\n",
      " review_text_l | fell in love with the family i like books that take you up and put down in the middle of the family making you feel you are living in their time and place i was not reading their story i was living in the middle of their lives                                                                                                                                                                                                                                                                                                                                                                                                                                                                                                                                                                                                                                                                                                                                                                                                                                                                                                                                                                                                                                                                                                                                                                                                                                                                                                                                                                                                                                                                                                                                                                                                                                                                                                                                                                                                                                                                                                                                                                                                                                                                                                                                                                                                                                                                                                                                                                                                                                                                                                                                                                                                                                                                                                                                                                                                                                                                                                                                                                                                                                                                                                                                                                                                                                                                                                                                                                                                                                                                                                                                                                                                                                                                                                                                                                                                                                                                                                                                                                                                                                                                                                                                                                                                                                                                                                                                                                                                                                                                                                                                                                                                                                                                                                                                                                                                                                                                                                                                                                                                                                                                                                                                                                                                                                                                                                                                                                                                                                                                                                                                                                                                                     \n",
      "-RECORD 3---------------------------------------------------------------------------------------------------------------------------------------------------------------------------------------------------------------------------------------------------------------------------------------------------------------------------------------------------------------------------------------------------------------------------------------------------------------------------------------------------------------------------------------------------------------------------------------------------------------------------------------------------------------------------------------------------------------------------------------------------------------------------------------------------------------------------------------------------------------------------------------------------------------------------------------------------------------------------------------------------------------------------------------------------------------------------------------------------------------------------------------------------------------------------------------------------------------------------------------------------------------------------------------------------------------------------------------------------------------------------------------------------------------------------------------------------------------------------------------------------------------------------------------------------------------------------------------------------------------------------------------------------------------------------------------------------------------------------------------------------------------------------------------------------------------------------------------------------------------------------------------------------------------------------------------------------------------------------------------------------------------------------------------------------------------------------------------------------------------------------------------------------------------------------------------------------------------------------------------------------------------------------------------------------------------------------------------------------------------------------------------------------------------------------------------------------------------------------------------------------------------------------------------------------------------------------------------------------------------------------------------------------------------------------------------------------------------------------------------------------------------------------------------------------------------------------------------------------------------------------------------------------------------------------------------------------------------------------------------------------------------------------------------------------------------------------------------------------------------------------------------------------------------------------------------------------------------------------------------------------------------------------------------------------------------------------------------------------------------------------------------------------------------------------------------------------------------------------------------------------------------------------------------------------------------------------------------------------------------------------------------------------------------------------------------------------------------------------------------------------------------------------------------------------------------------------------------------------------------------------------------------------------------------------------------------------------------------------------------------------------------------------------------------------------------------------------------------------------------------------------------------------------------------------------------------------------------------------------------------------------------------------------------------------------------------------------------------------------------------------------------------------------------------------------------------------------------------------------------------------------------------------------------------------------------------------------------------------------------------------------------------------------------------------------------------------------------------------------------------------------------------------------------------------------------------------------------------------------------------------------------------------------------------------------------------------------------------------------------------------------------------------------------------------------------------------------------------------------------------------------------------------------------------------------------------------------------------------------------------------------------------------------------------------------------------------------------------------------------------------------------------------------------------------------------------------------------------------------------------------------------------------------------------------------------------------------------------------------------------------------------------------------------------------------------------------------------------------------------------------------------------------------------------------------------------------------------------------------------\n",
      " review_text_l | a big disappointment i was disappointed in this book almost from the first page shirley jones was an actress that i admired from afar until i read about her choices in life to begin the book isnt well written jones frequently repeats herself her sentence structure lacks clarity and her use of personal pronouns is at times confusing i could however forgive these distractions after all shes an actress and singer not a writer but she should have made use of a good editor or ghost writer that said what i found most unappealing were her vivid descriptions of her sexual mores and lascivious forays with jack cassidy including a 3 way event not only does she make clear that mister cassidy was very well endowed but she also tells us that his son was even bigger cassidy as everyone knew was an unrelenting cheat and adulterer but this didnt seem to bother jones much at least not enough to stop loving him or to leave him for many years the jones cassidy family were dysfunction because it seems that neither jones nor cassidy did what caring parents are supposed to do near the end of the book jones repeatedly attempts to justify her marriage to marty ingels as she has been doing for more than 30 years jones claims she loved cassidy and still does and that she loves ingels both men as she describes them have serious flaws that she excuses and forgives out of hand unfortunately she isnt a very sophisticated women coming from a small town in pennsylvania i know that tell all autobiographies sell books but i think jones discredits herself in this missive an example of this is at the end of the book she proudly boasts in some detail of still masturbating regularly at 80 years of age as miss jones warns the reader early in her book she is not the quaint innocent young lady she flawlessly portrayed in her early films and thats just too bad                                                                                                                                                                                                                                                                                                                                                                                                                                                                                                                                                                                                                                                                                                                                                                                                                                                                                                                                                                                                                                                                                                                                                                                                                                                                                                                                                                                                                                                                                                                                                                                                                                                                                                                                                                                                                                                                                                                                                                                                                                                                                                                                                                                                                                                                                                                                                                                                                                                                                                                                                                                                                                                                                                                                                                                                                                                                                                                                                                                                                                                                                                                                                                                                                                                                                                                                                                                                                                                                                                                                                                                                                                                                                                                                                                                                                                                                                                                             \n",
      "-RECORD 4---------------------------------------------------------------------------------------------------------------------------------------------------------------------------------------------------------------------------------------------------------------------------------------------------------------------------------------------------------------------------------------------------------------------------------------------------------------------------------------------------------------------------------------------------------------------------------------------------------------------------------------------------------------------------------------------------------------------------------------------------------------------------------------------------------------------------------------------------------------------------------------------------------------------------------------------------------------------------------------------------------------------------------------------------------------------------------------------------------------------------------------------------------------------------------------------------------------------------------------------------------------------------------------------------------------------------------------------------------------------------------------------------------------------------------------------------------------------------------------------------------------------------------------------------------------------------------------------------------------------------------------------------------------------------------------------------------------------------------------------------------------------------------------------------------------------------------------------------------------------------------------------------------------------------------------------------------------------------------------------------------------------------------------------------------------------------------------------------------------------------------------------------------------------------------------------------------------------------------------------------------------------------------------------------------------------------------------------------------------------------------------------------------------------------------------------------------------------------------------------------------------------------------------------------------------------------------------------------------------------------------------------------------------------------------------------------------------------------------------------------------------------------------------------------------------------------------------------------------------------------------------------------------------------------------------------------------------------------------------------------------------------------------------------------------------------------------------------------------------------------------------------------------------------------------------------------------------------------------------------------------------------------------------------------------------------------------------------------------------------------------------------------------------------------------------------------------------------------------------------------------------------------------------------------------------------------------------------------------------------------------------------------------------------------------------------------------------------------------------------------------------------------------------------------------------------------------------------------------------------------------------------------------------------------------------------------------------------------------------------------------------------------------------------------------------------------------------------------------------------------------------------------------------------------------------------------------------------------------------------------------------------------------------------------------------------------------------------------------------------------------------------------------------------------------------------------------------------------------------------------------------------------------------------------------------------------------------------------------------------------------------------------------------------------------------------------------------------------------------------------------------------------------------------------------------------------------------------------------------------------------------------------------------------------------------------------------------------------------------------------------------------------------------------------------------------------------------------------------------------------------------------------------------------------------------------------------------------------------------------------------------------------------------------------------------------------------------------------------------------------------------------------------------------------------------------------------------------------------------------------------------------------------------------------------------------------------------------------------------------------------------------------------------------------------------------------------------------------------------------------------------------------------------------------------------------------------------------------------------\n",
      " review_text_l | holy hotness blasphemy desires ilsa another fave of 2013 lt 3 lt 3 br br ive been totally drawn to this story since the day i watched the trailer and the freaking gorgeous cover also had me gaga for this book so once i finally had it at my wee little fingertips i devoured it i could not stop reading i needed to satiate my hunger for all things nora blakely and leo tate too br br nora nora nora girl youve gone and rocked my world ive never hoped for a character to come out on top as i did nora shes the epitome of perfection beauty and brains she has the world at her fingertips and little does she know it men within arms reach she may have been fed by the silver spoon but it wasnt always skittles rainbows and fluffy unicorns nope life has been anything but wonderful for nora basically she was thrown to the wolves and by wolves i mean her wonderful family they are wolves in sheeps clothing other than the wolves i was completely intrigued with noras approach on life she is ready to let go of the good girl persona and step into the world of carelessness fun partying and god knows what else she may walk on the wild side but sometimes life throws you a gazillion curve balls when you least expect it to enter leo tate baby br br dear goodness leo had me wrapped around his pinky finger the moment he waltzed into my life not only does he have stunningly good looks he has bad boy written all over him so yeh hes super sexy and he also shines bright like a diamond in my eyes he is a bad boy in every which way but holy hell he is also one of the kindest men on the planet oh did i mention he is also a freaking delicious rocker man yeh he is he literally will boogie woogie his way into your heart as much as he is kind and beautiful he is totally off limits to any woman under the age 25 but little does he know his world is gonna tilt on its axis when nora blakely not so graciously enters his life br br i need more sebastians and milas in my life these two are the very bestest friends ever ever ever i loved them to pieces they are the type of friends that would bend over backwards to fulfill any request to make nora happy they love her completely theyre her rock when she needs them and they help keep her sane and somewhat smart when decision making seriously mila and seb complete me they helped nora spread her wings so she could to learn to fly br br wanna talk angst well ok i didnt know what to expect in the angst dept but damn it was off the charts i kept waiting for it to stop but it didnt not once the angst first begins the second nora and leo meet and then it snowballs from there their sexual chemistry is angsty too hot damn i could talk for days about the desires and want that was flaming but it would get boring so you just need to know it had me at hello i loved every second of their angst chemistry factor br br sooooo i went into this book thinking things were going to be hunky dory and all will be right in the world well i was in for a surprise all my first thoughts about this book flew out the window they were then replaced with wth moments and swoony ones too for this being a debut book by author ilsa madden mills she hit the ball out of the park she wrote a story full of hope dreams love heartache and chances if youre looking for a book to eat up then this is the one for you i could not put this book down i am head over heels in love with it and i am so eager to continue reading this series author ilsa madden mills turns heartache into extreme contentment and happiness your heart will be overjoyed with love and all things leo and nora so go use that lovely little one click finger and purchase your copy of very bad things right this minute once youve done that hold onto your panties youre in for one helluva ride peeps ns and milas in my life these two are the very bestest friends ever ever ever i loved them to pieces they are the type of friends that would bend over backwards to fulfill any request to make nora happy they love her completely theyre her rock when she needs them and they help keep her sane and somewhat smart when decision making seriously mila and seb complete me they helped nora spread her wings so she could to learn to fly br br wanna talk angst well ok i didnt know what to expect in the angst dept but damn it was off the charts i kept waiting for it to stop but it didnt not once the angst first begins the second nora and leo meet and then it snowballs from there their sexual chemistry is angsty too hot damn i could talk for days about the desires and want that was flaming but it would get boring so you just need to know it had me at hello i loved every second of their angst chemistry factor br br sooooo i went into this book thinking things were going to be hunky dory and all will be right in the world well i was in for a surprise all my first thoughts about this book flew out the window they were then replaced with wth moments and swoony ones too for this being a debut book by author ilsa madden mills she hit the ball out of the park she wrote a story full of hope dreams love heartache and chances if youre looking for a book to eat up then this is the one for you i could not put this book down i am head over heels in love with it and i am so eager to continue reading this series author ilsa madden mills turns heartache into extreme contentment and happiness your heart will be overjoyed with love and all things leo and nora so go use that lovely little one click finger and purchase your copy of very bad things right this minute once youve done that hold onto your panties youre in for one helluva ride peeps  \n",
      "only showing top 5 rows\n",
      "\n"
     ]
    }
   ],
   "source": [
    "df_clean.select('review_text_l').show(5,vertical = True, truncate = False)"
   ]
  },
  {
   "cell_type": "code",
   "execution_count": 26,
   "metadata": {},
   "outputs": [
    {
     "data": {
      "text/plain": [
       "0"
      ]
     },
     "execution_count": 26,
     "metadata": {},
     "output_type": "execute_result"
    }
   ],
   "source": [
    "#Removing reviews that have 3 or less words\n",
    "df_clean.filter(F.length(df_clean.review_text_l) < 3).count()"
   ]
  },
  {
   "cell_type": "code",
   "execution_count": 27,
   "metadata": {},
   "outputs": [],
   "source": [
    "df_clean = df_clean.filter(F.length(df_clean.review_text_l) > 3)"
   ]
  },
  {
   "cell_type": "code",
   "execution_count": 28,
   "metadata": {},
   "outputs": [
    {
     "data": {
      "text/plain": [
       "196219"
      ]
     },
     "execution_count": 28,
     "metadata": {},
     "output_type": "execute_result"
    }
   ],
   "source": [
    "df_clean.count()"
   ]
  },
  {
   "cell_type": "code",
   "execution_count": 29,
   "metadata": {},
   "outputs": [],
   "source": [
    "# from typing import Iterable\n",
    "from pyspark.sql import DataFrame\n",
    "from pyspark.ml import Pipeline, Transformer\n",
    "from pyspark.ml.feature import HashingTF, Tokenizer, CountVectorizer, IDF, StopWordsRemover\n",
    "\n",
    "class Lemmatizer(Transformer):\n",
    "    def __init__(self):\n",
    "        super(Lemmatizer, self).__init__()\n",
    "\n",
    "    def _transform(self, df: DataFrame) -> DataFrame:\n",
    "        lemmatizer = WordNetLemmatizer()\n",
    "        lemmatizer_udf = F.udf(lambda tokens: [lemmatizer.lemmatize(token) for token in tokens]\n",
    "                               , ArrayType(StringType()))\n",
    "        df = df.withColumn(\"review_words_lemstem\", lemmatizer_udf(\"review_words_stop\"))\n",
    "\n",
    "        return df\n",
    "    \n",
    "class Stemmer(Transformer):\n",
    "    def __init__(self):\n",
    "        super(Stemmer, self).__init__()\n",
    "\n",
    "    def _transform(self, df: DataFrame) -> DataFrame:\n",
    "        stemmer = SnowballStemmer(language='english')\n",
    "        stemmer_udf = F.udf(lambda tokens: [stemmer.stem(token) for token in tokens], ArrayType(StringType()))\n",
    "        df = df.withColumn(\"review_words_lemstem\", stemmer_udf(\"review_words_stop\"))\n",
    "\n",
    "        return df\n",
    "\n",
    "    \n",
    "tokenizer = Tokenizer(inputCol=\"review_text_l\", outputCol=\"review_words\")\n",
    "remover = StopWordsRemover(inputCol=\"review_words\", outputCol=\"review_words_stop\")\n",
    "lemmatizer = Lemmatizer()\n",
    "stemmer = Stemmer()\n",
    "hashingTF = HashingTF(inputCol=\"review_words_lemstem\", outputCol=\"rawFeatures\", numFeatures = 10000)\n",
    "CountVectorizer(inputCol=\"review_words_lem\", outputCol=\"rawFeatures\")\n",
    "idf = IDF(inputCol=\"rawFeatures\", outputCol=\"features\")\n",
    "\n",
    "pipeline_lem = Pipeline(stages=[tokenizer,remover,lemmatizer,hashingTF,idf])\n",
    "pipeline_stem = Pipeline(stages=[tokenizer,remover,stemmer,hashingTF,idf])    "
   ]
  },
  {
   "cell_type": "code",
   "execution_count": 30,
   "metadata": {},
   "outputs": [],
   "source": [
    "def run_classification(model, train , test, lemstem = 'lem', score = True):\n",
    "    if lemstem == 'lem':\n",
    "        run_df = pipeline_lem.fit(train).transform(train)\n",
    "    elif lemstem == 'stem':\n",
    "        run_df = pipeline_stem.fit(train).transform(train)\n",
    "        \n",
    "    prediction = model.fit(run_df).transform(run_df)\n",
    "    evaluator = MulticlassClassificationEvaluator(labelCol=\"helpful\", predictionCol=\"prediction\")\n",
    "    scores = {}\n",
    "    \n",
    "    if score:\n",
    "        scores['accuracy'] = evaluator.evaluate(prediction, {evaluator.metricName: \"accuracy\"})\n",
    "        scores['f1'] = evaluator.evaluate(prediction, {evaluator.metricName: \"f1\"})\n",
    "        scores['weightedPrecision'] = evaluator.evaluate(prediction, {evaluator.metricName: \"weightedPrecision\"})\n",
    "        scores['weightedRecall'] = evaluator.evaluate(prediction, {evaluator.metricName: \"weightedRecall\"})\n",
    "        print(model.__class__.__name__, lemstem)\n",
    "        print(scores)\n",
    "\n",
    "    return model, prediction, scores"
   ]
  },
  {
   "cell_type": "code",
   "execution_count": 31,
   "metadata": {},
   "outputs": [],
   "source": [
    "from pyspark.ml.tuning import ParamGridBuilder, TrainValidationSplit\n",
    "from pyspark.ml.evaluation import MulticlassClassificationEvaluator\n",
    "from pyspark.ml.classification import LogisticRegression, RandomForestClassifier, DecisionTreeClassifier"
   ]
  },
  {
   "cell_type": "code",
   "execution_count": 32,
   "metadata": {},
   "outputs": [],
   "source": [
    "train, test = df_clean.randomSplit([0.8, 0.2], seed=12345)"
   ]
  },
  {
   "cell_type": "code",
   "execution_count": 37,
   "metadata": {},
   "outputs": [
    {
     "data": {
      "text/plain": [
       "25"
      ]
     },
     "execution_count": 37,
     "metadata": {},
     "output_type": "execute_result"
    }
   ],
   "source": [
    "train.rdd.getNumPartitions()"
   ]
  },
  {
   "cell_type": "code",
   "execution_count": 38,
   "metadata": {},
   "outputs": [],
   "source": [
    "train = train.repartition(50)"
   ]
  },
  {
   "cell_type": "code",
   "execution_count": 33,
   "metadata": {},
   "outputs": [
    {
     "name": "stdout",
     "output_type": "stream",
     "text": [
      "LogisticRegression lem\n",
      "0.826419137388953\n",
      "0.8116197224412114\n",
      "0.8117126997351846\n",
      "0.826419137388953\n",
      "\n",
      "LogisticRegression stem\n",
      "0.8277711523376466\n",
      "0.812780203718012\n",
      "0.813318841006139\n",
      "0.8277711523376466\n",
      "\n"
     ]
    },
    {
     "data": {
      "text/plain": [
       "(LogisticRegression_2bf978b051cc,\n",
       " DataFrame[product_id: string, star_rating: int, product_category: string, review_headline: string, review_body: string, helpful_votes: int, total_votes: int, review_text: string, helpful_ratio: double, helpful: int, review_text_l: string, review_words: array<string>, review_words_stop: array<string>, review_words_lemstem: array<string>, rawFeatures: vector, features: vector, rawPrediction: vector, probability: vector, prediction: double])"
      ]
     },
     "execution_count": 33,
     "metadata": {},
     "output_type": "execute_result"
    }
   ],
   "source": [
    "lr = LogisticRegression(featuresCol = 'features', labelCol='helpful')#,regParam=0.09,elasticNetParam=0.1 default better\n",
    "lr_lem, lr_lem_pred, lr_lem_score = run_classification(lr, train, test, 'lem')\n",
    "lr_stem, lr_stem_pred, lr_stem_score =run_classification(lr, train, test, 'stem')"
   ]
  },
  {
   "cell_type": "code",
   "execution_count": 39,
   "metadata": {},
   "outputs": [
    {
     "name": "stdout",
     "output_type": "stream",
     "text": [
      "DecisionTreeClassifier lem\n",
      "0.7791623884747103\n",
      "0.6827552223168624\n",
      "0.7738509816182938\n",
      "0.7791623884747103\n",
      "\n",
      "DecisionTreeClassifier stem\n",
      "0.7784077501482809\n",
      "0.6839843421162546\n",
      "0.7642590527858948\n",
      "0.7785554329171425\n",
      "\n"
     ]
    },
    {
     "data": {
      "text/plain": [
       "(DecisionTreeClassifier_70a01553f121,\n",
       " DataFrame[product_id: string, star_rating: int, product_category: string, review_headline: string, review_body: string, helpful_votes: int, total_votes: int, review_text: string, helpful_ratio: double, helpful: int, review_text_l: string, review_words: array<string>, review_words_stop: array<string>, review_words_lemstem: array<string>, rawFeatures: vector, features: vector, rawPrediction: vector, probability: vector, prediction: double])"
      ]
     },
     "execution_count": 39,
     "metadata": {},
     "output_type": "execute_result"
    }
   ],
   "source": [
    "dt = DecisionTreeClassifier(featuresCol=\"features\",labelCol =\"helpful\")\n",
    "dt_lem, dt_lem_pred, dt_lem_score =run_classification(dt, train, test, 'lem')\n",
    "dt_stem, dt_stem_pred, dt_stem_score =run_classification(dt, train, test, 'stem')"
   ]
  },
  {
   "cell_type": "code",
   "execution_count": 40,
   "metadata": {
    "scrolled": true
   },
   "outputs": [
    {
     "name": "stdout",
     "output_type": "stream",
     "text": [
      "RandomForestClassifier lem\n",
      "0.7783581756373215\n",
      "0.6813491881232981\n",
      "0.6058414495814595\n",
      "0.7783581756373215\n",
      "\n",
      "RandomForestClassifier stem\n",
      "0.7783581756373215\n",
      "0.6813491881232981\n",
      "0.6058414495814595\n",
      "0.7783581756373215\n",
      "\n"
     ]
    },
    {
     "data": {
      "text/plain": [
       "(RandomForestClassifier_a3773b6b8d3b,\n",
       " DataFrame[product_id: string, star_rating: int, product_category: string, review_headline: string, review_body: string, helpful_votes: int, total_votes: int, review_text: string, helpful_ratio: double, helpful: int, review_text_l: string, review_words: array<string>, review_words_stop: array<string>, review_words_lemstem: array<string>, rawFeatures: vector, features: vector, rawPrediction: vector, probability: vector, prediction: double])"
      ]
     },
     "execution_count": 40,
     "metadata": {},
     "output_type": "execute_result"
    }
   ],
   "source": [
    "rfc = RandomForestClassifier(impurity=\"gini\", labelCol=\"helpful\")#maxDepth=5, numTrees=15, \n",
    "rfc_lem, rfc_lem_pred, rfc_lem_score =run_classification(rfc, train, test, 'lem')\n",
    "rfc_stem, rfc_stem_pred, rfc_stem_score =run_classification(rfc, train, test, 'stem')"
   ]
  },
  {
   "cell_type": "code",
   "execution_count": 41,
   "metadata": {},
   "outputs": [],
   "source": [
    "# km = KMeans(k=5, featuresCol=\"features\",predictionCol =\"helpful_clust\")\n",
    "# out_model, out_pred = run_classification(km, train, test, 'lem', False)"
   ]
  },
  {
   "cell_type": "code",
   "execution_count": 42,
   "metadata": {},
   "outputs": [],
   "source": [
    "# silhouette"
   ]
  },
  {
   "cell_type": "code",
   "execution_count": 44,
   "metadata": {},
   "outputs": [
    {
     "data": {
      "text/plain": [
       "{2: 0.7874030284527945,\n",
       " 3: 0.6437947051225711,\n",
       " 4: 0.7833947897632287,\n",
       " 5: 0.6203944455055674,\n",
       " 6: 0.6290921118636491,\n",
       " 7: 0.6828893346666126,\n",
       " 8: 0.657032231602476,\n",
       " 9: 0.5948228773884128,\n",
       " 10: 0.384805459579299,\n",
       " 11: 0.2894022380064678,\n",
       " 12: 0.3292708725494614,\n",
       " 13: 0.5347871276945738,\n",
       " 14: 0.3753177774226027}"
      ]
     },
     "execution_count": 44,
     "metadata": {},
     "output_type": "execute_result"
    }
   ],
   "source": [
    "from  pyspark.ml.clustering import KMeans\n",
    "from pyspark.ml.evaluation import ClusteringEvaluator\n",
    "silhouettes = {}\n",
    "evaluator = ClusteringEvaluator(predictionCol =\"helpful_clust\")\n",
    "for i in range(2,15):\n",
    "    km = KMeans(k=i, featuresCol=\"features\",predictionCol =\"helpful_clust\")\n",
    "    out_model, out_pred = run_classification(km, train, test, 'lem', False)\n",
    "    silhouette = evaluator.evaluate(out_pred.select('features', 'helpful_clust'))\n",
    "    silhouettes[i] = silhouette\n",
    "silhouettes"
   ]
  },
  {
   "cell_type": "code",
   "execution_count": 45,
   "metadata": {},
   "outputs": [
    {
     "data": {
      "text/plain": [
       "0.6037633180872019"
      ]
     },
     "execution_count": 45,
     "metadata": {},
     "output_type": "execute_result"
    }
   ],
   "source": [
    "km = KMeans(k=4, featuresCol=\"features\",predictionCol =\"helpful_clust\")\n",
    "out_model, out_pred = run_classification(km, train, test, 'lem', False)\n",
    "evaluator.evaluate(out_pred.select('features', 'helpful_clust'))"
   ]
  },
  {
   "cell_type": "code",
   "execution_count": 47,
   "metadata": {},
   "outputs": [
    {
     "name": "stdout",
     "output_type": "stream",
     "text": [
      "+-------------+-------+\n",
      "|helpful_clust|helpful|\n",
      "+-------------+-------+\n",
      "|            1|      1|\n",
      "|            3|      1|\n",
      "|            0|      1|\n",
      "+-------------+-------+\n",
      "\n"
     ]
    }
   ],
   "source": [
    "counts = out_pred.groupby(['helpful_clust', 'helpful']).count().alias('counts')\n",
    "result = (counts\n",
    "          .groupBy('helpful_clust')\n",
    "          .agg(F.max(F.struct(F.col('count'),\n",
    "                              F.col('helpful'))).alias('max'))\n",
    "          .select(F.col('helpful_clust'), F.col('max.helpful'))\n",
    "         )\n",
    "result.show()"
   ]
  },
  {
   "cell_type": "code",
   "execution_count": 48,
   "metadata": {},
   "outputs": [],
   "source": [
    "clusters = out_pred.select('helpful','helpful_clust').toPandas()"
   ]
  },
  {
   "cell_type": "code",
   "execution_count": 52,
   "metadata": {},
   "outputs": [],
   "source": [
    "import pandas as pd"
   ]
  },
  {
   "cell_type": "code",
   "execution_count": 53,
   "metadata": {},
   "outputs": [
    {
     "data": {
      "text/html": [
       "<div>\n",
       "<style scoped>\n",
       "    .dataframe tbody tr th:only-of-type {\n",
       "        vertical-align: middle;\n",
       "    }\n",
       "\n",
       "    .dataframe tbody tr th {\n",
       "        vertical-align: top;\n",
       "    }\n",
       "\n",
       "    .dataframe thead th {\n",
       "        text-align: right;\n",
       "    }\n",
       "</style>\n",
       "<table border=\"1\" class=\"dataframe\">\n",
       "  <thead>\n",
       "    <tr style=\"text-align: right;\">\n",
       "      <th></th>\n",
       "      <th>helpful</th>\n",
       "    </tr>\n",
       "    <tr>\n",
       "      <th>helpful_clust</th>\n",
       "      <th></th>\n",
       "    </tr>\n",
       "  </thead>\n",
       "  <tbody>\n",
       "    <tr>\n",
       "      <th>0</th>\n",
       "      <td>1</td>\n",
       "    </tr>\n",
       "    <tr>\n",
       "      <th>1</th>\n",
       "      <td>1</td>\n",
       "    </tr>\n",
       "    <tr>\n",
       "      <th>3</th>\n",
       "      <td>1</td>\n",
       "    </tr>\n",
       "  </tbody>\n",
       "</table>\n",
       "</div>"
      ],
      "text/plain": [
       "               helpful\n",
       "helpful_clust         \n",
       "0                    1\n",
       "1                    1\n",
       "3                    1"
      ]
     },
     "execution_count": 53,
     "metadata": {},
     "output_type": "execute_result"
    }
   ],
   "source": [
    "clusters.groupby('helpful_clust').agg({'helpful':pd.Series.mode})"
   ]
  },
  {
   "cell_type": "code",
   "execution_count": 54,
   "metadata": {},
   "outputs": [],
   "source": [
    "clusters['pred'] = clusters['helpful_clust'].apply(lambda x : 1 if x in [0,1,3] else 0)"
   ]
  },
  {
   "cell_type": "code",
   "execution_count": 60,
   "metadata": {},
   "outputs": [
    {
     "data": {
      "text/plain": [
       "-0.22099704725037148"
      ]
     },
     "execution_count": 60,
     "metadata": {},
     "output_type": "execute_result"
    }
   ],
   "source": [
    "(clusters['helpful'] - clusters['pred']).sum() / clusters['helpful'].count()"
   ]
  }
 ],
 "metadata": {
  "kernelspec": {
   "display_name": "pySpark",
   "language": "python",
   "name": "pyspark"
  },
  "language_info": {
   "codemirror_mode": {
    "name": "ipython",
    "version": 3
   },
   "file_extension": ".py",
   "mimetype": "text/x-python",
   "name": "python",
   "nbconvert_exporter": "python",
   "pygments_lexer": "ipython3",
   "version": "3.6.8"
  }
 },
 "nbformat": 4,
 "nbformat_minor": 2
}
