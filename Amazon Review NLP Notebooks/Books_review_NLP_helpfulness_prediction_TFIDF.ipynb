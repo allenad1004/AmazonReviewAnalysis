{
 "cells": [
  {
   "cell_type": "markdown",
   "metadata": {},
   "source": [
    "# Review NLP Helpfulness Prediction TFIDF (Books)"
   ]
  },
  {
   "cell_type": "markdown",
   "metadata": {},
   "source": [
    "## Creating Spark Session & Importing All Necessary Libraries"
   ]
  },
  {
   "cell_type": "code",
   "execution_count": 1,
   "metadata": {},
   "outputs": [],
   "source": [
    "import findspark\n",
    "findspark.init()"
   ]
  },
  {
   "cell_type": "code",
   "execution_count": 2,
   "metadata": {},
   "outputs": [],
   "source": [
    "from pyspark.sql import SparkSession\n",
    "from pyspark.sql import functions as F\n",
    "from sparknlp.base import *\n",
    "from sparknlp.annotator import *\n",
    "\n",
    "import sparknlp\n",
    "\n",
    "# Start SparkSession with Spark NLP\n",
    "# start() functions has 5 parameters: gpu, spark23, spark24, spark32, and memory\n",
    "# sparknlp.start(gpu=True) will start the session with GPU support\n",
    "# sparknlp.start(spark23=True) is when you have Apache Spark 2.3.x installed\n",
    "# sparknlp.start(spark24=True) is when you have Apache Spark 2.4.x installed\n",
    "# sparknlp.start(spark32=True) is when you have Apache Spark 3.2.x installed\n",
    "# sparknlp.start(memory=\"16G\") to change the default driver memory in SparkSession\n",
    "spark = sparknlp.start(gpu = True)"
   ]
  },
  {
   "cell_type": "code",
   "execution_count": 42,
   "metadata": {},
   "outputs": [],
   "source": [
    "from pyspark.sql.functions import lower, col\n",
    "from pyspark.sql.types import ArrayType, StringType\n",
    "from pyspark.sql import DataFrame\n",
    "from pyspark.ml.feature import HashingTF, IDF, StopWordsRemover, CountVectorizer\n",
    "from pyspark.ml import Pipeline, Transformer\n",
    "from pyspark.ml.tuning import ParamGridBuilder, TrainValidationSplit, CrossValidator\n",
    "from pyspark.ml.evaluation import MulticlassClassificationEvaluator\n",
    "from pyspark.ml.classification import LogisticRegression, RandomForestClassifier, DecisionTreeClassifier, NaiveBayes\n",
    "import numpy as np\n",
    "\n",
    "import nltk\n",
    "import matplotlib.pyplot as plt\n",
    "%matplotlib inline\n",
    "\n",
    "#nltk.download('wordnet')"
   ]
  },
  {
   "cell_type": "code",
   "execution_count": 4,
   "metadata": {},
   "outputs": [
    {
     "name": "stderr",
     "output_type": "stream",
     "text": [
      "[nltk_data] Downloading package stopwords to\n",
      "[nltk_data]     C:\\Users\\kenne\\AppData\\Roaming\\nltk_data...\n",
      "[nltk_data]   Package stopwords is already up-to-date!\n"
     ]
    }
   ],
   "source": [
    "import nltk\n",
    "nltk.download('stopwords')\n",
    "from nltk.corpus import stopwords\n",
    "eng_stopwords = stopwords.words('english')"
   ]
  },
  {
   "cell_type": "markdown",
   "metadata": {},
   "source": [
    "### Reading in Data"
   ]
  },
  {
   "cell_type": "code",
   "execution_count": 5,
   "metadata": {},
   "outputs": [],
   "source": [
    "df = spark.read \\\n",
    "    .option(\"quote\", \"\\\"\")  \\\n",
    "    .option(\"escape\", \"\\\"\") \\\n",
    "    .option(\"ignoreLeadingWhiteSpace\",True) \\\n",
    "    .csv(r\"C:\\Users\\kenne\\OneDrive\\Desktop\\UChicago\\Python\\Final Project Big Data Amazon Review\\Amazon Review Kaggle Data\\amazon_reviews_us_Books_v1_02.tsv\",inferSchema=True,header=True, sep='\\t' )"
   ]
  },
  {
   "cell_type": "markdown",
   "metadata": {},
   "source": [
    "## Code Cleaning"
   ]
  },
  {
   "cell_type": "code",
   "execution_count": 6,
   "metadata": {
    "scrolled": true
   },
   "outputs": [
    {
     "name": "stdout",
     "output_type": "stream",
     "text": [
      "-RECORD 0-------------------------------------------------------------------------------------------------------------------------------------------------------------------------------------------------------------------------------------------------------------------------------------------------------------------------------------------------------------------------------------------------------------------------------------------------------------------------------------------------------------------------------------------------------------------------------------------------------------------------------------------------------------------------------------------------------------------------------------------------------------------------------------------------------------------------------------------------------------------------------------------------------------------------------------------------------------------------------------------------------------------------------------------------------------------------------------------------------------------------------------------------------------------------------------------------------------------------------------------------------------------------------------------------------------------------------------------------------------------------------------\n",
      " marketplace       | US                                                                                                                                                                                                                                                                                                                                                                                                                                                                                                                                                                                                                                                                                                                                                                                                                                                                                                                                                                                                                                                                                                                                                                                                                                                                                                                                                                       \n",
      " customer_id       | 12076615                                                                                                                                                                                                                                                                                                                                                                                                                                                                                                                                                                                                                                                                                                                                                                                                                                                                                                                                                                                                                                                                                                                                                                                                                                                                                                                                                                 \n",
      " review_id         | RQ58W7SMO911M                                                                                                                                                                                                                                                                                                                                                                                                                                                                                                                                                                                                                                                                                                                                                                                                                                                                                                                                                                                                                                                                                                                                                                                                                                                                                                                                                            \n",
      " product_id        | 0385730586                                                                                                                                                                                                                                                                                                                                                                                                                                                                                                                                                                                                                                                                                                                                                                                                                                                                                                                                                                                                                                                                                                                                                                                                                                                                                                                                                               \n",
      " product_parent    | 122662979                                                                                                                                                                                                                                                                                                                                                                                                                                                                                                                                                                                                                                                                                                                                                                                                                                                                                                                                                                                                                                                                                                                                                                                                                                                                                                                                                                \n",
      " product_title     | Sisterhood of the Traveling Pants (Book 1)                                                                                                                                                                                                                                                                                                                                                                                                                                                                                                                                                                                                                                                                                                                                                                                                                                                                                                                                                                                                                                                                                                                                                                                                                                                                                                                               \n",
      " product_category  | Books                                                                                                                                                                                                                                                                                                                                                                                                                                                                                                                                                                                                                                                                                                                                                                                                                                                                                                                                                                                                                                                                                                                                                                                                                                                                                                                                                                    \n",
      " star_rating       | 4                                                                                                                                                                                                                                                                                                                                                                                                                                                                                                                                                                                                                                                                                                                                                                                                                                                                                                                                                                                                                                                                                                                                                                                                                                                                                                                                                                        \n",
      " helpful_votes     | 2                                                                                                                                                                                                                                                                                                                                                                                                                                                                                                                                                                                                                                                                                                                                                                                                                                                                                                                                                                                                                                                                                                                                                                                                                                                                                                                                                                        \n",
      " total_votes       | 3                                                                                                                                                                                                                                                                                                                                                                                                                                                                                                                                                                                                                                                                                                                                                                                                                                                                                                                                                                                                                                                                                                                                                                                                                                                                                                                                                                        \n",
      " vine              | N                                                                                                                                                                                                                                                                                                                                                                                                                                                                                                                                                                                                                                                                                                                                                                                                                                                                                                                                                                                                                                                                                                                                                                                                                                                                                                                                                                        \n",
      " verified_purchase | N                                                                                                                                                                                                                                                                                                                                                                                                                                                                                                                                                                                                                                                                                                                                                                                                                                                                                                                                                                                                                                                                                                                                                                                                                                                                                                                                                                        \n",
      " review_headline   | this book was a great learning novel!                                                                                                                                                                                                                                                                                                                                                                                                                                                                                                                                                                                                                                                                                                                                                                                                                                                                                                                                                                                                                                                                                                                                                                                                                                                                                                                                    \n",
      " review_body       | this boook was a great one that you could learn from. it not only teaches the imponrtance of family and their values but it also deals with basic issues that teens and some kids even deal with.  this book is about 4 best friends who are for the first time in their lives spending their summer apart. one day they are all in one of the girls rooms and finds a pair of pants that were tucked away in her closet.  once all four  of them try them on they realize that there is really something special about these pants.  seeming as how all 4 girls are differnt shapes and sizes and somehow the pants fit all of them,  they realize that these pants were the start of something special.  immediatley following they decided to make up certian rules abut the pants such as you must write the best thing u did while wearing the pants over your summer on the right leg and also some silly things such as to \\\\\"never pick yuor nose while wearing the pants.\\\\\"  this book follows the girls throuh their summers in differnt places of the world and through all of the different obstacles that life takes them through. it can really teach you alot not only about what is going on around you but most imporntantly about yuorself.  i would give this book 4 stars and would reccommend it to anyone who seems the slihgtest bit interested. \n",
      " review_date       | 2005-10-14                                                                                                                                                                                                                                                                                                                                                                                                                                                                                                                                                                                                                                                                                                                                                                                                                                                                                                                                                                                                                                                                                                                                                                                                                                                                                                                                                               \n",
      "only showing top 1 row\n",
      "\n"
     ]
    }
   ],
   "source": [
    "df.show(1, vertical = True, truncate = False)"
   ]
  },
  {
   "cell_type": "code",
   "execution_count": 7,
   "metadata": {},
   "outputs": [],
   "source": [
    "df = df.select('product_id', 'star_rating', 'product_category', 'review_headline', 'review_body', 'helpful_votes', 'total_votes')"
   ]
  },
  {
   "cell_type": "code",
   "execution_count": 8,
   "metadata": {},
   "outputs": [
    {
     "name": "stdout",
     "output_type": "stream",
     "text": [
      "-RECORD 0------------------------------------------------------------------------------------------------------------------------------------------------------------------------------------------------------------------------------------------------------------------------------------------------------------------------------------------------------------------------------------------------------------------------------------------------------------------------------------------------------------------------------------------------------------------------------------------------------------------------------------------------------------------------------------------------------------------------------------------------------------------------------------------------------------------------------------------------------------------------------------------------------------------------------------------------------------------------------------------------------------------------------------------------------------------------------------------------------------------------------------------------------------------------------------------------------------------------------------------------------------------------------------------------------------------------------------------------------------------------------------\n",
      " product_id       | 0385730586                                                                                                                                                                                                                                                                                                                                                                                                                                                                                                                                                                                                                                                                                                                                                                                                                                                                                                                                                                                                                                                                                                                                                                                                                                                                                                                                                               \n",
      " star_rating      | 4                                                                                                                                                                                                                                                                                                                                                                                                                                                                                                                                                                                                                                                                                                                                                                                                                                                                                                                                                                                                                                                                                                                                                                                                                                                                                                                                                                        \n",
      " product_category | Books                                                                                                                                                                                                                                                                                                                                                                                                                                                                                                                                                                                                                                                                                                                                                                                                                                                                                                                                                                                                                                                                                                                                                                                                                                                                                                                                                                    \n",
      " review_headline  | this book was a great learning novel!                                                                                                                                                                                                                                                                                                                                                                                                                                                                                                                                                                                                                                                                                                                                                                                                                                                                                                                                                                                                                                                                                                                                                                                                                                                                                                                                    \n",
      " review_body      | this boook was a great one that you could learn from. it not only teaches the imponrtance of family and their values but it also deals with basic issues that teens and some kids even deal with.  this book is about 4 best friends who are for the first time in their lives spending their summer apart. one day they are all in one of the girls rooms and finds a pair of pants that were tucked away in her closet.  once all four  of them try them on they realize that there is really something special about these pants.  seeming as how all 4 girls are differnt shapes and sizes and somehow the pants fit all of them,  they realize that these pants were the start of something special.  immediatley following they decided to make up certian rules abut the pants such as you must write the best thing u did while wearing the pants over your summer on the right leg and also some silly things such as to \\\\\"never pick yuor nose while wearing the pants.\\\\\"  this book follows the girls throuh their summers in differnt places of the world and through all of the different obstacles that life takes them through. it can really teach you alot not only about what is going on around you but most imporntantly about yuorself.  i would give this book 4 stars and would reccommend it to anyone who seems the slihgtest bit interested. \n",
      " helpful_votes    | 2                                                                                                                                                                                                                                                                                                                                                                                                                                                                                                                                                                                                                                                                                                                                                                                                                                                                                                                                                                                                                                                                                                                                                                                                                                                                                                                                                                        \n",
      " total_votes      | 3                                                                                                                                                                                                                                                                                                                                                                                                                                                                                                                                                                                                                                                                                                                                                                                                                                                                                                                                                                                                                                                                                                                                                                                                                                                                                                                                                                        \n",
      "only showing top 1 row\n",
      "\n"
     ]
    }
   ],
   "source": [
    "df.show(1, vertical = True, truncate = False)"
   ]
  },
  {
   "cell_type": "code",
   "execution_count": 9,
   "metadata": {},
   "outputs": [
    {
     "data": {
      "text/plain": [
       "3105463"
      ]
     },
     "execution_count": 9,
     "metadata": {},
     "output_type": "execute_result"
    }
   ],
   "source": [
    "df.dropna().count()"
   ]
  },
  {
   "cell_type": "code",
   "execution_count": 10,
   "metadata": {},
   "outputs": [
    {
     "name": "stdout",
     "output_type": "stream",
     "text": [
      "+----------+-----------+----------------+---------------+-----------+-------------+-----------+\n",
      "|product_id|star_rating|product_category|review_headline|review_body|helpful_votes|total_votes|\n",
      "+----------+-----------+----------------+---------------+-----------+-------------+-----------+\n",
      "|         0|          5|               2|             32|         31|            5|          5|\n",
      "+----------+-----------+----------------+---------------+-----------+-------------+-----------+\n",
      "\n"
     ]
    }
   ],
   "source": [
    "from pyspark.sql.functions import col,isnan, when, count\n",
    "df.select([count(when(isnan(c) | col(c).isNull(), c)).alias(c) for c in df.columns]\n",
    "   ).show()"
   ]
  },
  {
   "cell_type": "code",
   "execution_count": 11,
   "metadata": {},
   "outputs": [
    {
     "name": "stdout",
     "output_type": "stream",
     "text": [
      "-RECORD 0-----------------\n",
      " product_id       | 0     \n",
      " star_rating      | 5     \n",
      " product_category | 2     \n",
      " review_headline  | 487   \n",
      " review_body      | 15421 \n",
      " helpful_votes    | 5     \n",
      " total_votes      | 5     \n",
      "\n"
     ]
    }
   ],
   "source": [
    "df2 = df.select([count(when(col(c).contains('None') | \\\n",
    "                            col(c).contains('NULL') | \\\n",
    "                            (col(c) == '' ) | \\\n",
    "                            col(c).isNull() | \\\n",
    "                            isnan(c), c \n",
    "                           )).alias(c)\n",
    "                    for c in df.columns])\n",
    "df2.count()\n",
    "df2.show(5, vertical = True)"
   ]
  },
  {
   "cell_type": "code",
   "execution_count": 12,
   "metadata": {},
   "outputs": [
    {
     "data": {
      "text/plain": [
       "960537"
      ]
     },
     "execution_count": 12,
     "metadata": {},
     "output_type": "execute_result"
    }
   ],
   "source": [
    "df = df.filter(col('total_votes') > 10)\n",
    "df.count()"
   ]
  },
  {
   "cell_type": "code",
   "execution_count": 13,
   "metadata": {},
   "outputs": [],
   "source": [
    "df = df.fillna(\"\", \"review_body\")\n",
    "df = df.fillna(\"\", \"review_headline\")"
   ]
  },
  {
   "cell_type": "code",
   "execution_count": 14,
   "metadata": {},
   "outputs": [
    {
     "name": "stdout",
     "output_type": "stream",
     "text": [
      "-RECORD 0----------------------------------------------------------------------------------------------------------------------------------------\n",
      " product_id       | 1844161560                                                                                                                   \n",
      " star_rating      | 4                                                                                                                            \n",
      " product_category | Books                                                                                                                        \n",
      " review_headline  | this isn't a review                                                                                                          \n",
      " review_body      | never read it-a young relative idicated he liked it and somehow my name popped upon this--no more to say                     \n",
      " helpful_votes    | 1                                                                                                                            \n",
      " total_votes      | 22                                                                                                                           \n",
      " review_text      | this isn't a review never read it-a young relative idicated he liked it and somehow my name popped upon this--no more to say \n",
      "only showing top 1 row\n",
      "\n"
     ]
    }
   ],
   "source": [
    "df = df.withColumn('review_text', F.concat('review_headline', F.lit(\" \"), 'review_body'))\n",
    "df.show(1, vertical = True, truncate = False)"
   ]
  },
  {
   "cell_type": "code",
   "execution_count": 15,
   "metadata": {},
   "outputs": [
    {
     "name": "stdout",
     "output_type": "stream",
     "text": [
      "(0 rows)\n",
      "\n"
     ]
    }
   ],
   "source": [
    "df.filter((col(\"review_text\").isNull()) | ( col(\"review_text\") == \"\")).show(1, vertical = True, truncate = False)"
   ]
  },
  {
   "cell_type": "code",
   "execution_count": 16,
   "metadata": {},
   "outputs": [
    {
     "name": "stdout",
     "output_type": "stream",
     "text": [
      "-RECORD 0---------------\n",
      " product_id       | 0   \n",
      " star_rating      | 0   \n",
      " product_category | 0   \n",
      " review_headline  | 6   \n",
      " review_body      | 5   \n",
      " helpful_votes    | 0   \n",
      " total_votes      | 0   \n",
      " review_text      | 0   \n",
      "\n"
     ]
    }
   ],
   "source": [
    "df.select([count(when((col(c) == '' ) | \\\n",
    "                            col(c).isNull() | \\\n",
    "                            isnan(c), c \n",
    "                           )).alias(c)\n",
    "                    for c in df.columns]).show(5, vertical = True)"
   ]
  },
  {
   "cell_type": "code",
   "execution_count": 17,
   "metadata": {},
   "outputs": [
    {
     "name": "stdout",
     "output_type": "stream",
     "text": [
      "-RECORD 0----------------------------------------------------------------------------------------------------------------------------------------\n",
      " product_id       | 1844161560                                                                                                                   \n",
      " star_rating      | 4                                                                                                                            \n",
      " product_category | Books                                                                                                                        \n",
      " review_headline  | this isn't a review                                                                                                          \n",
      " review_body      | never read it-a young relative idicated he liked it and somehow my name popped upon this--no more to say                     \n",
      " helpful_votes    | 1                                                                                                                            \n",
      " total_votes      | 22                                                                                                                           \n",
      " review_text      | this isn't a review never read it-a young relative idicated he liked it and somehow my name popped upon this--no more to say \n",
      " helpful_ratio    | 0.045454545454545456                                                                                                         \n",
      "only showing top 1 row\n",
      "\n"
     ]
    }
   ],
   "source": [
    "df = df.withColumn('helpful_ratio', F.col('helpful_votes') / F.col('total_votes'))\n",
    "df.show(1, vertical = True, truncate = False)"
   ]
  },
  {
   "cell_type": "code",
   "execution_count": 18,
   "metadata": {},
   "outputs": [
    {
     "data": {
      "text/plain": [
       "0"
      ]
     },
     "execution_count": 18,
     "metadata": {},
     "output_type": "execute_result"
    }
   ],
   "source": [
    "df.filter(col('helpful_ratio') < 0).count()"
   ]
  },
  {
   "cell_type": "code",
   "execution_count": 19,
   "metadata": {},
   "outputs": [],
   "source": [
    "df = df.withColumn('helpful', when(col(\"helpful_ratio\") < 0.5, 0).otherwise(1))"
   ]
  },
  {
   "cell_type": "code",
   "execution_count": 20,
   "metadata": {
    "scrolled": true
   },
   "outputs": [
    {
     "name": "stdout",
     "output_type": "stream",
     "text": [
      "-RECORD 0--------------------------------\n",
      " product_id       | 1844161560           \n",
      " star_rating      | 4                    \n",
      " product_category | Books                \n",
      " review_headline  | this isn't a review  \n",
      " review_body      | never read it-a y... \n",
      " helpful_votes    | 1                    \n",
      " total_votes      | 22                   \n",
      " review_text      | this isn't a revi... \n",
      " helpful_ratio    | 0.045454545454545456 \n",
      " helpful          | 0                    \n",
      "-RECORD 1--------------------------------\n",
      " product_id       | 0805076069           \n",
      " star_rating      | 4                    \n",
      " product_category | Books                \n",
      " review_headline  | I viewed this the... \n",
      " review_body      | This book is chil... \n",
      " helpful_votes    | 9                    \n",
      " total_votes      | 11                   \n",
      " review_text      | I viewed this the... \n",
      " helpful_ratio    | 0.8181818181818182   \n",
      " helpful          | 1                    \n",
      "-RECORD 2--------------------------------\n",
      " product_id       | 0300108834           \n",
      " star_rating      | 5                    \n",
      " product_category | Books                \n",
      " review_headline  | Simple, entertain... \n",
      " review_body      | Never been much f... \n",
      " helpful_votes    | 16                   \n",
      " total_votes      | 20                   \n",
      " review_text      | Simple, entertain... \n",
      " helpful_ratio    | 0.8                  \n",
      " helpful          | 1                    \n",
      "-RECORD 3--------------------------------\n",
      " product_id       | 0029148510           \n",
      " star_rating      | 4                    \n",
      " product_category | Books                \n",
      " review_headline  | Solid Book About ... \n",
      " review_body      | Whether intention... \n",
      " helpful_votes    | 14                   \n",
      " total_votes      | 14                   \n",
      " review_text      | Solid Book About ... \n",
      " helpful_ratio    | 1.0                  \n",
      " helpful          | 1                    \n",
      "-RECORD 4--------------------------------\n",
      " product_id       | 0811848833           \n",
      " star_rating      | 4                    \n",
      " product_category | Books                \n",
      " review_headline  | Comprehensive vis... \n",
      " review_body      | At last... a comp... \n",
      " helpful_votes    | 16                   \n",
      " total_votes      | 19                   \n",
      " review_text      | Comprehensive vis... \n",
      " helpful_ratio    | 0.8421052631578947   \n",
      " helpful          | 1                    \n",
      "only showing top 5 rows\n",
      "\n"
     ]
    }
   ],
   "source": [
    "df.show(5, vertical = True)"
   ]
  },
  {
   "cell_type": "markdown",
   "metadata": {},
   "source": [
    "### Cleaning the Review_Text"
   ]
  },
  {
   "cell_type": "code",
   "execution_count": 21,
   "metadata": {},
   "outputs": [],
   "source": [
    "df_clean = df"
   ]
  },
  {
   "cell_type": "code",
   "execution_count": 22,
   "metadata": {},
   "outputs": [
    {
     "name": "stdout",
     "output_type": "stream",
     "text": [
      "root\n",
      " |-- product_id: string (nullable = true)\n",
      " |-- star_rating: integer (nullable = true)\n",
      " |-- product_category: string (nullable = true)\n",
      " |-- review_headline: string (nullable = false)\n",
      " |-- review_body: string (nullable = false)\n",
      " |-- helpful_votes: integer (nullable = true)\n",
      " |-- total_votes: integer (nullable = true)\n",
      " |-- review_text: string (nullable = false)\n",
      " |-- helpful_ratio: double (nullable = true)\n",
      " |-- helpful: integer (nullable = false)\n",
      "\n"
     ]
    }
   ],
   "source": [
    "df_clean.printSchema()"
   ]
  },
  {
   "cell_type": "code",
   "execution_count": 23,
   "metadata": {
    "scrolled": true
   },
   "outputs": [
    {
     "name": "stdout",
     "output_type": "stream",
     "text": [
      "+-------+\n",
      "|helpful|\n",
      "+-------+\n",
      "|      1|\n",
      "|      0|\n",
      "+-------+\n",
      "\n"
     ]
    }
   ],
   "source": [
    "df_clean.select(\"helpful\").distinct().show()"
   ]
  },
  {
   "cell_type": "code",
   "execution_count": 24,
   "metadata": {},
   "outputs": [],
   "source": [
    "#Making the review text to all lower case\n",
    "df_clean=df_clean.withColumn('review_text_l', F.lower(F.col('review_text')))"
   ]
  },
  {
   "cell_type": "code",
   "execution_count": 25,
   "metadata": {},
   "outputs": [
    {
     "name": "stdout",
     "output_type": "stream",
     "text": [
      "-RECORD 0-----------------------------\n",
      " review_text_l | this isn't a revi... \n",
      "-RECORD 1-----------------------------\n",
      " review_text_l | i viewed this the... \n",
      "-RECORD 2-----------------------------\n",
      " review_text_l | simple, entertain... \n",
      "-RECORD 3-----------------------------\n",
      " review_text_l | solid book about ... \n",
      "-RECORD 4-----------------------------\n",
      " review_text_l | comprehensive vis... \n",
      "only showing top 5 rows\n",
      "\n"
     ]
    }
   ],
   "source": [
    "df_clean.select(df_clean.columns[10]).show(5, vertical = True)"
   ]
  },
  {
   "cell_type": "code",
   "execution_count": 26,
   "metadata": {},
   "outputs": [],
   "source": [
    "#Removing all of the additional punctuations\n",
    "df_clean=df_clean.withColumn('review_text_l', F.regexp_replace('review_text_l', '\\'', ''))\n",
    "                                                                 \n",
    "df_clean=df_clean.withColumn('review_text_l', F.regexp_replace('review_text_l', '\\\\n|[^\\w]', ' ')).withColumn('review_text_l', F.regexp_replace('review_text_l', '\\s+', ' '))"
   ]
  },
  {
   "cell_type": "code",
   "execution_count": 27,
   "metadata": {},
   "outputs": [
    {
     "name": "stdout",
     "output_type": "stream",
     "text": [
      "-RECORD 0----------------------------------------------------------------------------------------------------------------------------------------------------------------------------------------------------------------------------------------------------------------------------------------------------------------------------------------------------------------------------------------------------------------------------------------------------------------------------------------------------------------------------------------------------------------------------------------------------------------------------------------------------------------------------------------------------------------------------------------------------------------------------------------------------------------------------------------------------------------------------------------------------------------------------------------------------------------------------------------------------------------------------------------------------------------------------------------------------------------------------------------------------------------------------------------------------------------------------------------------------------------------------------------------------------------------------------------------------------------------------------------------------------------------------------------------------------------------------------------------------------------------------------------------------------------------------------------------------------------------------------------------------------------------------------------------------------------------------------------------------------------------------------------------------------------------------------------------------------------------------------------------------------------------------------------------------------------------------------------------------------------------------------------------------------------------------------------------------------\n",
      " review_text_l | this isnt a review never read it a young relative idicated he liked it and somehow my name popped upon this no more to say                                                                                                                                                                                                                                                                                                                                                                                                                                                                                                                                                                                                                                                                                                                                                                                                                                                                                                                                                                                                                                                                                                                                                                                                                                                                                                                                                                                                                                                                                                                                                                                                                                                                                                                                                                                                                                                                                                                                                                        \n",
      "-RECORD 1----------------------------------------------------------------------------------------------------------------------------------------------------------------------------------------------------------------------------------------------------------------------------------------------------------------------------------------------------------------------------------------------------------------------------------------------------------------------------------------------------------------------------------------------------------------------------------------------------------------------------------------------------------------------------------------------------------------------------------------------------------------------------------------------------------------------------------------------------------------------------------------------------------------------------------------------------------------------------------------------------------------------------------------------------------------------------------------------------------------------------------------------------------------------------------------------------------------------------------------------------------------------------------------------------------------------------------------------------------------------------------------------------------------------------------------------------------------------------------------------------------------------------------------------------------------------------------------------------------------------------------------------------------------------------------------------------------------------------------------------------------------------------------------------------------------------------------------------------------------------------------------------------------------------------------------------------------------------------------------------------------------------------------------------------------------------------------------------------------\n",
      " review_text_l | i viewed this the opposite of publishers weekly this book is chilling and depressing indeed though very well written and sprinkled with frequent humor i was sort of surprised however by the comment in publishers weekly which said that pw suspects that many of those buyers will be disappointed ehrenreich cant deliver the promised story because she never managed to get employed in the midlevel corporate world she wanted to analyze i never viewed that as being the promised story in the first place to me the primary point of the book was to describe what it was like to actually try to enter that world in the first place rather than describing what life was like when she got there and that she did in fact i actually thought that she lucked out in a sense by having the bizarre surreal experiences she did not only did it make for more entertaining and more thought provoking reading but in my mind if she had obtained a job right away it would have taken away the whole raison detre of the book it would have been a completely different book in which she merely described her presumably boring mid level corporate job which probably would have been the same from day to day thus at least for purposes of writing the book i think she was lucky that things worked out the way they did as for the reader who criticized her for not taking the jobs offered by aflac and mary kay i thought those comments were bizarre i agree with ms ehrenreichs point in that jobs such as these in which the employer offers no salary no benefits no office no help and essentially takes no risk whatsoever can hardly be considered jobs in the traditional sense she was seeking in any event its really a pretty scary and depressing book but one which i recommend                                                                                                                                                                                                                                                                                   \n",
      "-RECORD 2----------------------------------------------------------------------------------------------------------------------------------------------------------------------------------------------------------------------------------------------------------------------------------------------------------------------------------------------------------------------------------------------------------------------------------------------------------------------------------------------------------------------------------------------------------------------------------------------------------------------------------------------------------------------------------------------------------------------------------------------------------------------------------------------------------------------------------------------------------------------------------------------------------------------------------------------------------------------------------------------------------------------------------------------------------------------------------------------------------------------------------------------------------------------------------------------------------------------------------------------------------------------------------------------------------------------------------------------------------------------------------------------------------------------------------------------------------------------------------------------------------------------------------------------------------------------------------------------------------------------------------------------------------------------------------------------------------------------------------------------------------------------------------------------------------------------------------------------------------------------------------------------------------------------------------------------------------------------------------------------------------------------------------------------------------------------------------------------------------\n",
      " review_text_l | simple entertaining never been much for enjoying history but the style brevity and choice of subject matter come together very nicely in this book                                                                                                                                                                                                                                                                                                                                                                                                                                                                                                                                                                                                                                                                                                                                                                                                                                                                                                                                                                                                                                                                                                                                                                                                                                                                                                                                                                                                                                                                                                                                                                                                                                                                                                                                                                                                                                                                                                                                                \n",
      "-RECORD 3----------------------------------------------------------------------------------------------------------------------------------------------------------------------------------------------------------------------------------------------------------------------------------------------------------------------------------------------------------------------------------------------------------------------------------------------------------------------------------------------------------------------------------------------------------------------------------------------------------------------------------------------------------------------------------------------------------------------------------------------------------------------------------------------------------------------------------------------------------------------------------------------------------------------------------------------------------------------------------------------------------------------------------------------------------------------------------------------------------------------------------------------------------------------------------------------------------------------------------------------------------------------------------------------------------------------------------------------------------------------------------------------------------------------------------------------------------------------------------------------------------------------------------------------------------------------------------------------------------------------------------------------------------------------------------------------------------------------------------------------------------------------------------------------------------------------------------------------------------------------------------------------------------------------------------------------------------------------------------------------------------------------------------------------------------------------------------------------------------\n",
      " review_text_l | solid book about facing death and killing in war whether intentional or not this books audience is the former or current military member but if you have read and enjoyed works such as the first two volumes of roots of strategy you should have no trouble following this book the author successfully shows that military personnel have mixed feelings about war although he addresses behavior in the midst of battle the author seems more interested in the views about war held by those outside war itself i e those who had not yet experienced it and those who were looking backward in retrospect how those people felt in the midst of the madness is almost certainly different from how they anticipated or how they adjusted their feelings afterwards i think this flavor derives from his personal interview and historical research approach i do not see this as a negative but rather staying within his scope of knowledge and expertise the review titled flawed work of a historian with no sociological credibility seems too harshly critical perhaps this reviewer expected a highly technical in depth psychological approach as a note page 58 cites s l a marshall as stating that only some 15 per cent of american infantrymen fired true the subject of women in the military is barely broached however in all fairness the author never pretends to have extensive knowledge about how women react in battle and simply doesnt go there perhaps that is a deficiency of character but not of the book i get the feeling that this review didnt find what he wanted and then skimmed the book without thinking into what was being presented although now much more interested in peace studies i enjoyed reading this book i found a number of passages that shed light on where i have been and where i seek to go i dont see this as a pro military book although at times it may seem so i characterize it as an honest endeavor to address and understand some of the difficult questions that most of us have concerning death and killing in war time  \n",
      "-RECORD 4----------------------------------------------------------------------------------------------------------------------------------------------------------------------------------------------------------------------------------------------------------------------------------------------------------------------------------------------------------------------------------------------------------------------------------------------------------------------------------------------------------------------------------------------------------------------------------------------------------------------------------------------------------------------------------------------------------------------------------------------------------------------------------------------------------------------------------------------------------------------------------------------------------------------------------------------------------------------------------------------------------------------------------------------------------------------------------------------------------------------------------------------------------------------------------------------------------------------------------------------------------------------------------------------------------------------------------------------------------------------------------------------------------------------------------------------------------------------------------------------------------------------------------------------------------------------------------------------------------------------------------------------------------------------------------------------------------------------------------------------------------------------------------------------------------------------------------------------------------------------------------------------------------------------------------------------------------------------------------------------------------------------------------------------------------------------------------------------------------\n",
      " review_text_l | comprehensive visual reference guide but incomplete at last a comprehensive visual compendium of the most celebrated artistic promotional film marketing campaign worldwide almost you would think that the opulent mr sansweet would have in his possession every single poster to have ever rolled off the printing press for this unprecedented franchise but several of my favorite foreign one sheets daybills banners and bus stop posters are notably missing does this mean that mr sansweet has not aquired all of them in his envious collection of star wars memorabilia not likely chances are he has every single one of them locked away somewhere within the bowels of his coveted archives most notably absent is the lack of reference material specifically promoting revenge of the sith and would seem to indicate that this book was completed and ready to be published just prior to the films theatrical exhibition but there is a plethora of wonderful international promotional material such as the six character u k bus stop posters that are much more visually exciting than the disappointing u s domestic ad campaign that demands to be published this can only mean that another volume must be sure to follow still there are enough international poster variations out there to keep collectors like myself and presumably mr sansweet himself scouring the farthest reaches of the globe and the galaxy for years to come                                                                                                                                                                                                                                                                                                                                                                                                                                                                                                                                                                                                                                 \n",
      "only showing top 5 rows\n",
      "\n"
     ]
    }
   ],
   "source": [
    "df_clean.select('review_text_l').show(5,vertical = True, truncate = False)"
   ]
  },
  {
   "cell_type": "code",
   "execution_count": 28,
   "metadata": {},
   "outputs": [
    {
     "data": {
      "text/plain": [
       "3"
      ]
     },
     "execution_count": 28,
     "metadata": {},
     "output_type": "execute_result"
    }
   ],
   "source": [
    "#Removing reviews that have 3 or less words\n",
    "df_clean.filter(F.length(df_clean.review_text_l) < 3).count()"
   ]
  },
  {
   "cell_type": "code",
   "execution_count": 29,
   "metadata": {},
   "outputs": [],
   "source": [
    "df_clean = df_clean.filter(F.length(df_clean.review_text_l) > 3)"
   ]
  },
  {
   "cell_type": "code",
   "execution_count": 30,
   "metadata": {
    "scrolled": false
   },
   "outputs": [
    {
     "data": {
      "text/plain": [
       "960532"
      ]
     },
     "execution_count": 30,
     "metadata": {},
     "output_type": "execute_result"
    }
   ],
   "source": [
    "df_clean.count()"
   ]
  },
  {
   "cell_type": "markdown",
   "metadata": {},
   "source": [
    "## NLP Pipeline"
   ]
  },
  {
   "cell_type": "markdown",
   "metadata": {},
   "source": [
    "This pipeline consists of the following: Tokenizer, Stop Words Remover, Stemming, & TFIDF"
   ]
  },
  {
   "cell_type": "code",
   "execution_count": 31,
   "metadata": {},
   "outputs": [],
   "source": [
    "#Document & Tokenize\n",
    "document_assembler = DocumentAssembler().setInputCol(\"review_text_l\").setOutputCol(\"document\")\n",
    "tokenizer = Tokenizer().setInputCols([\"document\"]).setOutputCol(\"review_words\")\n",
    " \n",
    "#Cleaning Tokens\n",
    "remover           = StopWordsCleaner().setInputCols(\"review_words\").setOutputCol(\"review_words_stop\").setCaseSensitive(False).setStopWords(eng_stopwords)\n",
    "#lemmatizer        = Lemmatizer().setInputCols([\"review_words_stop\"]).setOutputCol(\"review_words_lemstem\")\n",
    "stemmer           = Stemmer().setInputCols([\"review_words_stop\"]).setOutputCol(\"review_words_lemstem\")\n",
    "finisher          = Finisher().setInputCols([\"review_words_lemstem\"]).setOutputCols([\"token_features\"]).setOutputAsArray(True).setCleanAnnotations(False)\n",
    "#hashingTF         = HashingTF(inputCol=\"token_features\", outputCol=\"rawFeatures\")\n",
    "#idf               = IDF(inputCol=\"rawFeatures\", outputCol=\"features\")\n",
    "\n",
    "pipeline_stem = Pipeline(stages=[document_assembler,tokenizer,remover,stemmer,finisher])#,hashingTF,idf])   "
   ]
  },
  {
   "cell_type": "markdown",
   "metadata": {},
   "source": [
    "##### Running NLP pipeline"
   ]
  },
  {
   "cell_type": "code",
   "execution_count": 32,
   "metadata": {},
   "outputs": [
    {
     "name": "stdout",
     "output_type": "stream",
     "text": [
      "Wall time: 321 ms\n"
     ]
    }
   ],
   "source": [
    "%%time\n",
    "df_clean_nlp = pipeline_stem.fit(df_clean).transform(df_clean)"
   ]
  },
  {
   "cell_type": "code",
   "execution_count": 33,
   "metadata": {},
   "outputs": [
    {
     "name": "stdout",
     "output_type": "stream",
     "text": [
      "+----------+-----------+----------------+-------------------+--------------------+-------------+-----------+--------------------+--------------------+-------+--------------------+--------------------+--------------------+--------------------+--------------------+--------------------+\n",
      "|product_id|star_rating|product_category|    review_headline|         review_body|helpful_votes|total_votes|         review_text|       helpful_ratio|helpful|       review_text_l|            document|        review_words|   review_words_stop|review_words_lemstem|      token_features|\n",
      "+----------+-----------+----------------+-------------------+--------------------+-------------+-----------+--------------------+--------------------+-------+--------------------+--------------------+--------------------+--------------------+--------------------+--------------------+\n",
      "|1844161560|          4|           Books|this isn't a review|never read it-a y...|            1|         22|this isn't a revi...|0.045454545454545456|      0|this isnt a revie...|[{document, 0, 12...|[{token, 0, 3, th...|[{token, 5, 8, is...|[{token, 5, 8, is...|[isnt, review, ne...|\n",
      "+----------+-----------+----------------+-------------------+--------------------+-------------+-----------+--------------------+--------------------+-------+--------------------+--------------------+--------------------+--------------------+--------------------+--------------------+\n",
      "only showing top 1 row\n",
      "\n"
     ]
    }
   ],
   "source": [
    "df_clean_nlp.show(1)"
   ]
  },
  {
   "cell_type": "markdown",
   "metadata": {},
   "source": [
    "##### Hashing TF"
   ]
  },
  {
   "cell_type": "code",
   "execution_count": 34,
   "metadata": {},
   "outputs": [
    {
     "name": "stdout",
     "output_type": "stream",
     "text": [
      "+----------+-----------+----------------+-------------------+--------------------+-------------+-----------+--------------------+--------------------+-------+--------------------+--------------------+--------------------+--------------------+--------------------+--------------------+--------------------+\n",
      "|product_id|star_rating|product_category|    review_headline|         review_body|helpful_votes|total_votes|         review_text|       helpful_ratio|helpful|       review_text_l|            document|        review_words|   review_words_stop|review_words_lemstem|      token_features|         rawFeatures|\n",
      "+----------+-----------+----------------+-------------------+--------------------+-------------+-----------+--------------------+--------------------+-------+--------------------+--------------------+--------------------+--------------------+--------------------+--------------------+--------------------+\n",
      "|1844161560|          4|           Books|this isn't a review|never read it-a y...|            1|         22|this isn't a revi...|0.045454545454545456|      0|this isnt a revie...|[{document, 0, 12...|[{token, 0, 3, th...|[{token, 5, 8, is...|[{token, 5, 8, is...|[isnt, review, ne...|(10000,[15,281,23...|\n",
      "+----------+-----------+----------------+-------------------+--------------------+-------------+-----------+--------------------+--------------------+-------+--------------------+--------------------+--------------------+--------------------+--------------------+--------------------+--------------------+\n",
      "only showing top 1 row\n",
      "\n"
     ]
    }
   ],
   "source": [
    "hashingTF = HashingTF(inputCol=\"token_features\", outputCol=\"rawFeatures\", numFeatures = 10000)\n",
    "df_featurizedData = hashingTF.transform(df_clean_nlp)\n",
    "df_featurizedData.show(1)"
   ]
  },
  {
   "cell_type": "markdown",
   "metadata": {},
   "source": [
    "##### IDF"
   ]
  },
  {
   "cell_type": "code",
   "execution_count": 35,
   "metadata": {},
   "outputs": [
    {
     "name": "stdout",
     "output_type": "stream",
     "text": [
      "-RECORD 0-----------------------------------------------------------------------------------------------------------------------------------------------------------------------------------------------------------------------------------------------------------------------------------------------------------------------------------------------------------------------------------------------------------------------------------------------------------------------------------------------------------------------------------------------------------------------------------------------------------------------------------------------------------------------------------------------------------------------------------------------------------------------------------------------------------------------------------------------------------------------------------------------------------------------------------------------------------------------------------------------------------------------------------------------------------------------------------------------------------------------------------------------------------------\n",
      " product_id           | 1844161560                                                                                                                                                                                                                                                                                                                                                                                                                                                                                                                                                                                                                                                                                                                                                                                                                                                                                                                                                                                                                                                                                                                                        \n",
      " star_rating          | 4                                                                                                                                                                                                                                                                                                                                                                                                                                                                                                                                                                                                                                                                                                                                                                                                                                                                                                                                                                                                                                                                                                                                                 \n",
      " product_category     | Books                                                                                                                                                                                                                                                                                                                                                                                                                                                                                                                                                                                                                                                                                                                                                                                                                                                                                                                                                                                                                                                                                                                                             \n",
      " review_headline      | this isn't a review                                                                                                                                                                                                                                                                                                                                                                                                                                                                                                                                                                                                                                                                                                                                                                                                                                                                                                                                                                                                                                                                                                                               \n",
      " review_body          | never read it-a young relative idicated he liked it and somehow my name popped upon this--no more to say                                                                                                                                                                                                                                                                                                                                                                                                                                                                                                                                                                                                                                                                                                                                                                                                                                                                                                                                                                                                                                          \n",
      " helpful_votes        | 1                                                                                                                                                                                                                                                                                                                                                                                                                                                                                                                                                                                                                                                                                                                                                                                                                                                                                                                                                                                                                                                                                                                                                 \n",
      " total_votes          | 22                                                                                                                                                                                                                                                                                                                                                                                                                                                                                                                                                                                                                                                                                                                                                                                                                                                                                                                                                                                                                                                                                                                                                \n",
      " review_text          | this isn't a review never read it-a young relative idicated he liked it and somehow my name popped upon this--no more to say                                                                                                                                                                                                                                                                                                                                                                                                                                                                                                                                                                                                                                                                                                                                                                                                                                                                                                                                                                                                                      \n",
      " helpful_ratio        | 0.045454545454545456                                                                                                                                                                                                                                                                                                                                                                                                                                                                                                                                                                                                                                                                                                                                                                                                                                                                                                                                                                                                                                                                                                                              \n",
      " helpful              | 0                                                                                                                                                                                                                                                                                                                                                                                                                                                                                                                                                                                                                                                                                                                                                                                                                                                                                                                                                                                                                                                                                                                                                 \n",
      " review_text_l        | this isnt a review never read it a young relative idicated he liked it and somehow my name popped upon this no more to say                                                                                                                                                                                                                                                                                                                                                                                                                                                                                                                                                                                                                                                                                                                                                                                                                                                                                                                                                                                                                        \n",
      " document             | [{document, 0, 121, this isnt a review never read it a young relative idicated he liked it and somehow my name popped upon this no more to say, {sentence -> 0}, []}]                                                                                                                                                                                                                                                                                                                                                                                                                                                                                                                                                                                                                                                                                                                                                                                                                                                                                                                                                                             \n",
      " review_words         | [{token, 0, 3, this, {sentence -> 0}, []}, {token, 5, 8, isnt, {sentence -> 0}, []}, {token, 10, 10, a, {sentence -> 0}, []}, {token, 12, 17, review, {sentence -> 0}, []}, {token, 19, 23, never, {sentence -> 0}, []}, {token, 25, 28, read, {sentence -> 0}, []}, {token, 30, 31, it, {sentence -> 0}, []}, {token, 33, 33, a, {sentence -> 0}, []}, {token, 35, 39, young, {sentence -> 0}, []}, {token, 41, 48, relative, {sentence -> 0}, []}, {token, 50, 57, idicated, {sentence -> 0}, []}, {token, 59, 60, he, {sentence -> 0}, []}, {token, 62, 66, liked, {sentence -> 0}, []}, {token, 68, 69, it, {sentence -> 0}, []}, {token, 71, 73, and, {sentence -> 0}, []}, {token, 75, 81, somehow, {sentence -> 0}, []}, {token, 83, 84, my, {sentence -> 0}, []}, {token, 86, 89, name, {sentence -> 0}, []}, {token, 91, 96, popped, {sentence -> 0}, []}, {token, 98, 101, upon, {sentence -> 0}, []}, {token, 103, 106, this, {sentence -> 0}, []}, {token, 108, 109, no, {sentence -> 0}, []}, {token, 111, 114, more, {sentence -> 0}, []}, {token, 116, 117, to, {sentence -> 0}, []}, {token, 119, 121, say, {sentence -> 0}, []}] \n",
      " review_words_stop    | [{token, 5, 8, isnt, {sentence -> 0}, []}, {token, 12, 17, review, {sentence -> 0}, []}, {token, 19, 23, never, {sentence -> 0}, []}, {token, 25, 28, read, {sentence -> 0}, []}, {token, 35, 39, young, {sentence -> 0}, []}, {token, 41, 48, relative, {sentence -> 0}, []}, {token, 50, 57, idicated, {sentence -> 0}, []}, {token, 62, 66, liked, {sentence -> 0}, []}, {token, 75, 81, somehow, {sentence -> 0}, []}, {token, 86, 89, name, {sentence -> 0}, []}, {token, 91, 96, popped, {sentence -> 0}, []}, {token, 98, 101, upon, {sentence -> 0}, []}, {token, 119, 121, say, {sentence -> 0}, []}]                                                                                                                                                                                                                                                                                                                                                                                                                                                                                                                                    \n",
      " review_words_lemstem | [{token, 5, 8, isnt, {sentence -> 0}, []}, {token, 12, 17, review, {sentence -> 0}, []}, {token, 19, 23, never, {sentence -> 0}, []}, {token, 25, 28, read, {sentence -> 0}, []}, {token, 35, 39, young, {sentence -> 0}, []}, {token, 41, 48, rel, {sentence -> 0}, []}, {token, 50, 57, idic, {sentence -> 0}, []}, {token, 62, 66, like, {sentence -> 0}, []}, {token, 75, 81, somehow, {sentence -> 0}, []}, {token, 86, 89, name, {sentence -> 0}, []}, {token, 91, 96, pop, {sentence -> 0}, []}, {token, 98, 101, upon, {sentence -> 0}, []}, {token, 119, 121, sai, {sentence -> 0}, []}]                                                                                                                                                                                                                                                                                                                                                                                                                                                                                                                                                 \n",
      " token_features       | [isnt, review, never, read, young, rel, idic, like, somehow, name, pop, upon, sai]                                                                                                                                                                                                                                                                                                                                                                                                                                                                                                                                                                                                                                                                                                                                                                                                                                                                                                                                                                                                                                                                \n",
      " rawFeatures          | (10000,[15,281,2309,3330,3827,4053,6260,6289,6735,6916,7650,7809,9659],[1.0,1.0,1.0,1.0,1.0,1.0,1.0,1.0,1.0,1.0,1.0,1.0,1.0])                                                                                                                                                                                                                                                                                                                                                                                                                                                                                                                                                                                                                                                                                                                                                                                                                                                                                                                                                                                                                     \n",
      " features             | (10000,[15,281,2309,3330,3827,4053,6260,6289,6735,6916,7650,7809,9659],[2.579305459580372,1.9901939792001706,1.8830875119321784,1.0999707906079828,7.147202241526697,4.053517778705543,1.9876073445653866,3.752818141098589,3.2974487284916902,2.7575001125139726,0.6393580782178004,2.9533076627421484,4.6124142284011])                                                                                                                                                                                                                                                                                                                                                                                                                                                                                                                                                                                                                                                                                                                                                                                                                         \n",
      "only showing top 1 row\n",
      "\n",
      "Wall time: 3min 58s\n"
     ]
    }
   ],
   "source": [
    "%%time\n",
    "idf = IDF(inputCol=\"rawFeatures\", outputCol=\"features\")\n",
    "df_nlp = idf.fit(df_featurizedData).transform(df_featurizedData)\n",
    "df_nlp.show(1, vertical = True, truncate = False)"
   ]
  },
  {
   "cell_type": "code",
   "execution_count": 36,
   "metadata": {},
   "outputs": [
    {
     "name": "stdout",
     "output_type": "stream",
     "text": [
      "-RECORD 0-----------------------------------------------------------------------------------------------------------------------------------------------------------------------------------------------------------------------------------------------------------------------------------------------------------------------------------------------------------------------------------------------------------------------------------------------------------------------------------------------------------------------------------------------------------------------------------------------------------------------------------------------------------------------------------------------------------------------------------------------------------------------------------------------------------------------------------------------------------------------------------------------------------------------------------------------------------------------------------------------------------------------------------------------------------------------------------------------------------------------------------------------------------------\n",
      " product_id           | 1844161560                                                                                                                                                                                                                                                                                                                                                                                                                                                                                                                                                                                                                                                                                                                                                                                                                                                                                                                                                                                                                                                                                                                                        \n",
      " star_rating          | 4                                                                                                                                                                                                                                                                                                                                                                                                                                                                                                                                                                                                                                                                                                                                                                                                                                                                                                                                                                                                                                                                                                                                                 \n",
      " product_category     | Books                                                                                                                                                                                                                                                                                                                                                                                                                                                                                                                                                                                                                                                                                                                                                                                                                                                                                                                                                                                                                                                                                                                                             \n",
      " review_headline      | this isn't a review                                                                                                                                                                                                                                                                                                                                                                                                                                                                                                                                                                                                                                                                                                                                                                                                                                                                                                                                                                                                                                                                                                                               \n",
      " review_body          | never read it-a young relative idicated he liked it and somehow my name popped upon this--no more to say                                                                                                                                                                                                                                                                                                                                                                                                                                                                                                                                                                                                                                                                                                                                                                                                                                                                                                                                                                                                                                          \n",
      " helpful_votes        | 1                                                                                                                                                                                                                                                                                                                                                                                                                                                                                                                                                                                                                                                                                                                                                                                                                                                                                                                                                                                                                                                                                                                                                 \n",
      " total_votes          | 22                                                                                                                                                                                                                                                                                                                                                                                                                                                                                                                                                                                                                                                                                                                                                                                                                                                                                                                                                                                                                                                                                                                                                \n",
      " review_text          | this isn't a review never read it-a young relative idicated he liked it and somehow my name popped upon this--no more to say                                                                                                                                                                                                                                                                                                                                                                                                                                                                                                                                                                                                                                                                                                                                                                                                                                                                                                                                                                                                                      \n",
      " helpful_ratio        | 0.045454545454545456                                                                                                                                                                                                                                                                                                                                                                                                                                                                                                                                                                                                                                                                                                                                                                                                                                                                                                                                                                                                                                                                                                                              \n",
      " helpful              | 0                                                                                                                                                                                                                                                                                                                                                                                                                                                                                                                                                                                                                                                                                                                                                                                                                                                                                                                                                                                                                                                                                                                                                 \n",
      " review_text_l        | this isnt a review never read it a young relative idicated he liked it and somehow my name popped upon this no more to say                                                                                                                                                                                                                                                                                                                                                                                                                                                                                                                                                                                                                                                                                                                                                                                                                                                                                                                                                                                                                        \n",
      " document             | [{document, 0, 121, this isnt a review never read it a young relative idicated he liked it and somehow my name popped upon this no more to say, {sentence -> 0}, []}]                                                                                                                                                                                                                                                                                                                                                                                                                                                                                                                                                                                                                                                                                                                                                                                                                                                                                                                                                                             \n",
      " review_words         | [{token, 0, 3, this, {sentence -> 0}, []}, {token, 5, 8, isnt, {sentence -> 0}, []}, {token, 10, 10, a, {sentence -> 0}, []}, {token, 12, 17, review, {sentence -> 0}, []}, {token, 19, 23, never, {sentence -> 0}, []}, {token, 25, 28, read, {sentence -> 0}, []}, {token, 30, 31, it, {sentence -> 0}, []}, {token, 33, 33, a, {sentence -> 0}, []}, {token, 35, 39, young, {sentence -> 0}, []}, {token, 41, 48, relative, {sentence -> 0}, []}, {token, 50, 57, idicated, {sentence -> 0}, []}, {token, 59, 60, he, {sentence -> 0}, []}, {token, 62, 66, liked, {sentence -> 0}, []}, {token, 68, 69, it, {sentence -> 0}, []}, {token, 71, 73, and, {sentence -> 0}, []}, {token, 75, 81, somehow, {sentence -> 0}, []}, {token, 83, 84, my, {sentence -> 0}, []}, {token, 86, 89, name, {sentence -> 0}, []}, {token, 91, 96, popped, {sentence -> 0}, []}, {token, 98, 101, upon, {sentence -> 0}, []}, {token, 103, 106, this, {sentence -> 0}, []}, {token, 108, 109, no, {sentence -> 0}, []}, {token, 111, 114, more, {sentence -> 0}, []}, {token, 116, 117, to, {sentence -> 0}, []}, {token, 119, 121, say, {sentence -> 0}, []}] \n",
      " review_words_stop    | [{token, 5, 8, isnt, {sentence -> 0}, []}, {token, 12, 17, review, {sentence -> 0}, []}, {token, 19, 23, never, {sentence -> 0}, []}, {token, 25, 28, read, {sentence -> 0}, []}, {token, 35, 39, young, {sentence -> 0}, []}, {token, 41, 48, relative, {sentence -> 0}, []}, {token, 50, 57, idicated, {sentence -> 0}, []}, {token, 62, 66, liked, {sentence -> 0}, []}, {token, 75, 81, somehow, {sentence -> 0}, []}, {token, 86, 89, name, {sentence -> 0}, []}, {token, 91, 96, popped, {sentence -> 0}, []}, {token, 98, 101, upon, {sentence -> 0}, []}, {token, 119, 121, say, {sentence -> 0}, []}]                                                                                                                                                                                                                                                                                                                                                                                                                                                                                                                                    \n",
      " review_words_lemstem | [{token, 5, 8, isnt, {sentence -> 0}, []}, {token, 12, 17, review, {sentence -> 0}, []}, {token, 19, 23, never, {sentence -> 0}, []}, {token, 25, 28, read, {sentence -> 0}, []}, {token, 35, 39, young, {sentence -> 0}, []}, {token, 41, 48, rel, {sentence -> 0}, []}, {token, 50, 57, idic, {sentence -> 0}, []}, {token, 62, 66, like, {sentence -> 0}, []}, {token, 75, 81, somehow, {sentence -> 0}, []}, {token, 86, 89, name, {sentence -> 0}, []}, {token, 91, 96, pop, {sentence -> 0}, []}, {token, 98, 101, upon, {sentence -> 0}, []}, {token, 119, 121, sai, {sentence -> 0}, []}]                                                                                                                                                                                                                                                                                                                                                                                                                                                                                                                                                 \n",
      " token_features       | [isnt, review, never, read, young, rel, idic, like, somehow, name, pop, upon, sai]                                                                                                                                                                                                                                                                                                                                                                                                                                                                                                                                                                                                                                                                                                                                                                                                                                                                                                                                                                                                                                                                \n",
      " rawFeatures          | (10000,[15,281,2309,3330,3827,4053,6260,6289,6735,6916,7650,7809,9659],[1.0,1.0,1.0,1.0,1.0,1.0,1.0,1.0,1.0,1.0,1.0,1.0,1.0])                                                                                                                                                                                                                                                                                                                                                                                                                                                                                                                                                                                                                                                                                                                                                                                                                                                                                                                                                                                                                     \n",
      " features             | (10000,[15,281,2309,3330,3827,4053,6260,6289,6735,6916,7650,7809,9659],[2.579305459580372,1.9901939792001706,1.8830875119321784,1.0999707906079828,7.147202241526697,4.053517778705543,1.9876073445653866,3.752818141098589,3.2974487284916902,2.7575001125139726,0.6393580782178004,2.9533076627421484,4.6124142284011])                                                                                                                                                                                                                                                                                                                                                                                                                                                                                                                                                                                                                                                                                                                                                                                                                         \n",
      "only showing top 1 row\n",
      "\n"
     ]
    }
   ],
   "source": [
    "df_nlp.show(1, vertical = True, truncate = False)"
   ]
  },
  {
   "cell_type": "code",
   "execution_count": 37,
   "metadata": {},
   "outputs": [],
   "source": [
    "nlpdf_model = df_nlp.select('helpful','features')"
   ]
  },
  {
   "cell_type": "code",
   "execution_count": 38,
   "metadata": {},
   "outputs": [],
   "source": [
    "from pyspark.sql.types import IntegerType\n",
    "nlpdf_model = nlpdf_model.withColumn('helpful',col('helpful').cast(IntegerType()))"
   ]
  },
  {
   "cell_type": "markdown",
   "metadata": {},
   "source": [
    "##### Train & Test Split"
   ]
  },
  {
   "cell_type": "code",
   "execution_count": 39,
   "metadata": {},
   "outputs": [],
   "source": [
    "train, test = nlpdf_model.randomSplit([0.8, 0.2], seed=12345)"
   ]
  },
  {
   "cell_type": "markdown",
   "metadata": {},
   "source": [
    "## NLP Modeling"
   ]
  },
  {
   "cell_type": "markdown",
   "metadata": {},
   "source": [
    "#### Logistic Regression (1 = Helpful, 0 = Not Helpful)"
   ]
  },
  {
   "cell_type": "code",
   "execution_count": 40,
   "metadata": {},
   "outputs": [
    {
     "name": "stdout",
     "output_type": "stream",
     "text": [
      "0.8457380359987091\n",
      "0.8185121909046682\n",
      "0.8220044724092876\n",
      "0.8457380359987091\n",
      "Wall time: 47min 54s\n"
     ]
    }
   ],
   "source": [
    "%%time\n",
    "lr = LogisticRegression(featuresCol = 'features', labelCol='helpful')\n",
    "\n",
    "paramGrid = (ParamGridBuilder().addGrid(lr.regParam, [0.3, 0.0]).addGrid(lr.elasticNetParam, [0.0]).addGrid(lr.maxIter, [20, 100]).build())\n",
    "\n",
    "#Evaluator\n",
    "evaluator = MulticlassClassificationEvaluator(labelCol='helpful', predictionCol=\"prediction\")\n",
    "    \n",
    "# Create 3-fold CrossValidator\n",
    "cv = CrossValidator(estimator=lr,estimatorParamMaps=paramGrid,evaluator=evaluator,numFolds=3)\n",
    "\n",
    "cvModel = cv.fit(train)\n",
    "\n",
    "predictions = cvModel.transform(train)\n",
    "\n",
    "print(evaluator.evaluate(predictions, {evaluator.metricName: \"accuracy\"}))\n",
    "print(evaluator.evaluate(predictions, {evaluator.metricName: \"f1\"}))\n",
    "print(evaluator.evaluate(predictions, {evaluator.metricName: \"weightedPrecision\"}))\n",
    "print(evaluator.evaluate(predictions, {evaluator.metricName: \"weightedRecall\"}))"
   ]
  },
  {
   "cell_type": "code",
   "execution_count": 43,
   "metadata": {},
   "outputs": [
    {
     "name": "stdout",
     "output_type": "stream",
     "text": [
      "{Param(parent='LogisticRegression_f4ca8e670030', name='regParam', doc='regularization parameter (>= 0).'): 0.0, Param(parent='LogisticRegression_f4ca8e670030', name='elasticNetParam', doc='the ElasticNet mixing parameter, in range [0, 1]. For alpha = 0, the penalty is an L2 penalty. For alpha = 1, it is an L1 penalty.'): 0.0, Param(parent='LogisticRegression_f4ca8e670030', name='maxIter', doc='max number of iterations (>= 0).'): 100}\n"
     ]
    }
   ],
   "source": [
    "print(cvModel.getEstimatorParamMaps()[np.argmax(cvModel.avgMetrics)])"
   ]
  },
  {
   "cell_type": "code",
   "execution_count": 44,
   "metadata": {},
   "outputs": [
    {
     "name": "stdout",
     "output_type": "stream",
     "text": [
      "0.8389669894824534\n",
      "0.8106657630170122\n",
      "0.8115781069661544\n",
      "0.8389669894824534\n",
      "Wall time: 15min 27s\n"
     ]
    }
   ],
   "source": [
    "%%time\n",
    "predictions = cvModel.transform(test)\n",
    "\n",
    "print(evaluator.evaluate(predictions, {evaluator.metricName: \"accuracy\"}))\n",
    "print(evaluator.evaluate(predictions, {evaluator.metricName: \"f1\"}))\n",
    "print(evaluator.evaluate(predictions, {evaluator.metricName: \"weightedPrecision\"}))\n",
    "print(evaluator.evaluate(predictions, {evaluator.metricName: \"weightedRecall\"}))"
   ]
  },
  {
   "cell_type": "markdown",
   "metadata": {},
   "source": [
    "#### Naive Bayes Classifier (1 = Helpful, 0 = Not Helpful)"
   ]
  },
  {
   "cell_type": "code",
   "execution_count": 45,
   "metadata": {},
   "outputs": [
    {
     "name": "stdout",
     "output_type": "stream",
     "text": [
      "0.7433061972329505\n",
      "0.7674531564656418\n",
      "0.8143723191564919\n",
      "0.7433061972329505\n",
      "Wall time: 42min 41s\n"
     ]
    }
   ],
   "source": [
    "%%time\n",
    "nb = NaiveBayes(featuresCol='features', labelCol='helpful')\n",
    "\n",
    "paramGrid = (ParamGridBuilder().addGrid(nb.smoothing, [0.1, 0.5, 1.0]).build())\n",
    "\n",
    "#Evaluator\n",
    "evaluator = MulticlassClassificationEvaluator(labelCol='helpful', predictionCol=\"prediction\")\n",
    "    \n",
    "# Create 3-fold CrossValidator\n",
    "cv = CrossValidator(estimator=nb,estimatorParamMaps=paramGrid,evaluator=evaluator,numFolds=3)\n",
    "\n",
    "cvModel = cv.fit(train)\n",
    "\n",
    "predictions = cvModel.transform(train)\n",
    "\n",
    "print(evaluator.evaluate(predictions, {evaluator.metricName: \"accuracy\"}))\n",
    "print(evaluator.evaluate(predictions, {evaluator.metricName: \"f1\"}))\n",
    "print(evaluator.evaluate(predictions, {evaluator.metricName: \"weightedPrecision\"}))\n",
    "print(evaluator.evaluate(predictions, {evaluator.metricName: \"weightedRecall\"}))"
   ]
  },
  {
   "cell_type": "code",
   "execution_count": 46,
   "metadata": {},
   "outputs": [
    {
     "name": "stdout",
     "output_type": "stream",
     "text": [
      "{Param(parent='NaiveBayes_3bd72ea0cc04', name='smoothing', doc='The smoothing parameter, should be >= 0, default is 1.0'): 0.5}\n"
     ]
    }
   ],
   "source": [
    "print(cvModel.getEstimatorParamMaps()[np.argmax(cvModel.avgMetrics)])"
   ]
  },
  {
   "cell_type": "code",
   "execution_count": 47,
   "metadata": {},
   "outputs": [
    {
     "name": "stdout",
     "output_type": "stream",
     "text": [
      "0.741960845569093\n",
      "0.7657160207128032\n",
      "0.81116959747612\n",
      "0.7419608455690929\n",
      "Wall time: 15min 29s\n"
     ]
    }
   ],
   "source": [
    "%%time\n",
    "predictions = cvModel.transform(test)\n",
    "\n",
    "print(evaluator.evaluate(predictions, {evaluator.metricName: \"accuracy\"}))\n",
    "print(evaluator.evaluate(predictions, {evaluator.metricName: \"f1\"}))\n",
    "print(evaluator.evaluate(predictions, {evaluator.metricName: \"weightedPrecision\"}))\n",
    "print(evaluator.evaluate(predictions, {evaluator.metricName: \"weightedRecall\"}))"
   ]
  },
  {
   "cell_type": "markdown",
   "metadata": {},
   "source": [
    "#### Random Forest Classifier (1 = Helpful, 0 = Not Helpful)"
   ]
  },
  {
   "cell_type": "code",
   "execution_count": 48,
   "metadata": {},
   "outputs": [
    {
     "name": "stdout",
     "output_type": "stream",
     "text": [
      "0.8275200657928982\n",
      "0.7494193602659852\n",
      "0.6847894592898824\n",
      "0.8275200657928982\n",
      "Wall time: 1h 1min 49s\n"
     ]
    }
   ],
   "source": [
    "%%time\n",
    "rfc = RandomForestClassifier(impurity=\"gini\", featuresCol='features', labelCol=\"helpful\")\n",
    "\n",
    "paramGrid = (ParamGridBuilder().addGrid(rfc.impurity, ['gini', 'entropy']).addGrid(rfc.maxBins, [32, 100]).build())\n",
    "\n",
    "#Evaluator\n",
    "evaluator = MulticlassClassificationEvaluator(labelCol='helpful', predictionCol=\"prediction\")\n",
    "    \n",
    "# Create 3-fold CrossValidator\n",
    "cv = CrossValidator(estimator=rfc,estimatorParamMaps=paramGrid,evaluator=evaluator,numFolds=3)\n",
    "\n",
    "cvModel = cv.fit(train)\n",
    "\n",
    "predictions = cvModel.transform(train)\n",
    "\n",
    "print(evaluator.evaluate(predictions, {evaluator.metricName: \"accuracy\"}))\n",
    "print(evaluator.evaluate(predictions, {evaluator.metricName: \"f1\"}))\n",
    "print(evaluator.evaluate(predictions, {evaluator.metricName: \"weightedPrecision\"}))\n",
    "print(evaluator.evaluate(predictions, {evaluator.metricName: \"weightedRecall\"}))"
   ]
  },
  {
   "cell_type": "code",
   "execution_count": 49,
   "metadata": {},
   "outputs": [
    {
     "name": "stdout",
     "output_type": "stream",
     "text": [
      "{Param(parent='RandomForestClassifier_577094c70bcc', name='impurity', doc='Criterion used for information gain calculation (case-insensitive). Supported options: entropy, gini'): 'gini', Param(parent='RandomForestClassifier_577094c70bcc', name='maxBins', doc='Max number of bins for discretizing continuous features.  Must be >=2 and >= number of categories for any categorical feature.'): 32}\n"
     ]
    }
   ],
   "source": [
    "print(cvModel.getEstimatorParamMaps()[np.argmax(cvModel.avgMetrics)])"
   ]
  },
  {
   "cell_type": "code",
   "execution_count": 50,
   "metadata": {},
   "outputs": [
    {
     "name": "stdout",
     "output_type": "stream",
     "text": [
      "0.826252212850151\n",
      "0.7476434135834097\n",
      "0.6826927192397713\n",
      "0.826252212850151\n",
      "Wall time: 15min 33s\n"
     ]
    }
   ],
   "source": [
    "%%time\n",
    "predictions = cvModel.transform(test)\n",
    "\n",
    "print(evaluator.evaluate(predictions, {evaluator.metricName: \"accuracy\"}))\n",
    "print(evaluator.evaluate(predictions, {evaluator.metricName: \"f1\"}))\n",
    "print(evaluator.evaluate(predictions, {evaluator.metricName: \"weightedPrecision\"}))\n",
    "print(evaluator.evaluate(predictions, {evaluator.metricName: \"weightedRecall\"}))"
   ]
  },
  {
   "cell_type": "code",
   "execution_count": null,
   "metadata": {},
   "outputs": [],
   "source": []
  }
 ],
 "metadata": {
  "kernelspec": {
   "display_name": "Python 3",
   "language": "python",
   "name": "python3"
  },
  "language_info": {
   "codemirror_mode": {
    "name": "ipython",
    "version": 3
   },
   "file_extension": ".py",
   "mimetype": "text/x-python",
   "name": "python",
   "nbconvert_exporter": "python",
   "pygments_lexer": "ipython3",
   "version": "3.7.6"
  }
 },
 "nbformat": 4,
 "nbformat_minor": 4
}
