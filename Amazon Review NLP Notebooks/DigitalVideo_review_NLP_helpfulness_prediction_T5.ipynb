{
 "cells": [
  {
   "cell_type": "markdown",
   "metadata": {},
   "source": [
    "# Review NLP Helpfulness Prediction T5 (Digital Video)"
   ]
  },
  {
   "cell_type": "markdown",
   "metadata": {},
   "source": [
    "## Creating Spark Session & Importing All Necessary Libraries"
   ]
  },
  {
   "cell_type": "code",
   "execution_count": 1,
   "metadata": {},
   "outputs": [],
   "source": [
    "import findspark\n",
    "findspark.init()"
   ]
  },
  {
   "cell_type": "code",
   "execution_count": 2,
   "metadata": {},
   "outputs": [],
   "source": [
    "# Import Spark NLP\n",
    "from sparknlp.base import *\n",
    "from sparknlp.annotator import *\n",
    "from sparknlp.pretrained import PretrainedPipeline\n",
    "from pyspark.sql import functions as F\n",
    "\n",
    "import sparknlp\n",
    "\n",
    "# Start SparkSession with Spark NLP\n",
    "# start() functions has 5 parameters: gpu, spark23, spark24, spark32, and memory\n",
    "# sparknlp.start(gpu=True) will start the session with GPU support\n",
    "# sparknlp.start(spark23=True) is when you have Apache Spark 2.3.x installed\n",
    "# sparknlp.start(spark24=True) is when you have Apache Spark 2.4.x installed\n",
    "# sparknlp.start(spark32=True) is when you have Apache Spark 3.2.x installed\n",
    "# sparknlp.start(memory=\"16G\") to change the default driver memory in SparkSession\n",
    "spark = sparknlp.start(gpu = True, spark32= True)"
   ]
  },
  {
   "cell_type": "code",
   "execution_count": 3,
   "metadata": {},
   "outputs": [],
   "source": [
    "from pyspark.sql.functions import col, concat_ws"
   ]
  },
  {
   "cell_type": "markdown",
   "metadata": {},
   "source": [
    "### Reading in Data"
   ]
  },
  {
   "cell_type": "code",
   "execution_count": 4,
   "metadata": {},
   "outputs": [],
   "source": [
    "df = spark.read \\\n",
    "    .option(\"quote\", \"\\\"\")  \\\n",
    "    .option(\"escape\", \"\\\"\") \\\n",
    "    .option(\"ignoreLeadingWhiteSpace\",True) \\\n",
    "    .csv(r\"C:\\Users\\kenne\\OneDrive\\Desktop\\UChicago\\Python\\Final Project Big Data Amazon Review\\Amazon Review Kaggle Data\\amazon_reviews_us_Digital_Video_Download_v1_00.tsv\",inferSchema=True,header=True, sep='\\t' )"
   ]
  },
  {
   "cell_type": "markdown",
   "metadata": {},
   "source": [
    "## Code Cleaning"
   ]
  },
  {
   "cell_type": "code",
   "execution_count": 5,
   "metadata": {
    "scrolled": true
   },
   "outputs": [
    {
     "name": "stdout",
     "output_type": "stream",
     "text": [
      "-RECORD 0-----------------------------------------------------------------------------------------------------\n",
      " marketplace       | US                                                                                       \n",
      " customer_id       | 12190288                                                                                 \n",
      " review_id         | R3FU16928EP5TC                                                                           \n",
      " product_id        | B00AYB1482                                                                               \n",
      " product_parent    | 668895143                                                                                \n",
      " product_title     | Enlightened: Season 1                                                                    \n",
      " product_category  | Digital_Video_Download                                                                   \n",
      " star_rating       | 5                                                                                        \n",
      " helpful_votes     | 0                                                                                        \n",
      " total_votes       | 0                                                                                        \n",
      " vine              | N                                                                                        \n",
      " verified_purchase | Y                                                                                        \n",
      " review_headline   | I loved it and I wish there was a season 3                                               \n",
      " review_body       | I loved it and I wish there was a season 3... I watched season 2 and loved that as well! \n",
      " review_date       | 2015-08-31                                                                               \n",
      "only showing top 1 row\n",
      "\n"
     ]
    }
   ],
   "source": [
    "df.show(1, vertical = True, truncate = False)"
   ]
  },
  {
   "cell_type": "code",
   "execution_count": 6,
   "metadata": {},
   "outputs": [],
   "source": [
    "df = df.select('product_id', 'star_rating', 'product_category', 'review_headline', 'review_body', 'helpful_votes', 'total_votes')"
   ]
  },
  {
   "cell_type": "code",
   "execution_count": 7,
   "metadata": {},
   "outputs": [
    {
     "name": "stdout",
     "output_type": "stream",
     "text": [
      "-RECORD 0----------------------------------------------------------------------------------------------------\n",
      " product_id       | B00AYB1482                                                                               \n",
      " star_rating      | 5                                                                                        \n",
      " product_category | Digital_Video_Download                                                                   \n",
      " review_headline  | I loved it and I wish there was a season 3                                               \n",
      " review_body      | I loved it and I wish there was a season 3... I watched season 2 and loved that as well! \n",
      " helpful_votes    | 0                                                                                        \n",
      " total_votes      | 0                                                                                        \n",
      "only showing top 1 row\n",
      "\n"
     ]
    }
   ],
   "source": [
    "df.show(1, vertical = True, truncate = False)"
   ]
  },
  {
   "cell_type": "code",
   "execution_count": 8,
   "metadata": {},
   "outputs": [
    {
     "data": {
      "text/plain": [
       "4056163"
      ]
     },
     "execution_count": 8,
     "metadata": {},
     "output_type": "execute_result"
    }
   ],
   "source": [
    "df.dropna().count()"
   ]
  },
  {
   "cell_type": "code",
   "execution_count": 9,
   "metadata": {},
   "outputs": [
    {
     "name": "stdout",
     "output_type": "stream",
     "text": [
      "+----------+-----------+----------------+---------------+-----------+-------------+-----------+\n",
      "|product_id|star_rating|product_category|review_headline|review_body|helpful_votes|total_votes|\n",
      "+----------+-----------+----------------+---------------+-----------+-------------+-----------+\n",
      "|         0|          0|               0|            369|        616|            0|          0|\n",
      "+----------+-----------+----------------+---------------+-----------+-------------+-----------+\n",
      "\n"
     ]
    }
   ],
   "source": [
    "from pyspark.sql.functions import col,isnan, when, count\n",
    "df.select([count(when(isnan(c) | col(c).isNull(), c)).alias(c) for c in df.columns]\n",
    "   ).show()"
   ]
  },
  {
   "cell_type": "code",
   "execution_count": 10,
   "metadata": {},
   "outputs": [
    {
     "name": "stdout",
     "output_type": "stream",
     "text": [
      "-RECORD 0----------------\n",
      " product_id       | 19   \n",
      " star_rating      | 0    \n",
      " product_category | 0    \n",
      " review_headline  | 601  \n",
      " review_body      | 4460 \n",
      " helpful_votes    | 0    \n",
      " total_votes      | 0    \n",
      "\n"
     ]
    }
   ],
   "source": [
    "df2 = df.select([count(when(col(c).contains('None') | \\\n",
    "                            col(c).contains('NULL') | \\\n",
    "                            (col(c) == '' ) | \\\n",
    "                            col(c).isNull() | \\\n",
    "                            isnan(c), c \n",
    "                           )).alias(c)\n",
    "                    for c in df.columns])\n",
    "df2.count()\n",
    "df2.show(5, vertical = True)"
   ]
  },
  {
   "cell_type": "code",
   "execution_count": 11,
   "metadata": {},
   "outputs": [
    {
     "data": {
      "text/plain": [
       "62710"
      ]
     },
     "execution_count": 11,
     "metadata": {},
     "output_type": "execute_result"
    }
   ],
   "source": [
    "df = df.filter(col('total_votes') > 10)\n",
    "df.count()"
   ]
  },
  {
   "cell_type": "code",
   "execution_count": 12,
   "metadata": {},
   "outputs": [],
   "source": [
    "df = df.fillna(\"\", \"review_body\")\n",
    "df = df.fillna(\"\", \"review_headline\")"
   ]
  },
  {
   "cell_type": "code",
   "execution_count": 13,
   "metadata": {},
   "outputs": [
    {
     "name": "stdout",
     "output_type": "stream",
     "text": [
      "-RECORD 0----------------------------------------------------------------------------------------------------------------------------------------------------------------------------------------------------------------------------------------------------------------------------------------------------------------------------------------------------------------------------------------------------------------------------------------------------------------------------------------------------------------------------------\n",
      " product_id       | B01489L5LQ                                                                                                                                                                                                                                                                                                                                                                                                                                                                                                             \n",
      " star_rating      | 4                                                                                                                                                                                                                                                                                                                                                                                                                                                                                                                      \n",
      " product_category | Digital_Video_Download                                                                                                                                                                                                                                                                                                                                                                                                                                                                                                 \n",
      " review_headline  | Charming movie                                                                                                                                                                                                                                                                                                                                                                                                                                                                                                         \n",
      " review_body      | This movie isn't perfect, but it gets a lot of things right. Yes, the librarian character played by Marcia Gay Harden is stereotypical and played a bit heavy-handed. But the universal nature of the story, the beautiful setting, and the likability of the characters overcome this flaw. The quote at the end brought tears to my eyes.  If you want to take a break from Hollywood's standard fare of dark, violent, or stupid movies, then give this a try. It is is entertaining and thoughtful.                \n",
      " helpful_votes    | 17                                                                                                                                                                                                                                                                                                                                                                                                                                                                                                                     \n",
      " total_votes      | 18                                                                                                                                                                                                                                                                                                                                                                                                                                                                                                                     \n",
      " review_text      | Charming movie This movie isn't perfect, but it gets a lot of things right. Yes, the librarian character played by Marcia Gay Harden is stereotypical and played a bit heavy-handed. But the universal nature of the story, the beautiful setting, and the likability of the characters overcome this flaw. The quote at the end brought tears to my eyes.  If you want to take a break from Hollywood's standard fare of dark, violent, or stupid movies, then give this a try. It is is entertaining and thoughtful. \n",
      "only showing top 1 row\n",
      "\n"
     ]
    }
   ],
   "source": [
    "df = df.withColumn('review_text', F.concat('review_headline', F.lit(\" \"), 'review_body'))\n",
    "df.show(1, vertical = True, truncate = False)"
   ]
  },
  {
   "cell_type": "code",
   "execution_count": 14,
   "metadata": {},
   "outputs": [
    {
     "name": "stdout",
     "output_type": "stream",
     "text": [
      "(0 rows)\n",
      "\n"
     ]
    }
   ],
   "source": [
    "df.filter((col(\"review_text\").isNull()) | ( col(\"review_text\") == \"\")).show(1, vertical = True, truncate = False)"
   ]
  },
  {
   "cell_type": "code",
   "execution_count": 15,
   "metadata": {},
   "outputs": [
    {
     "name": "stdout",
     "output_type": "stream",
     "text": [
      "-RECORD 0---------------\n",
      " product_id       | 0   \n",
      " star_rating      | 0   \n",
      " product_category | 0   \n",
      " review_headline  | 1   \n",
      " review_body      | 23  \n",
      " helpful_votes    | 0   \n",
      " total_votes      | 0   \n",
      " review_text      | 0   \n",
      "\n"
     ]
    }
   ],
   "source": [
    "df.select([count(when((col(c) == '' ) | \\\n",
    "                            col(c).isNull() | \\\n",
    "                            isnan(c), c \n",
    "                           )).alias(c)\n",
    "                    for c in df.columns]).show(5, vertical = True)"
   ]
  },
  {
   "cell_type": "code",
   "execution_count": 16,
   "metadata": {},
   "outputs": [
    {
     "name": "stdout",
     "output_type": "stream",
     "text": [
      "-RECORD 0----------------------------------------------------------------------------------------------------------------------------------------------------------------------------------------------------------------------------------------------------------------------------------------------------------------------------------------------------------------------------------------------------------------------------------------------------------------------------------------------------------------------------------\n",
      " product_id       | B01489L5LQ                                                                                                                                                                                                                                                                                                                                                                                                                                                                                                             \n",
      " star_rating      | 4                                                                                                                                                                                                                                                                                                                                                                                                                                                                                                                      \n",
      " product_category | Digital_Video_Download                                                                                                                                                                                                                                                                                                                                                                                                                                                                                                 \n",
      " review_headline  | Charming movie                                                                                                                                                                                                                                                                                                                                                                                                                                                                                                         \n",
      " review_body      | This movie isn't perfect, but it gets a lot of things right. Yes, the librarian character played by Marcia Gay Harden is stereotypical and played a bit heavy-handed. But the universal nature of the story, the beautiful setting, and the likability of the characters overcome this flaw. The quote at the end brought tears to my eyes.  If you want to take a break from Hollywood's standard fare of dark, violent, or stupid movies, then give this a try. It is is entertaining and thoughtful.                \n",
      " helpful_votes    | 17                                                                                                                                                                                                                                                                                                                                                                                                                                                                                                                     \n",
      " total_votes      | 18                                                                                                                                                                                                                                                                                                                                                                                                                                                                                                                     \n",
      " review_text      | Charming movie This movie isn't perfect, but it gets a lot of things right. Yes, the librarian character played by Marcia Gay Harden is stereotypical and played a bit heavy-handed. But the universal nature of the story, the beautiful setting, and the likability of the characters overcome this flaw. The quote at the end brought tears to my eyes.  If you want to take a break from Hollywood's standard fare of dark, violent, or stupid movies, then give this a try. It is is entertaining and thoughtful. \n",
      " helpful_ratio    | 0.9444444444444444                                                                                                                                                                                                                                                                                                                                                                                                                                                                                                     \n",
      "only showing top 1 row\n",
      "\n"
     ]
    }
   ],
   "source": [
    "df = df.withColumn('helpful_ratio', F.col('helpful_votes') / F.col('total_votes'))\n",
    "df.show(1, vertical = True, truncate = False)"
   ]
  },
  {
   "cell_type": "code",
   "execution_count": 17,
   "metadata": {},
   "outputs": [
    {
     "data": {
      "text/plain": [
       "0"
      ]
     },
     "execution_count": 17,
     "metadata": {},
     "output_type": "execute_result"
    }
   ],
   "source": [
    "df.filter(col('helpful_ratio') < 0).count()"
   ]
  },
  {
   "cell_type": "code",
   "execution_count": 18,
   "metadata": {},
   "outputs": [],
   "source": [
    "df = df.withColumn('helpful', when(col(\"helpful_ratio\") < 0.5, 0).otherwise(1))"
   ]
  },
  {
   "cell_type": "code",
   "execution_count": 19,
   "metadata": {
    "scrolled": true
   },
   "outputs": [
    {
     "name": "stdout",
     "output_type": "stream",
     "text": [
      "-RECORD 0--------------------------------\n",
      " product_id       | B01489L5LQ           \n",
      " star_rating      | 4                    \n",
      " product_category | Digital_Video_Dow... \n",
      " review_headline  | Charming movie       \n",
      " review_body      | This movie isn't ... \n",
      " helpful_votes    | 17                   \n",
      " total_votes      | 18                   \n",
      " review_text      | Charming movie Th... \n",
      " helpful_ratio    | 0.9444444444444444   \n",
      " helpful          | 1                    \n",
      "-RECORD 1--------------------------------\n",
      " product_id       | B00SZT6I3G           \n",
      " star_rating      | 1                    \n",
      " product_category | Digital_Video_Dow... \n",
      " review_headline  | If it can't be br... \n",
      " review_body      | If it can't be br... \n",
      " helpful_votes    | 11                   \n",
      " total_votes      | 18                   \n",
      " review_text      | If it can't be br... \n",
      " helpful_ratio    | 0.6111111111111112   \n",
      " helpful          | 1                    \n",
      "-RECORD 2--------------------------------\n",
      " product_id       | B00VO8D13K           \n",
      " star_rating      | 1                    \n",
      " product_category | Digital_Video_Dow... \n",
      " review_headline  | Unnecessarily Slo... \n",
      " review_body      | This is an unnece... \n",
      " helpful_votes    | 9                    \n",
      " total_votes      | 33                   \n",
      " review_text      | Unnecessarily Slo... \n",
      " helpful_ratio    | 0.2727272727272727   \n",
      " helpful          | 0                    \n",
      "-RECORD 3--------------------------------\n",
      " product_id       | B0142KHDI0           \n",
      " star_rating      | 1                    \n",
      " product_category | Digital_Video_Dow... \n",
      " review_headline  | Underwhelming        \n",
      " review_body      | Really bad writin... \n",
      " helpful_votes    | 11                   \n",
      " total_votes      | 13                   \n",
      " review_text      | Underwhelming Rea... \n",
      " helpful_ratio    | 0.8461538461538461   \n",
      " helpful          | 1                    \n",
      "-RECORD 4--------------------------------\n",
      " product_id       | B00ZC3X6TW           \n",
      " star_rating      | 1                    \n",
      " product_category | Digital_Video_Dow... \n",
      " review_headline  | One Star             \n",
      " review_body      | Bizarre boring, j... \n",
      " helpful_votes    | 1                    \n",
      " total_votes      | 11                   \n",
      " review_text      | One Star Bizarre ... \n",
      " helpful_ratio    | 0.09090909090909091  \n",
      " helpful          | 0                    \n",
      "only showing top 5 rows\n",
      "\n"
     ]
    }
   ],
   "source": [
    "df.show(5, vertical = True)"
   ]
  },
  {
   "cell_type": "code",
   "execution_count": 20,
   "metadata": {},
   "outputs": [],
   "source": [
    "df_helpful = df.filter(col('helpful') == 1)"
   ]
  },
  {
   "cell_type": "markdown",
   "metadata": {},
   "source": [
    "## T5 Pipeline"
   ]
  },
  {
   "cell_type": "code",
   "execution_count": 21,
   "metadata": {},
   "outputs": [
    {
     "name": "stdout",
     "output_type": "stream",
     "text": [
      "Wall time: 33.5 s\n"
     ]
    }
   ],
   "source": [
    "%%time\n",
    "#T5 Transformer\n",
    "documentAssembler = DocumentAssembler() \\\n",
    "    .setInputCol(\"text\") \\\n",
    "    .setOutputCol(\"document\") \n",
    "\n",
    "#Trying Document, but can also take in sentence\n",
    "t5 = T5Transformer.load('t5_base_en_2.7.1_2.4_1610133506835')\\\n",
    "    .setInputCols('document')\\\n",
    "    .setOutputCol(\"T5\")\\\n",
    "    .setMaxOutputLength(400)\n",
    "\n",
    "nlp_pipeline = Pipeline(stages=[\n",
    "    documentAssembler, \n",
    "    t5\n",
    "])"
   ]
  },
  {
   "cell_type": "markdown",
   "metadata": {},
   "source": [
    "##### Setting T5 Task to Answer Questions"
   ]
  },
  {
   "cell_type": "code",
   "execution_count": 22,
   "metadata": {},
   "outputs": [
    {
     "data": {
      "text/plain": [
       "T5TRANSFORMER_98cb3158fd7c"
      ]
     },
     "execution_count": 22,
     "metadata": {},
     "output_type": "execute_result"
    }
   ],
   "source": [
    "t5.setTask('question')"
   ]
  },
  {
   "cell_type": "markdown",
   "metadata": {},
   "source": [
    "#### Open Book Question"
   ]
  },
  {
   "cell_type": "markdown",
   "metadata": {},
   "source": [
    "What makes this review helpful?"
   ]
  },
  {
   "cell_type": "code",
   "execution_count": 23,
   "metadata": {},
   "outputs": [],
   "source": [
    "df_t5_1 = df_helpful.withColumn('text', F.concat_ws(' ',F.lit(\"question: What makes this review helpful? context:\"), col('review_text')))"
   ]
  },
  {
   "cell_type": "code",
   "execution_count": 24,
   "metadata": {},
   "outputs": [],
   "source": [
    "df_t5_1 = df_t5_1.select('text')"
   ]
  },
  {
   "cell_type": "code",
   "execution_count": 25,
   "metadata": {},
   "outputs": [
    {
     "name": "stdout",
     "output_type": "stream",
     "text": [
      "+-------------------------------------------------------------------------------------------------------------------------------------------------------------------------------------------------------------------------------------------------------------------------------------------------------------------------------------------------------------------------------------------------------------------------------------------------------------------------------------------------------------------------------------------------------------------------------------------------------------------------------------------------------------------------------------------------------------------------------------------------------------------------------------------------------------------------------------------------------------------------------------------------------------------------------------------------------------------------------------------------------------------------------------------------------------------------------------------------------------------------------------------------------------------------------------------------------------------------------------------------------------------------------------------------------------------------------------------------------------------------------------------------------------------------------------------------------------------------------------------------------------------------------------------------------------------------------------------------------------------------------------------------------------------------------------------------------------------------------------------------------------------------------------------------------------------------------------------------------------------------------------------------------------------------------------------------------------------------------------------------------------------------------------------------------------------------------------------------------------------------------------------------------------------------------------------------------------------------------------------------------------------------------------------------------------------------------------------------------------------------------------------------------------------------------------------------------------------------------------------------------------------------------------------------------------------------------------------------------------------------------------------------------------------------------------------------------------------------------------------------------------------------------------------------------------------------------------------------------------------------------------------------------------------------------------------------------------------------------------------------------------------------------------------------------------------------------------------------------------------------------------------------------------------------------------------------------------------------------------------------------------------------------------------------------------------------------------------------------------------------------------------------------------------------------------------------------------------------------------------------------------------------------------------------------------------------------------------------------------------------------------------------------------------------------------------------------------------------------------------------------------------------------------------------------------------------------------------------------------------------------------------------------------------------------------------------------------------------------------------------------------------------------------------------------------------------------------------------------------------------------------------------------------------------------------------------------------------------------------------------------------------------------------------------------------------------------------------------------------------------------------------------------------------------------------------------------------------------------------------------------------------------------+------------------------------------------------------------------------------------------------------------------------------------------------------+\n",
      "|text                                                                                                                                                                                                                                                                                                                                                                                                                                                                                                                                                                                                                                                                                                                                                                                                                                                                                                                                                                                                                                                                                                                                                                                                                                                                                                                                                                                                                                                                                                                                                                                                                                                                                                                                                                                                                                                                                                                                                                                                                                                                                                                                                                                                                                                                                                                                                                                                                                                                                                                                                                                                                                                                                                                                                                                                                                                                                                                                                                                                                                                                                                                                                                                                                                                                                                                                                                                                                                                                                                                                                                                                                                                                                                                                                                                                                                                                                                                                                                                                                                                                                                                                                                                                                                                                                                                                                                                                                                                                                                                           |result                                                                                                                                                |\n",
      "+-------------------------------------------------------------------------------------------------------------------------------------------------------------------------------------------------------------------------------------------------------------------------------------------------------------------------------------------------------------------------------------------------------------------------------------------------------------------------------------------------------------------------------------------------------------------------------------------------------------------------------------------------------------------------------------------------------------------------------------------------------------------------------------------------------------------------------------------------------------------------------------------------------------------------------------------------------------------------------------------------------------------------------------------------------------------------------------------------------------------------------------------------------------------------------------------------------------------------------------------------------------------------------------------------------------------------------------------------------------------------------------------------------------------------------------------------------------------------------------------------------------------------------------------------------------------------------------------------------------------------------------------------------------------------------------------------------------------------------------------------------------------------------------------------------------------------------------------------------------------------------------------------------------------------------------------------------------------------------------------------------------------------------------------------------------------------------------------------------------------------------------------------------------------------------------------------------------------------------------------------------------------------------------------------------------------------------------------------------------------------------------------------------------------------------------------------------------------------------------------------------------------------------------------------------------------------------------------------------------------------------------------------------------------------------------------------------------------------------------------------------------------------------------------------------------------------------------------------------------------------------------------------------------------------------------------------------------------------------------------------------------------------------------------------------------------------------------------------------------------------------------------------------------------------------------------------------------------------------------------------------------------------------------------------------------------------------------------------------------------------------------------------------------------------------------------------------------------------------------------------------------------------------------------------------------------------------------------------------------------------------------------------------------------------------------------------------------------------------------------------------------------------------------------------------------------------------------------------------------------------------------------------------------------------------------------------------------------------------------------------------------------------------------------------------------------------------------------------------------------------------------------------------------------------------------------------------------------------------------------------------------------------------------------------------------------------------------------------------------------------------------------------------------------------------------------------------------------------------------------------------------------------------+------------------------------------------------------------------------------------------------------------------------------------------------------+\n",
      "|question: What makes this review helpful? context: Charming movie This movie isn't perfect, but it gets a lot of things right. Yes, the librarian character played by Marcia Gay Harden is stereotypical and played a bit heavy-handed. But the universal nature of the story, the beautiful setting, and the likability of the characters overcome this flaw. The quote at the end brought tears to my eyes.  If you want to take a break from Hollywood's standard fare of dark, violent, or stupid movies, then give this a try. It is is entertaining and thoughtful.                                                                                                                                                                                                                                                                                                                                                                                                                                                                                                                                                                                                                                                                                                                                                                                                                                                                                                                                                                                                                                                                                                                                                                                                                                                                                                                                                                                                                                                                                                                                                                                                                                                                                                                                                                                                                                                                                                                                                                                                                                                                                                                                                                                                                                                                                                                                                                                                                                                                                                                                                                                                                                                                                                                                                                                                                                                                                                                                                                                                                                                                                                                                                                                                                                                                                                                                                                                                                                                                                                                                                                                                                                                                                                                                                                                                                                                                                                                                                      |[entertaining and thoughtful]                                                                                                                         |\n",
      "|question: What makes this review helpful? context: If it can't be brought.... If it can't be brought, then don't believe the hype. Do your research well before you try to buy. Your only gonna to get hopes up for something that's not attainable.                                                                                                                                                                                                                                                                                                                                                                                                                                                                                                                                                                                                                                                                                                                                                                                                                                                                                                                                                                                                                                                                                                                                                                                                                                                                                                                                                                                                                                                                                                                                                                                                                                                                                                                                                                                                                                                                                                                                                                                                                                                                                                                                                                                                                                                                                                                                                                                                                                                                                                                                                                                                                                                                                                                                                                                                                                                                                                                                                                                                                                                                                                                                                                                                                                                                                                                                                                                                                                                                                                                                                                                                                                                                                                                                                                                                                                                                                                                                                                                                                                                                                                                                                                                                                                                                           |[Your only gonna to get hopes up for something that's not attainable]                                                                                 |\n",
      "|question: What makes this review helpful? context: Underwhelming Really bad writing! So frustrating because the actors are amazing talents and the story is even such a great idea! But the writing was terrible                                                                                                                                                                                                                                                                                                                                                                                                                                                                                                                                                                                                                                                                                                                                                                                                                                                                                                                                                                                                                                                                                                                                                                                                                                                                                                                                                                                                                                                                                                                                                                                                                                                                                                                                                                                                                                                                                                                                                                                                                                                                                                                                                                                                                                                                                                                                                                                                                                                                                                                                                                                                                                                                                                                                                                                                                                                                                                                                                                                                                                                                                                                                                                                                                                                                                                                                                                                                                                                                                                                                                                                                                                                                                                                                                                                                                                                                                                                                                                                                                                                                                                                                                                                                                                                                                                               |[the actors are amazing talents]                                                                                                                      |\n",
      "|question: What makes this review helpful? context: we can all get along if we try This is a great movie for kids.. It teaches how to compromise ,caring ,sharing and no matter our backgrounds we can all get along if we try                                                                                                                                                                                                                                                                                                                                                                                                                                                                                                                                                                                                                                                                                                                                                                                                                                                                                                                                                                                                                                                                                                                                                                                                                                                                                                                                                                                                                                                                                                                                                                                                                                                                                                                                                                                                                                                                                                                                                                                                                                                                                                                                                                                                                                                                                                                                                                                                                                                                                                                                                                                                                                                                                                                                                                                                                                                                                                                                                                                                                                                                                                                                                                                                                                                                                                                                                                                                                                                                                                                                                                                                                                                                                                                                                                                                                                                                                                                                                                                                                                                                                                                                                                                                                                                                                                  |[no matter our backgrounds]                                                                                                                           |\n",
      "|question: What makes this review helpful? context: A Conscious Uncoupling of Talent if anyone finds this an &#34;uplifting film&#34; I think its time to ring the Suicide Hotline !!! This was a combination of Ole Yella meets Betty Ford !  This is one more attempt from Hollywood to make us think that odd balls of society are the ruling factor.  A woman who has been widowed and retired for 20 years and drinks her lunch- decides to start smoking pot out of boredom and hasn't been out at night in 2 decades  is not something we need to aspire to !!!! Its a sad case of one wasting a life and not something that deserves a movie.  As far as the Director of this depression feast - are they truly getting that lazy that they no longer attempt a sound track or any form of background setting and the dinner scene was almost laughable !! ?? This is so dull and quite it is like watch a bad reality show ........ so the message is .....once your husband dies you hunker in the house with a case a wine?? NICE MESSAGE !  I would call this a case of &#34; A Conscious Uncoupling Of Talent&#34; !!!!                                                                                                                                                                                                                                                                                                                                                                                                                                                                                                                                                                                                                                                                                                                                                                                                                                                                                                                                                                                                                                                                                                                                                                                                                                                                                                                                                                                                                                                                                                                                                                                                                                                                                                                                                                                                                                                                                                                                                                                                                                                                                                                                                                                                                                                                                                                                                                                                                                                                                                                                                                                                                                                                                                                                                                                                                                                                                                                                                                                                                                                                                                                                                                                                                                                                                                                                                                                            |[once your husband dies you hunker in the house with a case a wine?? NICE MESSAGE]                                                                    |\n",
      "|question: What makes this review helpful? context: Different This movie caught me off gaurd. It was funny, but kind of sad to. There are so many people like this guy out there.                                                                                                                                                                                                                                                                                                                                                                                                                                                                                                                                                                                                                                                                                                                                                                                                                                                                                                                                                                                                                                                                                                                                                                                                                                                                                                                                                                                                                                                                                                                                                                                                                                                                                                                                                                                                                                                                                                                                                                                                                                                                                                                                                                                                                                                                                                                                                                                                                                                                                                                                                                                                                                                                                                                                                                                                                                                                                                                                                                                                                                                                                                                                                                                                                                                                                                                                                                                                                                                                                                                                                                                                                                                                                                                                                                                                                                                                                                                                                                                                                                                                                                                                                                                                                                                                                                                                               |[There are so many people like this guy out there]                                                                                                    |\n",
      "|question: What makes this review helpful? context: Good thing we must have cleared this battlefield and pushed ... SPOILER (this is the opening scene):<br /><br />The camera pans up and across the crest of a small rise.  The smoking and burning silhouettes of tanks cover a debris-ridden battlefield, including a couple of Panther tanks.  A Sherman tank sits amongst the wreckage.  All is quiet.  Into this scene rides some German (officer?) on a white horse leisurely clip clopping along.  &#34;Do-dee-do-dee-do, just out for a morning ride.  Good thing we must have cleared this battlefield and pushed the Americans way back so I can just plod along here with no real purpose or concern.  Nothing to worry about here.&#34;  &#34;Iii-eeeee!!!!&#34;  From out of the shadows of the top of the Sherman, a wild man vaults onto the horseman, propels them both to the ground, and then stabs the horseman deep into the eye as the camera goes in for a closeup.  After pulling his knife out, we see the ambusher is none other than Brad Pitt.  He mumbles some stuff, pats the horse on the head and then hops back on the Sherman and climbs in.  We quickly discern his tank was disabled in the battle and the crew is hiding inside trying to get it fixed.  Good thing Brad took care of the only person on either side curious about how the battle came out or these guys might be in a world of trouble.<br /><br />A few war crimes presented as standard operating procedure, some more odd events, and multiple f-bombs later, we get to an improbable battle at the end and we're done - bringing it all artistically together by showing a white horse again.                                                                                                                                                                                                                                                                                                                                                                                                                                                                                                                                                                                                                                                                                                                                                                                                                                                                                                                                                                                                                                                                                                                                                                                                                                                                                                                                                                                                                                                                                                                                                                                                                                                                                                                                                                                                                                                                                                                                                                                                                                                                                                                                                                                                                                                                                                                                                                                                                                                                                                                                                                                                                                                                                                                                                                                                                        |[no real purpose or concern]                                                                                                                          |\n",
      "|question: What makes this review helpful? context: Proficient filmmaking within the confines of a shoestring budget The total budget is unknown to me, but 1,527 backers pledged $94,294 on Kickstarter towards the production of Mythica: A Quest for Heroes (MQH). Even if the total cost ended up as high as $3M, that's still a paltry sum for a movie that requires shoots in semi-remote locations, special effects in numerous scenes, and the creation of specialized sets, props, and costumes. The 1st Hobbit flick (2012) had an estimated budget of $180M, which is maybe 60-150x the price tag of MQH. Was the 1st Hobbit flick 100x better than MQH? Not by a longshot. That said, don't buy into MQH if you expect anywhere near Peter Jackson quality, obviously.<br /><br />THE GOOD<br />✔ Cinematography. Waaaay better than expected. Not super-creative, but someone knew what they were doing behind a camera.<br />✔ Locations. Utah is not only a poor man's New Zealand, it's a fairly spectacular place to shoot this genre.<br />✔ Actors. Christopher Robin Miller (Hammerhead), Adam Johnson (Thane) and Nicola Posener (Teela) have numerous previous credits to their names, and relative newcomer Melanie Stone (Marek) did an admirable job as the lead. Thane was added to the story in a clever manner and remained likable; Marek and Teela are foxy without wearing clich&eacute;d skimpy high fantasy garb.<br />✔ The soundtrack. Yeah, it's a bit high-flown for a B movie, but it's surprisingly inspired.<br />✔ Special effects / CGI. Yes, I'm on record here as saying the effects were decent *given the budgetary constraints*<br />✔ No dragon. Thank gods, I'm bloody well tired of dragons.<br />✔ The &#34;To Be Continued&#34; at the end is actually a truthful statement (there's a completed sequel and another in post-production).<br /><br />THE BAD<br />✘ Despite occasional inspiration in the script and character development, MQH doesn't challenge the audience. The dialogue was ho-hum, with far more misses than hits in the humor dept.<br />✘ Generic plot. Rescue this or that person, run away, get caught, escape...<br />✘ Combat. It's clear the crew was lacking an experienced fight choreographer. Personally, this didn't much matter to me since I often find melee combat tedious no matter what, but I know this can be a deal-breaker for some viewers.<br />✘ Kevin Sorbo. Not that he was bad in MQH, he just wasn't necessary. I hope he did that cameo as a favor to the filmmaker rather than getting paid like $2k for the part so that he could remodel one of his bathrooms.<br />✘ At times MQH seems to be pandering by trying to emulate the vibe of Peter Jackson films. Perhaps this is simply homage (if so, then ignore my complaint).<br /><br />THE UGLY<br />☠ The dialogue was occasionally cringeworthy rather than just bland.<br />☠ The dwarf (Hammerhead). Someone must have insisted that a high fantasy movie needs a dwarf... which is, of course, a completely ridiculous notion (see above, &#34;pandering to Peter Jackson fans&#34;).<br /><br />If you understand budgetary limitations in filmmaking of this kind, then you should be able to appreciate MQH and maybe even have fun. If you can't abide non-multiplex flicks, then skip this.Combat. It's clear the crew was lacking an experienced fight choreographer. Personally, this didn't much matter to me since I often find melee combat tedious no matter what, but I know this can be a deal-breaker for some viewers.<br />✘ Kevin Sorbo. Not that he was bad in MQH, he just wasn't necessary. I hope he did that cameo as a favor to the filmmaker rather than getting paid like $2k for the part so that he could remodel one of his bathrooms.<br />✘ At times MQH seems to be pandering by trying to emulate the vibe of Peter Jackson films. Perhaps this is simply homage (if so, then ignore my complaint).<br /><br />THE UGLY<br />☠ The dialogue was occasionally cringeworthy rather than just bland.<br />☠ The dwarf (Hammerhead). Someone must have insisted that a high fantasy movie needs a dwarf... which is, of course, a completely ridiculous notion (see above, &#34;pandering to Peter Jackson fans&#34;).<br /><br />If you understand budgetary limitations in filmmaking of this kind, then you should be able to appreciate MQH and maybe even have fun. If you can't abide non-multiplex flicks, then skip this.|[budgetary limitations]                                                                                                                               |\n",
      "|question: What makes this review helpful? context: If I could have given this a 0 I would ... If I could have given this a 0 I would have. There is no point to this film. It's episodic with no revelation. Very I satisfying film.                                                                                                                                                                                                                                                                                                                                                                                                                                                                                                                                                                                                                                                                                                                                                                                                                                                                                                                                                                                                                                                                                                                                                                                                                                                                                                                                                                                                                                                                                                                                                                                                                                                                                                                                                                                                                                                                                                                                                                                                                                                                                                                                                                                                                                                                                                                                                                                                                                                                                                                                                                                                                                                                                                                                                                                                                                                                                                                                                                                                                                                                                                                                                                                                                                                                                                                                                                                                                                                                                                                                                                                                                                                                                                                                                                                                                                                                                                                                                                                                                                                                                                                                                                                                                                                                                           |[episodic with no revelation]                                                                                                                         |\n",
      "|question: What makes this review helpful? context: Title incorrect, Season 5 not Season 1 This is not season 1 but season 5.  They need to correct their title or actually get the rights to stream season.  Otherwise this is a great show and I hope that BBC will allow the rest of the seasons to stream in the US.                                                                                                                                                                                                                                                                                                                                                                                                                                                                                                                                                                                                                                                                                                                                                                                                                                                                                                                                                                                                                                                                                                                                                                                                                                                                                                                                                                                                                                                                                                                                                                                                                                                                                                                                                                                                                                                                                                                                                                                                                                                                                                                                                                                                                                                                                                                                                                                                                                                                                                                                                                                                                                                                                                                                                                                                                                                                                                                                                                                                                                                                                                                                                                                                                                                                                                                                                                                                                                                                                                                                                                                                                                                                                                                                                                                                                                                                                                                                                                                                                                                                                                                                                                                                        |[Title incorrect, Season 5 not Season 1]                                                                                                              |\n",
      "|question: What makes this review helpful? context: Charming and Clever Joe Swanberg is changing the face of American independent cinema. In a matter of ten years, he’s managed to direct eighteen feature films (including his latest “Digging For Fire”). Most of these have been made completely outside of the studio-system, being financed through credit cards and actors donating their time. They’re purely improvisational, with Swanberg’s only tool being an outline that he’s authored. The actors, in turn, must completely inhabit their characters to the point of knowing what they might say or even do. “Digging For Fire”, which is undoubtedly his most star-studded film to date, takes this to a whole new level. Veterans such as Sam Elliott and Judith Light are sharing the screen with younger actors like Jake Johnson and Rosemarie DeWitt.<br /><br />The latter couple playing a husband and wife who, after finding a rusted gun and apparent human bone in the backyard of a house they’re staying in, are lead on separate adventures over the course of one weekend. The husband - obviously more curious about what else he might find - invites a group of his long-time friends to drink a few beers and dig up the truth. Meanwhile, his wife takes their son to visit her parents and get away from some of the marital stresses she’s facing.<br /><br />It’s this wonderfully odd comedy/mystery that’s entirely propelled by the connection between the actors and the director. There’s an evident trust between the two, and the movie is infinitely better for that. Not to mention the fact that it’s just a lot of fun to watch. The varied cast works together beautifully (some of the others include Orlando Bloom, Anna Kendrick, and Sam Rockwell) and the story unfolds in a charming and clever fashion. Definitely give Swanberg’s latest film a look. He has a long and storied career ahead of him.                                                                                                                                                                                                                                                                                                                                                                                                                                                                                                                                                                                                                                                                                                                                                                                                                                                                                                                                                                                                                                                                                                                                                                                                                                                                                                                                                                                                                                                                                                                                                                                                                                                                                                                                                                                                                                                                                                                                                                                                                                                                                                                                                                                                                                                                                                                                                                                                                                                                                                                                                                 |[the movie is infinitely better for that]                                                                                                             |\n",
      "|question: What makes this review helpful? context: Review, without having watched the whole film A year and a half ago I left an abusive marriage with the help of a local women's shelter, so I could not watch much of this movie because my experiences were just too recent. I will watch more of it at a later time, when I feel I can handle the emotions. The only thing I would say is that abuse is not always this visible in public. Only in a place where social conventions uphold this type of treatment does it seem like a man would be able to demonstrate his abuse in public (though as one reviewer noted, some do not approve of his behavior). Where conventions have changed, abuse goes on in secret. My heart goes out to Ninah, and to every woman her character represents. It seems like a well made film. I hope other viewers will pardon my writing a review after having only watched a short amount.                                                                                                                                                                                                                                                                                                                                                                                                                                                                                                                                                                                                                                                                                                                                                                                                                                                                                                                                                                                                                                                                                                                                                                                                                                                                                                                                                                                                                                                                                                                                                                                                                                                                                                                                                                                                                                                                                                                                                                                                                                                                                                                                                                                                                                                                                                                                                                                                                                                                                                                                                                                                                                                                                                                                                                                                                                                                                                                                                                                                                                                                                                                                                                                                                                                                                                                                                                                                                                                                                                                                                                                          |[I hope other viewers will pardon my writing a review after having only watched a short amount]                                                       |\n",
      "|question: What makes this review helpful? context: pretty weak so far -cheesy<br />-feels like an mtv adaptation of a zombie show<br />-angsty teen drama<br />-i don't care about any of the characters<br />-there's no tension without caring for the characters. Additionally we all know what happens with the zombies already so you're just waiting to get past stuff that we've been introduced to already in the original show.<br />-these teens are in their 30's... i'm sure there are believable child actors in the LA area that could have been hired.                                                                                                                                                                                                                                                                                                                                                                                                                                                                                                                                                                                                                                                                                                                                                                                                                                                                                                                                                                                                                                                                                                                                                                                                                                                                                                                                                                                                                                                                                                                                                                                                                                                                                                                                                                                                                                                                                                                                                                                                                                                                                                                                                                                                                                                                                                                                                                                                                                                                                                                                                                                                                                                                                                                                                                                                                                                                                                                                                                                                                                                                                                                                                                                                                                                                                                                                                                                                                                                                                                                                                                                                                                                                                                                                                                                                                                                                                                                                                          |[we all know what happens with the zombies already]                                                                                                   |\n",
      "|question: What makes this review helpful? context: A Classic Spy thriller and all great around fun! First, I have always been a big U.N.C.L.E. fan all my life from the very first episode which was aired on September 21, 1964.  I was only 9 years old at the time but &#34;the man from U.N.C.L.E&#34; left a lifelong impression on me.  It's one of the driving reasons I went into Law Enforcement.  I collected anything and everything that was U.N.C.L.E related and still have that collection today!<br /><br />So, with all this in mind, here is my take on the movie: If one is expecting to see the show with hopes of re-experiencing our two favorite agents entering the secret entrance to the New York HQ via Del Floria's Tailor Shop you are going to be disappointed!  Because this is NOT the premise of the movie.<br /><br />However, for all the fans that can get into the idea of seeing a prequel on how, Illya Kuryakin, Napoleon Solo and Alexander Waverly first meet (and getting to know a lot more about all their backgrounds); then you are in for a treat!  The movie does a remarkable job of capturing the essence of life in the early 1960’s and set stage for a great spy thriller of two agents (one CIA and the other KGB) being forced to work together to prevent an international criminal organization from using a Nuclear bomb to instigate a world crisis. While THURSH is never mentioned by name; we all know who is behind this!<br /><br />The movie is fast paced, full of car chases, plot twists, intrigue, plot twists and even double twists to keep the most avid spy and mystery lover guessing all the way through the end of movie!  You can take nothing for granted and many things and people are not what they seem!  For hardcore U.N.C.L.E. fans your will get to see our beloved “U.N.C.L.E Carbine Special” faithfully reproduced make an appearance in several of the big battle scenes near the end of the movie!<br /><br />Bottom line this is a classic spy/action thriller!  With lots of classic U.N.C.L.E humor thrown in to break the mood when thing get a little too intense!  No spoilers here so you will have to see the nail biting end for yourselves; but it is worth the manicure to get there!!                                                                                                                                                                                                                                                                                                                                                                                                                                                                                                                                                                                                                                                                                                                                                                                                                                                                                                                                                                                                                                                                                                                                                                                                                                                                                                                                                                                                                                                                                                                                                                                                                                                                                                                                                                                                                                                                                                                                                                                                                                                                                                                                                                                                                                  |[No spoilers]                                                                                                                                         |\n",
      "|question: What makes this review helpful? context: Stupid and vapid Stupid and vapid.  Dispenses left-wing propaganda and talking points unchallenged.  Jeff Daniels not believable as a news reader.  Characters air out their personal lives in front of everyone in the newsroom.  Does not attempt to present a realistic portrait of a news operation.                                                                                                                                                                                                                                                                                                                                                                                                                                                                                                                                                                                                                                                                                                                                                                                                                                                                                                                                                                                                                                                                                                                                                                                                                                                                                                                                                                                                                                                                                                                                                                                                                                                                                                                                                                                                                                                                                                                                                                                                                                                                                                                                                                                                                                                                                                                                                                                                                                                                                                                                                                                                                                                                                                                                                                                                                                                                                                                                                                                                                                                                                                                                                                                                                                                                                                                                                                                                                                                                                                                                                                                                                                                                                                                                                                                                                                                                                                                                                                                                                                                                                                                                                                    |[Dispenses left-wing propaganda and talking points unchallenged]                                                                                      |\n",
      "|question: What makes this review helpful? context: What happens when you introduce a vampire from the 16th Century to the internet? He googles pictures of the sun. In a time where Vampires, werewolves, and even zombies are being put through the &#34;Twilight&#34; treatment, stripping them of all their terror and replacing it with lukewarm sex appeal, What We Do In The Shadows takes the desiccated husk of all these poor horror icons and injects them with some humorous new life. Instead of making the monsters terrifying or sexy to braindead underage girls, they give them a sense of humanity and a desire to simply live life like us normal, pre-dead average joes.<br /><br />With talents like Jemaine Clement of Flight of The Conchords in the lead roles, this film is filled with hilarious scenes of blood-sucking, shapeshifting, and in some cases monstrous vampires dealing the the troubles of modern day life. Ever wonder if vampires hate getting blood on the carpet during every meal? Well it's addressed here in hilarious fashion. How does someone who has recently been turned into a vampire essentially &#34;come out&#34; to his best friend while addressing the elephant in the room, that many of his new friends want to eat said best friend? You have the best friend introduce the new vampire friends to the wonders of modern technology! Ever wonder what happens when two vampires have an argument? They turn into bats and fight one another.<br /><br />Simply said, What We Do In The Shadows is a hilarious film brimming with tons of dark humor lightened by the fact that these creatures of the night just want to have a good time and get the rent paid on time.                                                                                                                                                                                                                                                                                                                                                                                                                                                                                                                                                                                                                                                                                                                                                                                                                                                                                                                                                                                                                                                                                                                                                                                                                                                                                                                                                                                                                                                                                                                                                                                                                                                                                                                                                                                                                                                                                                                                                                                                                                                                                                                                                                                                                                                                                                                                                                                                                                                                                                                                                                                                                                                                                                                                                                                        |[brimming with tons of dark humor lightened by the fact that these creatures of the night just want to have a good time and get the rent paid on time]|\n",
      "|question: What makes this review helpful? context: One Star I was terribly disappointed. This was not an upbeat movie.                                                                                                                                                                                                                                                                                                                                                                                                                                                                                                                                                                                                                                                                                                                                                                                                                                                                                                                                                                                                                                                                                                                                                                                                                                                                                                                                                                                                                                                                                                                                                                                                                                                                                                                                                                                                                                                                                                                                                                                                                                                                                                                                                                                                                                                                                                                                                                                                                                                                                                                                                                                                                                                                                                                                                                                                                                                                                                                                                                                                                                                                                                                                                                                                                                                                                                                                                                                                                                                                                                                                                                                                                                                                                                                                                                                                                                                                                                                                                                                                                                                                                                                                                                                                                                                                                                                                                                                                         |[not an upbeat movie]                                                                                                                                 |\n",
      "|question: What makes this review helpful? context: Getting In Shape (again) Just a few weeks ago I couldn't even last near a mile on my other video by Leslie Sansone. I have literally sat on my butt for the past ten years. I quit smoking 3 years ago and gained a ton or so. I loathed myself for letting myself go to such a degree. So now with a Fitbit and Leslie's videos I can go further every day without my legs folding under me and now being able to breathe instead of panting like a puppy.. I have lost 25 pounds in a little over two months and I feel pretty darned good!                                                                                                                                                                                                                                                                                                                                                                                                                                                                                                                                                                                                                                                                                                                                                                                                                                                                                                                                                                                                                                                                                                                                                                                                                                                                                                                                                                                                                                                                                                                                                                                                                                                                                                                                                                                                                                                                                                                                                                                                                                                                                                                                                                                                                                                                                                                                                                                                                                                                                                                                                                                                                                                                                                                                                                                                                                                                                                                                                                                                                                                                                                                                                                                                                                                                                                                                                                                                                                                                                                                                                                                                                                                                                                                                                                                                                                                                                                                               |[without my legs folding under me]                                                                                                                    |\n",
      "|question: What makes this review helpful? context: Two Ladies Turn Their Loss Into Gain for Others. I really loved this movie.  Brenda Blethyn is one of my favorites, especially in her series, Vera.  Hillary Swank is great, and should have received better recognition for her work,especially in the movie, The Homesman.<br /><br />Is it possible that this movie, Mary and Martha  received little attention because it deals with real life and really tough problems?The same could be said of the movie,  The Homesman.  It dealt with people's lives in truly difficult times and conditions.  Maybe we just fail to appreciate talent when it presents to us the gritty aspects of human existence.<br /><br />The story of Mary and Martha allows us a close insight to the grief of personal loss, suffered by each of these two remarkable women.  None of us enjoy sorrow, or tragic loss of a young person.  Stories such as this help us somehow to understand such loss apart from our own heartaches.<br /><br /> I am glad this story was based on a real Martha and her real son, Harry, who died of malaria while working with children in Africa.  I wish the Martha character had been given a more active part in the development of the story for television.  Time constraints have to be considered.<br /><br />I recommend this movie for all,especially women.                                                                                                                                                                                                                                                                                                                                                                                                                                                                                                                                                                                                                                                                                                                                                                                                                                                                                                                                                                                                                                                                                                                                                                                                                                                                                                                                                                                                                                                                                                                                                                                                                                                                                                                                                                                                                                                                                                                                                                                                                                                                                                                                                                                                                                                                                                                                                                                                                                                                                                                                                                                                                                                                                                                                                                                                                                                                                                                                                                                                                                                                                                                                |[stories such as this help us somehow to understand such loss apart from our own heartaches]                                                          |\n",
      "|question: What makes this review helpful? context: Actors are good.. Actors are good....general storyline okay. Language ridiculously offensive, tiresome and unnecessary. I could barely watch and even my husband thought...Geeze Louis, enough already. Justified so much better in so many ways. My point is, WHY? Did the language really add to story?  C'mon.                                                                                                                                                                                                                                                                                                                                                                                                                                                                                                                                                                                                                                                                                                                                                                                                                                                                                                                                                                                                                                                                                                                                                                                                                                                                                                                                                                                                                                                                                                                                                                                                                                                                                                                                                                                                                                                                                                                                                                                                                                                                                                                                                                                                                                                                                                                                                                                                                                                                                                                                                                                                                                                                                                                                                                                                                                                                                                                                                                                                                                                                                                                                                                                                                                                                                                                                                                                                                                                                                                                                                                                                                                                                                                                                                                                                                                                                                                                                                                                                                                                                                                                                                           |[WHY]                                                                                                                                                 |\n",
      "+-------------------------------------------------------------------------------------------------------------------------------------------------------------------------------------------------------------------------------------------------------------------------------------------------------------------------------------------------------------------------------------------------------------------------------------------------------------------------------------------------------------------------------------------------------------------------------------------------------------------------------------------------------------------------------------------------------------------------------------------------------------------------------------------------------------------------------------------------------------------------------------------------------------------------------------------------------------------------------------------------------------------------------------------------------------------------------------------------------------------------------------------------------------------------------------------------------------------------------------------------------------------------------------------------------------------------------------------------------------------------------------------------------------------------------------------------------------------------------------------------------------------------------------------------------------------------------------------------------------------------------------------------------------------------------------------------------------------------------------------------------------------------------------------------------------------------------------------------------------------------------------------------------------------------------------------------------------------------------------------------------------------------------------------------------------------------------------------------------------------------------------------------------------------------------------------------------------------------------------------------------------------------------------------------------------------------------------------------------------------------------------------------------------------------------------------------------------------------------------------------------------------------------------------------------------------------------------------------------------------------------------------------------------------------------------------------------------------------------------------------------------------------------------------------------------------------------------------------------------------------------------------------------------------------------------------------------------------------------------------------------------------------------------------------------------------------------------------------------------------------------------------------------------------------------------------------------------------------------------------------------------------------------------------------------------------------------------------------------------------------------------------------------------------------------------------------------------------------------------------------------------------------------------------------------------------------------------------------------------------------------------------------------------------------------------------------------------------------------------------------------------------------------------------------------------------------------------------------------------------------------------------------------------------------------------------------------------------------------------------------------------------------------------------------------------------------------------------------------------------------------------------------------------------------------------------------------------------------------------------------------------------------------------------------------------------------------------------------------------------------------------------------------------------------------------------------------------------------------------------------------------------------------+------------------------------------------------------------------------------------------------------------------------------------------------------+\n",
      "only showing top 20 rows\n",
      "\n",
      "Wall time: 29.7 s\n"
     ]
    }
   ],
   "source": [
    "%%time\n",
    "#Predict on text data with T5\n",
    "model = nlp_pipeline.fit(df_t5_1)\n",
    "annotated_df = model.transform(df_t5_1)\n",
    "annotated_df.select(['text','t5.result']).show(truncate=False)"
   ]
  },
  {
   "cell_type": "code",
   "execution_count": 26,
   "metadata": {},
   "outputs": [],
   "source": [
    "annotated_df_select = annotated_df.select(['text','t5.result'])"
   ]
  },
  {
   "cell_type": "code",
   "execution_count": 27,
   "metadata": {},
   "outputs": [],
   "source": [
    "annotated_df_select = annotated_df_select.withColumn(\"result\",\n",
    "   concat_ws(\" \",col(\"result\")))"
   ]
  },
  {
   "cell_type": "code",
   "execution_count": 28,
   "metadata": {},
   "outputs": [
    {
     "name": "stdout",
     "output_type": "stream",
     "text": [
      "+--------------------+--------------------+\n",
      "|                text|              result|\n",
      "+--------------------+--------------------+\n",
      "|question: What ma...|entertaining and ...|\n",
      "+--------------------+--------------------+\n",
      "only showing top 1 row\n",
      "\n"
     ]
    }
   ],
   "source": [
    "annotated_df_select.show(1)"
   ]
  },
  {
   "cell_type": "markdown",
   "metadata": {},
   "source": [
    "Is this review helpful? (Didn't work as it does not produce binary result of yes/no)"
   ]
  },
  {
   "cell_type": "code",
   "execution_count": null,
   "metadata": {},
   "outputs": [],
   "source": [
    "#df_t5_2 = df.withColumn('text', F.concat_ws(' ',F.lit(\"question: Is this review helpful? context:\"), col('review_text')))"
   ]
  },
  {
   "cell_type": "code",
   "execution_count": null,
   "metadata": {},
   "outputs": [],
   "source": [
    "#df_t5_2 = df_t5_2.select('text','helpful')"
   ]
  },
  {
   "cell_type": "code",
   "execution_count": null,
   "metadata": {},
   "outputs": [],
   "source": [
    "#%%time\n",
    "#Predict on text data with T5\n",
    "#model = nlp_pipeline.fit(df_t5_2)\n",
    "#annotated_df = model.transform(df_t5_2)\n",
    "#annotated_df.select(['helpful','text','t5.result']).show(truncate=False)"
   ]
  },
  {
   "cell_type": "markdown",
   "metadata": {},
   "source": [
    "## Wordcloud from T5 Result"
   ]
  },
  {
   "cell_type": "markdown",
   "metadata": {},
   "source": [
    "Passing HashingTF IDF into T5 results to better rank the word importance related to \"Helpfulness\""
   ]
  },
  {
   "cell_type": "code",
   "execution_count": null,
   "metadata": {},
   "outputs": [],
   "source": [
    "from pyspark.sql.functions import lower, col\n",
    "from pyspark.sql.types import ArrayType, StringType\n",
    "from pyspark.sql import DataFrame\n",
    "from pyspark.ml.feature import HashingTF, IDF, StopWordsRemover, CountVectorizer\n",
    "from pyspark.ml import Pipeline, Transformer\n",
    "from pyspark.ml.tuning import ParamGridBuilder, TrainValidationSplit, CrossValidator\n",
    "from pyspark.ml.evaluation import MulticlassClassificationEvaluator\n",
    "from pyspark.ml.classification import LogisticRegression, RandomForestClassifier, DecisionTreeClassifier\n",
    "\n",
    "import nltk\n",
    "import matplotlib.pyplot as plt\n",
    "%matplotlib inline\n",
    "\n",
    "#nltk.download('wordnet')"
   ]
  },
  {
   "cell_type": "code",
   "execution_count": null,
   "metadata": {
    "scrolled": true
   },
   "outputs": [],
   "source": [
    "import nltk\n",
    "nltk.download('stopwords')\n",
    "from nltk.corpus import stopwords\n",
    "eng_stopwords = stopwords.words('english')"
   ]
  },
  {
   "cell_type": "code",
   "execution_count": null,
   "metadata": {},
   "outputs": [],
   "source": [
    "#Document & Tokenize\n",
    "document_assembler = DocumentAssembler().setInputCol(\"result\").setOutputCol(\"document\")\n",
    "tokenizer = Tokenizer().setInputCols([\"document\"]).setOutputCol(\"review_words\")\n",
    " \n",
    "#Cleaning Tokens\n",
    "remover           = StopWordsCleaner().setInputCols(\"review_words\").setOutputCol(\"review_words_stop\").setCaseSensitive(False).setStopWords(eng_stopwords)\n",
    "finisher          = Finisher().setInputCols([\"review_words_stop\"]).setOutputCols([\"token_features\"]).setOutputAsArray(True).setCleanAnnotations(False)\n",
    "\n",
    "pipeline = Pipeline(stages=[document_assembler,tokenizer,remover,finisher])"
   ]
  },
  {
   "cell_type": "code",
   "execution_count": null,
   "metadata": {},
   "outputs": [],
   "source": [
    "%%time\n",
    "wordcloud_df = pipeline.fit(annotated_df_select).transform(annotated_df_select)"
   ]
  },
  {
   "cell_type": "code",
   "execution_count": null,
   "metadata": {},
   "outputs": [],
   "source": [
    "#! pip install wordcloud"
   ]
  },
  {
   "cell_type": "code",
   "execution_count": null,
   "metadata": {},
   "outputs": [],
   "source": [
    "from pyspark.sql.functions import explode\n",
    "dfwc = wordcloud_df.select(explode(wordcloud_df.token_features))"
   ]
  },
  {
   "cell_type": "code",
   "execution_count": null,
   "metadata": {},
   "outputs": [],
   "source": [
    "%%time\n",
    "dfwc = dfwc.groupBy(\"col\").count()\n",
    "dfwc.show()"
   ]
  },
  {
   "cell_type": "code",
   "execution_count": null,
   "metadata": {},
   "outputs": [],
   "source": [
    "%%time\n",
    "pdwc = dfwc.toPandas()"
   ]
  },
  {
   "cell_type": "code",
   "execution_count": null,
   "metadata": {},
   "outputs": [],
   "source": [
    "wordlist = pdwc[['token_features'].to_list()"
   ]
  },
  {
   "cell_type": "code",
   "execution_count": null,
   "metadata": {},
   "outputs": [],
   "source": [
    "from nltk import FreqDist\n",
    "def Bag_Of_Words(wordlist):\n",
    "    all_words = []\n",
    "    for m in wordlist:\n",
    "        for w in m:\n",
    "            all_words.append(w.lower())\n",
    "    all_words = FreqDist(all_words)\n",
    "    #print(all_words.most_common(300))\n",
    "    #print(len(all_words.keys()))\n",
    "    return all_words"
   ]
  },
  {
   "cell_type": "code",
   "execution_count": null,
   "metadata": {},
   "outputs": [],
   "source": [
    "all_words = Bag_Of_Words(wordlist)"
   ]
  },
  {
   "cell_type": "code",
   "execution_count": null,
   "metadata": {},
   "outputs": [],
   "source": [
    "import matplotlib as mpl\n",
    "from wordcloud import WordCloud\n",
    "all_words = Bag_Of_Words(ListWords)\n",
    "ax = plt.figure(figsize=(15,10))\n",
    "# Generate a word cloud image\n",
    "wordcloud = WordCloud(background_color='white',max_font_size=40, mask= amazon_mask,contour_width=0.5, contour_color='orange').generate(' '.join(all_words.keys()))\n",
    "\n",
    "# Display the generated image:\n",
    "# the matplotlib way:\n",
    "import matplotlib.pyplot as plt\n",
    "plt.imshow(wordcloud, interpolation='bilinear')\n",
    "plt.axis(\"off\")"
   ]
  }
 ],
 "metadata": {
  "kernelspec": {
   "display_name": "Python 3",
   "language": "python",
   "name": "python3"
  },
  "language_info": {
   "codemirror_mode": {
    "name": "ipython",
    "version": 3
   },
   "file_extension": ".py",
   "mimetype": "text/x-python",
   "name": "python",
   "nbconvert_exporter": "python",
   "pygments_lexer": "ipython3",
   "version": "3.7.6"
  }
 },
 "nbformat": 4,
 "nbformat_minor": 4
}
