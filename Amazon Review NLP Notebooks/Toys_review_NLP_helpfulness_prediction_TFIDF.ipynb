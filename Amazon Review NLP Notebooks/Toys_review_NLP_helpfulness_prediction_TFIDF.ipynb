{
 "cells": [
  {
   "cell_type": "markdown",
   "metadata": {},
   "source": [
    "# Review NLP Helpfulness Prediction TFIDF (Toys)"
   ]
  },
  {
   "cell_type": "markdown",
   "metadata": {},
   "source": [
    "## Creating Spark Session & Importing All Necessary Libraries"
   ]
  },
  {
   "cell_type": "code",
   "execution_count": 1,
   "metadata": {},
   "outputs": [],
   "source": [
    "import findspark\n",
    "findspark.init()"
   ]
  },
  {
   "cell_type": "code",
   "execution_count": 2,
   "metadata": {},
   "outputs": [],
   "source": [
    "from pyspark.sql import SparkSession\n",
    "from pyspark.sql import functions as F\n",
    "from sparknlp.base import *\n",
    "from sparknlp.annotator import *\n",
    "\n",
    "import sparknlp\n",
    "\n",
    "# Start SparkSession with Spark NLP\n",
    "# start() functions has 5 parameters: gpu, spark23, spark24, spark32, and memory\n",
    "# sparknlp.start(gpu=True) will start the session with GPU support\n",
    "# sparknlp.start(spark23=True) is when you have Apache Spark 2.3.x installed\n",
    "# sparknlp.start(spark24=True) is when you have Apache Spark 2.4.x installed\n",
    "# sparknlp.start(spark32=True) is when you have Apache Spark 3.2.x installed\n",
    "# sparknlp.start(memory=\"16G\") to change the default driver memory in SparkSession\n",
    "spark = sparknlp.start(gpu = True)"
   ]
  },
  {
   "cell_type": "code",
   "execution_count": 3,
   "metadata": {},
   "outputs": [],
   "source": [
    "from pyspark.sql.functions import lower, col\n",
    "from pyspark.sql.types import ArrayType, StringType\n",
    "from pyspark.sql import DataFrame\n",
    "from pyspark.ml.feature import HashingTF, IDF, StopWordsRemover, CountVectorizer\n",
    "from pyspark.ml import Pipeline, Transformer\n",
    "from pyspark.ml.tuning import ParamGridBuilder, TrainValidationSplit, CrossValidator\n",
    "from pyspark.ml.evaluation import MulticlassClassificationEvaluator\n",
    "from pyspark.ml.classification import LogisticRegression, RandomForestClassifier, DecisionTreeClassifier, NaiveBayes\n",
    "\n",
    "import numpy as np\n",
    "import nltk\n",
    "import matplotlib.pyplot as plt\n",
    "%matplotlib inline\n",
    "\n",
    "#nltk.download('wordnet')"
   ]
  },
  {
   "cell_type": "code",
   "execution_count": 4,
   "metadata": {},
   "outputs": [
    {
     "name": "stderr",
     "output_type": "stream",
     "text": [
      "[nltk_data] Downloading package stopwords to\n",
      "[nltk_data]     C:\\Users\\kenne\\AppData\\Roaming\\nltk_data...\n",
      "[nltk_data]   Package stopwords is already up-to-date!\n"
     ]
    }
   ],
   "source": [
    "import nltk\n",
    "nltk.download('stopwords')\n",
    "from nltk.corpus import stopwords\n",
    "eng_stopwords = stopwords.words('english')"
   ]
  },
  {
   "cell_type": "markdown",
   "metadata": {},
   "source": [
    "### Reading in Data"
   ]
  },
  {
   "cell_type": "code",
   "execution_count": 5,
   "metadata": {},
   "outputs": [],
   "source": [
    "df = spark.read \\\n",
    "    .option(\"quote\", \"\\\"\")  \\\n",
    "    .option(\"escape\", \"\\\"\") \\\n",
    "    .option(\"ignoreLeadingWhiteSpace\",True) \\\n",
    "    .csv(r\"C:\\Users\\kenne\\OneDrive\\Desktop\\UChicago\\Python\\Final Project Big Data Amazon Review\\Amazon Review Kaggle Data\\amazon_reviews_us_Toys_v1_00.tsv\",inferSchema=True,header=True, sep='\\t' )"
   ]
  },
  {
   "cell_type": "markdown",
   "metadata": {},
   "source": [
    "## Code Cleaning"
   ]
  },
  {
   "cell_type": "code",
   "execution_count": 6,
   "metadata": {
    "scrolled": true
   },
   "outputs": [
    {
     "name": "stdout",
     "output_type": "stream",
     "text": [
      "-RECORD 0---------------------------------------\n",
      " marketplace       | US                         \n",
      " customer_id       | 18778586                   \n",
      " review_id         | RDIJS7QYB6XNR              \n",
      " product_id        | B00EDBY7X8                 \n",
      " product_parent    | 122952789                  \n",
      " product_title     | Monopoly Junior Board Game \n",
      " product_category  | Toys                       \n",
      " star_rating       | 5                          \n",
      " helpful_votes     | 0                          \n",
      " total_votes       | 0                          \n",
      " vine              | N                          \n",
      " verified_purchase | Y                          \n",
      " review_headline   | Five Stars                 \n",
      " review_body       | Excellent!!!               \n",
      " review_date       | 2015-08-31                 \n",
      "only showing top 1 row\n",
      "\n"
     ]
    }
   ],
   "source": [
    "df.show(1, vertical = True, truncate = False)"
   ]
  },
  {
   "cell_type": "code",
   "execution_count": 7,
   "metadata": {},
   "outputs": [],
   "source": [
    "df = df.select('product_id', 'star_rating', 'product_category', 'review_headline', 'review_body', 'helpful_votes', 'total_votes')"
   ]
  },
  {
   "cell_type": "code",
   "execution_count": 8,
   "metadata": {},
   "outputs": [
    {
     "name": "stdout",
     "output_type": "stream",
     "text": [
      "-RECORD 0------------------------\n",
      " product_id       | B00EDBY7X8   \n",
      " star_rating      | 5            \n",
      " product_category | Toys         \n",
      " review_headline  | Five Stars   \n",
      " review_body      | Excellent!!! \n",
      " helpful_votes    | 0            \n",
      " total_votes      | 0            \n",
      "only showing top 1 row\n",
      "\n"
     ]
    }
   ],
   "source": [
    "df.show(1, vertical = True, truncate = False)"
   ]
  },
  {
   "cell_type": "code",
   "execution_count": 9,
   "metadata": {},
   "outputs": [
    {
     "data": {
      "text/plain": [
       "4863165"
      ]
     },
     "execution_count": 9,
     "metadata": {},
     "output_type": "execute_result"
    }
   ],
   "source": [
    "df.dropna().count()"
   ]
  },
  {
   "cell_type": "code",
   "execution_count": 10,
   "metadata": {},
   "outputs": [
    {
     "name": "stdout",
     "output_type": "stream",
     "text": [
      "+----------+-----------+----------------+---------------+-----------+-------------+-----------+\n",
      "|product_id|star_rating|product_category|review_headline|review_body|helpful_votes|total_votes|\n",
      "+----------+-----------+----------------+---------------+-----------+-------------+-----------+\n",
      "|         0|          8|               8|            355|        740|            8|          8|\n",
      "+----------+-----------+----------------+---------------+-----------+-------------+-----------+\n",
      "\n"
     ]
    }
   ],
   "source": [
    "from pyspark.sql.functions import col,isnan, when, count\n",
    "df.select([count(when(isnan(c) | col(c).isNull(), c)).alias(c) for c in df.columns]\n",
    "   ).show()"
   ]
  },
  {
   "cell_type": "code",
   "execution_count": 11,
   "metadata": {},
   "outputs": [
    {
     "name": "stdout",
     "output_type": "stream",
     "text": [
      "-RECORD 0----------------\n",
      " product_id       | 1    \n",
      " star_rating      | 8    \n",
      " product_category | 8    \n",
      " review_headline  | 536  \n",
      " review_body      | 6301 \n",
      " helpful_votes    | 8    \n",
      " total_votes      | 8    \n",
      "\n"
     ]
    }
   ],
   "source": [
    "df2 = df.select([count(when(col(c).contains('None') | \\\n",
    "                            col(c).contains('NULL') | \\\n",
    "                            (col(c) == '' ) | \\\n",
    "                            col(c).isNull() | \\\n",
    "                            isnan(c), c \n",
    "                           )).alias(c)\n",
    "                    for c in df.columns])\n",
    "df2.count()\n",
    "df2.show(5, vertical = True)"
   ]
  },
  {
   "cell_type": "code",
   "execution_count": 12,
   "metadata": {},
   "outputs": [
    {
     "data": {
      "text/plain": [
       "155991"
      ]
     },
     "execution_count": 12,
     "metadata": {},
     "output_type": "execute_result"
    }
   ],
   "source": [
    "df = df.filter(col('total_votes') > 10)\n",
    "df.count()"
   ]
  },
  {
   "cell_type": "code",
   "execution_count": 13,
   "metadata": {},
   "outputs": [],
   "source": [
    "df = df.fillna(\"\", \"review_body\")\n",
    "df = df.fillna(\"\", \"review_headline\")"
   ]
  },
  {
   "cell_type": "code",
   "execution_count": 14,
   "metadata": {},
   "outputs": [
    {
     "name": "stdout",
     "output_type": "stream",
     "text": [
      "-RECORD 0-----------------------------------------------------------------------------------------------------------\n",
      " product_id       | B00LE9MZMW                                                                                      \n",
      " star_rating      | 5                                                                                               \n",
      " product_category | Toys                                                                                            \n",
      " review_headline  | Five Stars                                                                                      \n",
      " review_body      | Great cube, moves and twists easily. It may seem costly, but it's worth every penny.            \n",
      " helpful_votes    | 23                                                                                              \n",
      " total_votes      | 27                                                                                              \n",
      " review_text      | Five Stars Great cube, moves and twists easily. It may seem costly, but it's worth every penny. \n",
      "only showing top 1 row\n",
      "\n"
     ]
    }
   ],
   "source": [
    "df = df.withColumn('review_text', F.concat('review_headline', F.lit(\" \"), 'review_body'))\n",
    "df.show(1, vertical = True, truncate = False)"
   ]
  },
  {
   "cell_type": "code",
   "execution_count": 15,
   "metadata": {},
   "outputs": [
    {
     "name": "stdout",
     "output_type": "stream",
     "text": [
      "(0 rows)\n",
      "\n"
     ]
    }
   ],
   "source": [
    "df.filter((col(\"review_text\").isNull()) | ( col(\"review_text\") == \"\")).show(1, vertical = True, truncate = False)"
   ]
  },
  {
   "cell_type": "code",
   "execution_count": 16,
   "metadata": {},
   "outputs": [
    {
     "name": "stdout",
     "output_type": "stream",
     "text": [
      "-RECORD 0---------------\n",
      " product_id       | 0   \n",
      " star_rating      | 0   \n",
      " product_category | 0   \n",
      " review_headline  | 6   \n",
      " review_body      | 55  \n",
      " helpful_votes    | 0   \n",
      " total_votes      | 0   \n",
      " review_text      | 0   \n",
      "\n"
     ]
    }
   ],
   "source": [
    "df.select([count(when((col(c) == '' ) | \\\n",
    "                            col(c).isNull() | \\\n",
    "                            isnan(c), c \n",
    "                           )).alias(c)\n",
    "                    for c in df.columns]).show(5, vertical = True)"
   ]
  },
  {
   "cell_type": "code",
   "execution_count": 17,
   "metadata": {},
   "outputs": [
    {
     "name": "stdout",
     "output_type": "stream",
     "text": [
      "-RECORD 0-----------------------------------------------------------------------------------------------------------\n",
      " product_id       | B00LE9MZMW                                                                                      \n",
      " star_rating      | 5                                                                                               \n",
      " product_category | Toys                                                                                            \n",
      " review_headline  | Five Stars                                                                                      \n",
      " review_body      | Great cube, moves and twists easily. It may seem costly, but it's worth every penny.            \n",
      " helpful_votes    | 23                                                                                              \n",
      " total_votes      | 27                                                                                              \n",
      " review_text      | Five Stars Great cube, moves and twists easily. It may seem costly, but it's worth every penny. \n",
      " helpful_ratio    | 0.8518518518518519                                                                              \n",
      "only showing top 1 row\n",
      "\n"
     ]
    }
   ],
   "source": [
    "df = df.withColumn('helpful_ratio', F.col('helpful_votes') / F.col('total_votes'))\n",
    "df.show(1, vertical = True, truncate = False)"
   ]
  },
  {
   "cell_type": "code",
   "execution_count": 18,
   "metadata": {},
   "outputs": [
    {
     "data": {
      "text/plain": [
       "0"
      ]
     },
     "execution_count": 18,
     "metadata": {},
     "output_type": "execute_result"
    }
   ],
   "source": [
    "df.filter(col('helpful_ratio') < 0).count()"
   ]
  },
  {
   "cell_type": "code",
   "execution_count": 19,
   "metadata": {},
   "outputs": [],
   "source": [
    "df = df.withColumn('helpful', when(col(\"helpful_ratio\") < 0.5, 0).otherwise(1))"
   ]
  },
  {
   "cell_type": "code",
   "execution_count": 20,
   "metadata": {
    "scrolled": true
   },
   "outputs": [
    {
     "name": "stdout",
     "output_type": "stream",
     "text": [
      "-RECORD 0--------------------------------\n",
      " product_id       | B00LE9MZMW           \n",
      " star_rating      | 5                    \n",
      " product_category | Toys                 \n",
      " review_headline  | Five Stars           \n",
      " review_body      | Great cube, moves... \n",
      " helpful_votes    | 23                   \n",
      " total_votes      | 27                   \n",
      " review_text      | Five Stars Great ... \n",
      " helpful_ratio    | 0.8518518518518519   \n",
      " helpful          | 1                    \n",
      "-RECORD 1--------------------------------\n",
      " product_id       | B00LOV24VC           \n",
      " star_rating      | 1                    \n",
      " product_category | Toys                 \n",
      " review_headline  | If you want a qua... \n",
      " review_body      | i bought this cha... \n",
      " helpful_votes    | 21                   \n",
      " total_votes      | 21                   \n",
      " review_text      | If you want a qua... \n",
      " helpful_ratio    | 1.0                  \n",
      " helpful          | 1                    \n",
      "-RECORD 2--------------------------------\n",
      " product_id       | B00U1KA12G           \n",
      " star_rating      | 5                    \n",
      " product_category | Toys                 \n",
      " review_headline  | 11 Year Old Loves... \n",
      " review_body      | My daughter who i... \n",
      " helpful_votes    | 19                   \n",
      " total_votes      | 20                   \n",
      " review_text      | 11 Year Old Loves... \n",
      " helpful_ratio    | 0.95                 \n",
      " helpful          | 1                    \n",
      "-RECORD 3--------------------------------\n",
      " product_id       | B011BWUDGG           \n",
      " star_rating      | 4                    \n",
      " product_category | Toys                 \n",
      " review_headline  | Solid warranty...    \n",
      " review_body      | [[VIDEOID:164d1b1... \n",
      " helpful_votes    | 59                   \n",
      " total_votes      | 81                   \n",
      " review_text      | Solid warranty...... \n",
      " helpful_ratio    | 0.7283950617283951   \n",
      " helpful          | 1                    \n",
      "-RECORD 4--------------------------------\n",
      " product_id       | B00VJKTLMS           \n",
      " star_rating      | 5                    \n",
      " product_category | Toys                 \n",
      " review_headline  | Lots of fun if yo... \n",
      " review_body      | This toy is a kno... \n",
      " helpful_votes    | 22                   \n",
      " total_votes      | 23                   \n",
      " review_text      | Lots of fun if yo... \n",
      " helpful_ratio    | 0.9565217391304348   \n",
      " helpful          | 1                    \n",
      "only showing top 5 rows\n",
      "\n"
     ]
    }
   ],
   "source": [
    "df.show(5, vertical = True)"
   ]
  },
  {
   "cell_type": "markdown",
   "metadata": {},
   "source": [
    "### Cleaning the Review_Text"
   ]
  },
  {
   "cell_type": "code",
   "execution_count": 21,
   "metadata": {},
   "outputs": [],
   "source": [
    "df_clean = df"
   ]
  },
  {
   "cell_type": "code",
   "execution_count": 22,
   "metadata": {},
   "outputs": [
    {
     "name": "stdout",
     "output_type": "stream",
     "text": [
      "root\n",
      " |-- product_id: string (nullable = true)\n",
      " |-- star_rating: integer (nullable = true)\n",
      " |-- product_category: string (nullable = true)\n",
      " |-- review_headline: string (nullable = false)\n",
      " |-- review_body: string (nullable = false)\n",
      " |-- helpful_votes: integer (nullable = true)\n",
      " |-- total_votes: integer (nullable = true)\n",
      " |-- review_text: string (nullable = false)\n",
      " |-- helpful_ratio: double (nullable = true)\n",
      " |-- helpful: integer (nullable = false)\n",
      "\n"
     ]
    }
   ],
   "source": [
    "df_clean.printSchema()"
   ]
  },
  {
   "cell_type": "code",
   "execution_count": 23,
   "metadata": {
    "scrolled": true
   },
   "outputs": [
    {
     "name": "stdout",
     "output_type": "stream",
     "text": [
      "+-------+\n",
      "|helpful|\n",
      "+-------+\n",
      "|      1|\n",
      "|      0|\n",
      "+-------+\n",
      "\n"
     ]
    }
   ],
   "source": [
    "df_clean.select(\"helpful\").distinct().show()"
   ]
  },
  {
   "cell_type": "code",
   "execution_count": 24,
   "metadata": {},
   "outputs": [],
   "source": [
    "#Making the review text to all lower case\n",
    "df_clean=df_clean.withColumn('review_text_l', F.lower(F.col('review_text')))"
   ]
  },
  {
   "cell_type": "code",
   "execution_count": 25,
   "metadata": {},
   "outputs": [
    {
     "name": "stdout",
     "output_type": "stream",
     "text": [
      "-RECORD 0-----------------------------\n",
      " review_text_l | five stars great ... \n",
      "-RECORD 1-----------------------------\n",
      " review_text_l | if you want a qua... \n",
      "-RECORD 2-----------------------------\n",
      " review_text_l | 11 year old loves... \n",
      "-RECORD 3-----------------------------\n",
      " review_text_l | solid warranty...... \n",
      "-RECORD 4-----------------------------\n",
      " review_text_l | lots of fun if yo... \n",
      "only showing top 5 rows\n",
      "\n"
     ]
    }
   ],
   "source": [
    "df_clean.select(df_clean.columns[10]).show(5, vertical = True)"
   ]
  },
  {
   "cell_type": "code",
   "execution_count": 26,
   "metadata": {},
   "outputs": [],
   "source": [
    "#Removing all of the additional punctuations\n",
    "df_clean=df_clean.withColumn('review_text_l', F.regexp_replace('review_text_l', '\\'', ''))\n",
    "                                                                 \n",
    "df_clean=df_clean.withColumn('review_text_l', F.regexp_replace('review_text_l', '\\\\n|[^\\w]', ' ')).withColumn('review_text_l', F.regexp_replace('review_text_l', '\\s+', ' '))"
   ]
  },
  {
   "cell_type": "code",
   "execution_count": 27,
   "metadata": {},
   "outputs": [
    {
     "name": "stdout",
     "output_type": "stream",
     "text": [
      "-RECORD 0------------------------------------------------------------------------------------------------------------------------------------------------------------------------------------------------------------------------------------------------------------------------------------------------------------------------------------------------------------------------------------------------------------------------------------------------------------------------------------------------------------------------------------------------------------------------------------------------------------------------------------------------------------------------------------------------------------------------------------------------------------------------------------------------------------------------------------------------------------------------------------------------------------------------------------------------------------------------------------------------------------------------------------------------------------------------------------------------------------------------------------------------------------------------------------------------------------------------------------------------------------------------------------------------------------------------------------------------------------------------------------------------------------------------------------------------------------------------------------------------------------------------------------------------------------------------------------------------------------------------------------------------------------------------------------------------------------------------------------------------------------------------------------------------------------------------------------------------------------\n",
      " review_text_l | five stars great cube moves and twists easily it may seem costly but its worth every penny                                                                                                                                                                                                                                                                                                                                                                                                                                                                                                                                                                                                                                                                                                                                                                                                                                                                                                                                                                                                                                                                                                                                                                                                                                                                                                                                                                                                                                                                                                                                                                                                                                                                                                                                                          \n",
      "-RECORD 1------------------------------------------------------------------------------------------------------------------------------------------------------------------------------------------------------------------------------------------------------------------------------------------------------------------------------------------------------------------------------------------------------------------------------------------------------------------------------------------------------------------------------------------------------------------------------------------------------------------------------------------------------------------------------------------------------------------------------------------------------------------------------------------------------------------------------------------------------------------------------------------------------------------------------------------------------------------------------------------------------------------------------------------------------------------------------------------------------------------------------------------------------------------------------------------------------------------------------------------------------------------------------------------------------------------------------------------------------------------------------------------------------------------------------------------------------------------------------------------------------------------------------------------------------------------------------------------------------------------------------------------------------------------------------------------------------------------------------------------------------------------------------------------------------------------------------------------------------------\n",
      " review_text_l | if you want a quality chair this is not it i bought this chair for my grandson and it kept folding up into him everytime he tried to sit in it it would flip over very poor quality my daughter in law put it outside with a free sign on it                                                                                                                                                                                                                                                                                                                                                                                                                                                                                                                                                                                                                                                                                                                                                                                                                                                                                                                                                                                                                                                                                                                                                                                                                                                                                                                                                                                                                                                                                                                                                                                                        \n",
      "-RECORD 2------------------------------------------------------------------------------------------------------------------------------------------------------------------------------------------------------------------------------------------------------------------------------------------------------------------------------------------------------------------------------------------------------------------------------------------------------------------------------------------------------------------------------------------------------------------------------------------------------------------------------------------------------------------------------------------------------------------------------------------------------------------------------------------------------------------------------------------------------------------------------------------------------------------------------------------------------------------------------------------------------------------------------------------------------------------------------------------------------------------------------------------------------------------------------------------------------------------------------------------------------------------------------------------------------------------------------------------------------------------------------------------------------------------------------------------------------------------------------------------------------------------------------------------------------------------------------------------------------------------------------------------------------------------------------------------------------------------------------------------------------------------------------------------------------------------------------------------------------------\n",
      " review_text_l | 11 year old loves them they make a great gift my daughter who is 11 really enjoyed these she tore into it and did all the designs we both noticed that the spinner wasnt really needed i thought she had fun spinning it but she claims not so much she likes qixels and it keeps her busy and entertained i think its a fun crafty toy for her age range i think she would sooner have had more patterns and beads than the drier though br br bottom line the kids love these kits she will want more they make a great gift for the age range br br notes from sophie 11 br you dont really need the drier and its kinda loud br came with the same amount of designs and beads as a theme pack 4 br you can do it without any parents help br can be used up quick br there is a lot of packing trash br a lot like beados but squares                                                                                                                                                                                                                                                                                                                                                                                                                                                                                                                                                                                                                                                                                                                                                                                                                                                                                                                                                                                                          \n",
      "-RECORD 3------------------------------------------------------------------------------------------------------------------------------------------------------------------------------------------------------------------------------------------------------------------------------------------------------------------------------------------------------------------------------------------------------------------------------------------------------------------------------------------------------------------------------------------------------------------------------------------------------------------------------------------------------------------------------------------------------------------------------------------------------------------------------------------------------------------------------------------------------------------------------------------------------------------------------------------------------------------------------------------------------------------------------------------------------------------------------------------------------------------------------------------------------------------------------------------------------------------------------------------------------------------------------------------------------------------------------------------------------------------------------------------------------------------------------------------------------------------------------------------------------------------------------------------------------------------------------------------------------------------------------------------------------------------------------------------------------------------------------------------------------------------------------------------------------------------------------------------------------------\n",
      " review_text_l | solid warranty videoid 164d1b12ad70bf7050a19c925291a025 first off let me say that this scooter is f u n as you can see in the video i go from never having seen one to riding it comfortably in ten minutes the hardest part about learning to ride it was that all the neighbor kids wanted a turn i really was enjoying it until i was able to get it above a few miles an hour then i felt the slight rub on the right wheel that became worse at increased speeds then after charging it a second time i began to have issues with the battery every time i rode for more than five minutes the red battery light started blinking and the warning alarm buzzed id recharge it then try to ride it but then it started buzzing after riding it for three minutes so i contacted the leray people through the warranty card in the box they immediately emailed me a return ups label and as soon as they received my scooter they sent me a new one seamless br br the new one works fine it charged up in under an hour and i rode for an hour this afternoon its really addictive if you want to have some fun i highly recommend getting one these scooters br br ps writing reviews has become an accidental hobby for me and it always makes my day to know that people find my reviews helpful and if not why also if you have any questions clarifications or comments please feel free to leave a comment below i usually respond pretty quickly and almost always within 24 hours this item was provided for review consideration br br cheers clairey and almost always within 24 hours this item was provided for review consideration cheers claire                                                                                                                                                                                 \n",
      "-RECORD 4------------------------------------------------------------------------------------------------------------------------------------------------------------------------------------------------------------------------------------------------------------------------------------------------------------------------------------------------------------------------------------------------------------------------------------------------------------------------------------------------------------------------------------------------------------------------------------------------------------------------------------------------------------------------------------------------------------------------------------------------------------------------------------------------------------------------------------------------------------------------------------------------------------------------------------------------------------------------------------------------------------------------------------------------------------------------------------------------------------------------------------------------------------------------------------------------------------------------------------------------------------------------------------------------------------------------------------------------------------------------------------------------------------------------------------------------------------------------------------------------------------------------------------------------------------------------------------------------------------------------------------------------------------------------------------------------------------------------------------------------------------------------------------------------------------------------------------------------------------\n",
      " review_text_l | lots of fun if you have lots of room this toy is a knock it out of the park hit sure the toy is as one reviewer noted 34 limited play 34 the 34 limited 34 part is that it does five things and requires a ton of room like a family room or a really big outdoor area blaze does not work well on carpeting though blaze 34 only 34 does five things periodically you get cued to give blaze a hand like filling his tires or revving his engine br br blaze is surprisingly heavy but the weight is needed to help blaze do his multiple stunts a lever automatically lowers to help blaze do his various stunts technically blaze only does five things four of which are stunts but blaze seems to do a bit of ad libbing from time to time that makes the five stunts seem like a lot more blaze lifts up from the back from the front from the side and does tail spins blaze also talks and provides his own music admittedly the talking and music can get a little old but it is so amusing to watch blaze do tricks that we had little time to be bored br br the only 34 down side 34 to blaze is that blaze requires a lot of area without carpeting to do his stunts blaze does have a power mode that works okay on carpet but any stunts that use the automatic lever work much better on a relatively smooth surface like a concrete or hardwood floor br br we have had many different toy vehicles over the decades some of which were nearly the cost of this vehicle many of those vehicles only did one thing occasionally they might do something else like pop a wheelie but none of those vehicles would do all the things this vehicle will do frankly i would have loved this toy as a child what the heck i love this toy as an adult then there are the grandchildren if they can get it away from grandpa br br enjoy  \n",
      "only showing top 5 rows\n",
      "\n"
     ]
    }
   ],
   "source": [
    "df_clean.select('review_text_l').show(5,vertical = True, truncate = False)"
   ]
  },
  {
   "cell_type": "code",
   "execution_count": 28,
   "metadata": {},
   "outputs": [
    {
     "data": {
      "text/plain": [
       "2"
      ]
     },
     "execution_count": 28,
     "metadata": {},
     "output_type": "execute_result"
    }
   ],
   "source": [
    "#Removing reviews that have 3 or less words\n",
    "df_clean.filter(F.length(df_clean.review_text_l) < 3).count()"
   ]
  },
  {
   "cell_type": "code",
   "execution_count": 29,
   "metadata": {},
   "outputs": [],
   "source": [
    "df_clean = df_clean.filter(F.length(df_clean.review_text_l) > 3)"
   ]
  },
  {
   "cell_type": "code",
   "execution_count": 30,
   "metadata": {
    "scrolled": false
   },
   "outputs": [
    {
     "data": {
      "text/plain": [
       "155987"
      ]
     },
     "execution_count": 30,
     "metadata": {},
     "output_type": "execute_result"
    }
   ],
   "source": [
    "df_clean.count()"
   ]
  },
  {
   "cell_type": "markdown",
   "metadata": {},
   "source": [
    "## NLP Pipeline"
   ]
  },
  {
   "cell_type": "markdown",
   "metadata": {},
   "source": [
    "This pipeline consists of the following: Tokenizer, Stop Words Remover, Stemming, & TFIDF"
   ]
  },
  {
   "cell_type": "code",
   "execution_count": 31,
   "metadata": {},
   "outputs": [],
   "source": [
    "#Document & Tokenize\n",
    "document_assembler = DocumentAssembler().setInputCol(\"review_text_l\").setOutputCol(\"document\")\n",
    "tokenizer = Tokenizer().setInputCols([\"document\"]).setOutputCol(\"review_words\")\n",
    " \n",
    "#Cleaning Tokens\n",
    "remover           = StopWordsCleaner().setInputCols(\"review_words\").setOutputCol(\"review_words_stop\").setCaseSensitive(False).setStopWords(eng_stopwords)\n",
    "#lemmatizer        = Lemmatizer().setInputCols([\"review_words_stop\"]).setOutputCol(\"review_words_lemstem\")\n",
    "stemmer           = Stemmer().setInputCols([\"review_words_stop\"]).setOutputCol(\"review_words_lemstem\")\n",
    "finisher          = Finisher().setInputCols([\"review_words_lemstem\"]).setOutputCols([\"token_features\"]).setOutputAsArray(True).setCleanAnnotations(False)\n",
    "#hashingTF         = HashingTF(inputCol=\"token_features\", outputCol=\"rawFeatures\")\n",
    "#idf               = IDF(inputCol=\"rawFeatures\", outputCol=\"features\")\n",
    "\n",
    "pipeline_stem = Pipeline(stages=[document_assembler,tokenizer,remover,stemmer,finisher])#,hashingTF,idf])   "
   ]
  },
  {
   "cell_type": "markdown",
   "metadata": {},
   "source": [
    "##### Running NLP pipeline"
   ]
  },
  {
   "cell_type": "code",
   "execution_count": 32,
   "metadata": {},
   "outputs": [
    {
     "name": "stdout",
     "output_type": "stream",
     "text": [
      "Wall time: 293 ms\n"
     ]
    }
   ],
   "source": [
    "%%time\n",
    "df_clean_nlp = pipeline_stem.fit(df_clean).transform(df_clean)"
   ]
  },
  {
   "cell_type": "code",
   "execution_count": 33,
   "metadata": {},
   "outputs": [
    {
     "name": "stdout",
     "output_type": "stream",
     "text": [
      "+----------+-----------+----------------+---------------+--------------------+-------------+-----------+--------------------+------------------+-------+--------------------+--------------------+--------------------+--------------------+--------------------+--------------------+\n",
      "|product_id|star_rating|product_category|review_headline|         review_body|helpful_votes|total_votes|         review_text|     helpful_ratio|helpful|       review_text_l|            document|        review_words|   review_words_stop|review_words_lemstem|      token_features|\n",
      "+----------+-----------+----------------+---------------+--------------------+-------------+-----------+--------------------+------------------+-------+--------------------+--------------------+--------------------+--------------------+--------------------+--------------------+\n",
      "|B00LE9MZMW|          5|            Toys|     Five Stars|Great cube, moves...|           23|         27|Five Stars Great ...|0.8518518518518519|      1|five stars great ...|[{document, 0, 90...|[{token, 0, 3, fi...|[{token, 0, 3, fi...|[{token, 0, 3, fi...|[five, star, grea...|\n",
      "+----------+-----------+----------------+---------------+--------------------+-------------+-----------+--------------------+------------------+-------+--------------------+--------------------+--------------------+--------------------+--------------------+--------------------+\n",
      "only showing top 1 row\n",
      "\n"
     ]
    }
   ],
   "source": [
    "df_clean_nlp.show(1)"
   ]
  },
  {
   "cell_type": "markdown",
   "metadata": {},
   "source": [
    "##### Hashing TF"
   ]
  },
  {
   "cell_type": "code",
   "execution_count": 34,
   "metadata": {},
   "outputs": [
    {
     "name": "stdout",
     "output_type": "stream",
     "text": [
      "+----------+-----------+----------------+---------------+--------------------+-------------+-----------+--------------------+------------------+-------+--------------------+--------------------+--------------------+--------------------+--------------------+--------------------+--------------------+\n",
      "|product_id|star_rating|product_category|review_headline|         review_body|helpful_votes|total_votes|         review_text|     helpful_ratio|helpful|       review_text_l|            document|        review_words|   review_words_stop|review_words_lemstem|      token_features|         rawFeatures|\n",
      "+----------+-----------+----------------+---------------+--------------------+-------------+-----------+--------------------+------------------+-------+--------------------+--------------------+--------------------+--------------------+--------------------+--------------------+--------------------+\n",
      "|B00LE9MZMW|          5|            Toys|     Five Stars|Great cube, moves...|           23|         27|Five Stars Great ...|0.8518518518518519|      1|five stars great ...|[{document, 0, 90...|[{token, 0, 3, fi...|[{token, 0, 3, fi...|[{token, 0, 3, fi...|[five, star, grea...|(10000,[750,1212,...|\n",
      "+----------+-----------+----------------+---------------+--------------------+-------------+-----------+--------------------+------------------+-------+--------------------+--------------------+--------------------+--------------------+--------------------+--------------------+--------------------+\n",
      "only showing top 1 row\n",
      "\n"
     ]
    }
   ],
   "source": [
    "hashingTF = HashingTF(inputCol=\"token_features\", outputCol=\"rawFeatures\", numFeatures = 10000)\n",
    "df_featurizedData = hashingTF.transform(df_clean_nlp)\n",
    "df_featurizedData.show(1)"
   ]
  },
  {
   "cell_type": "markdown",
   "metadata": {},
   "source": [
    "##### IDF"
   ]
  },
  {
   "cell_type": "code",
   "execution_count": 35,
   "metadata": {},
   "outputs": [
    {
     "name": "stdout",
     "output_type": "stream",
     "text": [
      "-RECORD 0----------------------------------------------------------------------------------------------------------------------------------------------------------------------------------------------------------------------------------------------------------------------------------------------------------------------------------------------------------------------------------------------------------------------------------------------------------------------------------------------------------------------------------------------------------------------------------------------------------------------------------------------------------------------------------------------------------------------------------------------------------------------------------------------\n",
      " product_id           | B00LE9MZMW                                                                                                                                                                                                                                                                                                                                                                                                                                                                                                                                                                                                                                                                                                                                                                     \n",
      " star_rating          | 5                                                                                                                                                                                                                                                                                                                                                                                                                                                                                                                                                                                                                                                                                                                                                                              \n",
      " product_category     | Toys                                                                                                                                                                                                                                                                                                                                                                                                                                                                                                                                                                                                                                                                                                                                                                           \n",
      " review_headline      | Five Stars                                                                                                                                                                                                                                                                                                                                                                                                                                                                                                                                                                                                                                                                                                                                                                     \n",
      " review_body          | Great cube, moves and twists easily. It may seem costly, but it's worth every penny.                                                                                                                                                                                                                                                                                                                                                                                                                                                                                                                                                                                                                                                                                           \n",
      " helpful_votes        | 23                                                                                                                                                                                                                                                                                                                                                                                                                                                                                                                                                                                                                                                                                                                                                                             \n",
      " total_votes          | 27                                                                                                                                                                                                                                                                                                                                                                                                                                                                                                                                                                                                                                                                                                                                                                             \n",
      " review_text          | Five Stars Great cube, moves and twists easily. It may seem costly, but it's worth every penny.                                                                                                                                                                                                                                                                                                                                                                                                                                                                                                                                                                                                                                                                                \n",
      " helpful_ratio        | 0.8518518518518519                                                                                                                                                                                                                                                                                                                                                                                                                                                                                                                                                                                                                                                                                                                                                             \n",
      " helpful              | 1                                                                                                                                                                                                                                                                                                                                                                                                                                                                                                                                                                                                                                                                                                                                                                              \n",
      " review_text_l        | five stars great cube moves and twists easily it may seem costly but its worth every penny                                                                                                                                                                                                                                                                                                                                                                                                                                                                                                                                                                                                                                                                                     \n",
      " document             | [{document, 0, 90, five stars great cube moves and twists easily it may seem costly but its worth every penny , {sentence -> 0}, []}]                                                                                                                                                                                                                                                                                                                                                                                                                                                                                                                                                                                                                                          \n",
      " review_words         | [{token, 0, 3, five, {sentence -> 0}, []}, {token, 5, 9, stars, {sentence -> 0}, []}, {token, 11, 15, great, {sentence -> 0}, []}, {token, 17, 20, cube, {sentence -> 0}, []}, {token, 22, 26, moves, {sentence -> 0}, []}, {token, 28, 30, and, {sentence -> 0}, []}, {token, 32, 37, twists, {sentence -> 0}, []}, {token, 39, 44, easily, {sentence -> 0}, []}, {token, 46, 47, it, {sentence -> 0}, []}, {token, 49, 51, may, {sentence -> 0}, []}, {token, 53, 56, seem, {sentence -> 0}, []}, {token, 58, 63, costly, {sentence -> 0}, []}, {token, 65, 67, but, {sentence -> 0}, []}, {token, 69, 71, its, {sentence -> 0}, []}, {token, 73, 77, worth, {sentence -> 0}, []}, {token, 79, 83, every, {sentence -> 0}, []}, {token, 85, 89, penny, {sentence -> 0}, []}] \n",
      " review_words_stop    | [{token, 0, 3, five, {sentence -> 0}, []}, {token, 5, 9, stars, {sentence -> 0}, []}, {token, 11, 15, great, {sentence -> 0}, []}, {token, 17, 20, cube, {sentence -> 0}, []}, {token, 22, 26, moves, {sentence -> 0}, []}, {token, 32, 37, twists, {sentence -> 0}, []}, {token, 39, 44, easily, {sentence -> 0}, []}, {token, 49, 51, may, {sentence -> 0}, []}, {token, 53, 56, seem, {sentence -> 0}, []}, {token, 58, 63, costly, {sentence -> 0}, []}, {token, 73, 77, worth, {sentence -> 0}, []}, {token, 79, 83, every, {sentence -> 0}, []}, {token, 85, 89, penny, {sentence -> 0}, []}]                                                                                                                                                                            \n",
      " review_words_lemstem | [{token, 0, 3, five, {sentence -> 0}, []}, {token, 5, 9, star, {sentence -> 0}, []}, {token, 11, 15, great, {sentence -> 0}, []}, {token, 17, 20, cube, {sentence -> 0}, []}, {token, 22, 26, move, {sentence -> 0}, []}, {token, 32, 37, twist, {sentence -> 0}, []}, {token, 39, 44, easili, {sentence -> 0}, []}, {token, 49, 51, mai, {sentence -> 0}, []}, {token, 53, 56, seem, {sentence -> 0}, []}, {token, 58, 63, costli, {sentence -> 0}, []}, {token, 73, 77, worth, {sentence -> 0}, []}, {token, 79, 83, everi, {sentence -> 0}, []}, {token, 85, 89, penni, {sentence -> 0}, []}]                                                                                                                                                                               \n",
      " token_features       | [five, star, great, cube, move, twist, easili, mai, seem, costli, worth, everi, penni]                                                                                                                                                                                                                                                                                                                                                                                                                                                                                                                                                                                                                                                                                         \n",
      " rawFeatures          | (10000,[750,1212,2588,2958,5017,5170,5974,6118,6282,7988,8402,9299,9679],[1.0,1.0,1.0,1.0,1.0,1.0,1.0,1.0,1.0,1.0,1.0,1.0,1.0])                                                                                                                                                                                                                                                                                                                                                                                                                                                                                                                                                                                                                                                \n",
      " features             | (10000,[750,1212,2588,2958,5017,5170,5974,6118,6282,7988,8402,9299,9679],[1.1993549220046937,4.530390226787404,2.310811777476951,2.353464136330093,4.741559357544554,2.4515437461188787,3.087573849672067,2.7994351000655273,2.698213365998215,2.6232080084388456,4.984928108894266,6.596242194486594,2.4782361247663354])                                                                                                                                                                                                                                                                                                                                                                                                                                                     \n",
      "only showing top 1 row\n",
      "\n",
      "Wall time: 43 s\n"
     ]
    }
   ],
   "source": [
    "%%time\n",
    "idf = IDF(inputCol=\"rawFeatures\", outputCol=\"features\")\n",
    "df_nlp = idf.fit(df_featurizedData).transform(df_featurizedData)\n",
    "df_nlp.show(1, vertical = True, truncate = False)"
   ]
  },
  {
   "cell_type": "code",
   "execution_count": 36,
   "metadata": {},
   "outputs": [
    {
     "name": "stdout",
     "output_type": "stream",
     "text": [
      "-RECORD 0----------------------------------------------------------------------------------------------------------------------------------------------------------------------------------------------------------------------------------------------------------------------------------------------------------------------------------------------------------------------------------------------------------------------------------------------------------------------------------------------------------------------------------------------------------------------------------------------------------------------------------------------------------------------------------------------------------------------------------------------------------------------------------------------\n",
      " product_id           | B00LE9MZMW                                                                                                                                                                                                                                                                                                                                                                                                                                                                                                                                                                                                                                                                                                                                                                     \n",
      " star_rating          | 5                                                                                                                                                                                                                                                                                                                                                                                                                                                                                                                                                                                                                                                                                                                                                                              \n",
      " product_category     | Toys                                                                                                                                                                                                                                                                                                                                                                                                                                                                                                                                                                                                                                                                                                                                                                           \n",
      " review_headline      | Five Stars                                                                                                                                                                                                                                                                                                                                                                                                                                                                                                                                                                                                                                                                                                                                                                     \n",
      " review_body          | Great cube, moves and twists easily. It may seem costly, but it's worth every penny.                                                                                                                                                                                                                                                                                                                                                                                                                                                                                                                                                                                                                                                                                           \n",
      " helpful_votes        | 23                                                                                                                                                                                                                                                                                                                                                                                                                                                                                                                                                                                                                                                                                                                                                                             \n",
      " total_votes          | 27                                                                                                                                                                                                                                                                                                                                                                                                                                                                                                                                                                                                                                                                                                                                                                             \n",
      " review_text          | Five Stars Great cube, moves and twists easily. It may seem costly, but it's worth every penny.                                                                                                                                                                                                                                                                                                                                                                                                                                                                                                                                                                                                                                                                                \n",
      " helpful_ratio        | 0.8518518518518519                                                                                                                                                                                                                                                                                                                                                                                                                                                                                                                                                                                                                                                                                                                                                             \n",
      " helpful              | 1                                                                                                                                                                                                                                                                                                                                                                                                                                                                                                                                                                                                                                                                                                                                                                              \n",
      " review_text_l        | five stars great cube moves and twists easily it may seem costly but its worth every penny                                                                                                                                                                                                                                                                                                                                                                                                                                                                                                                                                                                                                                                                                     \n",
      " document             | [{document, 0, 90, five stars great cube moves and twists easily it may seem costly but its worth every penny , {sentence -> 0}, []}]                                                                                                                                                                                                                                                                                                                                                                                                                                                                                                                                                                                                                                          \n",
      " review_words         | [{token, 0, 3, five, {sentence -> 0}, []}, {token, 5, 9, stars, {sentence -> 0}, []}, {token, 11, 15, great, {sentence -> 0}, []}, {token, 17, 20, cube, {sentence -> 0}, []}, {token, 22, 26, moves, {sentence -> 0}, []}, {token, 28, 30, and, {sentence -> 0}, []}, {token, 32, 37, twists, {sentence -> 0}, []}, {token, 39, 44, easily, {sentence -> 0}, []}, {token, 46, 47, it, {sentence -> 0}, []}, {token, 49, 51, may, {sentence -> 0}, []}, {token, 53, 56, seem, {sentence -> 0}, []}, {token, 58, 63, costly, {sentence -> 0}, []}, {token, 65, 67, but, {sentence -> 0}, []}, {token, 69, 71, its, {sentence -> 0}, []}, {token, 73, 77, worth, {sentence -> 0}, []}, {token, 79, 83, every, {sentence -> 0}, []}, {token, 85, 89, penny, {sentence -> 0}, []}] \n",
      " review_words_stop    | [{token, 0, 3, five, {sentence -> 0}, []}, {token, 5, 9, stars, {sentence -> 0}, []}, {token, 11, 15, great, {sentence -> 0}, []}, {token, 17, 20, cube, {sentence -> 0}, []}, {token, 22, 26, moves, {sentence -> 0}, []}, {token, 32, 37, twists, {sentence -> 0}, []}, {token, 39, 44, easily, {sentence -> 0}, []}, {token, 49, 51, may, {sentence -> 0}, []}, {token, 53, 56, seem, {sentence -> 0}, []}, {token, 58, 63, costly, {sentence -> 0}, []}, {token, 73, 77, worth, {sentence -> 0}, []}, {token, 79, 83, every, {sentence -> 0}, []}, {token, 85, 89, penny, {sentence -> 0}, []}]                                                                                                                                                                            \n",
      " review_words_lemstem | [{token, 0, 3, five, {sentence -> 0}, []}, {token, 5, 9, star, {sentence -> 0}, []}, {token, 11, 15, great, {sentence -> 0}, []}, {token, 17, 20, cube, {sentence -> 0}, []}, {token, 22, 26, move, {sentence -> 0}, []}, {token, 32, 37, twist, {sentence -> 0}, []}, {token, 39, 44, easili, {sentence -> 0}, []}, {token, 49, 51, mai, {sentence -> 0}, []}, {token, 53, 56, seem, {sentence -> 0}, []}, {token, 58, 63, costli, {sentence -> 0}, []}, {token, 73, 77, worth, {sentence -> 0}, []}, {token, 79, 83, everi, {sentence -> 0}, []}, {token, 85, 89, penni, {sentence -> 0}, []}]                                                                                                                                                                               \n",
      " token_features       | [five, star, great, cube, move, twist, easili, mai, seem, costli, worth, everi, penni]                                                                                                                                                                                                                                                                                                                                                                                                                                                                                                                                                                                                                                                                                         \n",
      " rawFeatures          | (10000,[750,1212,2588,2958,5017,5170,5974,6118,6282,7988,8402,9299,9679],[1.0,1.0,1.0,1.0,1.0,1.0,1.0,1.0,1.0,1.0,1.0,1.0,1.0])                                                                                                                                                                                                                                                                                                                                                                                                                                                                                                                                                                                                                                                \n",
      " features             | (10000,[750,1212,2588,2958,5017,5170,5974,6118,6282,7988,8402,9299,9679],[1.1993549220046937,4.530390226787404,2.310811777476951,2.353464136330093,4.741559357544554,2.4515437461188787,3.087573849672067,2.7994351000655273,2.698213365998215,2.6232080084388456,4.984928108894266,6.596242194486594,2.4782361247663354])                                                                                                                                                                                                                                                                                                                                                                                                                                                     \n",
      "only showing top 1 row\n",
      "\n"
     ]
    }
   ],
   "source": [
    "df_nlp.show(1, vertical = True, truncate = False)"
   ]
  },
  {
   "cell_type": "code",
   "execution_count": 37,
   "metadata": {},
   "outputs": [],
   "source": [
    "nlpdf_model = df_nlp.select('helpful','features')"
   ]
  },
  {
   "cell_type": "code",
   "execution_count": 38,
   "metadata": {},
   "outputs": [],
   "source": [
    "from pyspark.sql.types import IntegerType\n",
    "nlpdf_model = nlpdf_model.withColumn('helpful',col('helpful').cast(IntegerType()))"
   ]
  },
  {
   "cell_type": "markdown",
   "metadata": {},
   "source": [
    "##### Train & Test Split"
   ]
  },
  {
   "cell_type": "code",
   "execution_count": 39,
   "metadata": {},
   "outputs": [],
   "source": [
    "#Sampling only 10% for modeling\n",
    "nlpdf_model = nlpdf_model.sample(False, 0.1, seed=0)"
   ]
  },
  {
   "cell_type": "code",
   "execution_count": 40,
   "metadata": {},
   "outputs": [],
   "source": [
    "train, test = nlpdf_model.randomSplit([0.8, 0.2], seed=12345)"
   ]
  },
  {
   "cell_type": "markdown",
   "metadata": {},
   "source": [
    "## NLP Modeling"
   ]
  },
  {
   "cell_type": "markdown",
   "metadata": {},
   "source": [
    "#### Logistic Regression (1 = Helpful, 0 = Not Helpful)"
   ]
  },
  {
   "cell_type": "code",
   "execution_count": 41,
   "metadata": {},
   "outputs": [
    {
     "name": "stdout",
     "output_type": "stream",
     "text": [
      "0.9986302473612119\n",
      "0.9986300290682693\n",
      "0.9986298435829625\n",
      "0.9986302473612119\n",
      "Wall time: 1min 58s\n"
     ]
    }
   ],
   "source": [
    "%%time\n",
    "lr = LogisticRegression(featuresCol = 'features', labelCol='helpful')\n",
    "\n",
    "paramGrid = (ParamGridBuilder().addGrid(lr.regParam, [0.3, 0.0]).addGrid(lr.elasticNetParam, [0.0]).addGrid(lr.maxIter, [20, 100]).build())\n",
    "\n",
    "#Evaluator\n",
    "evaluator = MulticlassClassificationEvaluator(labelCol='helpful', predictionCol=\"prediction\")\n",
    "    \n",
    "# Create 3-fold CrossValidator\n",
    "cv = CrossValidator(estimator=lr,estimatorParamMaps=paramGrid,evaluator=evaluator,numFolds=3)\n",
    "\n",
    "cvModel = cv.fit(train)\n",
    "\n",
    "predictions = cvModel.transform(train)\n",
    "\n",
    "print(evaluator.evaluate(predictions, {evaluator.metricName: \"accuracy\"}))\n",
    "print(evaluator.evaluate(predictions, {evaluator.metricName: \"f1\"}))\n",
    "print(evaluator.evaluate(predictions, {evaluator.metricName: \"weightedPrecision\"}))\n",
    "print(evaluator.evaluate(predictions, {evaluator.metricName: \"weightedRecall\"}))"
   ]
  },
  {
   "cell_type": "code",
   "execution_count": 42,
   "metadata": {},
   "outputs": [
    {
     "name": "stdout",
     "output_type": "stream",
     "text": [
      "{Param(parent='LogisticRegression_8ddf84dac9d6', name='regParam', doc='regularization parameter (>= 0).'): 0.0, Param(parent='LogisticRegression_8ddf84dac9d6', name='elasticNetParam', doc='the ElasticNet mixing parameter, in range [0, 1]. For alpha = 0, the penalty is an L2 penalty. For alpha = 1, it is an L1 penalty.'): 0.0, Param(parent='LogisticRegression_8ddf84dac9d6', name='maxIter', doc='max number of iterations (>= 0).'): 20}\n"
     ]
    }
   ],
   "source": [
    "print(cvModel.getEstimatorParamMaps()[np.argmax(cvModel.avgMetrics)])"
   ]
  },
  {
   "cell_type": "code",
   "execution_count": 43,
   "metadata": {},
   "outputs": [
    {
     "name": "stdout",
     "output_type": "stream",
     "text": [
      "0.8367875647668394\n",
      "0.8402725348094677\n",
      "0.8439975249923237\n",
      "0.8367875647668394\n",
      "Wall time: 23.3 s\n"
     ]
    }
   ],
   "source": [
    "%%time\n",
    "predictions = cvModel.transform(test)\n",
    "\n",
    "print(evaluator.evaluate(predictions, {evaluator.metricName: \"accuracy\"}))\n",
    "print(evaluator.evaluate(predictions, {evaluator.metricName: \"f1\"}))\n",
    "print(evaluator.evaluate(predictions, {evaluator.metricName: \"weightedPrecision\"}))\n",
    "print(evaluator.evaluate(predictions, {evaluator.metricName: \"weightedRecall\"}))"
   ]
  },
  {
   "cell_type": "markdown",
   "metadata": {},
   "source": [
    "#### Naive Bayes Classifier (1 = Helpful, 0 = Not Helpful)"
   ]
  },
  {
   "cell_type": "code",
   "execution_count": 44,
   "metadata": {},
   "outputs": [
    {
     "name": "stdout",
     "output_type": "stream",
     "text": [
      "0.9004109257916364\n",
      "0.910196530766402\n",
      "0.9313132728972261\n",
      "0.9004109257916364\n",
      "Wall time: 1min 8s\n"
     ]
    }
   ],
   "source": [
    "%%time\n",
    "nb = NaiveBayes(featuresCol='features', labelCol='helpful')\n",
    "\n",
    "paramGrid = (ParamGridBuilder().addGrid(nb.smoothing, [0.1, 0.5, 1.0]).build())\n",
    "\n",
    "#Evaluator\n",
    "evaluator = MulticlassClassificationEvaluator(labelCol='helpful', predictionCol=\"prediction\")\n",
    "    \n",
    "# Create 3-fold CrossValidator\n",
    "cv = CrossValidator(estimator=nb,estimatorParamMaps=paramGrid,evaluator=evaluator,numFolds=3)\n",
    "\n",
    "cvModel = cv.fit(train)\n",
    "\n",
    "predictions = cvModel.transform(train)\n",
    "\n",
    "print(evaluator.evaluate(predictions, {evaluator.metricName: \"accuracy\"}))\n",
    "print(evaluator.evaluate(predictions, {evaluator.metricName: \"f1\"}))\n",
    "print(evaluator.evaluate(predictions, {evaluator.metricName: \"weightedPrecision\"}))\n",
    "print(evaluator.evaluate(predictions, {evaluator.metricName: \"weightedRecall\"}))"
   ]
  },
  {
   "cell_type": "code",
   "execution_count": 45,
   "metadata": {},
   "outputs": [
    {
     "name": "stdout",
     "output_type": "stream",
     "text": [
      "{Param(parent='NaiveBayes_bd772d5ac088', name='smoothing', doc='The smoothing parameter, should be >= 0, default is 1.0'): 0.1}\n"
     ]
    }
   ],
   "source": [
    "print(cvModel.getEstimatorParamMaps()[np.argmax(cvModel.avgMetrics)])"
   ]
  },
  {
   "cell_type": "code",
   "execution_count": 46,
   "metadata": {},
   "outputs": [
    {
     "name": "stdout",
     "output_type": "stream",
     "text": [
      "0.8082901554404145\n",
      "0.8224791224691119\n",
      "0.8400114071301344\n",
      "0.8082901554404145\n",
      "Wall time: 23.3 s\n"
     ]
    }
   ],
   "source": [
    "%%time\n",
    "predictions = cvModel.transform(test)\n",
    "\n",
    "print(evaluator.evaluate(predictions, {evaluator.metricName: \"accuracy\"}))\n",
    "print(evaluator.evaluate(predictions, {evaluator.metricName: \"f1\"}))\n",
    "print(evaluator.evaluate(predictions, {evaluator.metricName: \"weightedPrecision\"}))\n",
    "print(evaluator.evaluate(predictions, {evaluator.metricName: \"weightedRecall\"}))"
   ]
  },
  {
   "cell_type": "markdown",
   "metadata": {},
   "source": [
    "#### Random Forest Classifier (1 = Helpful, 0 = Not Helpful)"
   ]
  },
  {
   "cell_type": "code",
   "execution_count": 47,
   "metadata": {},
   "outputs": [
    {
     "name": "stdout",
     "output_type": "stream",
     "text": [
      "0.8892917573120619\n",
      "0.8371812628329262\n",
      "0.7908398296231751\n",
      "0.8892917573120619\n",
      "Wall time: 1min 59s\n"
     ]
    }
   ],
   "source": [
    "%%time\n",
    "rfc = RandomForestClassifier(impurity=\"gini\", featuresCol='features', labelCol=\"helpful\")\n",
    "\n",
    "paramGrid = (ParamGridBuilder().addGrid(rfc.impurity, ['gini', 'entropy']).addGrid(rfc.maxBins, [32, 100]).build())\n",
    "\n",
    "#Evaluator\n",
    "evaluator = MulticlassClassificationEvaluator(labelCol='helpful', predictionCol=\"prediction\")\n",
    "    \n",
    "# Create 3-fold CrossValidator\n",
    "cv = CrossValidator(estimator=rfc,estimatorParamMaps=paramGrid,evaluator=evaluator,numFolds=3)\n",
    "\n",
    "cvModel = cv.fit(train)\n",
    "\n",
    "predictions = cvModel.transform(train)\n",
    "\n",
    "print(evaluator.evaluate(predictions, {evaluator.metricName: \"accuracy\"}))\n",
    "print(evaluator.evaluate(predictions, {evaluator.metricName: \"f1\"}))\n",
    "print(evaluator.evaluate(predictions, {evaluator.metricName: \"weightedPrecision\"}))\n",
    "print(evaluator.evaluate(predictions, {evaluator.metricName: \"weightedRecall\"}))"
   ]
  },
  {
   "cell_type": "code",
   "execution_count": 48,
   "metadata": {},
   "outputs": [
    {
     "name": "stdout",
     "output_type": "stream",
     "text": [
      "{Param(parent='RandomForestClassifier_9a076cbfe9ef', name='impurity', doc='Criterion used for information gain calculation (case-insensitive). Supported options: entropy, gini'): 'gini', Param(parent='RandomForestClassifier_9a076cbfe9ef', name='maxBins', doc='Max number of bins for discretizing continuous features.  Must be >=2 and >= number of categories for any categorical feature.'): 32}\n"
     ]
    }
   ],
   "source": [
    "print(cvModel.getEstimatorParamMaps()[np.argmax(cvModel.avgMetrics)])"
   ]
  },
  {
   "cell_type": "code",
   "execution_count": 49,
   "metadata": {},
   "outputs": [
    {
     "name": "stdout",
     "output_type": "stream",
     "text": [
      "0.8876295336787565\n",
      "0.8347890038817881\n",
      "0.7878861890587666\n",
      "0.8876295336787565\n",
      "Wall time: 23.3 s\n"
     ]
    }
   ],
   "source": [
    "%%time\n",
    "predictions = cvModel.transform(test)\n",
    "\n",
    "print(evaluator.evaluate(predictions, {evaluator.metricName: \"accuracy\"}))\n",
    "print(evaluator.evaluate(predictions, {evaluator.metricName: \"f1\"}))\n",
    "print(evaluator.evaluate(predictions, {evaluator.metricName: \"weightedPrecision\"}))\n",
    "print(evaluator.evaluate(predictions, {evaluator.metricName: \"weightedRecall\"}))"
   ]
  }
 ],
 "metadata": {
  "kernelspec": {
   "display_name": "Python 3",
   "language": "python",
   "name": "python3"
  },
  "language_info": {
   "codemirror_mode": {
    "name": "ipython",
    "version": 3
   },
   "file_extension": ".py",
   "mimetype": "text/x-python",
   "name": "python",
   "nbconvert_exporter": "python",
   "pygments_lexer": "ipython3",
   "version": "3.7.6"
  }
 },
 "nbformat": 4,
 "nbformat_minor": 4
}
