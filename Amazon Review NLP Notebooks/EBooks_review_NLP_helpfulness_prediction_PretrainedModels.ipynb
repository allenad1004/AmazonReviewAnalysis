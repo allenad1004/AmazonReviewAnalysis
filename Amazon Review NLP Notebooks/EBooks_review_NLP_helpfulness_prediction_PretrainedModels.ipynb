{
 "cells": [
  {
   "cell_type": "markdown",
   "metadata": {},
   "source": [
    "# Review NLP Helpfulness Prediction PretrainedModels (EBooks)"
   ]
  },
  {
   "cell_type": "markdown",
   "metadata": {},
   "source": [
    "## Creating Spark Session & Importing All Necessary Libraries"
   ]
  },
  {
   "cell_type": "code",
   "execution_count": 1,
   "metadata": {},
   "outputs": [],
   "source": [
    "import findspark\n",
    "findspark.init()"
   ]
  },
  {
   "cell_type": "code",
   "execution_count": 2,
   "metadata": {},
   "outputs": [],
   "source": [
    "# Import Spark NLP\n",
    "from sparknlp.base import *\n",
    "from sparknlp.annotator import *\n",
    "from sparknlp.pretrained import PretrainedPipeline\n",
    "from pyspark.sql import functions as F\n",
    "\n",
    "import sparknlp\n",
    "\n",
    "# Start SparkSession with Spark NLP\n",
    "# start() functions has 5 parameters: gpu, spark23, spark24, spark32, and memory\n",
    "# sparknlp.start(gpu=True) will start the session with GPU support\n",
    "# sparknlp.start(spark23=True) is when you have Apache Spark 2.3.x installed\n",
    "# sparknlp.start(spark24=True) is when you have Apache Spark 2.4.x installed\n",
    "# sparknlp.start(spark32=True) is when you have Apache Spark 3.2.x installed\n",
    "# sparknlp.start(memory=\"16G\") to change the default driver memory in SparkSession\n",
    "spark = sparknlp.start(gpu = True, spark32= True)"
   ]
  },
  {
   "cell_type": "markdown",
   "metadata": {},
   "source": [
    "### Reading in Data"
   ]
  },
  {
   "cell_type": "code",
   "execution_count": 3,
   "metadata": {},
   "outputs": [],
   "source": [
    "df = spark.read \\\n",
    "    .option(\"quote\", \"\\\"\")  \\\n",
    "    .option(\"escape\", \"\\\"\") \\\n",
    "    .option(\"ignoreLeadingWhiteSpace\",True) \\\n",
    "    .csv(r\"C:\\Users\\kenne\\OneDrive\\Desktop\\UChicago\\Python\\Final Project Big Data Amazon Review\\Amazon Review Kaggle Data\\amazon_reviews_us_Digital_Ebook_Purchase_v1_01.tsv\",inferSchema=True,header=True, sep='\\t' )"
   ]
  },
  {
   "cell_type": "markdown",
   "metadata": {},
   "source": [
    "## Code Cleaning"
   ]
  },
  {
   "cell_type": "code",
   "execution_count": 4,
   "metadata": {
    "scrolled": true
   },
   "outputs": [
    {
     "name": "stdout",
     "output_type": "stream",
     "text": [
      "-RECORD 0---------------------------------------------------------------------------------------------------------------------------------------------\n",
      " marketplace       | US                                                                                                                               \n",
      " customer_id       | 33605939                                                                                                                         \n",
      " review_id         | RGYFDX8QXKEIR                                                                                                                    \n",
      " product_id        | B007KO2MLO                                                                                                                       \n",
      " product_parent    | 328837464                                                                                                                        \n",
      " product_title     | Big Maria                                                                                                                        \n",
      " product_category  | Digital_Ebook_Purchase                                                                                                           \n",
      " star_rating       | 4                                                                                                                                \n",
      " helpful_votes     | 0                                                                                                                                \n",
      " total_votes       | 0                                                                                                                                \n",
      " vine              | N                                                                                                                                \n",
      " verified_purchase | N                                                                                                                                \n",
      " review_headline   | Quirky                                                                                                                           \n",
      " review_body       | Elmore Leonard meets the cast of Sierra Madre. Just a quirky read that will make you want to keep trying no matter what happens. \n",
      " review_date       | 2013-09-09                                                                                                                       \n",
      "only showing top 1 row\n",
      "\n"
     ]
    }
   ],
   "source": [
    "df.show(1, vertical = True, truncate = False)"
   ]
  },
  {
   "cell_type": "code",
   "execution_count": 5,
   "metadata": {},
   "outputs": [],
   "source": [
    "df = df.select('product_id', 'star_rating', 'product_category', 'review_headline', 'review_body', 'helpful_votes', 'total_votes')"
   ]
  },
  {
   "cell_type": "code",
   "execution_count": 6,
   "metadata": {},
   "outputs": [
    {
     "name": "stdout",
     "output_type": "stream",
     "text": [
      "-RECORD 0--------------------------------------------------------------------------------------------------------------------------------------------\n",
      " product_id       | B007KO2MLO                                                                                                                       \n",
      " star_rating      | 4                                                                                                                                \n",
      " product_category | Digital_Ebook_Purchase                                                                                                           \n",
      " review_headline  | Quirky                                                                                                                           \n",
      " review_body      | Elmore Leonard meets the cast of Sierra Madre. Just a quirky read that will make you want to keep trying no matter what happens. \n",
      " helpful_votes    | 0                                                                                                                                \n",
      " total_votes      | 0                                                                                                                                \n",
      "only showing top 1 row\n",
      "\n"
     ]
    }
   ],
   "source": [
    "df.show(1, vertical = True, truncate = False)"
   ]
  },
  {
   "cell_type": "code",
   "execution_count": 7,
   "metadata": {},
   "outputs": [
    {
     "data": {
      "text/plain": [
       "5101525"
      ]
     },
     "execution_count": 7,
     "metadata": {},
     "output_type": "execute_result"
    }
   ],
   "source": [
    "df.dropna().count()"
   ]
  },
  {
   "cell_type": "code",
   "execution_count": 8,
   "metadata": {},
   "outputs": [
    {
     "name": "stdout",
     "output_type": "stream",
     "text": [
      "+----------+-----------+----------------+---------------+-----------+-------------+-----------+\n",
      "|product_id|star_rating|product_category|review_headline|review_body|helpful_votes|total_votes|\n",
      "+----------+-----------+----------------+---------------+-----------+-------------+-----------+\n",
      "|         0|         17|              12|             63|        125|           17|         17|\n",
      "+----------+-----------+----------------+---------------+-----------+-------------+-----------+\n",
      "\n"
     ]
    }
   ],
   "source": [
    "from pyspark.sql.functions import col,isnan, when, count\n",
    "df.select([count(when(isnan(c) | col(c).isNull(), c)).alias(c) for c in df.columns]\n",
    "   ).show()"
   ]
  },
  {
   "cell_type": "code",
   "execution_count": 9,
   "metadata": {},
   "outputs": [
    {
     "name": "stdout",
     "output_type": "stream",
     "text": [
      "-RECORD 0----------------\n",
      " product_id       | 2    \n",
      " star_rating      | 17   \n",
      " product_category | 12   \n",
      " review_headline  | 5041 \n",
      " review_body      | 9632 \n",
      " helpful_votes    | 17   \n",
      " total_votes      | 17   \n",
      "\n"
     ]
    }
   ],
   "source": [
    "df2 = df.select([count(when(col(c).contains('None') | \\\n",
    "                            col(c).contains('NULL') | \\\n",
    "                            (col(c) == '' ) | \\\n",
    "                            col(c).isNull() | \\\n",
    "                            isnan(c), c \n",
    "                           )).alias(c)\n",
    "                    for c in df.columns])\n",
    "df2.count()\n",
    "df2.show(5, vertical = True)"
   ]
  },
  {
   "cell_type": "code",
   "execution_count": 10,
   "metadata": {},
   "outputs": [
    {
     "data": {
      "text/plain": [
       "196219"
      ]
     },
     "execution_count": 10,
     "metadata": {},
     "output_type": "execute_result"
    }
   ],
   "source": [
    "df = df.filter(col('total_votes') > 10)\n",
    "df.count()"
   ]
  },
  {
   "cell_type": "code",
   "execution_count": 11,
   "metadata": {},
   "outputs": [],
   "source": [
    "df = df.fillna(\"\", \"review_body\")\n",
    "df = df.fillna(\"\", \"review_headline\")"
   ]
  },
  {
   "cell_type": "code",
   "execution_count": 12,
   "metadata": {},
   "outputs": [
    {
     "name": "stdout",
     "output_type": "stream",
     "text": [
      "-RECORD 0------------------------------------------------------------------------------------------------------------------------------------------------------------------------------------------------------------------------------------------------------------------------------------------------------------------------------------------------------------------------------------------------------------------------------------------------------------------------------------------------------------------------------------------------------------------------------------------------------------------------------------------------------------------------------------------------------------------------------------------------------------------------------------------------------------------------------------------------\n",
      " product_id       | B006NG0GXQ                                                                                                                                                                                                                                                                                                                                                                                                                                                                                                                                                                                                                                                                                                                                                                                                                           \n",
      " star_rating      | 1                                                                                                                                                                                                                                                                                                                                                                                                                                                                                                                                                                                                                                                                                                                                                                                                                                    \n",
      " product_category | Digital_Ebook_Purchase                                                                                                                                                                                                                                                                                                                                                                                                                                                                                                                                                                                                                                                                                                                                                                                                               \n",
      " review_headline  | Completely absurd                                                                                                                                                                                                                                                                                                                                                                                                                                                                                                                                                                                                                                                                                                                                                                                                                    \n",
      " review_body      | From the time that Celine travels back until the end she becomes a loathsome character.  She is weak and written to be quite pathetic.  How she can so quickly fall in love with a cruel man (and he is cruel and rude until about 3/4 of the way through) is beyond me.  I was rooting for the villain to do away with them both.  I read some of the dialogue between the two love interests to my husband and we laughed at its absurdity.<br /><br />The writing style was very good but the plot and characters were not endearing in any way.  I would have rather had the female character just play along, quietly until she could return to her time instead of simpering and desperate.  This, to me, was not a romance but a twisted Stockholm syndrome fiction.<br /><br />Spend your money elsewhere.                   \n",
      " helpful_votes    | 36                                                                                                                                                                                                                                                                                                                                                                                                                                                                                                                                                                                                                                                                                                                                                                                                                                   \n",
      " total_votes      | 47                                                                                                                                                                                                                                                                                                                                                                                                                                                                                                                                                                                                                                                                                                                                                                                                                                   \n",
      " review_text      | Completely absurd From the time that Celine travels back until the end she becomes a loathsome character.  She is weak and written to be quite pathetic.  How she can so quickly fall in love with a cruel man (and he is cruel and rude until about 3/4 of the way through) is beyond me.  I was rooting for the villain to do away with them both.  I read some of the dialogue between the two love interests to my husband and we laughed at its absurdity.<br /><br />The writing style was very good but the plot and characters were not endearing in any way.  I would have rather had the female character just play along, quietly until she could return to her time instead of simpering and desperate.  This, to me, was not a romance but a twisted Stockholm syndrome fiction.<br /><br />Spend your money elsewhere. \n",
      "only showing top 1 row\n",
      "\n"
     ]
    }
   ],
   "source": [
    "df = df.withColumn('review_text', F.concat('review_headline', F.lit(\" \"), 'review_body'))\n",
    "df.show(1, vertical = True, truncate = False)"
   ]
  },
  {
   "cell_type": "code",
   "execution_count": 13,
   "metadata": {},
   "outputs": [
    {
     "name": "stdout",
     "output_type": "stream",
     "text": [
      "(0 rows)\n",
      "\n"
     ]
    }
   ],
   "source": [
    "df.filter((col(\"review_text\").isNull()) | ( col(\"review_text\") == \"\")).show(1, vertical = True, truncate = False)"
   ]
  },
  {
   "cell_type": "code",
   "execution_count": 14,
   "metadata": {},
   "outputs": [
    {
     "name": "stdout",
     "output_type": "stream",
     "text": [
      "-RECORD 0---------------\n",
      " product_id       | 0   \n",
      " star_rating      | 0   \n",
      " product_category | 0   \n",
      " review_headline  | 2   \n",
      " review_body      | 4   \n",
      " helpful_votes    | 0   \n",
      " total_votes      | 0   \n",
      " review_text      | 0   \n",
      "\n"
     ]
    }
   ],
   "source": [
    "df.select([count(when((col(c) == '' ) | \\\n",
    "                            col(c).isNull() | \\\n",
    "                            isnan(c), c \n",
    "                           )).alias(c)\n",
    "                    for c in df.columns]).show(5, vertical = True)"
   ]
  },
  {
   "cell_type": "code",
   "execution_count": 15,
   "metadata": {},
   "outputs": [
    {
     "name": "stdout",
     "output_type": "stream",
     "text": [
      "-RECORD 0------------------------------------------------------------------------------------------------------------------------------------------------------------------------------------------------------------------------------------------------------------------------------------------------------------------------------------------------------------------------------------------------------------------------------------------------------------------------------------------------------------------------------------------------------------------------------------------------------------------------------------------------------------------------------------------------------------------------------------------------------------------------------------------------------------------------------------------------\n",
      " product_id       | B006NG0GXQ                                                                                                                                                                                                                                                                                                                                                                                                                                                                                                                                                                                                                                                                                                                                                                                                                           \n",
      " star_rating      | 1                                                                                                                                                                                                                                                                                                                                                                                                                                                                                                                                                                                                                                                                                                                                                                                                                                    \n",
      " product_category | Digital_Ebook_Purchase                                                                                                                                                                                                                                                                                                                                                                                                                                                                                                                                                                                                                                                                                                                                                                                                               \n",
      " review_headline  | Completely absurd                                                                                                                                                                                                                                                                                                                                                                                                                                                                                                                                                                                                                                                                                                                                                                                                                    \n",
      " review_body      | From the time that Celine travels back until the end she becomes a loathsome character.  She is weak and written to be quite pathetic.  How she can so quickly fall in love with a cruel man (and he is cruel and rude until about 3/4 of the way through) is beyond me.  I was rooting for the villain to do away with them both.  I read some of the dialogue between the two love interests to my husband and we laughed at its absurdity.<br /><br />The writing style was very good but the plot and characters were not endearing in any way.  I would have rather had the female character just play along, quietly until she could return to her time instead of simpering and desperate.  This, to me, was not a romance but a twisted Stockholm syndrome fiction.<br /><br />Spend your money elsewhere.                   \n",
      " helpful_votes    | 36                                                                                                                                                                                                                                                                                                                                                                                                                                                                                                                                                                                                                                                                                                                                                                                                                                   \n",
      " total_votes      | 47                                                                                                                                                                                                                                                                                                                                                                                                                                                                                                                                                                                                                                                                                                                                                                                                                                   \n",
      " review_text      | Completely absurd From the time that Celine travels back until the end she becomes a loathsome character.  She is weak and written to be quite pathetic.  How she can so quickly fall in love with a cruel man (and he is cruel and rude until about 3/4 of the way through) is beyond me.  I was rooting for the villain to do away with them both.  I read some of the dialogue between the two love interests to my husband and we laughed at its absurdity.<br /><br />The writing style was very good but the plot and characters were not endearing in any way.  I would have rather had the female character just play along, quietly until she could return to her time instead of simpering and desperate.  This, to me, was not a romance but a twisted Stockholm syndrome fiction.<br /><br />Spend your money elsewhere. \n",
      " helpful_ratio    | 0.7659574468085106                                                                                                                                                                                                                                                                                                                                                                                                                                                                                                                                                                                                                                                                                                                                                                                                                   \n",
      "only showing top 1 row\n",
      "\n"
     ]
    }
   ],
   "source": [
    "df = df.withColumn('helpful_ratio', F.col('helpful_votes') / F.col('total_votes'))\n",
    "df.show(1, vertical = True, truncate = False)"
   ]
  },
  {
   "cell_type": "code",
   "execution_count": 16,
   "metadata": {},
   "outputs": [
    {
     "data": {
      "text/plain": [
       "0"
      ]
     },
     "execution_count": 16,
     "metadata": {},
     "output_type": "execute_result"
    }
   ],
   "source": [
    "df.filter(col('helpful_ratio') < 0).count()"
   ]
  },
  {
   "cell_type": "code",
   "execution_count": 17,
   "metadata": {},
   "outputs": [],
   "source": [
    "df = df.withColumn('helpful', when(col(\"helpful_ratio\") < 0.5, 0).otherwise(1))"
   ]
  },
  {
   "cell_type": "code",
   "execution_count": 18,
   "metadata": {
    "scrolled": true
   },
   "outputs": [
    {
     "name": "stdout",
     "output_type": "stream",
     "text": [
      "-RECORD 0--------------------------------\n",
      " product_id       | B006NG0GXQ           \n",
      " star_rating      | 1                    \n",
      " product_category | Digital_Ebook_Pur... \n",
      " review_headline  | Completely absurd    \n",
      " review_body      | From the time tha... \n",
      " helpful_votes    | 36                   \n",
      " total_votes      | 47                   \n",
      " review_text      | Completely absurd... \n",
      " helpful_ratio    | 0.7659574468085106   \n",
      " helpful          | 1                    \n",
      "-RECORD 1--------------------------------\n",
      " product_id       | B0078T6YHY           \n",
      " star_rating      | 1                    \n",
      " product_category | Digital_Ebook_Pur... \n",
      " review_headline  | No thanks            \n",
      " review_body      | This work should ... \n",
      " helpful_votes    | 16                   \n",
      " total_votes      | 26                   \n",
      " review_text      | No thanks This wo... \n",
      " helpful_ratio    | 0.6153846153846154   \n",
      " helpful          | 1                    \n",
      "-RECORD 2--------------------------------\n",
      " product_id       | B00CKXCNH8           \n",
      " star_rating      | 4                    \n",
      " product_category | Digital_Ebook_Pur... \n",
      " review_headline  | Fell in love with... \n",
      " review_body      | I like books that... \n",
      " helpful_votes    | 12                   \n",
      " total_votes      | 12                   \n",
      " review_text      | Fell in love with... \n",
      " helpful_ratio    | 1.0                  \n",
      " helpful          | 1                    \n",
      "-RECORD 3--------------------------------\n",
      " product_id       | B00A25FAYO           \n",
      " star_rating      | 1                    \n",
      " product_category | Digital_Ebook_Pur... \n",
      " review_headline  | A Big Disappointment \n",
      " review_body      | I was disappointe... \n",
      " helpful_votes    | 8                    \n",
      " total_votes      | 11                   \n",
      " review_text      | A Big Disappointm... \n",
      " helpful_ratio    | 0.7272727272727273   \n",
      " helpful          | 1                    \n",
      "-RECORD 4--------------------------------\n",
      " product_id       | B00F225YK2           \n",
      " star_rating      | 5                    \n",
      " product_category | Digital_Ebook_Pur... \n",
      " review_headline  | Holy Hotness, Bla... \n",
      " review_body      | Another Fave of 2... \n",
      " helpful_votes    | 28                   \n",
      " total_votes      | 36                   \n",
      " review_text      | Holy Hotness, Bla... \n",
      " helpful_ratio    | 0.7777777777777778   \n",
      " helpful          | 1                    \n",
      "only showing top 5 rows\n",
      "\n"
     ]
    }
   ],
   "source": [
    "df.show(5, vertical = True)"
   ]
  },
  {
   "cell_type": "code",
   "execution_count": 19,
   "metadata": {},
   "outputs": [],
   "source": [
    "df = df.sample(False, 0.5, seed = 0)"
   ]
  },
  {
   "cell_type": "markdown",
   "metadata": {},
   "source": [
    "## USE Pipeline"
   ]
  },
  {
   "cell_type": "code",
   "execution_count": 20,
   "metadata": {},
   "outputs": [],
   "source": [
    "#USE (Universal Sentence Encoder) Sentence Embedding\n",
    "document = DocumentAssembler()\\\n",
    "    .setInputCol(\"review_text\")\\\n",
    "    .setOutputCol(\"document\")\n",
    "    \n",
    "embeddingsSentence = UniversalSentenceEncoder.load('tfhub_use_en_2.4.0_2.4_1587136330099') \\\n",
    " .setInputCols([\"document\"])\\\n",
    " .setOutputCol(\"sentence_embeddings\")\n",
    "\n",
    "classifierdl = ClassifierDLApproach()\\\n",
    "  .setInputCols([\"sentence_embeddings\"])\\\n",
    "  .setOutputCol(\"prediction\")\\\n",
    "  .setLabelColumn(\"helpful\")\\\n",
    "  .setMaxEpochs(5)\\\n",
    "  .setEnableOutputLogs(True)\n",
    "\n",
    "use_clf_pipeline = Pipeline(\n",
    "    stages = [\n",
    "        document,\n",
    "        embeddingsSentence,\n",
    "        classifierdl\n",
    "    ])"
   ]
  },
  {
   "cell_type": "code",
   "execution_count": 21,
   "metadata": {},
   "outputs": [
    {
     "name": "stdout",
     "output_type": "stream",
     "text": [
      "Wall time: 1min 7s\n"
     ]
    }
   ],
   "source": [
    "%%time\n",
    "pipeline2 = use_clf_pipeline.fit(df)"
   ]
  },
  {
   "cell_type": "code",
   "execution_count": 22,
   "metadata": {},
   "outputs": [
    {
     "name": "stdout",
     "output_type": "stream",
     "text": [
      "Wall time: 49 ms\n"
     ]
    }
   ],
   "source": [
    "%%time\n",
    "final = pipeline2.transform(df)"
   ]
  },
  {
   "cell_type": "code",
   "execution_count": 23,
   "metadata": {},
   "outputs": [],
   "source": [
    "metrics = final.select('helpful','product_id',\"prediction.result\")"
   ]
  },
  {
   "cell_type": "markdown",
   "metadata": {},
   "source": [
    "## USE Results"
   ]
  },
  {
   "cell_type": "code",
   "execution_count": 24,
   "metadata": {},
   "outputs": [
    {
     "name": "stdout",
     "output_type": "stream",
     "text": [
      "              precision    recall  f1-score   support\n",
      "\n",
      "           0       0.00      0.00      0.00     21900\n",
      "           1       0.78      1.00      0.87     76435\n",
      "\n",
      "    accuracy                           0.78     98335\n",
      "   macro avg       0.39      0.50      0.44     98335\n",
      "weighted avg       0.60      0.78      0.68     98335\n",
      "\n",
      "0.7772919103066049\n",
      "Wall time: 19.1 s\n"
     ]
    },
    {
     "name": "stderr",
     "output_type": "stream",
     "text": [
      "C:\\Users\\kenne\\anaconda3\\lib\\site-packages\\sklearn\\metrics\\_classification.py:1272: UndefinedMetricWarning: Precision and F-score are ill-defined and being set to 0.0 in labels with no predicted samples. Use `zero_division` parameter to control this behavior.\n",
      "  _warn_prf(average, modifier, msg_start, len(result))\n"
     ]
    }
   ],
   "source": [
    "%%time\n",
    "from sklearn.metrics import classification_report, accuracy_score\n",
    "metrics_final = metrics.toPandas()\n",
    "metrics_final['result'] = metrics_final['result'].apply(lambda x: x[0])\n",
    "metrics_final['result'] = metrics_final['result'].astype('int')\n",
    "\n",
    "print(classification_report(metrics_final.helpful, metrics_final.result))\n",
    "print(accuracy_score(metrics_final.helpful, metrics_final.result))"
   ]
  },
  {
   "cell_type": "markdown",
   "metadata": {},
   "source": [
    "## BERT_uncased Embedding Pipeline"
   ]
  },
  {
   "cell_type": "code",
   "execution_count": 25,
   "metadata": {},
   "outputs": [],
   "source": [
    "#BERT Sentence Embedding\n",
    "document = DocumentAssembler()\\\n",
    "    .setInputCol(\"review_text\")\\\n",
    "    .setOutputCol(\"document\")\n",
    "    \n",
    "bert_cmlm = BertSentenceEmbeddings.load('sent_bert_base_uncased_en_2.6.0_2.4_1598346203624')\\\n",
    ".setInputCols([\"document\"])\\\n",
    ".setOutputCol(\"sentence_embeddings\")\n",
    "\n",
    "classifierdl = ClassifierDLApproach()\\\n",
    "  .setInputCols([\"sentence_embeddings\"])\\\n",
    "  .setOutputCol(\"prediction\")\\\n",
    "  .setLabelColumn(\"helpful\")\\\n",
    "  .setMaxEpochs(5)\\\n",
    "  .setEnableOutputLogs(True)\n",
    "\n",
    "use_clf_pipeline = Pipeline(\n",
    "    stages = [\n",
    "        document,\n",
    "        embeddingsSentence,\n",
    "        classifierdl\n",
    "    ])"
   ]
  },
  {
   "cell_type": "code",
   "execution_count": 26,
   "metadata": {},
   "outputs": [
    {
     "name": "stdout",
     "output_type": "stream",
     "text": [
      "Wall time: 1min 6s\n"
     ]
    }
   ],
   "source": [
    "%%time\n",
    "pipeline2 = use_clf_pipeline.fit(df)"
   ]
  },
  {
   "cell_type": "code",
   "execution_count": 27,
   "metadata": {},
   "outputs": [
    {
     "name": "stdout",
     "output_type": "stream",
     "text": [
      "Wall time: 34.5 ms\n"
     ]
    }
   ],
   "source": [
    "%%time\n",
    "final = pipeline2.transform(df)"
   ]
  },
  {
   "cell_type": "code",
   "execution_count": 28,
   "metadata": {},
   "outputs": [],
   "source": [
    "metrics = final.select('helpful','product_id',\"prediction.result\")"
   ]
  },
  {
   "cell_type": "markdown",
   "metadata": {},
   "source": [
    "## BERT_uncased Embedding Results"
   ]
  },
  {
   "cell_type": "code",
   "execution_count": 29,
   "metadata": {},
   "outputs": [
    {
     "name": "stdout",
     "output_type": "stream",
     "text": [
      "              precision    recall  f1-score   support\n",
      "\n",
      "           0       0.76      0.45      0.56     21900\n",
      "           1       0.86      0.96      0.91     76435\n",
      "\n",
      "    accuracy                           0.85     98335\n",
      "   macro avg       0.81      0.70      0.74     98335\n",
      "weighted avg       0.84      0.85      0.83     98335\n",
      "\n",
      "0.8458737987491738\n",
      "Wall time: 19.5 s\n"
     ]
    }
   ],
   "source": [
    "%%time\n",
    "from sklearn.metrics import classification_report, accuracy_score\n",
    "metrics_final = metrics.toPandas()\n",
    "metrics_final['result'] = metrics_final['result'].apply(lambda x: x[0])\n",
    "metrics_final['result'] = metrics_final['result'].astype('int')\n",
    "\n",
    "print(classification_report(metrics_final.helpful, metrics_final.result))\n",
    "print(accuracy_score(metrics_final.helpful, metrics_final.result))"
   ]
  },
  {
   "cell_type": "code",
   "execution_count": null,
   "metadata": {},
   "outputs": [],
   "source": []
  }
 ],
 "metadata": {
  "kernelspec": {
   "display_name": "Python 3",
   "language": "python",
   "name": "python3"
  },
  "language_info": {
   "codemirror_mode": {
    "name": "ipython",
    "version": 3
   },
   "file_extension": ".py",
   "mimetype": "text/x-python",
   "name": "python",
   "nbconvert_exporter": "python",
   "pygments_lexer": "ipython3",
   "version": "3.7.6"
  }
 },
 "nbformat": 4,
 "nbformat_minor": 4
}
