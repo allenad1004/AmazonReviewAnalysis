{
 "cells": [
  {
   "cell_type": "markdown",
   "metadata": {},
   "source": [
    "# Review NLP Helpfulness Prediction PretrainedModels (DVD)"
   ]
  },
  {
   "cell_type": "markdown",
   "metadata": {},
   "source": [
    "## Creating Spark Session & Importing All Necessary Libraries"
   ]
  },
  {
   "cell_type": "code",
   "execution_count": 1,
   "metadata": {},
   "outputs": [],
   "source": [
    "import findspark\n",
    "findspark.init()"
   ]
  },
  {
   "cell_type": "code",
   "execution_count": 2,
   "metadata": {},
   "outputs": [],
   "source": [
    "# Import Spark NLP\n",
    "from sparknlp.base import *\n",
    "from sparknlp.annotator import *\n",
    "from sparknlp.pretrained import PretrainedPipeline\n",
    "from pyspark.sql import functions as F\n",
    "\n",
    "import sparknlp\n",
    "\n",
    "# Start SparkSession with Spark NLP\n",
    "# start() functions has 5 parameters: gpu, spark23, spark24, spark32, and memory\n",
    "# sparknlp.start(gpu=True) will start the session with GPU support\n",
    "# sparknlp.start(spark23=True) is when you have Apache Spark 2.3.x installed\n",
    "# sparknlp.start(spark24=True) is when you have Apache Spark 2.4.x installed\n",
    "# sparknlp.start(spark32=True) is when you have Apache Spark 3.2.x installed\n",
    "# sparknlp.start(memory=\"16G\") to change the default driver memory in SparkSession\n",
    "spark = sparknlp.start(gpu = True, spark32= True)"
   ]
  },
  {
   "cell_type": "markdown",
   "metadata": {},
   "source": [
    "### Reading in Data"
   ]
  },
  {
   "cell_type": "code",
   "execution_count": 3,
   "metadata": {},
   "outputs": [],
   "source": [
    "df = spark.read \\\n",
    "    .option(\"quote\", \"\\\"\")  \\\n",
    "    .option(\"escape\", \"\\\"\") \\\n",
    "    .option(\"ignoreLeadingWhiteSpace\",True) \\\n",
    "    .csv(r\"C:\\Users\\kenne\\OneDrive\\Desktop\\UChicago\\Python\\Final Project Big Data Amazon Review\\Amazon Review Kaggle Data\\amazon_reviews_us_Video_DVD_v1_00.tsv\",inferSchema=True,header=True, sep='\\t' )"
   ]
  },
  {
   "cell_type": "markdown",
   "metadata": {},
   "source": [
    "## Code Cleaning"
   ]
  },
  {
   "cell_type": "code",
   "execution_count": 4,
   "metadata": {
    "scrolled": true
   },
   "outputs": [
    {
     "name": "stdout",
     "output_type": "stream",
     "text": [
      "-RECORD 0--------------------------------------------------------------------------------------------------------------------------------------------------------------------------------------------------------------------------------\n",
      " marketplace       | US                                                                                                                                                                                                                  \n",
      " customer_id       | 27288431                                                                                                                                                                                                            \n",
      " review_id         | R33UPQQUZQEM8                                                                                                                                                                                                       \n",
      " product_id        | B005T4ND06                                                                                                                                                                                                          \n",
      " product_parent    | 400024643                                                                                                                                                                                                           \n",
      " product_title     | Yoga for Movement Disorders DVD: Rebuilding Strength, Balance, and Flexibility for Parkinson's Disease and Dystonia                                                                                                 \n",
      " product_category  | Video DVD                                                                                                                                                                                                           \n",
      " star_rating       | 5                                                                                                                                                                                                                   \n",
      " helpful_votes     | 3                                                                                                                                                                                                                   \n",
      " total_votes       | 3                                                                                                                                                                                                                   \n",
      " vine              | N                                                                                                                                                                                                                   \n",
      " verified_purchase | Y                                                                                                                                                                                                                   \n",
      " review_headline   | This was a gift for my aunt who has Parkinson's ...                                                                                                                                                                 \n",
      " review_body       | This was a gift for my aunt who has Parkinson's.  While I have not previewed it myself, I also have not gotten any complaints.  My prior experiences with yoga tell me this should be just what the doctor ordered. \n",
      " review_date       | 2015-08-31                                                                                                                                                                                                          \n",
      "only showing top 1 row\n",
      "\n"
     ]
    }
   ],
   "source": [
    "df.show(1, vertical = True, truncate = False)"
   ]
  },
  {
   "cell_type": "code",
   "execution_count": 5,
   "metadata": {},
   "outputs": [],
   "source": [
    "df = df.select('product_id', 'star_rating', 'product_category', 'review_headline', 'review_body', 'helpful_votes', 'total_votes')"
   ]
  },
  {
   "cell_type": "code",
   "execution_count": 6,
   "metadata": {},
   "outputs": [
    {
     "name": "stdout",
     "output_type": "stream",
     "text": [
      "-RECORD 0-------------------------------------------------------------------------------------------------------------------------------------------------------------------------------------------------------------------------------\n",
      " product_id       | B005T4ND06                                                                                                                                                                                                          \n",
      " star_rating      | 5                                                                                                                                                                                                                   \n",
      " product_category | Video DVD                                                                                                                                                                                                           \n",
      " review_headline  | This was a gift for my aunt who has Parkinson's ...                                                                                                                                                                 \n",
      " review_body      | This was a gift for my aunt who has Parkinson's.  While I have not previewed it myself, I also have not gotten any complaints.  My prior experiences with yoga tell me this should be just what the doctor ordered. \n",
      " helpful_votes    | 3                                                                                                                                                                                                                   \n",
      " total_votes      | 3                                                                                                                                                                                                                   \n",
      "only showing top 1 row\n",
      "\n"
     ]
    }
   ],
   "source": [
    "df.show(1, vertical = True, truncate = False)"
   ]
  },
  {
   "cell_type": "code",
   "execution_count": 7,
   "metadata": {},
   "outputs": [
    {
     "data": {
      "text/plain": [
       "5068532"
      ]
     },
     "execution_count": 7,
     "metadata": {},
     "output_type": "execute_result"
    }
   ],
   "source": [
    "df.dropna().count()"
   ]
  },
  {
   "cell_type": "code",
   "execution_count": 8,
   "metadata": {},
   "outputs": [
    {
     "name": "stdout",
     "output_type": "stream",
     "text": [
      "+----------+-----------+----------------+---------------+-----------+-------------+-----------+\n",
      "|product_id|star_rating|product_category|review_headline|review_body|helpful_votes|total_votes|\n",
      "+----------+-----------+----------------+---------------+-----------+-------------+-----------+\n",
      "|         0|          4|               4|            163|        456|            4|          4|\n",
      "+----------+-----------+----------------+---------------+-----------+-------------+-----------+\n",
      "\n"
     ]
    }
   ],
   "source": [
    "from pyspark.sql.functions import col,isnan, when, count\n",
    "df.select([count(when(isnan(c) | col(c).isNull(), c)).alias(c) for c in df.columns]\n",
    "   ).show()"
   ]
  },
  {
   "cell_type": "code",
   "execution_count": 9,
   "metadata": {},
   "outputs": [
    {
     "name": "stdout",
     "output_type": "stream",
     "text": [
      "-RECORD 0-----------------\n",
      " product_id       | 0     \n",
      " star_rating      | 4     \n",
      " product_category | 4     \n",
      " review_headline  | 760   \n",
      " review_body      | 16722 \n",
      " helpful_votes    | 4     \n",
      " total_votes      | 4     \n",
      "\n"
     ]
    }
   ],
   "source": [
    "df2 = df.select([count(when(col(c).contains('None') | \\\n",
    "                            col(c).contains('NULL') | \\\n",
    "                            (col(c) == '' ) | \\\n",
    "                            col(c).isNull() | \\\n",
    "                            isnan(c), c \n",
    "                           )).alias(c)\n",
    "                    for c in df.columns])\n",
    "df2.count()\n",
    "df2.show(5, vertical = True)"
   ]
  },
  {
   "cell_type": "code",
   "execution_count": 10,
   "metadata": {},
   "outputs": [
    {
     "data": {
      "text/plain": [
       "478432"
      ]
     },
     "execution_count": 10,
     "metadata": {},
     "output_type": "execute_result"
    }
   ],
   "source": [
    "df = df.filter(col('total_votes') > 10)\n",
    "df.count()"
   ]
  },
  {
   "cell_type": "code",
   "execution_count": 11,
   "metadata": {},
   "outputs": [],
   "source": [
    "df = df.fillna(\"\", \"review_body\")\n",
    "df = df.fillna(\"\", \"review_headline\")"
   ]
  },
  {
   "cell_type": "code",
   "execution_count": 12,
   "metadata": {},
   "outputs": [
    {
     "name": "stdout",
     "output_type": "stream",
     "text": [
      "-RECORD 0-----------------------------------------------------------------------------------------------------------------------------------------------------------------------------------------------------------------------------------------------------------------------------------------------------------------------------------------------------------------------------------------------------------------------------------------------------------------------------------\n",
      " product_id       | B00ZGPZR9I                                                                                                                                                                                                                                                                                                                                                                                                                                                              \n",
      " star_rating      | 4                                                                                                                                                                                                                                                                                                                                                                                                                                                                       \n",
      " product_category | Video DVD                                                                                                                                                                                                                                                                                                                                                                                                                                                               \n",
      " review_headline  | Unfair Accusation Toward A Great BRITISH Author                                                                                                                                                                                                                                                                                                                                                                                                                         \n",
      " review_body      | Amazed after Wodehouse was interned by the Nazis that the British Govt turned around and accused him of being in sympathy with his former captors,all because he and some others were released due to their age!Since he's been dead since ~1975,I think the Brits owe his family an official apology.His daughter had died during routine surgery,he seemingly was put in the same category as Lord Haw Haw.Appalling!                                                 \n",
      " helpful_votes    | 32                                                                                                                                                                                                                                                                                                                                                                                                                                                                      \n",
      " total_votes      | 39                                                                                                                                                                                                                                                                                                                                                                                                                                                                      \n",
      " review_text      | Unfair Accusation Toward A Great BRITISH Author Amazed after Wodehouse was interned by the Nazis that the British Govt turned around and accused him of being in sympathy with his former captors,all because he and some others were released due to their age!Since he's been dead since ~1975,I think the Brits owe his family an official apology.His daughter had died during routine surgery,he seemingly was put in the same category as Lord Haw Haw.Appalling! \n",
      "only showing top 1 row\n",
      "\n"
     ]
    }
   ],
   "source": [
    "df = df.withColumn('review_text', F.concat('review_headline', F.lit(\" \"), 'review_body'))\n",
    "df.show(1, vertical = True, truncate = False)"
   ]
  },
  {
   "cell_type": "code",
   "execution_count": 13,
   "metadata": {},
   "outputs": [
    {
     "name": "stdout",
     "output_type": "stream",
     "text": [
      "(0 rows)\n",
      "\n"
     ]
    }
   ],
   "source": [
    "df.filter((col(\"review_text\").isNull()) | ( col(\"review_text\") == \"\")).show(1, vertical = True, truncate = False)"
   ]
  },
  {
   "cell_type": "code",
   "execution_count": 14,
   "metadata": {},
   "outputs": [
    {
     "name": "stdout",
     "output_type": "stream",
     "text": [
      "-RECORD 0---------------\n",
      " product_id       | 0   \n",
      " star_rating      | 0   \n",
      " product_category | 0   \n",
      " review_headline  | 5   \n",
      " review_body      | 14  \n",
      " helpful_votes    | 0   \n",
      " total_votes      | 0   \n",
      " review_text      | 0   \n",
      "\n"
     ]
    }
   ],
   "source": [
    "df.select([count(when((col(c) == '' ) | \\\n",
    "                            col(c).isNull() | \\\n",
    "                            isnan(c), c \n",
    "                           )).alias(c)\n",
    "                    for c in df.columns]).show(5, vertical = True)"
   ]
  },
  {
   "cell_type": "code",
   "execution_count": 15,
   "metadata": {},
   "outputs": [
    {
     "name": "stdout",
     "output_type": "stream",
     "text": [
      "-RECORD 0-----------------------------------------------------------------------------------------------------------------------------------------------------------------------------------------------------------------------------------------------------------------------------------------------------------------------------------------------------------------------------------------------------------------------------------------------------------------------------------\n",
      " product_id       | B00ZGPZR9I                                                                                                                                                                                                                                                                                                                                                                                                                                                              \n",
      " star_rating      | 4                                                                                                                                                                                                                                                                                                                                                                                                                                                                       \n",
      " product_category | Video DVD                                                                                                                                                                                                                                                                                                                                                                                                                                                               \n",
      " review_headline  | Unfair Accusation Toward A Great BRITISH Author                                                                                                                                                                                                                                                                                                                                                                                                                         \n",
      " review_body      | Amazed after Wodehouse was interned by the Nazis that the British Govt turned around and accused him of being in sympathy with his former captors,all because he and some others were released due to their age!Since he's been dead since ~1975,I think the Brits owe his family an official apology.His daughter had died during routine surgery,he seemingly was put in the same category as Lord Haw Haw.Appalling!                                                 \n",
      " helpful_votes    | 32                                                                                                                                                                                                                                                                                                                                                                                                                                                                      \n",
      " total_votes      | 39                                                                                                                                                                                                                                                                                                                                                                                                                                                                      \n",
      " review_text      | Unfair Accusation Toward A Great BRITISH Author Amazed after Wodehouse was interned by the Nazis that the British Govt turned around and accused him of being in sympathy with his former captors,all because he and some others were released due to their age!Since he's been dead since ~1975,I think the Brits owe his family an official apology.His daughter had died during routine surgery,he seemingly was put in the same category as Lord Haw Haw.Appalling! \n",
      " helpful_ratio    | 0.8205128205128205                                                                                                                                                                                                                                                                                                                                                                                                                                                      \n",
      "only showing top 1 row\n",
      "\n"
     ]
    }
   ],
   "source": [
    "df = df.withColumn('helpful_ratio', F.col('helpful_votes') / F.col('total_votes'))\n",
    "df.show(1, vertical = True, truncate = False)"
   ]
  },
  {
   "cell_type": "code",
   "execution_count": 16,
   "metadata": {},
   "outputs": [
    {
     "data": {
      "text/plain": [
       "0"
      ]
     },
     "execution_count": 16,
     "metadata": {},
     "output_type": "execute_result"
    }
   ],
   "source": [
    "df.filter(col('helpful_ratio') < 0).count()"
   ]
  },
  {
   "cell_type": "code",
   "execution_count": 17,
   "metadata": {},
   "outputs": [],
   "source": [
    "df = df.withColumn('helpful', when(col(\"helpful_ratio\") < 0.5, 0).otherwise(1))"
   ]
  },
  {
   "cell_type": "code",
   "execution_count": 18,
   "metadata": {
    "scrolled": true
   },
   "outputs": [
    {
     "name": "stdout",
     "output_type": "stream",
     "text": [
      "-RECORD 0--------------------------------\n",
      " product_id       | B00ZGPZR9I           \n",
      " star_rating      | 4                    \n",
      " product_category | Video DVD            \n",
      " review_headline  | Unfair Accusation... \n",
      " review_body      | Amazed after Wode... \n",
      " helpful_votes    | 32                   \n",
      " total_votes      | 39                   \n",
      " review_text      | Unfair Accusation... \n",
      " helpful_ratio    | 0.8205128205128205   \n",
      " helpful          | 1                    \n",
      "-RECORD 1--------------------------------\n",
      " product_id       | B001JAHSI2           \n",
      " star_rating      | 1                    \n",
      " product_category | Video DVD            \n",
      " review_headline  | Buy Chinese bootlegs \n",
      " review_body      | I do not have cab... \n",
      " helpful_votes    | 12                   \n",
      " total_votes      | 15                   \n",
      " review_text      | Buy Chinese bootl... \n",
      " helpful_ratio    | 0.8                  \n",
      " helpful          | 1                    \n",
      "-RECORD 2--------------------------------\n",
      " product_id       | B00XUV1B4U           \n",
      " star_rating      | 1                    \n",
      " product_category | Video DVD            \n",
      " review_headline  | One Star             \n",
      " review_body      | IF it's not a 4K ... \n",
      " helpful_votes    | 4                    \n",
      " total_votes      | 86                   \n",
      " review_text      | One Star IF it's ... \n",
      " helpful_ratio    | 0.046511627906976744 \n",
      " helpful          | 0                    \n",
      "-RECORD 3--------------------------------\n",
      " product_id       | B00ZCHTQGA           \n",
      " star_rating      | 4                    \n",
      " product_category | Video DVD            \n",
      " review_headline  | I wont steer you ... \n",
      " review_body      | Do not watch this... \n",
      " helpful_votes    | 35                   \n",
      " total_votes      | 37                   \n",
      " review_text      | I wont steer you ... \n",
      " helpful_ratio    | 0.9459459459459459   \n",
      " helpful          | 1                    \n",
      "-RECORD 4--------------------------------\n",
      " product_id       | B013TYXUSM           \n",
      " star_rating      | 3                    \n",
      " product_category | Video DVD            \n",
      " review_headline  | Was this really s... \n",
      " review_body      | I grew up watchin... \n",
      " helpful_votes    | 1                    \n",
      " total_votes      | 17                   \n",
      " review_text      | Was this really s... \n",
      " helpful_ratio    | 0.058823529411764705 \n",
      " helpful          | 0                    \n",
      "only showing top 5 rows\n",
      "\n"
     ]
    }
   ],
   "source": [
    "df.show(5, vertical = True)"
   ]
  },
  {
   "cell_type": "code",
   "execution_count": 19,
   "metadata": {},
   "outputs": [],
   "source": [
    "df = df.sample(False, 0.5, seed = 0)"
   ]
  },
  {
   "cell_type": "markdown",
   "metadata": {},
   "source": [
    "## USE Pipeline"
   ]
  },
  {
   "cell_type": "code",
   "execution_count": 20,
   "metadata": {},
   "outputs": [],
   "source": [
    "#USE (Universal Sentence Encoder) Sentence Embedding\n",
    "document = DocumentAssembler()\\\n",
    "    .setInputCol(\"review_text\")\\\n",
    "    .setOutputCol(\"document\")\n",
    "    \n",
    "embeddingsSentence = UniversalSentenceEncoder.load('tfhub_use_en_2.4.0_2.4_1587136330099') \\\n",
    " .setInputCols([\"document\"])\\\n",
    " .setOutputCol(\"sentence_embeddings\")\n",
    "\n",
    "classifierdl = ClassifierDLApproach()\\\n",
    "  .setInputCols([\"sentence_embeddings\"])\\\n",
    "  .setOutputCol(\"prediction\")\\\n",
    "  .setLabelColumn(\"helpful\")\\\n",
    "  .setMaxEpochs(5)\\\n",
    "  .setEnableOutputLogs(True)\n",
    "\n",
    "use_clf_pipeline = Pipeline(\n",
    "    stages = [\n",
    "        document,\n",
    "        embeddingsSentence,\n",
    "        classifierdl\n",
    "    ])"
   ]
  },
  {
   "cell_type": "code",
   "execution_count": 21,
   "metadata": {},
   "outputs": [],
   "source": [
    "train, test = df.randomSplit([0.8, 0.2], seed=12345)"
   ]
  },
  {
   "cell_type": "code",
   "execution_count": 22,
   "metadata": {},
   "outputs": [
    {
     "name": "stdout",
     "output_type": "stream",
     "text": [
      "Wall time: 2min 14s\n"
     ]
    }
   ],
   "source": [
    "%%time\n",
    "pipeline2 = use_clf_pipeline.fit(train)"
   ]
  },
  {
   "cell_type": "code",
   "execution_count": 23,
   "metadata": {},
   "outputs": [
    {
     "name": "stdout",
     "output_type": "stream",
     "text": [
      "Wall time: 49.5 ms\n"
     ]
    }
   ],
   "source": [
    "%%time\n",
    "final = pipeline2.transform(test)"
   ]
  },
  {
   "cell_type": "code",
   "execution_count": 24,
   "metadata": {},
   "outputs": [],
   "source": [
    "metrics = final.select('helpful','product_id',\"prediction.result\")"
   ]
  },
  {
   "cell_type": "markdown",
   "metadata": {},
   "source": [
    "## USE Results"
   ]
  },
  {
   "cell_type": "code",
   "execution_count": 25,
   "metadata": {
    "scrolled": true
   },
   "outputs": [
    {
     "name": "stdout",
     "output_type": "stream",
     "text": [
      "              precision    recall  f1-score   support\n",
      "\n",
      "           0       0.69      0.66      0.67     15431\n",
      "           1       0.84      0.86      0.85     32661\n",
      "\n",
      "    accuracy                           0.80     48092\n",
      "   macro avg       0.77      0.76      0.76     48092\n",
      "weighted avg       0.79      0.80      0.80     48092\n",
      "\n",
      "0.796847708558596\n",
      "Wall time: 13.6 s\n"
     ]
    }
   ],
   "source": [
    "%%time\n",
    "from sklearn.metrics import classification_report, accuracy_score\n",
    "metrics_final = metrics.toPandas()\n",
    "metrics_final['result'] = metrics_final['result'].apply(lambda x: x[0])\n",
    "metrics_final['result'] = metrics_final['result'].astype('int')\n",
    "\n",
    "print(classification_report(metrics_final.helpful, metrics_final.result))\n",
    "print(accuracy_score(metrics_final.helpful, metrics_final.result))"
   ]
  },
  {
   "cell_type": "markdown",
   "metadata": {},
   "source": [
    "## USE Inference"
   ]
  },
  {
   "cell_type": "code",
   "execution_count": 26,
   "metadata": {},
   "outputs": [
    {
     "data": {
      "text/plain": [
       "'1'"
      ]
     },
     "execution_count": 26,
     "metadata": {},
     "output_type": "execute_result"
    }
   ],
   "source": [
    "light_model = LightPipeline(pipeline2)\n",
    "#Using a review that was stated Helpful on Amazon\n",
    "text=\"I learned 10 dances on the first disc. Easy dances to follow. Instructor was very good. The best part for me was that at the end, they combined all the dances into a 30 minute workout. Haven't gone to the 2nd disc yet, but I will. Great value for the money.\"\n",
    "light_model.annotate(text)['prediction'][0]"
   ]
  },
  {
   "cell_type": "code",
   "execution_count": 27,
   "metadata": {},
   "outputs": [
    {
     "data": {
      "text/plain": [
       "'0'"
      ]
     },
     "execution_count": 27,
     "metadata": {},
     "output_type": "execute_result"
    }
   ],
   "source": [
    "#Using a review that has not beed stated Helpful on Amazon YET\n",
    "text=\"Was good\"\n",
    "light_model.annotate(text)['prediction'][0]"
   ]
  },
  {
   "cell_type": "code",
   "execution_count": 37,
   "metadata": {
    "scrolled": true
   },
   "outputs": [
    {
     "data": {
      "text/plain": [
       "'0'"
      ]
     },
     "execution_count": 37,
     "metadata": {},
     "output_type": "execute_result"
    }
   ],
   "source": [
    "#Using a review that has not beed stated Helpful on Amazon YET\n",
    "text=\"No complaints, was good, could be better, not gonna buy again\"\n",
    "light_model.annotate(text)['prediction'][0]"
   ]
  },
  {
   "cell_type": "markdown",
   "metadata": {},
   "source": [
    "## BERT_uncased Embedding Pipeline"
   ]
  },
  {
   "cell_type": "code",
   "execution_count": 29,
   "metadata": {},
   "outputs": [],
   "source": [
    "#BERT Sentence Embedding\n",
    "document = DocumentAssembler()\\\n",
    "    .setInputCol(\"review_text\")\\\n",
    "    .setOutputCol(\"document\")\n",
    "    \n",
    "bert_cmlm = BertSentenceEmbeddings.load('sent_bert_base_uncased_en_2.6.0_2.4_1598346203624')\\\n",
    ".setInputCols([\"document\"])\\\n",
    ".setOutputCol(\"sentence_embeddings\")\n",
    "\n",
    "classifierdl = ClassifierDLApproach()\\\n",
    "  .setInputCols([\"sentence_embeddings\"])\\\n",
    "  .setOutputCol(\"prediction\")\\\n",
    "  .setLabelColumn(\"helpful\")\\\n",
    "  .setMaxEpochs(5)\\\n",
    "  .setEnableOutputLogs(True)\n",
    "\n",
    "use_clf_pipeline = Pipeline(\n",
    "    stages = [\n",
    "        document,\n",
    "        embeddingsSentence,\n",
    "        classifierdl\n",
    "    ])"
   ]
  },
  {
   "cell_type": "code",
   "execution_count": 30,
   "metadata": {},
   "outputs": [
    {
     "name": "stdout",
     "output_type": "stream",
     "text": [
      "Wall time: 2min 6s\n"
     ]
    }
   ],
   "source": [
    "%%time\n",
    "pipeline2 = use_clf_pipeline.fit(train)"
   ]
  },
  {
   "cell_type": "code",
   "execution_count": 31,
   "metadata": {},
   "outputs": [
    {
     "name": "stdout",
     "output_type": "stream",
     "text": [
      "Wall time: 39.5 ms\n"
     ]
    }
   ],
   "source": [
    "%%time\n",
    "final = pipeline2.transform(test)"
   ]
  },
  {
   "cell_type": "code",
   "execution_count": 32,
   "metadata": {},
   "outputs": [],
   "source": [
    "metrics = final.select('helpful','product_id',\"prediction.result\")"
   ]
  },
  {
   "cell_type": "markdown",
   "metadata": {},
   "source": [
    "## BERT_uncased Embedding Results"
   ]
  },
  {
   "cell_type": "code",
   "execution_count": 33,
   "metadata": {
    "scrolled": true
   },
   "outputs": [
    {
     "name": "stdout",
     "output_type": "stream",
     "text": [
      "              precision    recall  f1-score   support\n",
      "\n",
      "           0       0.72      0.63      0.67     15431\n",
      "           1       0.83      0.88      0.86     32661\n",
      "\n",
      "    accuracy                           0.80     48092\n",
      "   macro avg       0.78      0.76      0.76     48092\n",
      "weighted avg       0.80      0.80      0.80     48092\n",
      "\n",
      "0.8017133826831906\n",
      "Wall time: 14 s\n"
     ]
    }
   ],
   "source": [
    "%%time\n",
    "from sklearn.metrics import classification_report, accuracy_score\n",
    "metrics_final = metrics.toPandas()\n",
    "metrics_final['result'] = metrics_final['result'].apply(lambda x: x[0])\n",
    "metrics_final['result'] = metrics_final['result'].astype('int')\n",
    "\n",
    "print(classification_report(metrics_final.helpful, metrics_final.result))\n",
    "print(accuracy_score(metrics_final.helpful, metrics_final.result))"
   ]
  },
  {
   "cell_type": "markdown",
   "metadata": {},
   "source": [
    "## BERT Inference"
   ]
  },
  {
   "cell_type": "code",
   "execution_count": 34,
   "metadata": {},
   "outputs": [
    {
     "data": {
      "text/plain": [
       "'1'"
      ]
     },
     "execution_count": 34,
     "metadata": {},
     "output_type": "execute_result"
    }
   ],
   "source": [
    "light_model = LightPipeline(pipeline2)\n",
    "#Using a review that was stated Helpful on Amazon\n",
    "text=\"I learned 10 dances on the first disc. Easy dances to follow. Instructor was very good. The best part for me was that at the end, they combined all the dances into a 30 minute workout. Haven't gone to the 2nd disc yet, but I will. Great value for the money.\"\n",
    "light_model.annotate(text)['prediction'][0]"
   ]
  },
  {
   "cell_type": "code",
   "execution_count": 35,
   "metadata": {},
   "outputs": [
    {
     "data": {
      "text/plain": [
       "'0'"
      ]
     },
     "execution_count": 35,
     "metadata": {},
     "output_type": "execute_result"
    }
   ],
   "source": [
    "#Using a review that has not beed stated Helpful on Amazon YET\n",
    "text=\"Was good\"\n",
    "light_model.annotate(text)['prediction'][0]"
   ]
  },
  {
   "cell_type": "code",
   "execution_count": 38,
   "metadata": {
    "scrolled": true
   },
   "outputs": [
    {
     "data": {
      "text/plain": [
       "'0'"
      ]
     },
     "execution_count": 38,
     "metadata": {},
     "output_type": "execute_result"
    }
   ],
   "source": [
    "#Using a review that has not beed stated Helpful on Amazon YET\n",
    "text=\"No complaints, was good, could be better, not gonna buy again\"\n",
    "light_model.annotate(text)['prediction'][0]"
   ]
  }
 ],
 "metadata": {
  "kernelspec": {
   "display_name": "Python 3",
   "language": "python",
   "name": "python3"
  },
  "language_info": {
   "codemirror_mode": {
    "name": "ipython",
    "version": 3
   },
   "file_extension": ".py",
   "mimetype": "text/x-python",
   "name": "python",
   "nbconvert_exporter": "python",
   "pygments_lexer": "ipython3",
   "version": "3.7.6"
  }
 },
 "nbformat": 4,
 "nbformat_minor": 4
}
