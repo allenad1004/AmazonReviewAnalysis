{
 "cells": [
  {
   "cell_type": "markdown",
   "metadata": {},
   "source": [
    "# Review NLP Helpfulness Prediction PretrainedModels (Software)"
   ]
  },
  {
   "cell_type": "markdown",
   "metadata": {},
   "source": [
    "## Creating Spark Session & Importing All Necessary Libraries"
   ]
  },
  {
   "cell_type": "code",
   "execution_count": 1,
   "metadata": {},
   "outputs": [],
   "source": [
    "import findspark\n",
    "findspark.init()"
   ]
  },
  {
   "cell_type": "code",
   "execution_count": 2,
   "metadata": {},
   "outputs": [],
   "source": [
    "# Import Spark NLP\n",
    "from sparknlp.base import *\n",
    "from sparknlp.annotator import *\n",
    "from sparknlp.pretrained import PretrainedPipeline\n",
    "from pyspark.sql import functions as F\n",
    "\n",
    "import sparknlp\n",
    "\n",
    "# Start SparkSession with Spark NLP\n",
    "# start() functions has 5 parameters: gpu, spark23, spark24, spark32, and memory\n",
    "# sparknlp.start(gpu=True) will start the session with GPU support\n",
    "# sparknlp.start(spark23=True) is when you have Apache Spark 2.3.x installed\n",
    "# sparknlp.start(spark24=True) is when you have Apache Spark 2.4.x installed\n",
    "# sparknlp.start(spark32=True) is when you have Apache Spark 3.2.x installed\n",
    "# sparknlp.start(memory=\"16G\") to change the default driver memory in SparkSession\n",
    "spark = sparknlp.start(gpu = True, spark32= True)"
   ]
  },
  {
   "cell_type": "markdown",
   "metadata": {},
   "source": [
    "### Reading in Data"
   ]
  },
  {
   "cell_type": "code",
   "execution_count": 3,
   "metadata": {},
   "outputs": [],
   "source": [
    "df = spark.read \\\n",
    "    .option(\"quote\", \"\\\"\")  \\\n",
    "    .option(\"escape\", \"\\\"\") \\\n",
    "    .option(\"ignoreLeadingWhiteSpace\",True) \\\n",
    "    .csv(r\"C:\\Users\\kenne\\OneDrive\\Desktop\\UChicago\\Python\\Final Project Big Data Amazon Review\\Amazon Review Kaggle Data\\amazon_reviews_us_Software_v1_00.tsv\",inferSchema=True,header=True, sep='\\t' )"
   ]
  },
  {
   "cell_type": "markdown",
   "metadata": {},
   "source": [
    "## Code Cleaning"
   ]
  },
  {
   "cell_type": "code",
   "execution_count": 4,
   "metadata": {
    "scrolled": true
   },
   "outputs": [
    {
     "name": "stdout",
     "output_type": "stream",
     "text": [
      "-RECORD 0----------------------------------------------------------------------------------------------------------------------------------------------------------------------------------------------------------------------------------------------------------------------------------------------------------------------------------------------------------------------------------------------------------------------------------------------------------------------------------------------------------------------------------------------------------------------------------------------------------------------------------------------------------------------------------------------------------------------------------------------------------------------------------------------------------------------------------------------------------------------------------------------------------------\n",
      " marketplace       | US                                                                                                                                                                                                                                                                                                                                                                                                                                                                                                                                                                                                                                                                                                                                                                                                                                                                                                  \n",
      " customer_id       | 42605767                                                                                                                                                                                                                                                                                                                                                                                                                                                                                                                                                                                                                                                                                                                                                                                                                                                                                            \n",
      " review_id         | R3EFW2STIYIY0I                                                                                                                                                                                                                                                                                                                                                                                                                                                                                                                                                                                                                                                                                                                                                                                                                                                                                      \n",
      " product_id        | B00MUTIDKI                                                                                                                                                                                                                                                                                                                                                                                                                                                                                                                                                                                                                                                                                                                                                                                                                                                                                          \n",
      " product_parent    | 248732228                                                                                                                                                                                                                                                                                                                                                                                                                                                                                                                                                                                                                                                                                                                                                                                                                                                                                           \n",
      " product_title     | McAfee 2015 Internet Security 3 PC (3-Users)                                                                                                                                                                                                                                                                                                                                                                                                                                                                                                                                                                                                                                                                                                                                                                                                                                                        \n",
      " product_category  | Software                                                                                                                                                                                                                                                                                                                                                                                                                                                                                                                                                                                                                                                                                                                                                                                                                                                                                            \n",
      " star_rating       | 1                                                                                                                                                                                                                                                                                                                                                                                                                                                                                                                                                                                                                                                                                                                                                                                                                                                                                                   \n",
      " helpful_votes     | 2                                                                                                                                                                                                                                                                                                                                                                                                                                                                                                                                                                                                                                                                                                                                                                                                                                                                                                   \n",
      " total_votes       | 2                                                                                                                                                                                                                                                                                                                                                                                                                                                                                                                                                                                                                                                                                                                                                                                                                                                                                                   \n",
      " vine              | N                                                                                                                                                                                                                                                                                                                                                                                                                                                                                                                                                                                                                                                                                                                                                                                                                                                                                                   \n",
      " verified_purchase | Y                                                                                                                                                                                                                                                                                                                                                                                                                                                                                                                                                                                                                                                                                                                                                                                                                                                                                                   \n",
      " review_headline   | I was very disappointed with this                                                                                                                                                                                                                                                                                                                                                                                                                                                                                                                                                                                                                                                                                                                                                                                                                                                                   \n",
      " review_body       | I was very disappointed with this. The description said it was compatible with Windows XP, but reading the box when I received it, it was not. I had to pay a little more for Trend Micro which was compatiable with Windows XP. I notice on two PC's on which I installed Trend Micro, that the computers boot up faster than they did with McAfee 2014.<br /><br />Since I would have had to pay postage to return this McAfee 2015, I decided to keep it as the price had been good. I will use this on a Windows 7 laptop which I have upgraded to the free version of Windows 10. Windows 10 includes Microsoft's antivirus program Defender which the reviews say is as good as the pay software. So, after the McAfee 2015 expires in a year, I will stick with Defender and Trend Micro. McAffehas lost a long time customer cause they refused to support folks with Windows XP computers. \n",
      " review_date       | 2015-08-31                                                                                                                                                                                                                                                                                                                                                                                                                                                                                                                                                                                                                                                                                                                                                                                                                                                                                          \n",
      "only showing top 1 row\n",
      "\n"
     ]
    }
   ],
   "source": [
    "df.show(1, vertical = True, truncate = False)"
   ]
  },
  {
   "cell_type": "code",
   "execution_count": 5,
   "metadata": {},
   "outputs": [],
   "source": [
    "df = df.select('product_id', 'star_rating', 'product_category', 'review_headline', 'review_body', 'helpful_votes', 'total_votes')"
   ]
  },
  {
   "cell_type": "code",
   "execution_count": 6,
   "metadata": {},
   "outputs": [
    {
     "name": "stdout",
     "output_type": "stream",
     "text": [
      "-RECORD 0---------------------------------------------------------------------------------------------------------------------------------------------------------------------------------------------------------------------------------------------------------------------------------------------------------------------------------------------------------------------------------------------------------------------------------------------------------------------------------------------------------------------------------------------------------------------------------------------------------------------------------------------------------------------------------------------------------------------------------------------------------------------------------------------------------------------------------------------------------------------------------------------------------------\n",
      " product_id       | B00MUTIDKI                                                                                                                                                                                                                                                                                                                                                                                                                                                                                                                                                                                                                                                                                                                                                                                                                                                                                          \n",
      " star_rating      | 1                                                                                                                                                                                                                                                                                                                                                                                                                                                                                                                                                                                                                                                                                                                                                                                                                                                                                                   \n",
      " product_category | Software                                                                                                                                                                                                                                                                                                                                                                                                                                                                                                                                                                                                                                                                                                                                                                                                                                                                                            \n",
      " review_headline  | I was very disappointed with this                                                                                                                                                                                                                                                                                                                                                                                                                                                                                                                                                                                                                                                                                                                                                                                                                                                                   \n",
      " review_body      | I was very disappointed with this. The description said it was compatible with Windows XP, but reading the box when I received it, it was not. I had to pay a little more for Trend Micro which was compatiable with Windows XP. I notice on two PC's on which I installed Trend Micro, that the computers boot up faster than they did with McAfee 2014.<br /><br />Since I would have had to pay postage to return this McAfee 2015, I decided to keep it as the price had been good. I will use this on a Windows 7 laptop which I have upgraded to the free version of Windows 10. Windows 10 includes Microsoft's antivirus program Defender which the reviews say is as good as the pay software. So, after the McAfee 2015 expires in a year, I will stick with Defender and Trend Micro. McAffehas lost a long time customer cause they refused to support folks with Windows XP computers. \n",
      " helpful_votes    | 2                                                                                                                                                                                                                                                                                                                                                                                                                                                                                                                                                                                                                                                                                                                                                                                                                                                                                                   \n",
      " total_votes      | 2                                                                                                                                                                                                                                                                                                                                                                                                                                                                                                                                                                                                                                                                                                                                                                                                                                                                                                   \n",
      "only showing top 1 row\n",
      "\n"
     ]
    }
   ],
   "source": [
    "df.show(1, vertical = True, truncate = False)"
   ]
  },
  {
   "cell_type": "code",
   "execution_count": 7,
   "metadata": {},
   "outputs": [
    {
     "data": {
      "text/plain": [
       "341911"
      ]
     },
     "execution_count": 7,
     "metadata": {},
     "output_type": "execute_result"
    }
   ],
   "source": [
    "df.dropna().count()"
   ]
  },
  {
   "cell_type": "code",
   "execution_count": 8,
   "metadata": {},
   "outputs": [
    {
     "name": "stdout",
     "output_type": "stream",
     "text": [
      "+----------+-----------+----------------+---------------+-----------+-------------+-----------+\n",
      "|product_id|star_rating|product_category|review_headline|review_body|helpful_votes|total_votes|\n",
      "+----------+-----------+----------------+---------------+-----------+-------------+-----------+\n",
      "|         0|          0|               0|              6|         14|            0|          0|\n",
      "+----------+-----------+----------------+---------------+-----------+-------------+-----------+\n",
      "\n"
     ]
    }
   ],
   "source": [
    "from pyspark.sql.functions import col,isnan, when, count\n",
    "df.select([count(when(isnan(c) | col(c).isNull(), c)).alias(c) for c in df.columns]\n",
    "   ).show()"
   ]
  },
  {
   "cell_type": "code",
   "execution_count": 9,
   "metadata": {},
   "outputs": [
    {
     "name": "stdout",
     "output_type": "stream",
     "text": [
      "-RECORD 0---------------\n",
      " product_id       | 0   \n",
      " star_rating      | 0   \n",
      " product_category | 0   \n",
      " review_headline  | 59  \n",
      " review_body      | 993 \n",
      " helpful_votes    | 0   \n",
      " total_votes      | 0   \n",
      "\n"
     ]
    }
   ],
   "source": [
    "df2 = df.select([count(when(col(c).contains('None') | \\\n",
    "                            col(c).contains('NULL') | \\\n",
    "                            (col(c) == '' ) | \\\n",
    "                            col(c).isNull() | \\\n",
    "                            isnan(c), c \n",
    "                           )).alias(c)\n",
    "                    for c in df.columns])\n",
    "df2.count()\n",
    "df2.show(5, vertical = True)"
   ]
  },
  {
   "cell_type": "code",
   "execution_count": 10,
   "metadata": {},
   "outputs": [
    {
     "data": {
      "text/plain": [
       "42721"
      ]
     },
     "execution_count": 10,
     "metadata": {},
     "output_type": "execute_result"
    }
   ],
   "source": [
    "df = df.filter(col('total_votes') > 10)\n",
    "df.count()"
   ]
  },
  {
   "cell_type": "code",
   "execution_count": 11,
   "metadata": {},
   "outputs": [],
   "source": [
    "df = df.fillna(\"\", \"review_body\")\n",
    "df = df.fillna(\"\", \"review_headline\")"
   ]
  },
  {
   "cell_type": "code",
   "execution_count": 12,
   "metadata": {},
   "outputs": [
    {
     "name": "stdout",
     "output_type": "stream",
     "text": [
      "-RECORD 0------------------------------------------------------------------------------------------------------------------------------------------------------------------------------------------------------------------------------------------------------------------------------------------------------------------------------------------------------------------------------------------------------------------------------------------------------------------------------------------------------------------------------------------------------------------------------------------------------------------------------------------------------------------------------------------------------------------------------------------------------------\n",
      " product_id       | B01019T6O0                                                                                                                                                                                                                                                                                                                                                                                                                                                                                                                                                                                                                                                                                                                                       \n",
      " star_rating      | 1                                                                                                                                                                                                                                                                                                                                                                                                                                                                                                                                                                                                                                                                                                                                                \n",
      " product_category | Software                                                                                                                                                                                                                                                                                                                                                                                                                                                                                                                                                                                                                                                                                                                                         \n",
      " review_headline  | Do NOT take the \"free\" upgrade from 7 to 10.                                                                                                                                                                                                                                                                                                                                                                                                                                                                                                                                                                                                                                                                                                     \n",
      " review_body      | Do NOT take the &#34;free&#34; upgrade from 7 to 10.  Learn from my mistakes.  Windows 7 was working fine, but I thought what could it hurt to do a fre upgrade.<br /><br />Long story short, Windows 10 crashed completely within 2 days, gives boot file errors, can't recover, and if I want to access the computer that Microsoft helpfully bricked I HAVE TO BUY THE RECOVERY DISK.  That's right, Microsoft's business model is to hold your computer hostage by &#34;giving &#34; you a program that irretrievably crashes your computer, then they charge you $100 for the disk to recover from their garbage software.<br /><br />Like I said, don't be like me, don't fall for this scam.                                              \n",
      " helpful_votes    | 27                                                                                                                                                                                                                                                                                                                                                                                                                                                                                                                                                                                                                                                                                                                                               \n",
      " total_votes      | 39                                                                                                                                                                                                                                                                                                                                                                                                                                                                                                                                                                                                                                                                                                                                               \n",
      " review_text      | Do NOT take the \"free\" upgrade from 7 to 10. Do NOT take the &#34;free&#34; upgrade from 7 to 10.  Learn from my mistakes.  Windows 7 was working fine, but I thought what could it hurt to do a fre upgrade.<br /><br />Long story short, Windows 10 crashed completely within 2 days, gives boot file errors, can't recover, and if I want to access the computer that Microsoft helpfully bricked I HAVE TO BUY THE RECOVERY DISK.  That's right, Microsoft's business model is to hold your computer hostage by &#34;giving &#34; you a program that irretrievably crashes your computer, then they charge you $100 for the disk to recover from their garbage software.<br /><br />Like I said, don't be like me, don't fall for this scam. \n",
      "only showing top 1 row\n",
      "\n"
     ]
    }
   ],
   "source": [
    "df = df.withColumn('review_text', F.concat('review_headline', F.lit(\" \"), 'review_body'))\n",
    "df.show(1, vertical = True, truncate = False)"
   ]
  },
  {
   "cell_type": "code",
   "execution_count": 13,
   "metadata": {},
   "outputs": [
    {
     "name": "stdout",
     "output_type": "stream",
     "text": [
      "(0 rows)\n",
      "\n"
     ]
    }
   ],
   "source": [
    "df.filter((col(\"review_text\").isNull()) | ( col(\"review_text\") == \"\")).show(1, vertical = True, truncate = False)"
   ]
  },
  {
   "cell_type": "code",
   "execution_count": 14,
   "metadata": {},
   "outputs": [
    {
     "name": "stdout",
     "output_type": "stream",
     "text": [
      "-RECORD 0---------------\n",
      " product_id       | 0   \n",
      " star_rating      | 0   \n",
      " product_category | 0   \n",
      " review_headline  | 0   \n",
      " review_body      | 1   \n",
      " helpful_votes    | 0   \n",
      " total_votes      | 0   \n",
      " review_text      | 0   \n",
      "\n"
     ]
    }
   ],
   "source": [
    "df.select([count(when((col(c) == '' ) | \\\n",
    "                            col(c).isNull() | \\\n",
    "                            isnan(c), c \n",
    "                           )).alias(c)\n",
    "                    for c in df.columns]).show(5, vertical = True)"
   ]
  },
  {
   "cell_type": "code",
   "execution_count": 15,
   "metadata": {},
   "outputs": [
    {
     "name": "stdout",
     "output_type": "stream",
     "text": [
      "-RECORD 0------------------------------------------------------------------------------------------------------------------------------------------------------------------------------------------------------------------------------------------------------------------------------------------------------------------------------------------------------------------------------------------------------------------------------------------------------------------------------------------------------------------------------------------------------------------------------------------------------------------------------------------------------------------------------------------------------------------------------------------------------------\n",
      " product_id       | B01019T6O0                                                                                                                                                                                                                                                                                                                                                                                                                                                                                                                                                                                                                                                                                                                                       \n",
      " star_rating      | 1                                                                                                                                                                                                                                                                                                                                                                                                                                                                                                                                                                                                                                                                                                                                                \n",
      " product_category | Software                                                                                                                                                                                                                                                                                                                                                                                                                                                                                                                                                                                                                                                                                                                                         \n",
      " review_headline  | Do NOT take the \"free\" upgrade from 7 to 10.                                                                                                                                                                                                                                                                                                                                                                                                                                                                                                                                                                                                                                                                                                     \n",
      " review_body      | Do NOT take the &#34;free&#34; upgrade from 7 to 10.  Learn from my mistakes.  Windows 7 was working fine, but I thought what could it hurt to do a fre upgrade.<br /><br />Long story short, Windows 10 crashed completely within 2 days, gives boot file errors, can't recover, and if I want to access the computer that Microsoft helpfully bricked I HAVE TO BUY THE RECOVERY DISK.  That's right, Microsoft's business model is to hold your computer hostage by &#34;giving &#34; you a program that irretrievably crashes your computer, then they charge you $100 for the disk to recover from their garbage software.<br /><br />Like I said, don't be like me, don't fall for this scam.                                              \n",
      " helpful_votes    | 27                                                                                                                                                                                                                                                                                                                                                                                                                                                                                                                                                                                                                                                                                                                                               \n",
      " total_votes      | 39                                                                                                                                                                                                                                                                                                                                                                                                                                                                                                                                                                                                                                                                                                                                               \n",
      " review_text      | Do NOT take the \"free\" upgrade from 7 to 10. Do NOT take the &#34;free&#34; upgrade from 7 to 10.  Learn from my mistakes.  Windows 7 was working fine, but I thought what could it hurt to do a fre upgrade.<br /><br />Long story short, Windows 10 crashed completely within 2 days, gives boot file errors, can't recover, and if I want to access the computer that Microsoft helpfully bricked I HAVE TO BUY THE RECOVERY DISK.  That's right, Microsoft's business model is to hold your computer hostage by &#34;giving &#34; you a program that irretrievably crashes your computer, then they charge you $100 for the disk to recover from their garbage software.<br /><br />Like I said, don't be like me, don't fall for this scam. \n",
      " helpful_ratio    | 0.6923076923076923                                                                                                                                                                                                                                                                                                                                                                                                                                                                                                                                                                                                                                                                                                                               \n",
      "only showing top 1 row\n",
      "\n"
     ]
    }
   ],
   "source": [
    "df = df.withColumn('helpful_ratio', F.col('helpful_votes') / F.col('total_votes'))\n",
    "df.show(1, vertical = True, truncate = False)"
   ]
  },
  {
   "cell_type": "code",
   "execution_count": 16,
   "metadata": {},
   "outputs": [
    {
     "data": {
      "text/plain": [
       "0"
      ]
     },
     "execution_count": 16,
     "metadata": {},
     "output_type": "execute_result"
    }
   ],
   "source": [
    "df.filter(col('helpful_ratio') < 0).count()"
   ]
  },
  {
   "cell_type": "code",
   "execution_count": 17,
   "metadata": {},
   "outputs": [],
   "source": [
    "df = df.withColumn('helpful', when(col(\"helpful_ratio\") < 0.5, 0).otherwise(1))"
   ]
  },
  {
   "cell_type": "code",
   "execution_count": 18,
   "metadata": {
    "scrolled": true
   },
   "outputs": [
    {
     "name": "stdout",
     "output_type": "stream",
     "text": [
      "-RECORD 0--------------------------------\n",
      " product_id       | B01019T6O0           \n",
      " star_rating      | 1                    \n",
      " product_category | Software             \n",
      " review_headline  | Do NOT take the \"... \n",
      " review_body      | Do NOT take the &... \n",
      " helpful_votes    | 27                   \n",
      " total_votes      | 39                   \n",
      " review_text      | Do NOT take the \"... \n",
      " helpful_ratio    | 0.6923076923076923   \n",
      " helpful          | 1                    \n",
      "-RECORD 1--------------------------------\n",
      " product_id       | B00LG242A0           \n",
      " star_rating      | 1                    \n",
      " product_category | Software             \n",
      " review_headline  | About to be ruine... \n",
      " review_body      | Aug 31, 2015 Upda... \n",
      " helpful_votes    | 7                    \n",
      " total_votes      | 12                   \n",
      " review_text      | About to be ruine... \n",
      " helpful_ratio    | 0.5833333333333334   \n",
      " helpful          | 1                    \n",
      "-RECORD 2--------------------------------\n",
      " product_id       | B01019T6O0           \n",
      " star_rating      | 3                    \n",
      " product_category | Software             \n",
      " review_headline  | I like it. I used... \n",
      " review_body      | I like it. I used... \n",
      " helpful_votes    | 10                   \n",
      " total_votes      | 14                   \n",
      " review_text      | I like it. I used... \n",
      " helpful_ratio    | 0.7142857142857143   \n",
      " helpful          | 1                    \n",
      "-RECORD 3--------------------------------\n",
      " product_id       | B00LX4BZF6           \n",
      " star_rating      | 2                    \n",
      " product_category | Software             \n",
      " review_headline  | This product incl... \n",
      " review_body      | This product incl... \n",
      " helpful_votes    | 8                    \n",
      " total_votes      | 12                   \n",
      " review_text      | This product incl... \n",
      " helpful_ratio    | 0.6666666666666666   \n",
      " helpful          | 1                    \n",
      "-RECORD 4--------------------------------\n",
      " product_id       | B01019T6O0           \n",
      " star_rating      | 1                    \n",
      " product_category | Software             \n",
      " review_headline  | Unfortunatelly th... \n",
      " review_body      | People missing Wi... \n",
      " helpful_votes    | 6                    \n",
      " total_votes      | 11                   \n",
      " review_text      | Unfortunatelly th... \n",
      " helpful_ratio    | 0.5454545454545454   \n",
      " helpful          | 1                    \n",
      "only showing top 5 rows\n",
      "\n"
     ]
    }
   ],
   "source": [
    "df.show(5, vertical = True)"
   ]
  },
  {
   "cell_type": "markdown",
   "metadata": {},
   "source": [
    "## USE Pipeline"
   ]
  },
  {
   "cell_type": "code",
   "execution_count": 19,
   "metadata": {},
   "outputs": [],
   "source": [
    "#USE (Universal Sentence Encoder) Sentence Embedding\n",
    "document = DocumentAssembler()\\\n",
    "    .setInputCol(\"review_text\")\\\n",
    "    .setOutputCol(\"document\")\n",
    "    \n",
    "embeddingsSentence = UniversalSentenceEncoder.load('tfhub_use_en_2.4.0_2.4_1587136330099') \\\n",
    " .setInputCols([\"document\"])\\\n",
    " .setOutputCol(\"sentence_embeddings\")\n",
    "\n",
    "classifierdl = ClassifierDLApproach()\\\n",
    "  .setInputCols([\"sentence_embeddings\"])\\\n",
    "  .setOutputCol(\"prediction\")\\\n",
    "  .setLabelColumn(\"helpful\")\\\n",
    "  .setMaxEpochs(5)\\\n",
    "  .setEnableOutputLogs(True)\n",
    "\n",
    "use_clf_pipeline = Pipeline(\n",
    "    stages = [\n",
    "        document,\n",
    "        embeddingsSentence,\n",
    "        classifierdl\n",
    "    ])"
   ]
  },
  {
   "cell_type": "code",
   "execution_count": 20,
   "metadata": {},
   "outputs": [
    {
     "name": "stdout",
     "output_type": "stream",
     "text": [
      "Wall time: 42.6 s\n"
     ]
    }
   ],
   "source": [
    "%%time\n",
    "pipeline2 = use_clf_pipeline.fit(df)"
   ]
  },
  {
   "cell_type": "code",
   "execution_count": 21,
   "metadata": {},
   "outputs": [
    {
     "name": "stdout",
     "output_type": "stream",
     "text": [
      "Wall time: 55.5 ms\n"
     ]
    }
   ],
   "source": [
    "%%time\n",
    "final = pipeline2.transform(df)"
   ]
  },
  {
   "cell_type": "code",
   "execution_count": 22,
   "metadata": {},
   "outputs": [],
   "source": [
    "metrics = final.select('helpful','product_id',\"prediction.result\")"
   ]
  },
  {
   "cell_type": "markdown",
   "metadata": {},
   "source": [
    "## USE Results"
   ]
  },
  {
   "cell_type": "code",
   "execution_count": 23,
   "metadata": {},
   "outputs": [
    {
     "name": "stdout",
     "output_type": "stream",
     "text": [
      "              precision    recall  f1-score   support\n",
      "\n",
      "           0       0.00      0.00      0.00      5962\n",
      "           1       0.86      1.00      0.92     36759\n",
      "\n",
      "    accuracy                           0.86     42721\n",
      "   macro avg       0.43      0.50      0.46     42721\n",
      "weighted avg       0.74      0.86      0.80     42721\n",
      "\n",
      "0.8604433416820767\n",
      "Wall time: 9.84 s\n"
     ]
    },
    {
     "name": "stderr",
     "output_type": "stream",
     "text": [
      "C:\\Users\\kenne\\anaconda3\\lib\\site-packages\\sklearn\\metrics\\_classification.py:1272: UndefinedMetricWarning: Precision and F-score are ill-defined and being set to 0.0 in labels with no predicted samples. Use `zero_division` parameter to control this behavior.\n",
      "  _warn_prf(average, modifier, msg_start, len(result))\n"
     ]
    }
   ],
   "source": [
    "%%time\n",
    "from sklearn.metrics import classification_report, accuracy_score\n",
    "metrics_final = metrics.toPandas()\n",
    "metrics_final['result'] = metrics_final['result'].apply(lambda x: x[0])\n",
    "metrics_final['result'] = metrics_final['result'].astype('int')\n",
    "\n",
    "print(classification_report(metrics_final.helpful, metrics_final.result))\n",
    "print(accuracy_score(metrics_final.helpful, metrics_final.result))"
   ]
  },
  {
   "cell_type": "markdown",
   "metadata": {},
   "source": [
    "## BERT_uncased Embedding Pipeline"
   ]
  },
  {
   "cell_type": "code",
   "execution_count": 24,
   "metadata": {},
   "outputs": [],
   "source": [
    "#BERT Sentence Embedding\n",
    "document = DocumentAssembler()\\\n",
    "    .setInputCol(\"review_text\")\\\n",
    "    .setOutputCol(\"document\")\n",
    "    \n",
    "bert_cmlm = BertSentenceEmbeddings.load('sent_bert_base_uncased_en_2.6.0_2.4_1598346203624')\\\n",
    ".setInputCols([\"document\"])\\\n",
    ".setOutputCol(\"sentence_embeddings\")\n",
    "\n",
    "classifierdl = ClassifierDLApproach()\\\n",
    "  .setInputCols([\"sentence_embeddings\"])\\\n",
    "  .setOutputCol(\"prediction\")\\\n",
    "  .setLabelColumn(\"helpful\")\\\n",
    "  .setMaxEpochs(5)\\\n",
    "  .setEnableOutputLogs(True)\n",
    "\n",
    "use_clf_pipeline = Pipeline(\n",
    "    stages = [\n",
    "        document,\n",
    "        embeddingsSentence,\n",
    "        classifierdl\n",
    "    ])"
   ]
  },
  {
   "cell_type": "code",
   "execution_count": 25,
   "metadata": {},
   "outputs": [
    {
     "name": "stdout",
     "output_type": "stream",
     "text": [
      "Wall time: 31.5 s\n"
     ]
    }
   ],
   "source": [
    "%%time\n",
    "pipeline2 = use_clf_pipeline.fit(df)"
   ]
  },
  {
   "cell_type": "code",
   "execution_count": 26,
   "metadata": {},
   "outputs": [
    {
     "name": "stdout",
     "output_type": "stream",
     "text": [
      "Wall time: 38 ms\n"
     ]
    }
   ],
   "source": [
    "%%time\n",
    "final = pipeline2.transform(df)"
   ]
  },
  {
   "cell_type": "code",
   "execution_count": 27,
   "metadata": {},
   "outputs": [],
   "source": [
    "metrics = final.select('helpful','product_id',\"prediction.result\")"
   ]
  },
  {
   "cell_type": "markdown",
   "metadata": {},
   "source": [
    "## BERT_uncased Embedding Results"
   ]
  },
  {
   "cell_type": "code",
   "execution_count": 28,
   "metadata": {},
   "outputs": [
    {
     "name": "stdout",
     "output_type": "stream",
     "text": [
      "              precision    recall  f1-score   support\n",
      "\n",
      "           0       0.00      0.00      0.00      5962\n",
      "           1       0.86      1.00      0.92     36759\n",
      "\n",
      "    accuracy                           0.86     42721\n",
      "   macro avg       0.43      0.50      0.46     42721\n",
      "weighted avg       0.74      0.86      0.80     42721\n",
      "\n",
      "0.8604433416820767\n",
      "Wall time: 10 s\n"
     ]
    }
   ],
   "source": [
    "%%time\n",
    "from sklearn.metrics import classification_report, accuracy_score\n",
    "metrics_final = metrics.toPandas()\n",
    "metrics_final['result'] = metrics_final['result'].apply(lambda x: x[0])\n",
    "metrics_final['result'] = metrics_final['result'].astype('int')\n",
    "\n",
    "print(classification_report(metrics_final.helpful, metrics_final.result))\n",
    "print(accuracy_score(metrics_final.helpful, metrics_final.result))"
   ]
  },
  {
   "cell_type": "code",
   "execution_count": null,
   "metadata": {},
   "outputs": [],
   "source": []
  }
 ],
 "metadata": {
  "kernelspec": {
   "display_name": "Python 3",
   "language": "python",
   "name": "python3"
  },
  "language_info": {
   "codemirror_mode": {
    "name": "ipython",
    "version": 3
   },
   "file_extension": ".py",
   "mimetype": "text/x-python",
   "name": "python",
   "nbconvert_exporter": "python",
   "pygments_lexer": "ipython3",
   "version": "3.7.6"
  }
 },
 "nbformat": 4,
 "nbformat_minor": 4
}
