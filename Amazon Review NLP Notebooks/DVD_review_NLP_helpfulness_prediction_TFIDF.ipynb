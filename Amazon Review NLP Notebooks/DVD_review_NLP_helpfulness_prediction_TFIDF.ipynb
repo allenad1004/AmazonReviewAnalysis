{
 "cells": [
  {
   "cell_type": "markdown",
   "metadata": {},
   "source": [
    "# Review NLP Helpfulness Prediction TFIDF (DVD)"
   ]
  },
  {
   "cell_type": "markdown",
   "metadata": {},
   "source": [
    "## Creating Spark Session & Importing All Necessary Libraries"
   ]
  },
  {
   "cell_type": "code",
   "execution_count": 1,
   "metadata": {},
   "outputs": [],
   "source": [
    "import findspark\n",
    "findspark.init()"
   ]
  },
  {
   "cell_type": "code",
   "execution_count": 2,
   "metadata": {},
   "outputs": [],
   "source": [
    "from pyspark.sql import SparkSession\n",
    "from pyspark.sql import functions as F\n",
    "from sparknlp.base import *\n",
    "from sparknlp.annotator import *\n",
    "\n",
    "import sparknlp\n",
    "\n",
    "# Start SparkSession with Spark NLP\n",
    "# start() functions has 5 parameters: gpu, spark23, spark24, spark32, and memory\n",
    "# sparknlp.start(gpu=True) will start the session with GPU support\n",
    "# sparknlp.start(spark23=True) is when you have Apache Spark 2.3.x installed\n",
    "# sparknlp.start(spark24=True) is when you have Apache Spark 2.4.x installed\n",
    "# sparknlp.start(spark32=True) is when you have Apache Spark 3.2.x installed\n",
    "# sparknlp.start(memory=\"16G\") to change the default driver memory in SparkSession\n",
    "spark = sparknlp.start(gpu = True)"
   ]
  },
  {
   "cell_type": "code",
   "execution_count": 3,
   "metadata": {},
   "outputs": [],
   "source": [
    "from pyspark.sql.functions import lower, col\n",
    "from pyspark.sql.types import ArrayType, StringType\n",
    "from pyspark.sql import DataFrame\n",
    "from pyspark.ml.feature import HashingTF, IDF, StopWordsRemover, CountVectorizer\n",
    "from pyspark.ml import Pipeline, Transformer\n",
    "from pyspark.ml.tuning import ParamGridBuilder, TrainValidationSplit, CrossValidator\n",
    "from pyspark.ml.evaluation import MulticlassClassificationEvaluator\n",
    "from pyspark.ml.classification import LogisticRegression, RandomForestClassifier, DecisionTreeClassifier, NaiveBayes\n",
    "import numpy as np\n",
    "\n",
    "import nltk\n",
    "import matplotlib.pyplot as plt\n",
    "%matplotlib inline\n",
    "\n",
    "#nltk.download('wordnet')"
   ]
  },
  {
   "cell_type": "code",
   "execution_count": 4,
   "metadata": {},
   "outputs": [
    {
     "name": "stderr",
     "output_type": "stream",
     "text": [
      "[nltk_data] Downloading package stopwords to\n",
      "[nltk_data]     C:\\Users\\kenne\\AppData\\Roaming\\nltk_data...\n",
      "[nltk_data]   Package stopwords is already up-to-date!\n"
     ]
    }
   ],
   "source": [
    "import nltk\n",
    "nltk.download('stopwords')\n",
    "from nltk.corpus import stopwords\n",
    "eng_stopwords = stopwords.words('english')"
   ]
  },
  {
   "cell_type": "markdown",
   "metadata": {},
   "source": [
    "### Reading in Data"
   ]
  },
  {
   "cell_type": "code",
   "execution_count": 5,
   "metadata": {},
   "outputs": [],
   "source": [
    "df = spark.read \\\n",
    "    .option(\"quote\", \"\\\"\")  \\\n",
    "    .option(\"escape\", \"\\\"\") \\\n",
    "    .option(\"ignoreLeadingWhiteSpace\",True) \\\n",
    "    .csv(r\"C:\\Users\\kenne\\OneDrive\\Desktop\\UChicago\\Python\\Final Project Big Data Amazon Review\\Amazon Review Kaggle Data\\amazon_reviews_us_Video_DVD_v1_00.tsv\",inferSchema=True,header=True, sep='\\t' )"
   ]
  },
  {
   "cell_type": "markdown",
   "metadata": {},
   "source": [
    "## Code Cleaning"
   ]
  },
  {
   "cell_type": "code",
   "execution_count": 6,
   "metadata": {
    "scrolled": true
   },
   "outputs": [
    {
     "name": "stdout",
     "output_type": "stream",
     "text": [
      "-RECORD 0--------------------------------------------------------------------------------------------------------------------------------------------------------------------------------------------------------------------------------\n",
      " marketplace       | US                                                                                                                                                                                                                  \n",
      " customer_id       | 27288431                                                                                                                                                                                                            \n",
      " review_id         | R33UPQQUZQEM8                                                                                                                                                                                                       \n",
      " product_id        | B005T4ND06                                                                                                                                                                                                          \n",
      " product_parent    | 400024643                                                                                                                                                                                                           \n",
      " product_title     | Yoga for Movement Disorders DVD: Rebuilding Strength, Balance, and Flexibility for Parkinson's Disease and Dystonia                                                                                                 \n",
      " product_category  | Video DVD                                                                                                                                                                                                           \n",
      " star_rating       | 5                                                                                                                                                                                                                   \n",
      " helpful_votes     | 3                                                                                                                                                                                                                   \n",
      " total_votes       | 3                                                                                                                                                                                                                   \n",
      " vine              | N                                                                                                                                                                                                                   \n",
      " verified_purchase | Y                                                                                                                                                                                                                   \n",
      " review_headline   | This was a gift for my aunt who has Parkinson's ...                                                                                                                                                                 \n",
      " review_body       | This was a gift for my aunt who has Parkinson's.  While I have not previewed it myself, I also have not gotten any complaints.  My prior experiences with yoga tell me this should be just what the doctor ordered. \n",
      " review_date       | 2015-08-31                                                                                                                                                                                                          \n",
      "only showing top 1 row\n",
      "\n"
     ]
    }
   ],
   "source": [
    "df.show(1, vertical = True, truncate = False)"
   ]
  },
  {
   "cell_type": "code",
   "execution_count": 7,
   "metadata": {},
   "outputs": [],
   "source": [
    "df = df.select('product_id', 'star_rating', 'product_category', 'review_headline', 'review_body', 'helpful_votes', 'total_votes')"
   ]
  },
  {
   "cell_type": "code",
   "execution_count": 8,
   "metadata": {},
   "outputs": [
    {
     "name": "stdout",
     "output_type": "stream",
     "text": [
      "-RECORD 0-------------------------------------------------------------------------------------------------------------------------------------------------------------------------------------------------------------------------------\n",
      " product_id       | B005T4ND06                                                                                                                                                                                                          \n",
      " star_rating      | 5                                                                                                                                                                                                                   \n",
      " product_category | Video DVD                                                                                                                                                                                                           \n",
      " review_headline  | This was a gift for my aunt who has Parkinson's ...                                                                                                                                                                 \n",
      " review_body      | This was a gift for my aunt who has Parkinson's.  While I have not previewed it myself, I also have not gotten any complaints.  My prior experiences with yoga tell me this should be just what the doctor ordered. \n",
      " helpful_votes    | 3                                                                                                                                                                                                                   \n",
      " total_votes      | 3                                                                                                                                                                                                                   \n",
      "only showing top 1 row\n",
      "\n"
     ]
    }
   ],
   "source": [
    "df.show(1, vertical = True, truncate = False)"
   ]
  },
  {
   "cell_type": "code",
   "execution_count": 9,
   "metadata": {},
   "outputs": [
    {
     "data": {
      "text/plain": [
       "5068532"
      ]
     },
     "execution_count": 9,
     "metadata": {},
     "output_type": "execute_result"
    }
   ],
   "source": [
    "df.dropna().count()"
   ]
  },
  {
   "cell_type": "code",
   "execution_count": 10,
   "metadata": {},
   "outputs": [
    {
     "name": "stdout",
     "output_type": "stream",
     "text": [
      "+----------+-----------+----------------+---------------+-----------+-------------+-----------+\n",
      "|product_id|star_rating|product_category|review_headline|review_body|helpful_votes|total_votes|\n",
      "+----------+-----------+----------------+---------------+-----------+-------------+-----------+\n",
      "|         0|          4|               4|            163|        456|            4|          4|\n",
      "+----------+-----------+----------------+---------------+-----------+-------------+-----------+\n",
      "\n"
     ]
    }
   ],
   "source": [
    "from pyspark.sql.functions import col,isnan, when, count\n",
    "df.select([count(when(isnan(c) | col(c).isNull(), c)).alias(c) for c in df.columns]\n",
    "   ).show()"
   ]
  },
  {
   "cell_type": "code",
   "execution_count": 11,
   "metadata": {},
   "outputs": [
    {
     "name": "stdout",
     "output_type": "stream",
     "text": [
      "-RECORD 0-----------------\n",
      " product_id       | 0     \n",
      " star_rating      | 4     \n",
      " product_category | 4     \n",
      " review_headline  | 760   \n",
      " review_body      | 16722 \n",
      " helpful_votes    | 4     \n",
      " total_votes      | 4     \n",
      "\n"
     ]
    }
   ],
   "source": [
    "df2 = df.select([count(when(col(c).contains('None') | \\\n",
    "                            col(c).contains('NULL') | \\\n",
    "                            (col(c) == '' ) | \\\n",
    "                            col(c).isNull() | \\\n",
    "                            isnan(c), c \n",
    "                           )).alias(c)\n",
    "                    for c in df.columns])\n",
    "df2.count()\n",
    "df2.show(5, vertical = True)"
   ]
  },
  {
   "cell_type": "code",
   "execution_count": 12,
   "metadata": {},
   "outputs": [
    {
     "data": {
      "text/plain": [
       "478432"
      ]
     },
     "execution_count": 12,
     "metadata": {},
     "output_type": "execute_result"
    }
   ],
   "source": [
    "df = df.filter(col('total_votes') > 10)\n",
    "df.count()"
   ]
  },
  {
   "cell_type": "code",
   "execution_count": 13,
   "metadata": {},
   "outputs": [],
   "source": [
    "df = df.fillna(\"\", \"review_body\")\n",
    "df = df.fillna(\"\", \"review_headline\")"
   ]
  },
  {
   "cell_type": "code",
   "execution_count": 14,
   "metadata": {},
   "outputs": [
    {
     "name": "stdout",
     "output_type": "stream",
     "text": [
      "-RECORD 0-----------------------------------------------------------------------------------------------------------------------------------------------------------------------------------------------------------------------------------------------------------------------------------------------------------------------------------------------------------------------------------------------------------------------------------------------------------------------------------\n",
      " product_id       | B00ZGPZR9I                                                                                                                                                                                                                                                                                                                                                                                                                                                              \n",
      " star_rating      | 4                                                                                                                                                                                                                                                                                                                                                                                                                                                                       \n",
      " product_category | Video DVD                                                                                                                                                                                                                                                                                                                                                                                                                                                               \n",
      " review_headline  | Unfair Accusation Toward A Great BRITISH Author                                                                                                                                                                                                                                                                                                                                                                                                                         \n",
      " review_body      | Amazed after Wodehouse was interned by the Nazis that the British Govt turned around and accused him of being in sympathy with his former captors,all because he and some others were released due to their age!Since he's been dead since ~1975,I think the Brits owe his family an official apology.His daughter had died during routine surgery,he seemingly was put in the same category as Lord Haw Haw.Appalling!                                                 \n",
      " helpful_votes    | 32                                                                                                                                                                                                                                                                                                                                                                                                                                                                      \n",
      " total_votes      | 39                                                                                                                                                                                                                                                                                                                                                                                                                                                                      \n",
      " review_text      | Unfair Accusation Toward A Great BRITISH Author Amazed after Wodehouse was interned by the Nazis that the British Govt turned around and accused him of being in sympathy with his former captors,all because he and some others were released due to their age!Since he's been dead since ~1975,I think the Brits owe his family an official apology.His daughter had died during routine surgery,he seemingly was put in the same category as Lord Haw Haw.Appalling! \n",
      "only showing top 1 row\n",
      "\n"
     ]
    }
   ],
   "source": [
    "df = df.withColumn('review_text', F.concat('review_headline', F.lit(\" \"), 'review_body'))\n",
    "df.show(1, vertical = True, truncate = False)"
   ]
  },
  {
   "cell_type": "code",
   "execution_count": 15,
   "metadata": {},
   "outputs": [
    {
     "name": "stdout",
     "output_type": "stream",
     "text": [
      "(0 rows)\n",
      "\n"
     ]
    }
   ],
   "source": [
    "df.filter((col(\"review_text\").isNull()) | ( col(\"review_text\") == \"\")).show(1, vertical = True, truncate = False)"
   ]
  },
  {
   "cell_type": "code",
   "execution_count": 16,
   "metadata": {},
   "outputs": [
    {
     "name": "stdout",
     "output_type": "stream",
     "text": [
      "-RECORD 0---------------\n",
      " product_id       | 0   \n",
      " star_rating      | 0   \n",
      " product_category | 0   \n",
      " review_headline  | 5   \n",
      " review_body      | 14  \n",
      " helpful_votes    | 0   \n",
      " total_votes      | 0   \n",
      " review_text      | 0   \n",
      "\n"
     ]
    }
   ],
   "source": [
    "df.select([count(when((col(c) == '' ) | \\\n",
    "                            col(c).isNull() | \\\n",
    "                            isnan(c), c \n",
    "                           )).alias(c)\n",
    "                    for c in df.columns]).show(5, vertical = True)"
   ]
  },
  {
   "cell_type": "code",
   "execution_count": 17,
   "metadata": {},
   "outputs": [
    {
     "name": "stdout",
     "output_type": "stream",
     "text": [
      "-RECORD 0-----------------------------------------------------------------------------------------------------------------------------------------------------------------------------------------------------------------------------------------------------------------------------------------------------------------------------------------------------------------------------------------------------------------------------------------------------------------------------------\n",
      " product_id       | B00ZGPZR9I                                                                                                                                                                                                                                                                                                                                                                                                                                                              \n",
      " star_rating      | 4                                                                                                                                                                                                                                                                                                                                                                                                                                                                       \n",
      " product_category | Video DVD                                                                                                                                                                                                                                                                                                                                                                                                                                                               \n",
      " review_headline  | Unfair Accusation Toward A Great BRITISH Author                                                                                                                                                                                                                                                                                                                                                                                                                         \n",
      " review_body      | Amazed after Wodehouse was interned by the Nazis that the British Govt turned around and accused him of being in sympathy with his former captors,all because he and some others were released due to their age!Since he's been dead since ~1975,I think the Brits owe his family an official apology.His daughter had died during routine surgery,he seemingly was put in the same category as Lord Haw Haw.Appalling!                                                 \n",
      " helpful_votes    | 32                                                                                                                                                                                                                                                                                                                                                                                                                                                                      \n",
      " total_votes      | 39                                                                                                                                                                                                                                                                                                                                                                                                                                                                      \n",
      " review_text      | Unfair Accusation Toward A Great BRITISH Author Amazed after Wodehouse was interned by the Nazis that the British Govt turned around and accused him of being in sympathy with his former captors,all because he and some others were released due to their age!Since he's been dead since ~1975,I think the Brits owe his family an official apology.His daughter had died during routine surgery,he seemingly was put in the same category as Lord Haw Haw.Appalling! \n",
      " helpful_ratio    | 0.8205128205128205                                                                                                                                                                                                                                                                                                                                                                                                                                                      \n",
      "only showing top 1 row\n",
      "\n"
     ]
    }
   ],
   "source": [
    "df = df.withColumn('helpful_ratio', F.col('helpful_votes') / F.col('total_votes'))\n",
    "df.show(1, vertical = True, truncate = False)"
   ]
  },
  {
   "cell_type": "code",
   "execution_count": 18,
   "metadata": {},
   "outputs": [
    {
     "data": {
      "text/plain": [
       "0"
      ]
     },
     "execution_count": 18,
     "metadata": {},
     "output_type": "execute_result"
    }
   ],
   "source": [
    "df.filter(col('helpful_ratio') < 0).count()"
   ]
  },
  {
   "cell_type": "code",
   "execution_count": 19,
   "metadata": {},
   "outputs": [],
   "source": [
    "df = df.withColumn('helpful', when(col(\"helpful_ratio\") < 0.5, 0).otherwise(1))"
   ]
  },
  {
   "cell_type": "code",
   "execution_count": 20,
   "metadata": {
    "scrolled": true
   },
   "outputs": [
    {
     "name": "stdout",
     "output_type": "stream",
     "text": [
      "-RECORD 0--------------------------------\n",
      " product_id       | B00ZGPZR9I           \n",
      " star_rating      | 4                    \n",
      " product_category | Video DVD            \n",
      " review_headline  | Unfair Accusation... \n",
      " review_body      | Amazed after Wode... \n",
      " helpful_votes    | 32                   \n",
      " total_votes      | 39                   \n",
      " review_text      | Unfair Accusation... \n",
      " helpful_ratio    | 0.8205128205128205   \n",
      " helpful          | 1                    \n",
      "-RECORD 1--------------------------------\n",
      " product_id       | B001JAHSI2           \n",
      " star_rating      | 1                    \n",
      " product_category | Video DVD            \n",
      " review_headline  | Buy Chinese bootlegs \n",
      " review_body      | I do not have cab... \n",
      " helpful_votes    | 12                   \n",
      " total_votes      | 15                   \n",
      " review_text      | Buy Chinese bootl... \n",
      " helpful_ratio    | 0.8                  \n",
      " helpful          | 1                    \n",
      "-RECORD 2--------------------------------\n",
      " product_id       | B00XUV1B4U           \n",
      " star_rating      | 1                    \n",
      " product_category | Video DVD            \n",
      " review_headline  | One Star             \n",
      " review_body      | IF it's not a 4K ... \n",
      " helpful_votes    | 4                    \n",
      " total_votes      | 86                   \n",
      " review_text      | One Star IF it's ... \n",
      " helpful_ratio    | 0.046511627906976744 \n",
      " helpful          | 0                    \n",
      "-RECORD 3--------------------------------\n",
      " product_id       | B00ZCHTQGA           \n",
      " star_rating      | 4                    \n",
      " product_category | Video DVD            \n",
      " review_headline  | I wont steer you ... \n",
      " review_body      | Do not watch this... \n",
      " helpful_votes    | 35                   \n",
      " total_votes      | 37                   \n",
      " review_text      | I wont steer you ... \n",
      " helpful_ratio    | 0.9459459459459459   \n",
      " helpful          | 1                    \n",
      "-RECORD 4--------------------------------\n",
      " product_id       | B013TYXUSM           \n",
      " star_rating      | 3                    \n",
      " product_category | Video DVD            \n",
      " review_headline  | Was this really s... \n",
      " review_body      | I grew up watchin... \n",
      " helpful_votes    | 1                    \n",
      " total_votes      | 17                   \n",
      " review_text      | Was this really s... \n",
      " helpful_ratio    | 0.058823529411764705 \n",
      " helpful          | 0                    \n",
      "only showing top 5 rows\n",
      "\n"
     ]
    }
   ],
   "source": [
    "df.show(5, vertical = True)"
   ]
  },
  {
   "cell_type": "markdown",
   "metadata": {},
   "source": [
    "### Cleaning the Review_Text"
   ]
  },
  {
   "cell_type": "code",
   "execution_count": 21,
   "metadata": {},
   "outputs": [],
   "source": [
    "df_clean = df"
   ]
  },
  {
   "cell_type": "code",
   "execution_count": 22,
   "metadata": {},
   "outputs": [
    {
     "name": "stdout",
     "output_type": "stream",
     "text": [
      "root\n",
      " |-- product_id: string (nullable = true)\n",
      " |-- star_rating: integer (nullable = true)\n",
      " |-- product_category: string (nullable = true)\n",
      " |-- review_headline: string (nullable = false)\n",
      " |-- review_body: string (nullable = false)\n",
      " |-- helpful_votes: integer (nullable = true)\n",
      " |-- total_votes: integer (nullable = true)\n",
      " |-- review_text: string (nullable = false)\n",
      " |-- helpful_ratio: double (nullable = true)\n",
      " |-- helpful: integer (nullable = false)\n",
      "\n"
     ]
    }
   ],
   "source": [
    "df_clean.printSchema()"
   ]
  },
  {
   "cell_type": "code",
   "execution_count": 23,
   "metadata": {
    "scrolled": true
   },
   "outputs": [
    {
     "name": "stdout",
     "output_type": "stream",
     "text": [
      "+-------+\n",
      "|helpful|\n",
      "+-------+\n",
      "|      1|\n",
      "|      0|\n",
      "+-------+\n",
      "\n"
     ]
    }
   ],
   "source": [
    "df_clean.select(\"helpful\").distinct().show()"
   ]
  },
  {
   "cell_type": "code",
   "execution_count": 24,
   "metadata": {},
   "outputs": [],
   "source": [
    "#Making the review text to all lower case\n",
    "df_clean=df_clean.withColumn('review_text_l', F.lower(F.col('review_text')))"
   ]
  },
  {
   "cell_type": "code",
   "execution_count": 25,
   "metadata": {},
   "outputs": [
    {
     "name": "stdout",
     "output_type": "stream",
     "text": [
      "-RECORD 0-----------------------------\n",
      " review_text_l | unfair accusation... \n",
      "-RECORD 1-----------------------------\n",
      " review_text_l | buy chinese bootl... \n",
      "-RECORD 2-----------------------------\n",
      " review_text_l | one star if it's ... \n",
      "-RECORD 3-----------------------------\n",
      " review_text_l | i wont steer you ... \n",
      "-RECORD 4-----------------------------\n",
      " review_text_l | was this really s... \n",
      "only showing top 5 rows\n",
      "\n"
     ]
    }
   ],
   "source": [
    "df_clean.select(df_clean.columns[10]).show(5, vertical = True)"
   ]
  },
  {
   "cell_type": "code",
   "execution_count": 26,
   "metadata": {},
   "outputs": [],
   "source": [
    "#Removing all of the additional punctuations\n",
    "df_clean=df_clean.withColumn('review_text_l', F.regexp_replace('review_text_l', '\\'', ''))\n",
    "                                                                 \n",
    "df_clean=df_clean.withColumn('review_text_l', F.regexp_replace('review_text_l', '\\\\n|[^\\w]', ' ')).withColumn('review_text_l', F.regexp_replace('review_text_l', '\\s+', ' '))"
   ]
  },
  {
   "cell_type": "code",
   "execution_count": 27,
   "metadata": {},
   "outputs": [
    {
     "name": "stdout",
     "output_type": "stream",
     "text": [
      "-RECORD 0--------------------------------------------------------------------------------------------------------------------------------------------------------------------------------------------------------------------------------------------------------------------------------------------------------------------------------------------------------------------------------------------------------------------------------------------------------------------------------------------------------------------------------------------------------------------------------------------------------------------------------------------------------------------------------------------------------------------------------------------------------------------------------------------------------------------------------------------------------------------------------------------------------------------------------------------------------------------------------------------------------------------------------------------------------------------------------------------------------------------------------------------------------------------------------------------------------------------------------------------------------------------------------------------------------------------------------------------------------------------------------------------------------------------------------------------------------------------------------------------------------------------------------------------------------------------------------------------------------------------------------------------------------------------------------------------------------------------------------------------------------------------------------------------------------------------------------------------------------------------------------------------------------------------------------------------------------------------------------------------------------------------------------------------------------------------------------------------------------------------------------------------------------------------------------------------------------------------------------------------------------------------------------------------------------------------------------------------------------------------------------------------------------------------------------------------------------------------------------------------------------------------------------------------------------------------------------------------------------------------------------------------------------------------------------------------------------------------------------------------------------------------------------------------------------------------------------------------------------------------------------------------------------------------------------------------------------------------------------------------------------------------------------------------------------------------------------------------------------------------------------------------------------------------------------------------------------------------------------------------------------------------------------------------------------------------------------------------------------------------------------------------------------------------------------------------------------------------------------------------------------------------------------------------------------------------------------------------------------------------------------------------------------------------------------------------------------------------------------------------------------------------------------------------------------------------------------------------------------------------------------------------------------------------------------------------------------------------------------------------------------------------------------------------------------------------------------------------------------------------------------------------------------------------------------------------------------------------------------------------------------------------------------------------------------------------------------------------------------------------------------------------------------------------------------------------------------------------------------------------------------------------------------------------------------------------------------------------------------------------------------------------------------------------------------------------------------------------------------------------------------------------------------------------------------------------------------------------------------------------------------------------------------------------------------------------------------------------------------------------------------------------------------------------------------------------------------------------------------------------------------------------------------------------------------------------------------------------------------------------------------------------------------------------------------------------------------------------------------------------------------------------------------------------------------------------------------------------------------------------------------------------------------------------------------------------------------------------------------------------------------------------------------------------------------------------------------------------------------------------------------------------------------------------------------------------------------------------------------------------------------------\n",
      " review_text_l | unfair accusation toward a great british author amazed after wodehouse was interned by the nazis that the british govt turned around and accused him of being in sympathy with his former captors all because he and some others were released due to their age since hes been dead since 1975 i think the brits owe his family an official apology his daughter had died during routine surgery he seemingly was put in the same category as lord haw haw appalling                                                                                                                                                                                                                                                                                                                                                                                                                                                                                                                                                                                                                                                                                                                                                                                                                                                                                                                                                                                                                                                                                                                                                                                                                                                                                                                                                                                                                                                                                                                                                                                                                                                                                                                                                                                                                                                                                                                                                                                                                                                                                                                                                                                                                                                                                                                                                                                                                                                                                                                                                                                                                                                                                                                                                                                                                                                                                                                                                                                                                                                                                                                                                                                                                                                                                                                                                                                                                                                                                                                                                                                                                                                                                                                                                                                                                                                                                                                                                                                                                                                                                                                                                                                                                                                                                                                                                                                                                                                                                                                                                                                                                                                                                                                                                                                                                                                                                                                                                                                                                                                                                                                                                                                                                                                                                                                                                                                                          \n",
      "-RECORD 1--------------------------------------------------------------------------------------------------------------------------------------------------------------------------------------------------------------------------------------------------------------------------------------------------------------------------------------------------------------------------------------------------------------------------------------------------------------------------------------------------------------------------------------------------------------------------------------------------------------------------------------------------------------------------------------------------------------------------------------------------------------------------------------------------------------------------------------------------------------------------------------------------------------------------------------------------------------------------------------------------------------------------------------------------------------------------------------------------------------------------------------------------------------------------------------------------------------------------------------------------------------------------------------------------------------------------------------------------------------------------------------------------------------------------------------------------------------------------------------------------------------------------------------------------------------------------------------------------------------------------------------------------------------------------------------------------------------------------------------------------------------------------------------------------------------------------------------------------------------------------------------------------------------------------------------------------------------------------------------------------------------------------------------------------------------------------------------------------------------------------------------------------------------------------------------------------------------------------------------------------------------------------------------------------------------------------------------------------------------------------------------------------------------------------------------------------------------------------------------------------------------------------------------------------------------------------------------------------------------------------------------------------------------------------------------------------------------------------------------------------------------------------------------------------------------------------------------------------------------------------------------------------------------------------------------------------------------------------------------------------------------------------------------------------------------------------------------------------------------------------------------------------------------------------------------------------------------------------------------------------------------------------------------------------------------------------------------------------------------------------------------------------------------------------------------------------------------------------------------------------------------------------------------------------------------------------------------------------------------------------------------------------------------------------------------------------------------------------------------------------------------------------------------------------------------------------------------------------------------------------------------------------------------------------------------------------------------------------------------------------------------------------------------------------------------------------------------------------------------------------------------------------------------------------------------------------------------------------------------------------------------------------------------------------------------------------------------------------------------------------------------------------------------------------------------------------------------------------------------------------------------------------------------------------------------------------------------------------------------------------------------------------------------------------------------------------------------------------------------------------------------------------------------------------------------------------------------------------------------------------------------------------------------------------------------------------------------------------------------------------------------------------------------------------------------------------------------------------------------------------------------------------------------------------------------------------------------------------------------------------------------------------------------------------------------------------------------------------------------------------------------------------------------------------------------------------------------------------------------------------------------------------------------------------------------------------------------------------------------------------------------------------------------------------------------------------------------------------------------------------------------------------------------------------------------------------------------------------------------------------------------\n",
      " review_text_l | buy chinese bootlegs i do not have cable but the simpsons i repeatedly watch seasons 1 17 20 and the movie excessive yup depressing maybe hilarious yup now fox is not going to allow me to finish my collection the only way this company was going to get another dime off of me was to sell me these dvds this hurts i feel like a little kid who just found out his puppy ran away thank you for rewarding my unwavering loyalty by not holding up your end of the deal eat some butt                                                                                                                                                                                                                                                                                                                                                                                                                                                                                                                                                                                                                                                                                                                                                                                                                                                                                                                                                                                                                                                                                                                                                                                                                                                                                                                                                                                                                                                                                                                                                                                                                                                                                                                                                                                                                                                                                                                                                                                                                                                                                                                                                                                                                                                                                                                                                                                                                                                                                                                                                                                                                                                                                                                                                                                                                                                                                                                                                                                                                                                                                                                                                                                                                                                                                                                                                                                                                                                                                                                                                                                                                                                                                                                                                                                                                                                                                                                                                                                                                                                                                                                                                                                                                                                                                                                                                                                                                                                                                                                                                                                                                                                                                                                                                                                                                                                                                                                                                                                                                                                                                                                                                                                                                                                                                                                                                                                     \n",
      "-RECORD 2--------------------------------------------------------------------------------------------------------------------------------------------------------------------------------------------------------------------------------------------------------------------------------------------------------------------------------------------------------------------------------------------------------------------------------------------------------------------------------------------------------------------------------------------------------------------------------------------------------------------------------------------------------------------------------------------------------------------------------------------------------------------------------------------------------------------------------------------------------------------------------------------------------------------------------------------------------------------------------------------------------------------------------------------------------------------------------------------------------------------------------------------------------------------------------------------------------------------------------------------------------------------------------------------------------------------------------------------------------------------------------------------------------------------------------------------------------------------------------------------------------------------------------------------------------------------------------------------------------------------------------------------------------------------------------------------------------------------------------------------------------------------------------------------------------------------------------------------------------------------------------------------------------------------------------------------------------------------------------------------------------------------------------------------------------------------------------------------------------------------------------------------------------------------------------------------------------------------------------------------------------------------------------------------------------------------------------------------------------------------------------------------------------------------------------------------------------------------------------------------------------------------------------------------------------------------------------------------------------------------------------------------------------------------------------------------------------------------------------------------------------------------------------------------------------------------------------------------------------------------------------------------------------------------------------------------------------------------------------------------------------------------------------------------------------------------------------------------------------------------------------------------------------------------------------------------------------------------------------------------------------------------------------------------------------------------------------------------------------------------------------------------------------------------------------------------------------------------------------------------------------------------------------------------------------------------------------------------------------------------------------------------------------------------------------------------------------------------------------------------------------------------------------------------------------------------------------------------------------------------------------------------------------------------------------------------------------------------------------------------------------------------------------------------------------------------------------------------------------------------------------------------------------------------------------------------------------------------------------------------------------------------------------------------------------------------------------------------------------------------------------------------------------------------------------------------------------------------------------------------------------------------------------------------------------------------------------------------------------------------------------------------------------------------------------------------------------------------------------------------------------------------------------------------------------------------------------------------------------------------------------------------------------------------------------------------------------------------------------------------------------------------------------------------------------------------------------------------------------------------------------------------------------------------------------------------------------------------------------------------------------------------------------------------------------------------------------------------------------------------------------------------------------------------------------------------------------------------------------------------------------------------------------------------------------------------------------------------------------------------------------------------------------------------------------------------------------------------------------------------------------------------------------------------------------------------------------------------------------------------------------------\n",
      " review_text_l | one star if its not a 4k transfer the double dipping isnt worth it                                                                                                                                                                                                                                                                                                                                                                                                                                                                                                                                                                                                                                                                                                                                                                                                                                                                                                                                                                                                                                                                                                                                                                                                                                                                                                                                                                                                                                                                                                                                                                                                                                                                                                                                                                                                                                                                                                                                                                                                                                                                                                                                                                                                                                                                                                                                                                                                                                                                                                                                                                                                                                                                                                                                                                                                                                                                                                                                                                                                                                                                                                                                                                                                                                                                                                                                                                                                                                                                                                                                                                                                                                                                                                                                                                                                                                                                                                                                                                                                                                                                                                                                                                                                                                                                                                                                                                                                                                                                                                                                                                                                                                                                                                                                                                                                                                                                                                                                                                                                                                                                                                                                                                                                                                                                                                                                                                                                                                                                                                                                                                                                                                                                                                                                                                                                            \n",
      "-RECORD 3--------------------------------------------------------------------------------------------------------------------------------------------------------------------------------------------------------------------------------------------------------------------------------------------------------------------------------------------------------------------------------------------------------------------------------------------------------------------------------------------------------------------------------------------------------------------------------------------------------------------------------------------------------------------------------------------------------------------------------------------------------------------------------------------------------------------------------------------------------------------------------------------------------------------------------------------------------------------------------------------------------------------------------------------------------------------------------------------------------------------------------------------------------------------------------------------------------------------------------------------------------------------------------------------------------------------------------------------------------------------------------------------------------------------------------------------------------------------------------------------------------------------------------------------------------------------------------------------------------------------------------------------------------------------------------------------------------------------------------------------------------------------------------------------------------------------------------------------------------------------------------------------------------------------------------------------------------------------------------------------------------------------------------------------------------------------------------------------------------------------------------------------------------------------------------------------------------------------------------------------------------------------------------------------------------------------------------------------------------------------------------------------------------------------------------------------------------------------------------------------------------------------------------------------------------------------------------------------------------------------------------------------------------------------------------------------------------------------------------------------------------------------------------------------------------------------------------------------------------------------------------------------------------------------------------------------------------------------------------------------------------------------------------------------------------------------------------------------------------------------------------------------------------------------------------------------------------------------------------------------------------------------------------------------------------------------------------------------------------------------------------------------------------------------------------------------------------------------------------------------------------------------------------------------------------------------------------------------------------------------------------------------------------------------------------------------------------------------------------------------------------------------------------------------------------------------------------------------------------------------------------------------------------------------------------------------------------------------------------------------------------------------------------------------------------------------------------------------------------------------------------------------------------------------------------------------------------------------------------------------------------------------------------------------------------------------------------------------------------------------------------------------------------------------------------------------------------------------------------------------------------------------------------------------------------------------------------------------------------------------------------------------------------------------------------------------------------------------------------------------------------------------------------------------------------------------------------------------------------------------------------------------------------------------------------------------------------------------------------------------------------------------------------------------------------------------------------------------------------------------------------------------------------------------------------------------------------------------------------------------------------------------------------------------------------------------------------------------------------------------------------------------------------------------------------------------------------------------------------------------------------------------------------------------------------------------------------------------------------------------------------------------------------------------------------------------------------------------------------------------------------------------------------------------------------------------------------------------------------------------------------------\n",
      " review_text_l | i wont steer you wrong do not watch this as a serious viking lore movie watch it as a vikings conan film so much of middle earth and the old conan style fantasy is present and glorious plus one of the towers in the movie looks like a tower in skyrim this is dnd with a perfect party monk cleric magic user or druid a few fighters a barbarian thief and ranger watch it with the right mindset and this thing is gold                                                                                                                                                                                                                                                                                                                                                                                                                                                                                                                                                                                                                                                                                                                                                                                                                                                                                                                                                                                                                                                                                                                                                                                                                                                                                                                                                                                                                                                                                                                                                                                                                                                                                                                                                                                                                                                                                                                                                                                                                                                                                                                                                                                                                                                                                                                                                                                                                                                                                                                                                                                                                                                                                                                                                                                                                                                                                                                                                                                                                                                                                                                                                                                                                                                                                                                                                                                                                                                                                                                                                                                                                                                                                                                                                                                                                                                                                                                                                                                                                                                                                                                                                                                                                                                                                                                                                                                                                                                                                                                                                                                                                                                                                                                                                                                                                                                                                                                                                                                                                                                                                                                                                                                                                                                                                                                                                                                                                                                 \n",
      "-RECORD 4--------------------------------------------------------------------------------------------------------------------------------------------------------------------------------------------------------------------------------------------------------------------------------------------------------------------------------------------------------------------------------------------------------------------------------------------------------------------------------------------------------------------------------------------------------------------------------------------------------------------------------------------------------------------------------------------------------------------------------------------------------------------------------------------------------------------------------------------------------------------------------------------------------------------------------------------------------------------------------------------------------------------------------------------------------------------------------------------------------------------------------------------------------------------------------------------------------------------------------------------------------------------------------------------------------------------------------------------------------------------------------------------------------------------------------------------------------------------------------------------------------------------------------------------------------------------------------------------------------------------------------------------------------------------------------------------------------------------------------------------------------------------------------------------------------------------------------------------------------------------------------------------------------------------------------------------------------------------------------------------------------------------------------------------------------------------------------------------------------------------------------------------------------------------------------------------------------------------------------------------------------------------------------------------------------------------------------------------------------------------------------------------------------------------------------------------------------------------------------------------------------------------------------------------------------------------------------------------------------------------------------------------------------------------------------------------------------------------------------------------------------------------------------------------------------------------------------------------------------------------------------------------------------------------------------------------------------------------------------------------------------------------------------------------------------------------------------------------------------------------------------------------------------------------------------------------------------------------------------------------------------------------------------------------------------------------------------------------------------------------------------------------------------------------------------------------------------------------------------------------------------------------------------------------------------------------------------------------------------------------------------------------------------------------------------------------------------------------------------------------------------------------------------------------------------------------------------------------------------------------------------------------------------------------------------------------------------------------------------------------------------------------------------------------------------------------------------------------------------------------------------------------------------------------------------------------------------------------------------------------------------------------------------------------------------------------------------------------------------------------------------------------------------------------------------------------------------------------------------------------------------------------------------------------------------------------------------------------------------------------------------------------------------------------------------------------------------------------------------------------------------------------------------------------------------------------------------------------------------------------------------------------------------------------------------------------------------------------------------------------------------------------------------------------------------------------------------------------------------------------------------------------------------------------------------------------------------------------------------------------------------------------------------------------------------------------------------------------------------------------------------------------------------------------------------------------------------------------------------------------------------------------------------------------------------------------------------------------------------------------------------------------------------------------------------------------------------------------------------------------------------------------------------------------------------------------------------------------------------------------------------------\n",
      " review_text_l | was this really shot in real3d is the question i grew up watching the classic doctor who from the 1970s with tom baker peter davison sylvester mccoy during the early to mid 1980s with my mom on local pbs on sunday nights br so im not trashing this blu ray 3 d to be mean rude or a troll br im a legit real doctor who fan classic and the re boo br the season 8 ending epic first go with peter capaldi as the new doctor is a beautiful disaster br mostly due to the unbalanced writing of show runner steven moffat br since he has taken the helm he has got major hate though out the years from many hardcore dr who fans br which i never picked up on until this season started to wind down br br this two part season closer dark water death in heaven is a brilliant idea that never fully lives up to its potential br and if you didnt watch the complete season from the start most of it wount make much sense to you br jenna coleman is a great fit in every possible way even though there was no real point in writing the character of br danny pink he was only created as a plot device and to build up to this two part finally to sacrifice as a cyberman and thats stupid and lazy and i understand why so many fans loath steven moffat cause he doesnt care what the fans think hes ego is bigger then the tardis br peter capaldi picks up where matt smith left off dare i say it hes much better br he might look like a older gentleman but his performance is really interesting at times youd think he was a toddler or a teenager br hes a new but very old dr he a combination of tom baker david tennant christopher eccleston william hartnell br all the actors and actress do a bang up job through out the season 8 its just the poor writing in areas that make me scratch my head br the idea behind all this is straight up brilliant br it dealt with death is there a after life is there a soul is there a heaven br but instead of dragging out this very cool idea they just let it slip out of there hands and made it a cheap typical sci fi nonsense br missy played by michelle gomez whos been collecting various dead aliens robots etc from the start of the season which you wouldnt know if you only view this stand alone release is the doctors longtime friend turned nemesis the master br awesome casting michelle is hands down perfect and brings so much to the character in the short time you have her on screen br a great example the writing sucks there shouldve been some kind of strange love thing between the two because it would make more sense br the two balance each other out logically but why do that it might make sense br the heaven idea was a old scooby doo plot the master seen on tv and mixed it up with dead souls and cybermen br visually this was just flat out cool having cybermen clawing out of graves but this was done in a little film called return of the living dead so its not in any way original but it very good for british sci fi br the master along with her cybermen pose kills a lot of military people br the dr and claire figure out the solution they must sacrifice good old danny pink who is now one of the killing machine better known as a cyberman br keep in mind he was killed before the two part finally but you dont know that if you watch the stand alone release br danny dies but the master michelle gomez is also killed off seriously br a 5 star villain that clicked finally the right way without being to over the top and actually having the right amount of chemistry with the hero br is killed of after 50 years we finally get the proper version of the master and they killer her off br jesus br then you get the grand finally the dr meeting bloody santa claus with a complete back to the future rip off ending br let me break the news to all the little boys and girls that last dr who x mas special was horrid beyond belief br the x mas special makes this look like citizen kane br but thats another story br i in no way hate this season but this two part finally was a massive let down when you compare all the big over the top season finale we have got since the re boot br its just very plain and lacking in many ways so many great ideas wasted and having someone like michelle gomez get used and thrown out is just in poor taste br br i cant help but wonder if this is a cheap cash crab by slapping 3d on it people will double dip br ill openly admit it im a little curious but the price is a bit high br br id hope they at least edit this the proper way where all the plot holes are fixed and its a straight 2hr 3 d film br i never heard this was shot in 3d so was the 3d in post br the epic dr who the day of the doctor was a real 3d film so that was legit this im not buying i think its a marketing gimmick br if this at some point goes on sale for 14 99 ill without a doubt snatch it up to check out the 3d effectscompare all the big over the top season finale we have got since the re boot its just very plain and lacking in many ways so many great ideas wasted and having someone like michelle gomez get used and thrown out is just in poor taste i cant help but wonder if this is a cheap cash crab by slapping 3d on it people will double dip ill openly admit it im a little curious but the price is a bit high id hope they at least edit this the proper way where all the plot holes are fixed and its a straight 2hr 3 d film i never heard this was shot in 3d so was the 3d in post the epic dr who the day of the doctor was a real 3d film so that was legit this im not buying i think its a marketing gimmick if this at some point goes on sale for 14 99 ill without a doubt snatch it up to check out the 3d effects \n",
      "only showing top 5 rows\n",
      "\n"
     ]
    }
   ],
   "source": [
    "df_clean.select('review_text_l').show(5,vertical = True, truncate = False)"
   ]
  },
  {
   "cell_type": "code",
   "execution_count": 28,
   "metadata": {},
   "outputs": [
    {
     "data": {
      "text/plain": [
       "2"
      ]
     },
     "execution_count": 28,
     "metadata": {},
     "output_type": "execute_result"
    }
   ],
   "source": [
    "#Removing reviews that have 3 or less words\n",
    "df_clean.filter(F.length(df_clean.review_text_l) < 3).count()"
   ]
  },
  {
   "cell_type": "code",
   "execution_count": 29,
   "metadata": {},
   "outputs": [],
   "source": [
    "df_clean = df_clean.filter(F.length(df_clean.review_text_l) > 3)"
   ]
  },
  {
   "cell_type": "code",
   "execution_count": 30,
   "metadata": {
    "scrolled": false
   },
   "outputs": [
    {
     "data": {
      "text/plain": [
       "478430"
      ]
     },
     "execution_count": 30,
     "metadata": {},
     "output_type": "execute_result"
    }
   ],
   "source": [
    "df_clean.count()"
   ]
  },
  {
   "cell_type": "markdown",
   "metadata": {},
   "source": [
    "## NLP Pipeline"
   ]
  },
  {
   "cell_type": "markdown",
   "metadata": {},
   "source": [
    "This pipeline consists of the following: Tokenizer, Stop Words Remover, Stemming, & TFIDF"
   ]
  },
  {
   "cell_type": "code",
   "execution_count": 31,
   "metadata": {},
   "outputs": [],
   "source": [
    "#Document & Tokenize\n",
    "document_assembler = DocumentAssembler().setInputCol(\"review_text_l\").setOutputCol(\"document\")\n",
    "tokenizer = Tokenizer().setInputCols([\"document\"]).setOutputCol(\"review_words\")\n",
    " \n",
    "#Cleaning Tokens\n",
    "remover           = StopWordsCleaner().setInputCols(\"review_words\").setOutputCol(\"review_words_stop\").setCaseSensitive(False).setStopWords(eng_stopwords)\n",
    "#lemmatizer        = Lemmatizer().setInputCols([\"review_words_stop\"]).setOutputCol(\"review_words_lemstem\")\n",
    "stemmer           = Stemmer().setInputCols([\"review_words_stop\"]).setOutputCol(\"review_words_lemstem\")\n",
    "finisher          = Finisher().setInputCols([\"review_words_lemstem\"]).setOutputCols([\"token_features\"]).setOutputAsArray(True).setCleanAnnotations(False)\n",
    "#hashingTF         = HashingTF(inputCol=\"token_features\", outputCol=\"rawFeatures\")\n",
    "#idf               = IDF(inputCol=\"rawFeatures\", outputCol=\"features\")\n",
    "\n",
    "pipeline_stem = Pipeline(stages=[document_assembler,tokenizer,remover,stemmer,finisher])#,hashingTF,idf])   "
   ]
  },
  {
   "cell_type": "markdown",
   "metadata": {},
   "source": [
    "##### Running NLP pipeline"
   ]
  },
  {
   "cell_type": "code",
   "execution_count": 32,
   "metadata": {},
   "outputs": [
    {
     "name": "stdout",
     "output_type": "stream",
     "text": [
      "Wall time: 294 ms\n"
     ]
    }
   ],
   "source": [
    "%%time\n",
    "df_clean_nlp = pipeline_stem.fit(df_clean).transform(df_clean)"
   ]
  },
  {
   "cell_type": "code",
   "execution_count": 33,
   "metadata": {},
   "outputs": [
    {
     "name": "stdout",
     "output_type": "stream",
     "text": [
      "+----------+-----------+----------------+--------------------+--------------------+-------------+-----------+--------------------+------------------+-------+--------------------+--------------------+--------------------+--------------------+--------------------+--------------------+\n",
      "|product_id|star_rating|product_category|     review_headline|         review_body|helpful_votes|total_votes|         review_text|     helpful_ratio|helpful|       review_text_l|            document|        review_words|   review_words_stop|review_words_lemstem|      token_features|\n",
      "+----------+-----------+----------------+--------------------+--------------------+-------------+-----------+--------------------+------------------+-------+--------------------+--------------------+--------------------+--------------------+--------------------+--------------------+\n",
      "|B00ZGPZR9I|          4|       Video DVD|Unfair Accusation...|Amazed after Wode...|           32|         39|Unfair Accusation...|0.8205128205128205|      1|unfair accusation...|[{document, 0, 45...|[{token, 0, 5, un...|[{token, 0, 5, un...|[{token, 0, 5, un...|[unfair, accus, t...|\n",
      "+----------+-----------+----------------+--------------------+--------------------+-------------+-----------+--------------------+------------------+-------+--------------------+--------------------+--------------------+--------------------+--------------------+--------------------+\n",
      "only showing top 1 row\n",
      "\n"
     ]
    }
   ],
   "source": [
    "df_clean_nlp.show(1)"
   ]
  },
  {
   "cell_type": "markdown",
   "metadata": {},
   "source": [
    "##### Hashing TF"
   ]
  },
  {
   "cell_type": "code",
   "execution_count": 34,
   "metadata": {},
   "outputs": [
    {
     "name": "stdout",
     "output_type": "stream",
     "text": [
      "+----------+-----------+----------------+--------------------+--------------------+-------------+-----------+--------------------+------------------+-------+--------------------+--------------------+--------------------+--------------------+--------------------+--------------------+--------------------+\n",
      "|product_id|star_rating|product_category|     review_headline|         review_body|helpful_votes|total_votes|         review_text|     helpful_ratio|helpful|       review_text_l|            document|        review_words|   review_words_stop|review_words_lemstem|      token_features|         rawFeatures|\n",
      "+----------+-----------+----------------+--------------------+--------------------+-------------+-----------+--------------------+------------------+-------+--------------------+--------------------+--------------------+--------------------+--------------------+--------------------+--------------------+\n",
      "|B00ZGPZR9I|          4|       Video DVD|Unfair Accusation...|Amazed after Wode...|           32|         39|Unfair Accusation...|0.8205128205128205|      1|unfair accusation...|[{document, 0, 45...|[{token, 0, 5, un...|[{token, 0, 5, un...|[{token, 0, 5, un...|[unfair, accus, t...|(10000,[750,874,1...|\n",
      "+----------+-----------+----------------+--------------------+--------------------+-------------+-----------+--------------------+------------------+-------+--------------------+--------------------+--------------------+--------------------+--------------------+--------------------+--------------------+\n",
      "only showing top 1 row\n",
      "\n"
     ]
    }
   ],
   "source": [
    "hashingTF = HashingTF(inputCol=\"token_features\", outputCol=\"rawFeatures\", numFeatures = 10000)\n",
    "df_featurizedData = hashingTF.transform(df_clean_nlp)\n",
    "df_featurizedData.show(1)"
   ]
  },
  {
   "cell_type": "markdown",
   "metadata": {},
   "source": [
    "##### IDF"
   ]
  },
  {
   "cell_type": "code",
   "execution_count": 35,
   "metadata": {},
   "outputs": [
    {
     "name": "stdout",
     "output_type": "stream",
     "text": [
      "-RECORD 0-------------------------------------------------------------------------------------------------------------------------------------------------------------------------------------------------------------------------------------------------------------------------------------------------------------------------------------------------------------------------------------------------------------------------------------------------------------------------------------------------------------------------------------------------------------------------------------------------------------------------------------------------------------------------------------------------------------------------------------------------------------------------------------------------------------------------------------------------------------------------------------------------------------------------------------------------------------------------------------------------------------------------------------------------------------------------------------------------------------------------------------------------------------------------------------------------------------------------------------------------------------------------------------------------------------------------------------------------------------------------------------------------------------------------------------------------------------------------------------------------------------------------------------------------------------------------------------------------------------------------------------------------------------------------------------------------------------------------------------------------------------------------------------------------------------------------------------------------------------------------------------------------------------------------------------------------------------------------------------------------------------------------------------------------------------------------------------------------------------------------------------------------------------------------------------------------------------------------------------------------------------------------------------------------------------------------------------------------------------------------------------------------------------------------------------------------------------------------------------------------------------------------------------------------------------------------------------------------------------------------------------------------------------------------------------------------------------------------------------------------------------------------------------------------------------------------------------------------------------------------------------------------------------------------------------------------------------------------------------------------------------------------------------------------------------------------------------------------------------------------------------------------------------------------------------------------------------------------------------------------------------------------------------------------------------------------------------------------------------------------------------------------------------------------------------------------------------------------------------------------------------------------------------------------------------------------------------------------------------------------------------------------------------------------------------------------------------------------------------------------------------------------------------------------------------------------------------------------------------------\n",
      " product_id           | B00ZGPZR9I                                                                                                                                                                                                                                                                                                                                                                                                                                                                                                                                                                                                                                                                                                                                                                                                                                                                                                                                                                                                                                                                                                                                                                                                                                                                                                                                                                                                                                                                                                                                                                                                                                                                                                                                                                                                                                                                                                                                                                                                                                                                                                                                                                                                                                                                                                                                                                                                                                                                                                                                                                                                                                                                                                                                                                                                                                                                                                                                                                                                                                                                                                                                                                                                                                                                                                                                                                                                                                                                                                                                                                                                                                                                                                                                                                                                                                          \n",
      " star_rating          | 4                                                                                                                                                                                                                                                                                                                                                                                                                                                                                                                                                                                                                                                                                                                                                                                                                                                                                                                                                                                                                                                                                                                                                                                                                                                                                                                                                                                                                                                                                                                                                                                                                                                                                                                                                                                                                                                                                                                                                                                                                                                                                                                                                                                                                                                                                                                                                                                                                                                                                                                                                                                                                                                                                                                                                                                                                                                                                                                                                                                                                                                                                                                                                                                                                                                                                                                                                                                                                                                                                                                                                                                                                                                                                                                                                                                                                                                   \n",
      " product_category     | Video DVD                                                                                                                                                                                                                                                                                                                                                                                                                                                                                                                                                                                                                                                                                                                                                                                                                                                                                                                                                                                                                                                                                                                                                                                                                                                                                                                                                                                                                                                                                                                                                                                                                                                                                                                                                                                                                                                                                                                                                                                                                                                                                                                                                                                                                                                                                                                                                                                                                                                                                                                                                                                                                                                                                                                                                                                                                                                                                                                                                                                                                                                                                                                                                                                                                                                                                                                                                                                                                                                                                                                                                                                                                                                                                                                                                                                                                                           \n",
      " review_headline      | Unfair Accusation Toward A Great BRITISH Author                                                                                                                                                                                                                                                                                                                                                                                                                                                                                                                                                                                                                                                                                                                                                                                                                                                                                                                                                                                                                                                                                                                                                                                                                                                                                                                                                                                                                                                                                                                                                                                                                                                                                                                                                                                                                                                                                                                                                                                                                                                                                                                                                                                                                                                                                                                                                                                                                                                                                                                                                                                                                                                                                                                                                                                                                                                                                                                                                                                                                                                                                                                                                                                                                                                                                                                                                                                                                                                                                                                                                                                                                                                                                                                                                                                                     \n",
      " review_body          | Amazed after Wodehouse was interned by the Nazis that the British Govt turned around and accused him of being in sympathy with his former captors,all because he and some others were released due to their age!Since he's been dead since ~1975,I think the Brits owe his family an official apology.His daughter had died during routine surgery,he seemingly was put in the same category as Lord Haw Haw.Appalling!                                                                                                                                                                                                                                                                                                                                                                                                                                                                                                                                                                                                                                                                                                                                                                                                                                                                                                                                                                                                                                                                                                                                                                                                                                                                                                                                                                                                                                                                                                                                                                                                                                                                                                                                                                                                                                                                                                                                                                                                                                                                                                                                                                                                                                                                                                                                                                                                                                                                                                                                                                                                                                                                                                                                                                                                                                                                                                                                                                                                                                                                                                                                                                                                                                                                                                                                                                                                                             \n",
      " helpful_votes        | 32                                                                                                                                                                                                                                                                                                                                                                                                                                                                                                                                                                                                                                                                                                                                                                                                                                                                                                                                                                                                                                                                                                                                                                                                                                                                                                                                                                                                                                                                                                                                                                                                                                                                                                                                                                                                                                                                                                                                                                                                                                                                                                                                                                                                                                                                                                                                                                                                                                                                                                                                                                                                                                                                                                                                                                                                                                                                                                                                                                                                                                                                                                                                                                                                                                                                                                                                                                                                                                                                                                                                                                                                                                                                                                                                                                                                                                                  \n",
      " total_votes          | 39                                                                                                                                                                                                                                                                                                                                                                                                                                                                                                                                                                                                                                                                                                                                                                                                                                                                                                                                                                                                                                                                                                                                                                                                                                                                                                                                                                                                                                                                                                                                                                                                                                                                                                                                                                                                                                                                                                                                                                                                                                                                                                                                                                                                                                                                                                                                                                                                                                                                                                                                                                                                                                                                                                                                                                                                                                                                                                                                                                                                                                                                                                                                                                                                                                                                                                                                                                                                                                                                                                                                                                                                                                                                                                                                                                                                                                                  \n",
      " review_text          | Unfair Accusation Toward A Great BRITISH Author Amazed after Wodehouse was interned by the Nazis that the British Govt turned around and accused him of being in sympathy with his former captors,all because he and some others were released due to their age!Since he's been dead since ~1975,I think the Brits owe his family an official apology.His daughter had died during routine surgery,he seemingly was put in the same category as Lord Haw Haw.Appalling!                                                                                                                                                                                                                                                                                                                                                                                                                                                                                                                                                                                                                                                                                                                                                                                                                                                                                                                                                                                                                                                                                                                                                                                                                                                                                                                                                                                                                                                                                                                                                                                                                                                                                                                                                                                                                                                                                                                                                                                                                                                                                                                                                                                                                                                                                                                                                                                                                                                                                                                                                                                                                                                                                                                                                                                                                                                                                                                                                                                                                                                                                                                                                                                                                                                                                                                                                                             \n",
      " helpful_ratio        | 0.8205128205128205                                                                                                                                                                                                                                                                                                                                                                                                                                                                                                                                                                                                                                                                                                                                                                                                                                                                                                                                                                                                                                                                                                                                                                                                                                                                                                                                                                                                                                                                                                                                                                                                                                                                                                                                                                                                                                                                                                                                                                                                                                                                                                                                                                                                                                                                                                                                                                                                                                                                                                                                                                                                                                                                                                                                                                                                                                                                                                                                                                                                                                                                                                                                                                                                                                                                                                                                                                                                                                                                                                                                                                                                                                                                                                                                                                                                                                  \n",
      " helpful              | 1                                                                                                                                                                                                                                                                                                                                                                                                                                                                                                                                                                                                                                                                                                                                                                                                                                                                                                                                                                                                                                                                                                                                                                                                                                                                                                                                                                                                                                                                                                                                                                                                                                                                                                                                                                                                                                                                                                                                                                                                                                                                                                                                                                                                                                                                                                                                                                                                                                                                                                                                                                                                                                                                                                                                                                                                                                                                                                                                                                                                                                                                                                                                                                                                                                                                                                                                                                                                                                                                                                                                                                                                                                                                                                                                                                                                                                                   \n",
      " review_text_l        | unfair accusation toward a great british author amazed after wodehouse was interned by the nazis that the british govt turned around and accused him of being in sympathy with his former captors all because he and some others were released due to their age since hes been dead since 1975 i think the brits owe his family an official apology his daughter had died during routine surgery he seemingly was put in the same category as lord haw haw appalling                                                                                                                                                                                                                                                                                                                                                                                                                                                                                                                                                                                                                                                                                                                                                                                                                                                                                                                                                                                                                                                                                                                                                                                                                                                                                                                                                                                                                                                                                                                                                                                                                                                                                                                                                                                                                                                                                                                                                                                                                                                                                                                                                                                                                                                                                                                                                                                                                                                                                                                                                                                                                                                                                                                                                                                                                                                                                                                                                                                                                                                                                                                                                                                                                                                                                                                                                                                \n",
      " document             | [{document, 0, 452, unfair accusation toward a great british author amazed after wodehouse was interned by the nazis that the british govt turned around and accused him of being in sympathy with his former captors all because he and some others were released due to their age since hes been dead since 1975 i think the brits owe his family an official apology his daughter had died during routine surgery he seemingly was put in the same category as lord haw haw appalling , {sentence -> 0}, []}]                                                                                                                                                                                                                                                                                                                                                                                                                                                                                                                                                                                                                                                                                                                                                                                                                                                                                                                                                                                                                                                                                                                                                                                                                                                                                                                                                                                                                                                                                                                                                                                                                                                                                                                                                                                                                                                                                                                                                                                                                                                                                                                                                                                                                                                                                                                                                                                                                                                                                                                                                                                                                                                                                                                                                                                                                                                                                                                                                                                                                                                                                                                                                                                                                                                                                                                                    \n",
      " review_words         | [{token, 0, 5, unfair, {sentence -> 0}, []}, {token, 7, 16, accusation, {sentence -> 0}, []}, {token, 18, 23, toward, {sentence -> 0}, []}, {token, 25, 25, a, {sentence -> 0}, []}, {token, 27, 31, great, {sentence -> 0}, []}, {token, 33, 39, british, {sentence -> 0}, []}, {token, 41, 46, author, {sentence -> 0}, []}, {token, 48, 53, amazed, {sentence -> 0}, []}, {token, 55, 59, after, {sentence -> 0}, []}, {token, 61, 69, wodehouse, {sentence -> 0}, []}, {token, 71, 73, was, {sentence -> 0}, []}, {token, 75, 82, interned, {sentence -> 0}, []}, {token, 84, 85, by, {sentence -> 0}, []}, {token, 87, 89, the, {sentence -> 0}, []}, {token, 91, 95, nazis, {sentence -> 0}, []}, {token, 97, 100, that, {sentence -> 0}, []}, {token, 102, 104, the, {sentence -> 0}, []}, {token, 106, 112, british, {sentence -> 0}, []}, {token, 114, 117, govt, {sentence -> 0}, []}, {token, 119, 124, turned, {sentence -> 0}, []}, {token, 126, 131, around, {sentence -> 0}, []}, {token, 133, 135, and, {sentence -> 0}, []}, {token, 137, 143, accused, {sentence -> 0}, []}, {token, 145, 147, him, {sentence -> 0}, []}, {token, 149, 150, of, {sentence -> 0}, []}, {token, 152, 156, being, {sentence -> 0}, []}, {token, 158, 159, in, {sentence -> 0}, []}, {token, 161, 168, sympathy, {sentence -> 0}, []}, {token, 170, 173, with, {sentence -> 0}, []}, {token, 175, 177, his, {sentence -> 0}, []}, {token, 179, 184, former, {sentence -> 0}, []}, {token, 186, 192, captors, {sentence -> 0}, []}, {token, 194, 196, all, {sentence -> 0}, []}, {token, 198, 204, because, {sentence -> 0}, []}, {token, 206, 207, he, {sentence -> 0}, []}, {token, 209, 211, and, {sentence -> 0}, []}, {token, 213, 216, some, {sentence -> 0}, []}, {token, 218, 223, others, {sentence -> 0}, []}, {token, 225, 228, were, {sentence -> 0}, []}, {token, 230, 237, released, {sentence -> 0}, []}, {token, 239, 241, due, {sentence -> 0}, []}, {token, 243, 244, to, {sentence -> 0}, []}, {token, 246, 250, their, {sentence -> 0}, []}, {token, 252, 254, age, {sentence -> 0}, []}, {token, 256, 260, since, {sentence -> 0}, []}, {token, 262, 264, hes, {sentence -> 0}, []}, {token, 266, 269, been, {sentence -> 0}, []}, {token, 271, 274, dead, {sentence -> 0}, []}, {token, 276, 280, since, {sentence -> 0}, []}, {token, 282, 285, 1975, {sentence -> 0}, []}, {token, 287, 287, i, {sentence -> 0}, []}, {token, 289, 293, think, {sentence -> 0}, []}, {token, 295, 297, the, {sentence -> 0}, []}, {token, 299, 303, brits, {sentence -> 0}, []}, {token, 305, 307, owe, {sentence -> 0}, []}, {token, 309, 311, his, {sentence -> 0}, []}, {token, 313, 318, family, {sentence -> 0}, []}, {token, 320, 321, an, {sentence -> 0}, []}, {token, 323, 330, official, {sentence -> 0}, []}, {token, 332, 338, apology, {sentence -> 0}, []}, {token, 340, 342, his, {sentence -> 0}, []}, {token, 344, 351, daughter, {sentence -> 0}, []}, {token, 353, 355, had, {sentence -> 0}, []}, {token, 357, 360, died, {sentence -> 0}, []}, {token, 362, 367, during, {sentence -> 0}, []}, {token, 369, 375, routine, {sentence -> 0}, []}, {token, 377, 383, surgery, {sentence -> 0}, []}, {token, 385, 386, he, {sentence -> 0}, []}, {token, 388, 396, seemingly, {sentence -> 0}, []}, {token, 398, 400, was, {sentence -> 0}, []}, {token, 402, 404, put, {sentence -> 0}, []}, {token, 406, 407, in, {sentence -> 0}, []}, {token, 409, 411, the, {sentence -> 0}, []}, {token, 413, 416, same, {sentence -> 0}, []}, {token, 418, 425, category, {sentence -> 0}, []}, {token, 427, 428, as, {sentence -> 0}, []}, {token, 430, 433, lord, {sentence -> 0}, []}, {token, 435, 437, haw, {sentence -> 0}, []}, {token, 439, 441, haw, {sentence -> 0}, []}, {token, 443, 451, appalling, {sentence -> 0}, []}] \n",
      " review_words_stop    | [{token, 0, 5, unfair, {sentence -> 0}, []}, {token, 7, 16, accusation, {sentence -> 0}, []}, {token, 18, 23, toward, {sentence -> 0}, []}, {token, 27, 31, great, {sentence -> 0}, []}, {token, 33, 39, british, {sentence -> 0}, []}, {token, 41, 46, author, {sentence -> 0}, []}, {token, 48, 53, amazed, {sentence -> 0}, []}, {token, 61, 69, wodehouse, {sentence -> 0}, []}, {token, 75, 82, interned, {sentence -> 0}, []}, {token, 91, 95, nazis, {sentence -> 0}, []}, {token, 106, 112, british, {sentence -> 0}, []}, {token, 114, 117, govt, {sentence -> 0}, []}, {token, 119, 124, turned, {sentence -> 0}, []}, {token, 126, 131, around, {sentence -> 0}, []}, {token, 137, 143, accused, {sentence -> 0}, []}, {token, 161, 168, sympathy, {sentence -> 0}, []}, {token, 179, 184, former, {sentence -> 0}, []}, {token, 186, 192, captors, {sentence -> 0}, []}, {token, 218, 223, others, {sentence -> 0}, []}, {token, 230, 237, released, {sentence -> 0}, []}, {token, 239, 241, due, {sentence -> 0}, []}, {token, 252, 254, age, {sentence -> 0}, []}, {token, 256, 260, since, {sentence -> 0}, []}, {token, 262, 264, hes, {sentence -> 0}, []}, {token, 271, 274, dead, {sentence -> 0}, []}, {token, 276, 280, since, {sentence -> 0}, []}, {token, 282, 285, 1975, {sentence -> 0}, []}, {token, 289, 293, think, {sentence -> 0}, []}, {token, 299, 303, brits, {sentence -> 0}, []}, {token, 305, 307, owe, {sentence -> 0}, []}, {token, 313, 318, family, {sentence -> 0}, []}, {token, 323, 330, official, {sentence -> 0}, []}, {token, 332, 338, apology, {sentence -> 0}, []}, {token, 344, 351, daughter, {sentence -> 0}, []}, {token, 357, 360, died, {sentence -> 0}, []}, {token, 369, 375, routine, {sentence -> 0}, []}, {token, 377, 383, surgery, {sentence -> 0}, []}, {token, 388, 396, seemingly, {sentence -> 0}, []}, {token, 402, 404, put, {sentence -> 0}, []}, {token, 418, 425, category, {sentence -> 0}, []}, {token, 430, 433, lord, {sentence -> 0}, []}, {token, 435, 437, haw, {sentence -> 0}, []}, {token, 439, 441, haw, {sentence -> 0}, []}, {token, 443, 451, appalling, {sentence -> 0}, []}]                                                                                                                                                                                                                                                                                                                                                                                                                                                                                                                                                                                                                                                                                                                                                                                                                                                                                                                                                                                                                                                                                                                                                                                                                                                                                                                                                                                                                                                                                                                                                                                                                                                                                \n",
      " review_words_lemstem | [{token, 0, 5, unfair, {sentence -> 0}, []}, {token, 7, 16, accus, {sentence -> 0}, []}, {token, 18, 23, toward, {sentence -> 0}, []}, {token, 27, 31, great, {sentence -> 0}, []}, {token, 33, 39, british, {sentence -> 0}, []}, {token, 41, 46, author, {sentence -> 0}, []}, {token, 48, 53, amaz, {sentence -> 0}, []}, {token, 61, 69, wodehous, {sentence -> 0}, []}, {token, 75, 82, intern, {sentence -> 0}, []}, {token, 91, 95, nazi, {sentence -> 0}, []}, {token, 106, 112, british, {sentence -> 0}, []}, {token, 114, 117, govt, {sentence -> 0}, []}, {token, 119, 124, turn, {sentence -> 0}, []}, {token, 126, 131, around, {sentence -> 0}, []}, {token, 137, 143, accus, {sentence -> 0}, []}, {token, 161, 168, sympathi, {sentence -> 0}, []}, {token, 179, 184, former, {sentence -> 0}, []}, {token, 186, 192, captor, {sentence -> 0}, []}, {token, 218, 223, other, {sentence -> 0}, []}, {token, 230, 237, releas, {sentence -> 0}, []}, {token, 239, 241, due, {sentence -> 0}, []}, {token, 252, 254, ag, {sentence -> 0}, []}, {token, 256, 260, sinc, {sentence -> 0}, []}, {token, 262, 264, he, {sentence -> 0}, []}, {token, 271, 274, dead, {sentence -> 0}, []}, {token, 276, 280, sinc, {sentence -> 0}, []}, {token, 282, 285, 1975, {sentence -> 0}, []}, {token, 289, 293, think, {sentence -> 0}, []}, {token, 299, 303, brit, {sentence -> 0}, []}, {token, 305, 307, ow, {sentence -> 0}, []}, {token, 313, 318, famili, {sentence -> 0}, []}, {token, 323, 330, offici, {sentence -> 0}, []}, {token, 332, 338, apologi, {sentence -> 0}, []}, {token, 344, 351, daughter, {sentence -> 0}, []}, {token, 357, 360, di, {sentence -> 0}, []}, {token, 369, 375, routin, {sentence -> 0}, []}, {token, 377, 383, surgeri, {sentence -> 0}, []}, {token, 388, 396, seemingli, {sentence -> 0}, []}, {token, 402, 404, put, {sentence -> 0}, []}, {token, 418, 425, categori, {sentence -> 0}, []}, {token, 430, 433, lord, {sentence -> 0}, []}, {token, 435, 437, haw, {sentence -> 0}, []}, {token, 439, 441, haw, {sentence -> 0}, []}, {token, 443, 451, appal, {sentence -> 0}, []}]                                                                                                                                                                                                                                                                                                                                                                                                                                                                                                                                                                                                                                                                                                                                                                                                                                                                                                                                                                                                                                                                                                                                                                                                                                                                                                                                                                                                                                                                                                                                                                                                                                                                                                                  \n",
      " token_features       | [unfair, accus, toward, great, british, author, amaz, wodehous, intern, nazi, british, govt, turn, around, accus, sympathi, former, captor, other, releas, due, ag, sinc, he, dead, sinc, 1975, think, brit, ow, famili, offici, apologi, daughter, di, routin, surgeri, seemingli, put, categori, lord, haw, haw, appal]                                                                                                                                                                                                                                                                                                                                                                                                                                                                                                                                                                                                                                                                                                                                                                                                                                                                                                                                                                                                                                                                                                                                                                                                                                                                                                                                                                                                                                                                                                                                                                                                                                                                                                                                                                                                                                                                                                                                                                                                                                                                                                                                                                                                                                                                                                                                                                                                                                                                                                                                                                                                                                                                                                                                                                                                                                                                                                                                                                                                                                                                                                                                                                                                                                                                                                                                                                                                                                                                                                                           \n",
      " rawFeatures          | (10000,[750,874,1548,1696,1965,2335,2360,2481,2990,3077,3194,3304,3868,3886,3965,4001,4153,4160,4242,4395,4548,4559,5434,5586,5599,5817,6195,6197,6305,6393,7034,7155,7623,7780,8289,8871,9248,9320,9350,9457],[1.0,1.0,1.0,1.0,1.0,1.0,2.0,1.0,1.0,2.0,1.0,1.0,1.0,1.0,1.0,1.0,1.0,1.0,1.0,1.0,1.0,1.0,2.0,1.0,1.0,2.0,1.0,1.0,1.0,1.0,1.0,1.0,1.0,1.0,1.0,1.0,1.0,1.0,1.0,1.0])                                                                                                                                                                                                                                                                                                                                                                                                                                                                                                                                                                                                                                                                                                                                                                                                                                                                                                                                                                                                                                                                                                                                                                                                                                                                                                                                                                                                                                                                                                                                                                                                                                                                                                                                                                                                                                                                                                                                                                                                                                                                                                                                                                                                                                                                                                                                                                                                                                                                                                                                                                                                                                                                                                                                                                                                                                                                                                                                                                                                                                                                                                                                                                                                                                                                                                                                                                                                                                                                   \n",
      " features             | (10000,[750,874,1548,1696,1965,2335,2360,2481,2990,3077,3194,3304,3868,3886,3965,4001,4153,4160,4242,4395,4548,4559,5434,5586,5599,5817,6195,6197,6305,6393,7034,7155,7623,7780,8289,8871,9248,9320,9350,9457],[1.2179225721048628,2.744166824673332,4.001001261099436,4.257420245472559,4.982668577472087,1.5474920726172534,9.601710559802545,3.498710931441051,6.341300320848421,4.529859382539961,3.5575053474528238,2.7409863462191266,5.218468098288167,2.351416016222576,5.11619997009661,3.115944940593256,5.325073008965936,3.7778120174318337,5.284268189346281,3.257889633037155,3.615069225576493,2.878757529587366,7.533630811011365,1.9243480445858598,4.529769237605627,11.673801991055917,2.523548888855495,2.3188973896350893,4.770068215643829,5.445381773455144,5.748517589808765,4.920610263653804,3.3753059877629497,5.014574644580761,2.5890507325214958,2.211948979005098,2.940063398647323,3.933532663972088,3.6159238268793312,2.775131503527549])                                                                                                                                                                                                                                                                                                                                                                                                                                                                                                                                                                                                                                                                                                                                                                                                                                                                                                                                                                                                                                                                                                                                                                                                                                                                                                                                                                                                                                                                                                                                                                                                                                                                                                                                                                                                                                                                                                                                                                                                                                                                                                                                                                                                                                                                                                                                                                                                                                                                                                                                                                                                                                                                                                                                                                                                                                                                         \n",
      "only showing top 1 row\n",
      "\n",
      "Wall time: 2min 34s\n"
     ]
    }
   ],
   "source": [
    "%%time\n",
    "idf = IDF(inputCol=\"rawFeatures\", outputCol=\"features\")\n",
    "df_nlp = idf.fit(df_featurizedData).transform(df_featurizedData)\n",
    "df_nlp.show(1, vertical = True, truncate = False)"
   ]
  },
  {
   "cell_type": "code",
   "execution_count": 36,
   "metadata": {},
   "outputs": [
    {
     "name": "stdout",
     "output_type": "stream",
     "text": [
      "-RECORD 0-------------------------------------------------------------------------------------------------------------------------------------------------------------------------------------------------------------------------------------------------------------------------------------------------------------------------------------------------------------------------------------------------------------------------------------------------------------------------------------------------------------------------------------------------------------------------------------------------------------------------------------------------------------------------------------------------------------------------------------------------------------------------------------------------------------------------------------------------------------------------------------------------------------------------------------------------------------------------------------------------------------------------------------------------------------------------------------------------------------------------------------------------------------------------------------------------------------------------------------------------------------------------------------------------------------------------------------------------------------------------------------------------------------------------------------------------------------------------------------------------------------------------------------------------------------------------------------------------------------------------------------------------------------------------------------------------------------------------------------------------------------------------------------------------------------------------------------------------------------------------------------------------------------------------------------------------------------------------------------------------------------------------------------------------------------------------------------------------------------------------------------------------------------------------------------------------------------------------------------------------------------------------------------------------------------------------------------------------------------------------------------------------------------------------------------------------------------------------------------------------------------------------------------------------------------------------------------------------------------------------------------------------------------------------------------------------------------------------------------------------------------------------------------------------------------------------------------------------------------------------------------------------------------------------------------------------------------------------------------------------------------------------------------------------------------------------------------------------------------------------------------------------------------------------------------------------------------------------------------------------------------------------------------------------------------------------------------------------------------------------------------------------------------------------------------------------------------------------------------------------------------------------------------------------------------------------------------------------------------------------------------------------------------------------------------------------------------------------------------------------------------------------------------------------------------------------------------------------------------------\n",
      " product_id           | B00ZGPZR9I                                                                                                                                                                                                                                                                                                                                                                                                                                                                                                                                                                                                                                                                                                                                                                                                                                                                                                                                                                                                                                                                                                                                                                                                                                                                                                                                                                                                                                                                                                                                                                                                                                                                                                                                                                                                                                                                                                                                                                                                                                                                                                                                                                                                                                                                                                                                                                                                                                                                                                                                                                                                                                                                                                                                                                                                                                                                                                                                                                                                                                                                                                                                                                                                                                                                                                                                                                                                                                                                                                                                                                                                                                                                                                                                                                                                                                          \n",
      " star_rating          | 4                                                                                                                                                                                                                                                                                                                                                                                                                                                                                                                                                                                                                                                                                                                                                                                                                                                                                                                                                                                                                                                                                                                                                                                                                                                                                                                                                                                                                                                                                                                                                                                                                                                                                                                                                                                                                                                                                                                                                                                                                                                                                                                                                                                                                                                                                                                                                                                                                                                                                                                                                                                                                                                                                                                                                                                                                                                                                                                                                                                                                                                                                                                                                                                                                                                                                                                                                                                                                                                                                                                                                                                                                                                                                                                                                                                                                                                   \n",
      " product_category     | Video DVD                                                                                                                                                                                                                                                                                                                                                                                                                                                                                                                                                                                                                                                                                                                                                                                                                                                                                                                                                                                                                                                                                                                                                                                                                                                                                                                                                                                                                                                                                                                                                                                                                                                                                                                                                                                                                                                                                                                                                                                                                                                                                                                                                                                                                                                                                                                                                                                                                                                                                                                                                                                                                                                                                                                                                                                                                                                                                                                                                                                                                                                                                                                                                                                                                                                                                                                                                                                                                                                                                                                                                                                                                                                                                                                                                                                                                                           \n",
      " review_headline      | Unfair Accusation Toward A Great BRITISH Author                                                                                                                                                                                                                                                                                                                                                                                                                                                                                                                                                                                                                                                                                                                                                                                                                                                                                                                                                                                                                                                                                                                                                                                                                                                                                                                                                                                                                                                                                                                                                                                                                                                                                                                                                                                                                                                                                                                                                                                                                                                                                                                                                                                                                                                                                                                                                                                                                                                                                                                                                                                                                                                                                                                                                                                                                                                                                                                                                                                                                                                                                                                                                                                                                                                                                                                                                                                                                                                                                                                                                                                                                                                                                                                                                                                                     \n",
      " review_body          | Amazed after Wodehouse was interned by the Nazis that the British Govt turned around and accused him of being in sympathy with his former captors,all because he and some others were released due to their age!Since he's been dead since ~1975,I think the Brits owe his family an official apology.His daughter had died during routine surgery,he seemingly was put in the same category as Lord Haw Haw.Appalling!                                                                                                                                                                                                                                                                                                                                                                                                                                                                                                                                                                                                                                                                                                                                                                                                                                                                                                                                                                                                                                                                                                                                                                                                                                                                                                                                                                                                                                                                                                                                                                                                                                                                                                                                                                                                                                                                                                                                                                                                                                                                                                                                                                                                                                                                                                                                                                                                                                                                                                                                                                                                                                                                                                                                                                                                                                                                                                                                                                                                                                                                                                                                                                                                                                                                                                                                                                                                                             \n",
      " helpful_votes        | 32                                                                                                                                                                                                                                                                                                                                                                                                                                                                                                                                                                                                                                                                                                                                                                                                                                                                                                                                                                                                                                                                                                                                                                                                                                                                                                                                                                                                                                                                                                                                                                                                                                                                                                                                                                                                                                                                                                                                                                                                                                                                                                                                                                                                                                                                                                                                                                                                                                                                                                                                                                                                                                                                                                                                                                                                                                                                                                                                                                                                                                                                                                                                                                                                                                                                                                                                                                                                                                                                                                                                                                                                                                                                                                                                                                                                                                                  \n",
      " total_votes          | 39                                                                                                                                                                                                                                                                                                                                                                                                                                                                                                                                                                                                                                                                                                                                                                                                                                                                                                                                                                                                                                                                                                                                                                                                                                                                                                                                                                                                                                                                                                                                                                                                                                                                                                                                                                                                                                                                                                                                                                                                                                                                                                                                                                                                                                                                                                                                                                                                                                                                                                                                                                                                                                                                                                                                                                                                                                                                                                                                                                                                                                                                                                                                                                                                                                                                                                                                                                                                                                                                                                                                                                                                                                                                                                                                                                                                                                                  \n",
      " review_text          | Unfair Accusation Toward A Great BRITISH Author Amazed after Wodehouse was interned by the Nazis that the British Govt turned around and accused him of being in sympathy with his former captors,all because he and some others were released due to their age!Since he's been dead since ~1975,I think the Brits owe his family an official apology.His daughter had died during routine surgery,he seemingly was put in the same category as Lord Haw Haw.Appalling!                                                                                                                                                                                                                                                                                                                                                                                                                                                                                                                                                                                                                                                                                                                                                                                                                                                                                                                                                                                                                                                                                                                                                                                                                                                                                                                                                                                                                                                                                                                                                                                                                                                                                                                                                                                                                                                                                                                                                                                                                                                                                                                                                                                                                                                                                                                                                                                                                                                                                                                                                                                                                                                                                                                                                                                                                                                                                                                                                                                                                                                                                                                                                                                                                                                                                                                                                                             \n",
      " helpful_ratio        | 0.8205128205128205                                                                                                                                                                                                                                                                                                                                                                                                                                                                                                                                                                                                                                                                                                                                                                                                                                                                                                                                                                                                                                                                                                                                                                                                                                                                                                                                                                                                                                                                                                                                                                                                                                                                                                                                                                                                                                                                                                                                                                                                                                                                                                                                                                                                                                                                                                                                                                                                                                                                                                                                                                                                                                                                                                                                                                                                                                                                                                                                                                                                                                                                                                                                                                                                                                                                                                                                                                                                                                                                                                                                                                                                                                                                                                                                                                                                                                  \n",
      " helpful              | 1                                                                                                                                                                                                                                                                                                                                                                                                                                                                                                                                                                                                                                                                                                                                                                                                                                                                                                                                                                                                                                                                                                                                                                                                                                                                                                                                                                                                                                                                                                                                                                                                                                                                                                                                                                                                                                                                                                                                                                                                                                                                                                                                                                                                                                                                                                                                                                                                                                                                                                                                                                                                                                                                                                                                                                                                                                                                                                                                                                                                                                                                                                                                                                                                                                                                                                                                                                                                                                                                                                                                                                                                                                                                                                                                                                                                                                                   \n",
      " review_text_l        | unfair accusation toward a great british author amazed after wodehouse was interned by the nazis that the british govt turned around and accused him of being in sympathy with his former captors all because he and some others were released due to their age since hes been dead since 1975 i think the brits owe his family an official apology his daughter had died during routine surgery he seemingly was put in the same category as lord haw haw appalling                                                                                                                                                                                                                                                                                                                                                                                                                                                                                                                                                                                                                                                                                                                                                                                                                                                                                                                                                                                                                                                                                                                                                                                                                                                                                                                                                                                                                                                                                                                                                                                                                                                                                                                                                                                                                                                                                                                                                                                                                                                                                                                                                                                                                                                                                                                                                                                                                                                                                                                                                                                                                                                                                                                                                                                                                                                                                                                                                                                                                                                                                                                                                                                                                                                                                                                                                                                \n",
      " document             | [{document, 0, 452, unfair accusation toward a great british author amazed after wodehouse was interned by the nazis that the british govt turned around and accused him of being in sympathy with his former captors all because he and some others were released due to their age since hes been dead since 1975 i think the brits owe his family an official apology his daughter had died during routine surgery he seemingly was put in the same category as lord haw haw appalling , {sentence -> 0}, []}]                                                                                                                                                                                                                                                                                                                                                                                                                                                                                                                                                                                                                                                                                                                                                                                                                                                                                                                                                                                                                                                                                                                                                                                                                                                                                                                                                                                                                                                                                                                                                                                                                                                                                                                                                                                                                                                                                                                                                                                                                                                                                                                                                                                                                                                                                                                                                                                                                                                                                                                                                                                                                                                                                                                                                                                                                                                                                                                                                                                                                                                                                                                                                                                                                                                                                                                                    \n",
      " review_words         | [{token, 0, 5, unfair, {sentence -> 0}, []}, {token, 7, 16, accusation, {sentence -> 0}, []}, {token, 18, 23, toward, {sentence -> 0}, []}, {token, 25, 25, a, {sentence -> 0}, []}, {token, 27, 31, great, {sentence -> 0}, []}, {token, 33, 39, british, {sentence -> 0}, []}, {token, 41, 46, author, {sentence -> 0}, []}, {token, 48, 53, amazed, {sentence -> 0}, []}, {token, 55, 59, after, {sentence -> 0}, []}, {token, 61, 69, wodehouse, {sentence -> 0}, []}, {token, 71, 73, was, {sentence -> 0}, []}, {token, 75, 82, interned, {sentence -> 0}, []}, {token, 84, 85, by, {sentence -> 0}, []}, {token, 87, 89, the, {sentence -> 0}, []}, {token, 91, 95, nazis, {sentence -> 0}, []}, {token, 97, 100, that, {sentence -> 0}, []}, {token, 102, 104, the, {sentence -> 0}, []}, {token, 106, 112, british, {sentence -> 0}, []}, {token, 114, 117, govt, {sentence -> 0}, []}, {token, 119, 124, turned, {sentence -> 0}, []}, {token, 126, 131, around, {sentence -> 0}, []}, {token, 133, 135, and, {sentence -> 0}, []}, {token, 137, 143, accused, {sentence -> 0}, []}, {token, 145, 147, him, {sentence -> 0}, []}, {token, 149, 150, of, {sentence -> 0}, []}, {token, 152, 156, being, {sentence -> 0}, []}, {token, 158, 159, in, {sentence -> 0}, []}, {token, 161, 168, sympathy, {sentence -> 0}, []}, {token, 170, 173, with, {sentence -> 0}, []}, {token, 175, 177, his, {sentence -> 0}, []}, {token, 179, 184, former, {sentence -> 0}, []}, {token, 186, 192, captors, {sentence -> 0}, []}, {token, 194, 196, all, {sentence -> 0}, []}, {token, 198, 204, because, {sentence -> 0}, []}, {token, 206, 207, he, {sentence -> 0}, []}, {token, 209, 211, and, {sentence -> 0}, []}, {token, 213, 216, some, {sentence -> 0}, []}, {token, 218, 223, others, {sentence -> 0}, []}, {token, 225, 228, were, {sentence -> 0}, []}, {token, 230, 237, released, {sentence -> 0}, []}, {token, 239, 241, due, {sentence -> 0}, []}, {token, 243, 244, to, {sentence -> 0}, []}, {token, 246, 250, their, {sentence -> 0}, []}, {token, 252, 254, age, {sentence -> 0}, []}, {token, 256, 260, since, {sentence -> 0}, []}, {token, 262, 264, hes, {sentence -> 0}, []}, {token, 266, 269, been, {sentence -> 0}, []}, {token, 271, 274, dead, {sentence -> 0}, []}, {token, 276, 280, since, {sentence -> 0}, []}, {token, 282, 285, 1975, {sentence -> 0}, []}, {token, 287, 287, i, {sentence -> 0}, []}, {token, 289, 293, think, {sentence -> 0}, []}, {token, 295, 297, the, {sentence -> 0}, []}, {token, 299, 303, brits, {sentence -> 0}, []}, {token, 305, 307, owe, {sentence -> 0}, []}, {token, 309, 311, his, {sentence -> 0}, []}, {token, 313, 318, family, {sentence -> 0}, []}, {token, 320, 321, an, {sentence -> 0}, []}, {token, 323, 330, official, {sentence -> 0}, []}, {token, 332, 338, apology, {sentence -> 0}, []}, {token, 340, 342, his, {sentence -> 0}, []}, {token, 344, 351, daughter, {sentence -> 0}, []}, {token, 353, 355, had, {sentence -> 0}, []}, {token, 357, 360, died, {sentence -> 0}, []}, {token, 362, 367, during, {sentence -> 0}, []}, {token, 369, 375, routine, {sentence -> 0}, []}, {token, 377, 383, surgery, {sentence -> 0}, []}, {token, 385, 386, he, {sentence -> 0}, []}, {token, 388, 396, seemingly, {sentence -> 0}, []}, {token, 398, 400, was, {sentence -> 0}, []}, {token, 402, 404, put, {sentence -> 0}, []}, {token, 406, 407, in, {sentence -> 0}, []}, {token, 409, 411, the, {sentence -> 0}, []}, {token, 413, 416, same, {sentence -> 0}, []}, {token, 418, 425, category, {sentence -> 0}, []}, {token, 427, 428, as, {sentence -> 0}, []}, {token, 430, 433, lord, {sentence -> 0}, []}, {token, 435, 437, haw, {sentence -> 0}, []}, {token, 439, 441, haw, {sentence -> 0}, []}, {token, 443, 451, appalling, {sentence -> 0}, []}] \n",
      " review_words_stop    | [{token, 0, 5, unfair, {sentence -> 0}, []}, {token, 7, 16, accusation, {sentence -> 0}, []}, {token, 18, 23, toward, {sentence -> 0}, []}, {token, 27, 31, great, {sentence -> 0}, []}, {token, 33, 39, british, {sentence -> 0}, []}, {token, 41, 46, author, {sentence -> 0}, []}, {token, 48, 53, amazed, {sentence -> 0}, []}, {token, 61, 69, wodehouse, {sentence -> 0}, []}, {token, 75, 82, interned, {sentence -> 0}, []}, {token, 91, 95, nazis, {sentence -> 0}, []}, {token, 106, 112, british, {sentence -> 0}, []}, {token, 114, 117, govt, {sentence -> 0}, []}, {token, 119, 124, turned, {sentence -> 0}, []}, {token, 126, 131, around, {sentence -> 0}, []}, {token, 137, 143, accused, {sentence -> 0}, []}, {token, 161, 168, sympathy, {sentence -> 0}, []}, {token, 179, 184, former, {sentence -> 0}, []}, {token, 186, 192, captors, {sentence -> 0}, []}, {token, 218, 223, others, {sentence -> 0}, []}, {token, 230, 237, released, {sentence -> 0}, []}, {token, 239, 241, due, {sentence -> 0}, []}, {token, 252, 254, age, {sentence -> 0}, []}, {token, 256, 260, since, {sentence -> 0}, []}, {token, 262, 264, hes, {sentence -> 0}, []}, {token, 271, 274, dead, {sentence -> 0}, []}, {token, 276, 280, since, {sentence -> 0}, []}, {token, 282, 285, 1975, {sentence -> 0}, []}, {token, 289, 293, think, {sentence -> 0}, []}, {token, 299, 303, brits, {sentence -> 0}, []}, {token, 305, 307, owe, {sentence -> 0}, []}, {token, 313, 318, family, {sentence -> 0}, []}, {token, 323, 330, official, {sentence -> 0}, []}, {token, 332, 338, apology, {sentence -> 0}, []}, {token, 344, 351, daughter, {sentence -> 0}, []}, {token, 357, 360, died, {sentence -> 0}, []}, {token, 369, 375, routine, {sentence -> 0}, []}, {token, 377, 383, surgery, {sentence -> 0}, []}, {token, 388, 396, seemingly, {sentence -> 0}, []}, {token, 402, 404, put, {sentence -> 0}, []}, {token, 418, 425, category, {sentence -> 0}, []}, {token, 430, 433, lord, {sentence -> 0}, []}, {token, 435, 437, haw, {sentence -> 0}, []}, {token, 439, 441, haw, {sentence -> 0}, []}, {token, 443, 451, appalling, {sentence -> 0}, []}]                                                                                                                                                                                                                                                                                                                                                                                                                                                                                                                                                                                                                                                                                                                                                                                                                                                                                                                                                                                                                                                                                                                                                                                                                                                                                                                                                                                                                                                                                                                                                                                                                                                                                \n",
      " review_words_lemstem | [{token, 0, 5, unfair, {sentence -> 0}, []}, {token, 7, 16, accus, {sentence -> 0}, []}, {token, 18, 23, toward, {sentence -> 0}, []}, {token, 27, 31, great, {sentence -> 0}, []}, {token, 33, 39, british, {sentence -> 0}, []}, {token, 41, 46, author, {sentence -> 0}, []}, {token, 48, 53, amaz, {sentence -> 0}, []}, {token, 61, 69, wodehous, {sentence -> 0}, []}, {token, 75, 82, intern, {sentence -> 0}, []}, {token, 91, 95, nazi, {sentence -> 0}, []}, {token, 106, 112, british, {sentence -> 0}, []}, {token, 114, 117, govt, {sentence -> 0}, []}, {token, 119, 124, turn, {sentence -> 0}, []}, {token, 126, 131, around, {sentence -> 0}, []}, {token, 137, 143, accus, {sentence -> 0}, []}, {token, 161, 168, sympathi, {sentence -> 0}, []}, {token, 179, 184, former, {sentence -> 0}, []}, {token, 186, 192, captor, {sentence -> 0}, []}, {token, 218, 223, other, {sentence -> 0}, []}, {token, 230, 237, releas, {sentence -> 0}, []}, {token, 239, 241, due, {sentence -> 0}, []}, {token, 252, 254, ag, {sentence -> 0}, []}, {token, 256, 260, sinc, {sentence -> 0}, []}, {token, 262, 264, he, {sentence -> 0}, []}, {token, 271, 274, dead, {sentence -> 0}, []}, {token, 276, 280, sinc, {sentence -> 0}, []}, {token, 282, 285, 1975, {sentence -> 0}, []}, {token, 289, 293, think, {sentence -> 0}, []}, {token, 299, 303, brit, {sentence -> 0}, []}, {token, 305, 307, ow, {sentence -> 0}, []}, {token, 313, 318, famili, {sentence -> 0}, []}, {token, 323, 330, offici, {sentence -> 0}, []}, {token, 332, 338, apologi, {sentence -> 0}, []}, {token, 344, 351, daughter, {sentence -> 0}, []}, {token, 357, 360, di, {sentence -> 0}, []}, {token, 369, 375, routin, {sentence -> 0}, []}, {token, 377, 383, surgeri, {sentence -> 0}, []}, {token, 388, 396, seemingli, {sentence -> 0}, []}, {token, 402, 404, put, {sentence -> 0}, []}, {token, 418, 425, categori, {sentence -> 0}, []}, {token, 430, 433, lord, {sentence -> 0}, []}, {token, 435, 437, haw, {sentence -> 0}, []}, {token, 439, 441, haw, {sentence -> 0}, []}, {token, 443, 451, appal, {sentence -> 0}, []}]                                                                                                                                                                                                                                                                                                                                                                                                                                                                                                                                                                                                                                                                                                                                                                                                                                                                                                                                                                                                                                                                                                                                                                                                                                                                                                                                                                                                                                                                                                                                                                                                                                                                                                                  \n",
      " token_features       | [unfair, accus, toward, great, british, author, amaz, wodehous, intern, nazi, british, govt, turn, around, accus, sympathi, former, captor, other, releas, due, ag, sinc, he, dead, sinc, 1975, think, brit, ow, famili, offici, apologi, daughter, di, routin, surgeri, seemingli, put, categori, lord, haw, haw, appal]                                                                                                                                                                                                                                                                                                                                                                                                                                                                                                                                                                                                                                                                                                                                                                                                                                                                                                                                                                                                                                                                                                                                                                                                                                                                                                                                                                                                                                                                                                                                                                                                                                                                                                                                                                                                                                                                                                                                                                                                                                                                                                                                                                                                                                                                                                                                                                                                                                                                                                                                                                                                                                                                                                                                                                                                                                                                                                                                                                                                                                                                                                                                                                                                                                                                                                                                                                                                                                                                                                                           \n",
      " rawFeatures          | (10000,[750,874,1548,1696,1965,2335,2360,2481,2990,3077,3194,3304,3868,3886,3965,4001,4153,4160,4242,4395,4548,4559,5434,5586,5599,5817,6195,6197,6305,6393,7034,7155,7623,7780,8289,8871,9248,9320,9350,9457],[1.0,1.0,1.0,1.0,1.0,1.0,2.0,1.0,1.0,2.0,1.0,1.0,1.0,1.0,1.0,1.0,1.0,1.0,1.0,1.0,1.0,1.0,2.0,1.0,1.0,2.0,1.0,1.0,1.0,1.0,1.0,1.0,1.0,1.0,1.0,1.0,1.0,1.0,1.0,1.0])                                                                                                                                                                                                                                                                                                                                                                                                                                                                                                                                                                                                                                                                                                                                                                                                                                                                                                                                                                                                                                                                                                                                                                                                                                                                                                                                                                                                                                                                                                                                                                                                                                                                                                                                                                                                                                                                                                                                                                                                                                                                                                                                                                                                                                                                                                                                                                                                                                                                                                                                                                                                                                                                                                                                                                                                                                                                                                                                                                                                                                                                                                                                                                                                                                                                                                                                                                                                                                                                   \n",
      " features             | (10000,[750,874,1548,1696,1965,2335,2360,2481,2990,3077,3194,3304,3868,3886,3965,4001,4153,4160,4242,4395,4548,4559,5434,5586,5599,5817,6195,6197,6305,6393,7034,7155,7623,7780,8289,8871,9248,9320,9350,9457],[1.2179225721048628,2.744166824673332,4.001001261099436,4.257420245472559,4.982668577472087,1.5474920726172534,9.601710559802545,3.498710931441051,6.341300320848421,4.529859382539961,3.5575053474528238,2.7409863462191266,5.218468098288167,2.351416016222576,5.11619997009661,3.115944940593256,5.325073008965936,3.7778120174318337,5.284268189346281,3.257889633037155,3.615069225576493,2.878757529587366,7.533630811011365,1.9243480445858598,4.529769237605627,11.673801991055917,2.523548888855495,2.3188973896350893,4.770068215643829,5.445381773455144,5.748517589808765,4.920610263653804,3.3753059877629497,5.014574644580761,2.5890507325214958,2.211948979005098,2.940063398647323,3.933532663972088,3.6159238268793312,2.775131503527549])                                                                                                                                                                                                                                                                                                                                                                                                                                                                                                                                                                                                                                                                                                                                                                                                                                                                                                                                                                                                                                                                                                                                                                                                                                                                                                                                                                                                                                                                                                                                                                                                                                                                                                                                                                                                                                                                                                                                                                                                                                                                                                                                                                                                                                                                                                                                                                                                                                                                                                                                                                                                                                                                                                                                                                                                                                                                         \n",
      "only showing top 1 row\n",
      "\n"
     ]
    }
   ],
   "source": [
    "df_nlp.show(1, vertical = True, truncate = False)"
   ]
  },
  {
   "cell_type": "code",
   "execution_count": 37,
   "metadata": {},
   "outputs": [],
   "source": [
    "nlpdf_model = df_nlp.select('helpful','features')"
   ]
  },
  {
   "cell_type": "code",
   "execution_count": 38,
   "metadata": {},
   "outputs": [],
   "source": [
    "from pyspark.sql.types import IntegerType\n",
    "nlpdf_model = nlpdf_model.withColumn('helpful',col('helpful').cast(IntegerType()))"
   ]
  },
  {
   "cell_type": "markdown",
   "metadata": {},
   "source": [
    "##### Train & Test Split"
   ]
  },
  {
   "cell_type": "code",
   "execution_count": 39,
   "metadata": {},
   "outputs": [],
   "source": [
    "train, test = nlpdf_model.randomSplit([0.8, 0.2], seed=12345)"
   ]
  },
  {
   "cell_type": "markdown",
   "metadata": {},
   "source": [
    "## NLP Modeling"
   ]
  },
  {
   "cell_type": "markdown",
   "metadata": {},
   "source": [
    "#### Logistic Regression (1 = Helpful, 0 = Not Helpful)"
   ]
  },
  {
   "cell_type": "code",
   "execution_count": 40,
   "metadata": {},
   "outputs": [
    {
     "name": "stdout",
     "output_type": "stream",
     "text": [
      "0.7975160604048946\n",
      "0.7938954660718123\n",
      "0.7928050042685121\n",
      "0.7975160604048948\n",
      "Wall time: 32min 4s\n"
     ]
    }
   ],
   "source": [
    "%%time\n",
    "lr = LogisticRegression(featuresCol = 'features', labelCol='helpful')\n",
    "\n",
    "paramGrid = (ParamGridBuilder().addGrid(lr.regParam, [0.3, 0.0]).addGrid(lr.elasticNetParam, [0.0]).addGrid(lr.maxIter, [20, 100]).build())\n",
    "\n",
    "#Evaluator\n",
    "evaluator = MulticlassClassificationEvaluator(labelCol='helpful', predictionCol=\"prediction\")\n",
    "    \n",
    "# Create 3-fold CrossValidator\n",
    "cv = CrossValidator(estimator=lr,estimatorParamMaps=paramGrid,evaluator=evaluator,numFolds=3)\n",
    "\n",
    "cvModel = cv.fit(train)\n",
    "\n",
    "predictions = cvModel.transform(train)\n",
    "\n",
    "print(evaluator.evaluate(predictions, {evaluator.metricName: \"accuracy\"}))\n",
    "print(evaluator.evaluate(predictions, {evaluator.metricName: \"f1\"}))\n",
    "print(evaluator.evaluate(predictions, {evaluator.metricName: \"weightedPrecision\"}))\n",
    "print(evaluator.evaluate(predictions, {evaluator.metricName: \"weightedRecall\"}))"
   ]
  },
  {
   "cell_type": "code",
   "execution_count": 41,
   "metadata": {},
   "outputs": [
    {
     "name": "stdout",
     "output_type": "stream",
     "text": [
      "{Param(parent='LogisticRegression_6edc495dafe4', name='regParam', doc='regularization parameter (>= 0).'): 0.0, Param(parent='LogisticRegression_6edc495dafe4', name='elasticNetParam', doc='the ElasticNet mixing parameter, in range [0, 1]. For alpha = 0, the penalty is an L2 penalty. For alpha = 1, it is an L1 penalty.'): 0.0, Param(parent='LogisticRegression_6edc495dafe4', name='maxIter', doc='max number of iterations (>= 0).'): 20}\n"
     ]
    }
   ],
   "source": [
    "print(cvModel.getEstimatorParamMaps()[np.argmax(cvModel.avgMetrics)])"
   ]
  },
  {
   "cell_type": "code",
   "execution_count": 42,
   "metadata": {},
   "outputs": [
    {
     "name": "stdout",
     "output_type": "stream",
     "text": [
      "0.7825637707176554\n",
      "0.7787324405641043\n",
      "0.7773704747400536\n",
      "0.7825637707176554\n",
      "Wall time: 10min 8s\n"
     ]
    }
   ],
   "source": [
    "%%time\n",
    "predictions = cvModel.transform(test)\n",
    "\n",
    "print(evaluator.evaluate(predictions, {evaluator.metricName: \"accuracy\"}))\n",
    "print(evaluator.evaluate(predictions, {evaluator.metricName: \"f1\"}))\n",
    "print(evaluator.evaluate(predictions, {evaluator.metricName: \"weightedPrecision\"}))\n",
    "print(evaluator.evaluate(predictions, {evaluator.metricName: \"weightedRecall\"}))"
   ]
  },
  {
   "cell_type": "markdown",
   "metadata": {},
   "source": [
    "#### Naive Bayes Classifier (1 = Helpful, 0 = Not Helpful)"
   ]
  },
  {
   "cell_type": "code",
   "execution_count": 43,
   "metadata": {},
   "outputs": [
    {
     "name": "stdout",
     "output_type": "stream",
     "text": [
      "0.7039919711043391\n",
      "0.713808494487719\n",
      "0.7559558155704723\n",
      "0.703991971104339\n",
      "Wall time: 28min 6s\n"
     ]
    }
   ],
   "source": [
    "%%time\n",
    "nb = NaiveBayes(featuresCol='features', labelCol='helpful')\n",
    "\n",
    "paramGrid = (ParamGridBuilder().addGrid(nb.smoothing, [0.1, 0.5, 1.0]).build())\n",
    "\n",
    "#Evaluator\n",
    "evaluator = MulticlassClassificationEvaluator(labelCol='helpful', predictionCol=\"prediction\")\n",
    "    \n",
    "# Create 3-fold CrossValidator\n",
    "cv = CrossValidator(estimator=nb,estimatorParamMaps=paramGrid,evaluator=evaluator,numFolds=3)\n",
    "\n",
    "cvModel = cv.fit(train)\n",
    "\n",
    "predictions = cvModel.transform(train)\n",
    "\n",
    "print(evaluator.evaluate(predictions, {evaluator.metricName: \"accuracy\"}))\n",
    "print(evaluator.evaluate(predictions, {evaluator.metricName: \"f1\"}))\n",
    "print(evaluator.evaluate(predictions, {evaluator.metricName: \"weightedPrecision\"}))\n",
    "print(evaluator.evaluate(predictions, {evaluator.metricName: \"weightedRecall\"}))"
   ]
  },
  {
   "cell_type": "code",
   "execution_count": 44,
   "metadata": {},
   "outputs": [
    {
     "name": "stdout",
     "output_type": "stream",
     "text": [
      "{Param(parent='NaiveBayes_18a8b39235da', name='smoothing', doc='The smoothing parameter, should be >= 0, default is 1.0'): 1.0}\n"
     ]
    }
   ],
   "source": [
    "print(cvModel.getEstimatorParamMaps()[np.argmax(cvModel.avgMetrics)])"
   ]
  },
  {
   "cell_type": "code",
   "execution_count": 45,
   "metadata": {},
   "outputs": [
    {
     "name": "stdout",
     "output_type": "stream",
     "text": [
      "0.7005072433515634\n",
      "0.7101501957693979\n",
      "0.7516133969593712\n",
      "0.7005072433515636\n",
      "Wall time: 10min 9s\n"
     ]
    }
   ],
   "source": [
    "%%time\n",
    "predictions = cvModel.transform(test)\n",
    "\n",
    "print(evaluator.evaluate(predictions, {evaluator.metricName: \"accuracy\"}))\n",
    "print(evaluator.evaluate(predictions, {evaluator.metricName: \"f1\"}))\n",
    "print(evaluator.evaluate(predictions, {evaluator.metricName: \"weightedPrecision\"}))\n",
    "print(evaluator.evaluate(predictions, {evaluator.metricName: \"weightedRecall\"}))"
   ]
  },
  {
   "cell_type": "markdown",
   "metadata": {},
   "source": [
    "#### Random Forest Classifier (1 = Helpful, 0 = Not Helpful)"
   ]
  },
  {
   "cell_type": "code",
   "execution_count": 46,
   "metadata": {},
   "outputs": [
    {
     "name": "stdout",
     "output_type": "stream",
     "text": [
      "0.6801953907029988\n",
      "0.5507285308526224\n",
      "0.4626657695336052\n",
      "0.6801953907029988\n",
      "Wall time: 39min 34s\n"
     ]
    }
   ],
   "source": [
    "%%time\n",
    "rfc = RandomForestClassifier(impurity=\"gini\", featuresCol='features', labelCol=\"helpful\")\n",
    "\n",
    "paramGrid = (ParamGridBuilder().addGrid(rfc.impurity, ['gini', 'entropy']).addGrid(rfc.maxBins, [32, 100]).build())\n",
    "\n",
    "#Evaluator\n",
    "evaluator = MulticlassClassificationEvaluator(labelCol='helpful', predictionCol=\"prediction\")\n",
    "    \n",
    "# Create 3-fold CrossValidator\n",
    "cv = CrossValidator(estimator=rfc,estimatorParamMaps=paramGrid,evaluator=evaluator,numFolds=3)\n",
    "\n",
    "cvModel = cv.fit(train)\n",
    "\n",
    "predictions = cvModel.transform(train)\n",
    "\n",
    "print(evaluator.evaluate(predictions, {evaluator.metricName: \"accuracy\"}))\n",
    "print(evaluator.evaluate(predictions, {evaluator.metricName: \"f1\"}))\n",
    "print(evaluator.evaluate(predictions, {evaluator.metricName: \"weightedPrecision\"}))\n",
    "print(evaluator.evaluate(predictions, {evaluator.metricName: \"weightedRecall\"}))"
   ]
  },
  {
   "cell_type": "code",
   "execution_count": 47,
   "metadata": {},
   "outputs": [
    {
     "name": "stdout",
     "output_type": "stream",
     "text": [
      "{Param(parent='RandomForestClassifier_f817b3f0f0ba', name='impurity', doc='Criterion used for information gain calculation (case-insensitive). Supported options: entropy, gini'): 'gini', Param(parent='RandomForestClassifier_f817b3f0f0ba', name='maxBins', doc='Max number of bins for discretizing continuous features.  Must be >=2 and >= number of categories for any categorical feature.'): 32}\n"
     ]
    }
   ],
   "source": [
    "print(cvModel.getEstimatorParamMaps()[np.argmax(cvModel.avgMetrics)])"
   ]
  },
  {
   "cell_type": "code",
   "execution_count": 48,
   "metadata": {},
   "outputs": [
    {
     "name": "stdout",
     "output_type": "stream",
     "text": [
      "0.677514298835219\n",
      "0.5472688077173501\n",
      "0.4590256251261784\n",
      "0.677514298835219\n",
      "Wall time: 10min 11s\n"
     ]
    }
   ],
   "source": [
    "%%time\n",
    "predictions = cvModel.transform(test)\n",
    "\n",
    "print(evaluator.evaluate(predictions, {evaluator.metricName: \"accuracy\"}))\n",
    "print(evaluator.evaluate(predictions, {evaluator.metricName: \"f1\"}))\n",
    "print(evaluator.evaluate(predictions, {evaluator.metricName: \"weightedPrecision\"}))\n",
    "print(evaluator.evaluate(predictions, {evaluator.metricName: \"weightedRecall\"}))"
   ]
  }
 ],
 "metadata": {
  "kernelspec": {
   "display_name": "Python 3",
   "language": "python",
   "name": "python3"
  },
  "language_info": {
   "codemirror_mode": {
    "name": "ipython",
    "version": 3
   },
   "file_extension": ".py",
   "mimetype": "text/x-python",
   "name": "python",
   "nbconvert_exporter": "python",
   "pygments_lexer": "ipython3",
   "version": "3.7.6"
  }
 },
 "nbformat": 4,
 "nbformat_minor": 4
}
