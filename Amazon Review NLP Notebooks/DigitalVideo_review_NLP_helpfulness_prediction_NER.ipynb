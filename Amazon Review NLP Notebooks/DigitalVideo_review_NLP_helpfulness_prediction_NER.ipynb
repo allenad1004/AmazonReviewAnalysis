{
 "cells": [
  {
   "cell_type": "markdown",
   "metadata": {},
   "source": [
    "# Review NLP Helpfulness Prediction NER (Digital Video)"
   ]
  },
  {
   "cell_type": "markdown",
   "metadata": {},
   "source": [
    "## Creating Spark Session & Importing All Necessary Libraries"
   ]
  },
  {
   "cell_type": "code",
   "execution_count": 2,
   "metadata": {},
   "outputs": [],
   "source": [
    "import findspark\n",
    "findspark.init()"
   ]
  },
  {
   "cell_type": "code",
   "execution_count": 3,
   "metadata": {},
   "outputs": [],
   "source": [
    "# Import Spark NLP\n",
    "from sparknlp.base import *\n",
    "from sparknlp.annotator import *\n",
    "from sparknlp.pretrained import PretrainedPipeline\n",
    "from pyspark.sql import functions as F\n",
    "\n",
    "import sparknlp\n",
    "\n",
    "# Start SparkSession with Spark NLP\n",
    "# start() functions has 5 parameters: gpu, spark23, spark24, spark32, and memory\n",
    "# sparknlp.start(gpu=True) will start the session with GPU support\n",
    "# sparknlp.start(spark23=True) is when you have Apache Spark 2.3.x installed\n",
    "# sparknlp.start(spark24=True) is when you have Apache Spark 2.4.x installed\n",
    "# sparknlp.start(spark32=True) is when you have Apache Spark 3.2.x installed\n",
    "# sparknlp.start(memory=\"16G\") to change the default driver memory in SparkSession\n",
    "spark = sparknlp.start(gpu = True, spark32= True)"
   ]
  },
  {
   "cell_type": "markdown",
   "metadata": {},
   "source": [
    "### Reading in Data"
   ]
  },
  {
   "cell_type": "code",
   "execution_count": 4,
   "metadata": {},
   "outputs": [],
   "source": [
    "df = spark.read \\\n",
    "    .option(\"quote\", \"\\\"\")  \\\n",
    "    .option(\"escape\", \"\\\"\") \\\n",
    "    .option(\"ignoreLeadingWhiteSpace\",True) \\\n",
    "    .csv(r\"C:\\Users\\kenne\\OneDrive\\Desktop\\UChicago\\Python\\Final Project Big Data Amazon Review\\Amazon Review Kaggle Data\\amazon_reviews_us_Digital_Video_Download_v1_00.tsv\",inferSchema=True,header=True, sep='\\t' )"
   ]
  },
  {
   "cell_type": "markdown",
   "metadata": {},
   "source": [
    "## Code Cleaning"
   ]
  },
  {
   "cell_type": "code",
   "execution_count": 5,
   "metadata": {
    "scrolled": true
   },
   "outputs": [
    {
     "name": "stdout",
     "output_type": "stream",
     "text": [
      "-RECORD 0-----------------------------------------------------------------------------------------------------\n",
      " marketplace       | US                                                                                       \n",
      " customer_id       | 12190288                                                                                 \n",
      " review_id         | R3FU16928EP5TC                                                                           \n",
      " product_id        | B00AYB1482                                                                               \n",
      " product_parent    | 668895143                                                                                \n",
      " product_title     | Enlightened: Season 1                                                                    \n",
      " product_category  | Digital_Video_Download                                                                   \n",
      " star_rating       | 5                                                                                        \n",
      " helpful_votes     | 0                                                                                        \n",
      " total_votes       | 0                                                                                        \n",
      " vine              | N                                                                                        \n",
      " verified_purchase | Y                                                                                        \n",
      " review_headline   | I loved it and I wish there was a season 3                                               \n",
      " review_body       | I loved it and I wish there was a season 3... I watched season 2 and loved that as well! \n",
      " review_date       | 2015-08-31                                                                               \n",
      "only showing top 1 row\n",
      "\n"
     ]
    }
   ],
   "source": [
    "df.show(1, vertical = True, truncate = False)"
   ]
  },
  {
   "cell_type": "code",
   "execution_count": 6,
   "metadata": {},
   "outputs": [],
   "source": [
    "df = df.select('product_id', 'star_rating', 'product_category', 'review_headline', 'review_body', 'helpful_votes', 'total_votes')"
   ]
  },
  {
   "cell_type": "code",
   "execution_count": 7,
   "metadata": {},
   "outputs": [
    {
     "name": "stdout",
     "output_type": "stream",
     "text": [
      "-RECORD 0----------------------------------------------------------------------------------------------------\n",
      " product_id       | B00AYB1482                                                                               \n",
      " star_rating      | 5                                                                                        \n",
      " product_category | Digital_Video_Download                                                                   \n",
      " review_headline  | I loved it and I wish there was a season 3                                               \n",
      " review_body      | I loved it and I wish there was a season 3... I watched season 2 and loved that as well! \n",
      " helpful_votes    | 0                                                                                        \n",
      " total_votes      | 0                                                                                        \n",
      "only showing top 1 row\n",
      "\n"
     ]
    }
   ],
   "source": [
    "df.show(1, vertical = True, truncate = False)"
   ]
  },
  {
   "cell_type": "code",
   "execution_count": 8,
   "metadata": {},
   "outputs": [
    {
     "data": {
      "text/plain": [
       "4056163"
      ]
     },
     "execution_count": 8,
     "metadata": {},
     "output_type": "execute_result"
    }
   ],
   "source": [
    "df.dropna().count()"
   ]
  },
  {
   "cell_type": "code",
   "execution_count": 9,
   "metadata": {},
   "outputs": [
    {
     "name": "stdout",
     "output_type": "stream",
     "text": [
      "+----------+-----------+----------------+---------------+-----------+-------------+-----------+\n",
      "|product_id|star_rating|product_category|review_headline|review_body|helpful_votes|total_votes|\n",
      "+----------+-----------+----------------+---------------+-----------+-------------+-----------+\n",
      "|         0|          0|               0|            369|        616|            0|          0|\n",
      "+----------+-----------+----------------+---------------+-----------+-------------+-----------+\n",
      "\n"
     ]
    }
   ],
   "source": [
    "from pyspark.sql.functions import col,isnan, when, count\n",
    "df.select([count(when(isnan(c) | col(c).isNull(), c)).alias(c) for c in df.columns]\n",
    "   ).show()"
   ]
  },
  {
   "cell_type": "code",
   "execution_count": 10,
   "metadata": {},
   "outputs": [
    {
     "name": "stdout",
     "output_type": "stream",
     "text": [
      "-RECORD 0----------------\n",
      " product_id       | 19   \n",
      " star_rating      | 0    \n",
      " product_category | 0    \n",
      " review_headline  | 601  \n",
      " review_body      | 4460 \n",
      " helpful_votes    | 0    \n",
      " total_votes      | 0    \n",
      "\n"
     ]
    }
   ],
   "source": [
    "df2 = df.select([count(when(col(c).contains('None') | \\\n",
    "                            col(c).contains('NULL') | \\\n",
    "                            (col(c) == '' ) | \\\n",
    "                            col(c).isNull() | \\\n",
    "                            isnan(c), c \n",
    "                           )).alias(c)\n",
    "                    for c in df.columns])\n",
    "df2.count()\n",
    "df2.show(5, vertical = True)"
   ]
  },
  {
   "cell_type": "code",
   "execution_count": 11,
   "metadata": {},
   "outputs": [
    {
     "data": {
      "text/plain": [
       "62710"
      ]
     },
     "execution_count": 11,
     "metadata": {},
     "output_type": "execute_result"
    }
   ],
   "source": [
    "df = df.filter(col('total_votes') > 10)\n",
    "df.count()"
   ]
  },
  {
   "cell_type": "code",
   "execution_count": 12,
   "metadata": {},
   "outputs": [],
   "source": [
    "df = df.fillna(\"\", \"review_body\")\n",
    "df = df.fillna(\"\", \"review_headline\")"
   ]
  },
  {
   "cell_type": "code",
   "execution_count": 13,
   "metadata": {},
   "outputs": [
    {
     "name": "stdout",
     "output_type": "stream",
     "text": [
      "-RECORD 0----------------------------------------------------------------------------------------------------------------------------------------------------------------------------------------------------------------------------------------------------------------------------------------------------------------------------------------------------------------------------------------------------------------------------------------------------------------------------------------------------------------------------------\n",
      " product_id       | B01489L5LQ                                                                                                                                                                                                                                                                                                                                                                                                                                                                                                             \n",
      " star_rating      | 4                                                                                                                                                                                                                                                                                                                                                                                                                                                                                                                      \n",
      " product_category | Digital_Video_Download                                                                                                                                                                                                                                                                                                                                                                                                                                                                                                 \n",
      " review_headline  | Charming movie                                                                                                                                                                                                                                                                                                                                                                                                                                                                                                         \n",
      " review_body      | This movie isn't perfect, but it gets a lot of things right. Yes, the librarian character played by Marcia Gay Harden is stereotypical and played a bit heavy-handed. But the universal nature of the story, the beautiful setting, and the likability of the characters overcome this flaw. The quote at the end brought tears to my eyes.  If you want to take a break from Hollywood's standard fare of dark, violent, or stupid movies, then give this a try. It is is entertaining and thoughtful.                \n",
      " helpful_votes    | 17                                                                                                                                                                                                                                                                                                                                                                                                                                                                                                                     \n",
      " total_votes      | 18                                                                                                                                                                                                                                                                                                                                                                                                                                                                                                                     \n",
      " review_text      | Charming movie This movie isn't perfect, but it gets a lot of things right. Yes, the librarian character played by Marcia Gay Harden is stereotypical and played a bit heavy-handed. But the universal nature of the story, the beautiful setting, and the likability of the characters overcome this flaw. The quote at the end brought tears to my eyes.  If you want to take a break from Hollywood's standard fare of dark, violent, or stupid movies, then give this a try. It is is entertaining and thoughtful. \n",
      "only showing top 1 row\n",
      "\n"
     ]
    }
   ],
   "source": [
    "df = df.withColumn('review_text', F.concat('review_headline', F.lit(\" \"), 'review_body'))\n",
    "df.show(1, vertical = True, truncate = False)"
   ]
  },
  {
   "cell_type": "code",
   "execution_count": 14,
   "metadata": {},
   "outputs": [
    {
     "name": "stdout",
     "output_type": "stream",
     "text": [
      "(0 rows)\n",
      "\n"
     ]
    }
   ],
   "source": [
    "df.filter((col(\"review_text\").isNull()) | ( col(\"review_text\") == \"\")).show(1, vertical = True, truncate = False)"
   ]
  },
  {
   "cell_type": "code",
   "execution_count": 15,
   "metadata": {},
   "outputs": [
    {
     "name": "stdout",
     "output_type": "stream",
     "text": [
      "-RECORD 0---------------\n",
      " product_id       | 0   \n",
      " star_rating      | 0   \n",
      " product_category | 0   \n",
      " review_headline  | 1   \n",
      " review_body      | 23  \n",
      " helpful_votes    | 0   \n",
      " total_votes      | 0   \n",
      " review_text      | 0   \n",
      "\n"
     ]
    }
   ],
   "source": [
    "df.select([count(when((col(c) == '' ) | \\\n",
    "                            col(c).isNull() | \\\n",
    "                            isnan(c), c \n",
    "                           )).alias(c)\n",
    "                    for c in df.columns]).show(5, vertical = True)"
   ]
  },
  {
   "cell_type": "code",
   "execution_count": 16,
   "metadata": {},
   "outputs": [
    {
     "name": "stdout",
     "output_type": "stream",
     "text": [
      "-RECORD 0----------------------------------------------------------------------------------------------------------------------------------------------------------------------------------------------------------------------------------------------------------------------------------------------------------------------------------------------------------------------------------------------------------------------------------------------------------------------------------------------------------------------------------\n",
      " product_id       | B01489L5LQ                                                                                                                                                                                                                                                                                                                                                                                                                                                                                                             \n",
      " star_rating      | 4                                                                                                                                                                                                                                                                                                                                                                                                                                                                                                                      \n",
      " product_category | Digital_Video_Download                                                                                                                                                                                                                                                                                                                                                                                                                                                                                                 \n",
      " review_headline  | Charming movie                                                                                                                                                                                                                                                                                                                                                                                                                                                                                                         \n",
      " review_body      | This movie isn't perfect, but it gets a lot of things right. Yes, the librarian character played by Marcia Gay Harden is stereotypical and played a bit heavy-handed. But the universal nature of the story, the beautiful setting, and the likability of the characters overcome this flaw. The quote at the end brought tears to my eyes.  If you want to take a break from Hollywood's standard fare of dark, violent, or stupid movies, then give this a try. It is is entertaining and thoughtful.                \n",
      " helpful_votes    | 17                                                                                                                                                                                                                                                                                                                                                                                                                                                                                                                     \n",
      " total_votes      | 18                                                                                                                                                                                                                                                                                                                                                                                                                                                                                                                     \n",
      " review_text      | Charming movie This movie isn't perfect, but it gets a lot of things right. Yes, the librarian character played by Marcia Gay Harden is stereotypical and played a bit heavy-handed. But the universal nature of the story, the beautiful setting, and the likability of the characters overcome this flaw. The quote at the end brought tears to my eyes.  If you want to take a break from Hollywood's standard fare of dark, violent, or stupid movies, then give this a try. It is is entertaining and thoughtful. \n",
      " helpful_ratio    | 0.9444444444444444                                                                                                                                                                                                                                                                                                                                                                                                                                                                                                     \n",
      "only showing top 1 row\n",
      "\n"
     ]
    }
   ],
   "source": [
    "df = df.withColumn('helpful_ratio', F.col('helpful_votes') / F.col('total_votes'))\n",
    "df.show(1, vertical = True, truncate = False)"
   ]
  },
  {
   "cell_type": "code",
   "execution_count": 17,
   "metadata": {},
   "outputs": [
    {
     "data": {
      "text/plain": [
       "0"
      ]
     },
     "execution_count": 17,
     "metadata": {},
     "output_type": "execute_result"
    }
   ],
   "source": [
    "df.filter(col('helpful_ratio') < 0).count()"
   ]
  },
  {
   "cell_type": "code",
   "execution_count": 18,
   "metadata": {},
   "outputs": [],
   "source": [
    "df = df.withColumn('helpful', when(col(\"helpful_ratio\") < 0.5, 0).otherwise(1))"
   ]
  },
  {
   "cell_type": "code",
   "execution_count": 19,
   "metadata": {
    "scrolled": true
   },
   "outputs": [
    {
     "name": "stdout",
     "output_type": "stream",
     "text": [
      "-RECORD 0--------------------------------\n",
      " product_id       | B01489L5LQ           \n",
      " star_rating      | 4                    \n",
      " product_category | Digital_Video_Dow... \n",
      " review_headline  | Charming movie       \n",
      " review_body      | This movie isn't ... \n",
      " helpful_votes    | 17                   \n",
      " total_votes      | 18                   \n",
      " review_text      | Charming movie Th... \n",
      " helpful_ratio    | 0.9444444444444444   \n",
      " helpful          | 1                    \n",
      "-RECORD 1--------------------------------\n",
      " product_id       | B00SZT6I3G           \n",
      " star_rating      | 1                    \n",
      " product_category | Digital_Video_Dow... \n",
      " review_headline  | If it can't be br... \n",
      " review_body      | If it can't be br... \n",
      " helpful_votes    | 11                   \n",
      " total_votes      | 18                   \n",
      " review_text      | If it can't be br... \n",
      " helpful_ratio    | 0.6111111111111112   \n",
      " helpful          | 1                    \n",
      "-RECORD 2--------------------------------\n",
      " product_id       | B00VO8D13K           \n",
      " star_rating      | 1                    \n",
      " product_category | Digital_Video_Dow... \n",
      " review_headline  | Unnecessarily Slo... \n",
      " review_body      | This is an unnece... \n",
      " helpful_votes    | 9                    \n",
      " total_votes      | 33                   \n",
      " review_text      | Unnecessarily Slo... \n",
      " helpful_ratio    | 0.2727272727272727   \n",
      " helpful          | 0                    \n",
      "-RECORD 3--------------------------------\n",
      " product_id       | B0142KHDI0           \n",
      " star_rating      | 1                    \n",
      " product_category | Digital_Video_Dow... \n",
      " review_headline  | Underwhelming        \n",
      " review_body      | Really bad writin... \n",
      " helpful_votes    | 11                   \n",
      " total_votes      | 13                   \n",
      " review_text      | Underwhelming Rea... \n",
      " helpful_ratio    | 0.8461538461538461   \n",
      " helpful          | 1                    \n",
      "-RECORD 4--------------------------------\n",
      " product_id       | B00ZC3X6TW           \n",
      " star_rating      | 1                    \n",
      " product_category | Digital_Video_Dow... \n",
      " review_headline  | One Star             \n",
      " review_body      | Bizarre boring, j... \n",
      " helpful_votes    | 1                    \n",
      " total_votes      | 11                   \n",
      " review_text      | One Star Bizarre ... \n",
      " helpful_ratio    | 0.09090909090909091  \n",
      " helpful          | 0                    \n",
      "only showing top 5 rows\n",
      "\n"
     ]
    }
   ],
   "source": [
    "df.show(5, vertical = True)"
   ]
  },
  {
   "cell_type": "markdown",
   "metadata": {},
   "source": [
    "## NER Pipeline"
   ]
  },
  {
   "cell_type": "code",
   "execution_count": 26,
   "metadata": {},
   "outputs": [],
   "source": [
    "#NER (Universal Sentence Encoder) Sentence Embedding\n",
    "documentAssembler = DocumentAssembler()\\\n",
    "    .setInputCol(\"review_text\")\\\n",
    "    .setOutputCol(\"document\")\n",
    "\n",
    "sentence_detector = SentenceDetector() \\\n",
    "    .setInputCols('document') \\\n",
    "    .setOutputCol('sentence')\n",
    "\n",
    "tokenizer = Tokenizer() \\\n",
    "    .setInputCols(['sentence']) \\\n",
    "    .setOutputCol('token')\n",
    "\n",
    "##Using Bert Embeddings\n",
    "embeddings = BertEmbeddings.load('bert_base_cased_en_2.6.0_2.4_1598340336670') \\\n",
    "        .setInputCols(['document', 'token']) \\\n",
    "        .setOutputCol('embeddings')\n",
    "\n",
    "#NER Bert English Base\n",
    "#ner_dl_bert is a Named Entity Recognition (or NER) model, meaning it annotates text to find features like the names of people, places, and organizations. \n",
    "#It was trained on the CoNLL 2003 text corpus. \n",
    "#This NER model does not read words directly but instead reads word embeddings, which represent words as points such that more semantically similar words are closer together. \n",
    "#ner_dl_bert model is trained with bert_based_cased word embeddings, so be sure to use the same embeddings in the pipeline.\n",
    "ner_model = NerDLModel.load('ner_dl_bert_en_2.6.0_2.4_1599550979101') \\\n",
    "    .setInputCols(['sentence', 'token', 'embeddings']) \\\n",
    "    .setOutputCol('ner')\n",
    "\n",
    "ner_converter = NerConverter() \\\n",
    "    .setInputCols(['sentence', 'token', 'ner']) \\\n",
    "    .setOutputCol('ner_chunk')\n",
    "\n",
    "nlp_pipeline = Pipeline(stages=[\n",
    "    documentAssembler, \n",
    "    sentence_detector,\n",
    "    tokenizer,\n",
    "    embeddings,\n",
    "    ner_model,\n",
    "    ner_converter\n",
    "])"
   ]
  },
  {
   "cell_type": "code",
   "execution_count": 27,
   "metadata": {},
   "outputs": [
    {
     "name": "stdout",
     "output_type": "stream",
     "text": [
      "Wall time: 40 ms\n"
     ]
    }
   ],
   "source": [
    "%%time\n",
    "pipeline2 = nlp_pipeline.fit(df)"
   ]
  },
  {
   "cell_type": "code",
   "execution_count": 28,
   "metadata": {},
   "outputs": [
    {
     "name": "stdout",
     "output_type": "stream",
     "text": [
      "Wall time: 172 ms\n"
     ]
    }
   ],
   "source": [
    "%%time\n",
    "final_df = pipeline2.transform(df)"
   ]
  },
  {
   "cell_type": "markdown",
   "metadata": {},
   "source": [
    "## Visualize NER Results"
   ]
  },
  {
   "cell_type": "code",
   "execution_count": 30,
   "metadata": {
    "collapsed": true
   },
   "outputs": [
    {
     "name": "stdout",
     "output_type": "stream",
     "text": [
      "Collecting spark-nlp-display\n",
      "  Downloading spark_nlp_display-1.9.1-py3-none-any.whl (95 kB)\n",
      "Requirement already satisfied: ipython in c:\\users\\kenne\\anaconda3\\lib\\site-packages (from spark-nlp-display) (7.12.0)\n",
      "Requirement already satisfied: pandas in c:\\users\\kenne\\anaconda3\\lib\\site-packages (from spark-nlp-display) (1.0.1)\n",
      "Collecting svgwrite==1.4\n",
      "  Downloading svgwrite-1.4-py3-none-any.whl (66 kB)\n",
      "Requirement already satisfied: spark-nlp in c:\\users\\kenne\\anaconda3\\lib\\site-packages (from spark-nlp-display) (3.4.1)\n",
      "Requirement already satisfied: numpy in c:\\users\\kenne\\anaconda3\\lib\\site-packages (from spark-nlp-display) (1.18.1)\n",
      "Requirement already satisfied: traitlets>=4.2 in c:\\users\\kenne\\anaconda3\\lib\\site-packages (from ipython->spark-nlp-display) (4.3.3)\n",
      "Requirement already satisfied: jedi>=0.10 in c:\\users\\kenne\\anaconda3\\lib\\site-packages (from ipython->spark-nlp-display) (0.14.1)\n",
      "Requirement already satisfied: pygments in c:\\users\\kenne\\anaconda3\\lib\\site-packages (from ipython->spark-nlp-display) (2.5.2)\n",
      "Requirement already satisfied: backcall in c:\\users\\kenne\\anaconda3\\lib\\site-packages (from ipython->spark-nlp-display) (0.1.0)\n",
      "Requirement already satisfied: prompt-toolkit!=3.0.0,!=3.0.1,<3.1.0,>=2.0.0 in c:\\users\\kenne\\anaconda3\\lib\\site-packages (from ipython->spark-nlp-display) (3.0.3)\n",
      "Requirement already satisfied: colorama; sys_platform == \"win32\" in c:\\users\\kenne\\anaconda3\\lib\\site-packages (from ipython->spark-nlp-display) (0.4.3)\n",
      "Requirement already satisfied: setuptools>=18.5 in c:\\users\\kenne\\anaconda3\\lib\\site-packages (from ipython->spark-nlp-display) (45.2.0.post20200210)\n",
      "Requirement already satisfied: pickleshare in c:\\users\\kenne\\anaconda3\\lib\\site-packages (from ipython->spark-nlp-display) (0.7.5)\n",
      "Requirement already satisfied: decorator in c:\\users\\kenne\\anaconda3\\lib\\site-packages (from ipython->spark-nlp-display) (4.4.1)\n",
      "Requirement already satisfied: python-dateutil>=2.6.1 in c:\\users\\kenne\\anaconda3\\lib\\site-packages (from pandas->spark-nlp-display) (2.8.1)\n",
      "Requirement already satisfied: pytz>=2017.2 in c:\\users\\kenne\\anaconda3\\lib\\site-packages (from pandas->spark-nlp-display) (2019.3)\n",
      "Requirement already satisfied: ipython-genutils in c:\\users\\kenne\\anaconda3\\lib\\site-packages (from traitlets>=4.2->ipython->spark-nlp-display) (0.2.0)\n",
      "Requirement already satisfied: six in c:\\users\\kenne\\anaconda3\\lib\\site-packages (from traitlets>=4.2->ipython->spark-nlp-display) (1.14.0)\n",
      "Requirement already satisfied: parso>=0.5.0 in c:\\users\\kenne\\anaconda3\\lib\\site-packages (from jedi>=0.10->ipython->spark-nlp-display) (0.5.2)\n",
      "Requirement already satisfied: wcwidth in c:\\users\\kenne\\anaconda3\\lib\\site-packages (from prompt-toolkit!=3.0.0,!=3.0.1,<3.1.0,>=2.0.0->ipython->spark-nlp-display) (0.1.8)\n",
      "Installing collected packages: svgwrite, spark-nlp-display\n",
      "Successfully installed spark-nlp-display-1.9.1 svgwrite-1.4\n"
     ]
    }
   ],
   "source": [
    "#! pip install spark-nlp-display"
   ]
  },
  {
   "cell_type": "code",
   "execution_count": null,
   "metadata": {},
   "outputs": [],
   "source": [
    "from sparknlp_display import NerVisualizer\n",
    "\n",
    "NerVisualizer().display(\n",
    "    final_df = final_df.collect()[0],\n",
    "    label_col = 'ner_chunk',\n",
    "    document_col = 'document'\n",
    ")"
   ]
  },
  {
   "cell_type": "markdown",
   "metadata": {},
   "source": [
    "## USE Results"
   ]
  },
  {
   "cell_type": "code",
   "execution_count": 46,
   "metadata": {},
   "outputs": [
    {
     "name": "stdout",
     "output_type": "stream",
     "text": [
      "              precision    recall  f1-score   support\n",
      "\n",
      "           0       0.79      0.88      0.83     33775\n",
      "           1       0.84      0.73      0.78     28935\n",
      "\n",
      "    accuracy                           0.81     62710\n",
      "   macro avg       0.81      0.80      0.81     62710\n",
      "weighted avg       0.81      0.81      0.81     62710\n",
      "\n",
      "0.8102854409185138\n",
      "Wall time: 10.5 s\n"
     ]
    }
   ],
   "source": [
    "%%time\n",
    "from sklearn.metrics import classification_report, accuracy_score\n",
    "metrics_final = metrics.toPandas()\n",
    "metrics_final['result'] = metrics_final['result'].apply(lambda x: x[0])\n",
    "metrics_final['result'] = metrics_final['result'].astype('int')\n",
    "\n",
    "print(classification_report(metrics_final.helpful, metrics_final.result))\n",
    "print(accuracy_score(metrics_final.helpful, metrics_final.result))"
   ]
  },
  {
   "cell_type": "code",
   "execution_count": null,
   "metadata": {},
   "outputs": [],
   "source": []
  }
 ],
 "metadata": {
  "kernelspec": {
   "display_name": "Python 3",
   "language": "python",
   "name": "python3"
  },
  "language_info": {
   "codemirror_mode": {
    "name": "ipython",
    "version": 3
   },
   "file_extension": ".py",
   "mimetype": "text/x-python",
   "name": "python",
   "nbconvert_exporter": "python",
   "pygments_lexer": "ipython3",
   "version": "3.7.6"
  }
 },
 "nbformat": 4,
 "nbformat_minor": 4
}
