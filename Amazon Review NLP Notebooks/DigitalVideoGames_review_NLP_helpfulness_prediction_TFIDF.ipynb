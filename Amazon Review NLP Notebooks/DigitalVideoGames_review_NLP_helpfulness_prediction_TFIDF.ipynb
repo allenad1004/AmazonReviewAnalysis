{
 "cells": [
  {
   "cell_type": "markdown",
   "metadata": {},
   "source": [
    "# Review NLP Helpfulness Prediction TFIDF (Digital Video Games)"
   ]
  },
  {
   "cell_type": "markdown",
   "metadata": {},
   "source": [
    "## Creating Spark Session & Importing All Necessary Libraries"
   ]
  },
  {
   "cell_type": "code",
   "execution_count": 1,
   "metadata": {},
   "outputs": [],
   "source": [
    "import findspark\n",
    "findspark.init()"
   ]
  },
  {
   "cell_type": "code",
   "execution_count": 2,
   "metadata": {},
   "outputs": [],
   "source": [
    "from pyspark.sql import SparkSession\n",
    "from pyspark.sql import functions as F\n",
    "from sparknlp.base import *\n",
    "from sparknlp.annotator import *\n",
    "\n",
    "import sparknlp\n",
    "\n",
    "# Start SparkSession with Spark NLP\n",
    "# start() functions has 5 parameters: gpu, spark23, spark24, spark32, and memory\n",
    "# sparknlp.start(gpu=True) will start the session with GPU support\n",
    "# sparknlp.start(spark23=True) is when you have Apache Spark 2.3.x installed\n",
    "# sparknlp.start(spark24=True) is when you have Apache Spark 2.4.x installed\n",
    "# sparknlp.start(spark32=True) is when you have Apache Spark 3.2.x installed\n",
    "# sparknlp.start(memory=\"16G\") to change the default driver memory in SparkSession\n",
    "spark = sparknlp.start(gpu = True)"
   ]
  },
  {
   "cell_type": "code",
   "execution_count": 3,
   "metadata": {},
   "outputs": [],
   "source": [
    "from pyspark.sql.functions import lower, col\n",
    "from pyspark.sql.types import ArrayType, StringType\n",
    "from pyspark.sql import DataFrame\n",
    "from pyspark.ml.feature import HashingTF, IDF, StopWordsRemover, CountVectorizer\n",
    "from pyspark.ml import Pipeline, Transformer\n",
    "from pyspark.ml.tuning import ParamGridBuilder, TrainValidationSplit, CrossValidator\n",
    "from pyspark.ml.evaluation import MulticlassClassificationEvaluator\n",
    "from pyspark.ml.classification import LogisticRegression, RandomForestClassifier, DecisionTreeClassifier, NaiveBayes\n",
    "\n",
    "import numpy as np\n",
    "import nltk\n",
    "import matplotlib.pyplot as plt\n",
    "%matplotlib inline\n",
    "\n",
    "#nltk.download('wordnet')"
   ]
  },
  {
   "cell_type": "code",
   "execution_count": 4,
   "metadata": {},
   "outputs": [
    {
     "name": "stderr",
     "output_type": "stream",
     "text": [
      "[nltk_data] Downloading package stopwords to\n",
      "[nltk_data]     C:\\Users\\kenne\\AppData\\Roaming\\nltk_data...\n",
      "[nltk_data]   Package stopwords is already up-to-date!\n"
     ]
    }
   ],
   "source": [
    "import nltk\n",
    "nltk.download('stopwords')\n",
    "from nltk.corpus import stopwords\n",
    "eng_stopwords = stopwords.words('english')"
   ]
  },
  {
   "cell_type": "markdown",
   "metadata": {},
   "source": [
    "### Reading in Data"
   ]
  },
  {
   "cell_type": "code",
   "execution_count": 5,
   "metadata": {},
   "outputs": [],
   "source": [
    "df = spark.read \\\n",
    "    .option(\"quote\", \"\\\"\")  \\\n",
    "    .option(\"escape\", \"\\\"\") \\\n",
    "    .option(\"ignoreLeadingWhiteSpace\",True) \\\n",
    "    .csv(r\"C:\\Users\\kenne\\OneDrive\\Desktop\\UChicago\\Python\\Final Project Big Data Amazon Review\\Amazon Review Kaggle Data\\amazon_reviews_us_Digital_Video_Games_v1_00.tsv\",inferSchema=True,header=True, sep='\\t' )"
   ]
  },
  {
   "cell_type": "markdown",
   "metadata": {},
   "source": [
    "## Code Cleaning"
   ]
  },
  {
   "cell_type": "code",
   "execution_count": 6,
   "metadata": {
    "scrolled": true
   },
   "outputs": [
    {
     "name": "stdout",
     "output_type": "stream",
     "text": [
      "-RECORD 0---------------------------------------------------------------------------------------------------------------------------------------------------------------------------------------------------------------------------------------------------------------------------------------------------------------------------------------------------------------------------------------------------------------------------------------------------------------------------------------------------------------------------------------------------------------------------------------------------------------------------------------------------------------------------------------------------------------------------------------------------------------------------------------------------------------------------------------------------------------------------------------------------------------------------------------------------------------------------------\n",
      " marketplace       | US                                                                                                                                                                                                                                                                                                                                                                                                                                                                                                                                                                                                                                                                                                                                                                                                                                                                                                                                                                   \n",
      " customer_id       | 21269168                                                                                                                                                                                                                                                                                                                                                                                                                                                                                                                                                                                                                                                                                                                                                                                                                                                                                                                                                             \n",
      " review_id         | RSH1OZ87OYK92                                                                                                                                                                                                                                                                                                                                                                                                                                                                                                                                                                                                                                                                                                                                                                                                                                                                                                                                                        \n",
      " product_id        | B013PURRZW                                                                                                                                                                                                                                                                                                                                                                                                                                                                                                                                                                                                                                                                                                                                                                                                                                                                                                                                                           \n",
      " product_parent    | 603406193                                                                                                                                                                                                                                                                                                                                                                                                                                                                                                                                                                                                                                                                                                                                                                                                                                                                                                                                                            \n",
      " product_title     | Madden NFL 16 - Xbox One Digital Code                                                                                                                                                                                                                                                                                                                                                                                                                                                                                                                                                                                                                                                                                                                                                                                                                                                                                                                                \n",
      " product_category  | Digital_Video_Games                                                                                                                                                                                                                                                                                                                                                                                                                                                                                                                                                                                                                                                                                                                                                                                                                                                                                                                                                  \n",
      " star_rating       | 2                                                                                                                                                                                                                                                                                                                                                                                                                                                                                                                                                                                                                                                                                                                                                                                                                                                                                                                                                                    \n",
      " helpful_votes     | 2                                                                                                                                                                                                                                                                                                                                                                                                                                                                                                                                                                                                                                                                                                                                                                                                                                                                                                                                                                    \n",
      " total_votes       | 3                                                                                                                                                                                                                                                                                                                                                                                                                                                                                                                                                                                                                                                                                                                                                                                                                                                                                                                                                                    \n",
      " vine              | N                                                                                                                                                                                                                                                                                                                                                                                                                                                                                                                                                                                                                                                                                                                                                                                                                                                                                                                                                                    \n",
      " verified_purchase | N                                                                                                                                                                                                                                                                                                                                                                                                                                                                                                                                                                                                                                                                                                                                                                                                                                                                                                                                                                    \n",
      " review_headline   | A slight improvement from last year.                                                                                                                                                                                                                                                                                                                                                                                                                                                                                                                                                                                                                                                                                                                                                                                                                                                                                                                                 \n",
      " review_body       | I keep buying madden every year hoping they get back to football. This years version is a little better than last years -- but that's not saying much.The game looks great. The only thing wrong with the animation, is the way the players are always tripping on each other.<br /><br />The gameplay is still slowed down by the bloated pre-play controls. What used to take two buttons is now a giant PITA to get done before an opponent snaps the ball or the play clock runs out.<br /><br />The turbo button is back, but the player movement is still slow and awkward. If you liked last years version, I'm guessing you'll like this too. I haven't had a chance to play anything other than training and a few online games, so I'm crossing my fingers and hoping the rest is better.<br /><br />The one thing I can recommend is NOT TO BUY THE MADDEN BUNDLE. The game comes as a download. So if you hate it, there's no trading it in at Gamestop. \n",
      " review_date       | 2015-08-31                                                                                                                                                                                                                                                                                                                                                                                                                                                                                                                                                                                                                                                                                                                                                                                                                                                                                                                                                           \n",
      "only showing top 1 row\n",
      "\n"
     ]
    }
   ],
   "source": [
    "df.show(1, vertical = True, truncate = False)"
   ]
  },
  {
   "cell_type": "code",
   "execution_count": 7,
   "metadata": {},
   "outputs": [],
   "source": [
    "df = df.select('product_id', 'star_rating', 'product_category', 'review_headline', 'review_body', 'helpful_votes', 'total_votes')"
   ]
  },
  {
   "cell_type": "code",
   "execution_count": 8,
   "metadata": {},
   "outputs": [
    {
     "name": "stdout",
     "output_type": "stream",
     "text": [
      "-RECORD 0--------------------------------------------------------------------------------------------------------------------------------------------------------------------------------------------------------------------------------------------------------------------------------------------------------------------------------------------------------------------------------------------------------------------------------------------------------------------------------------------------------------------------------------------------------------------------------------------------------------------------------------------------------------------------------------------------------------------------------------------------------------------------------------------------------------------------------------------------------------------------------------------------------------------------------------------------------------------------------\n",
      " product_id       | B013PURRZW                                                                                                                                                                                                                                                                                                                                                                                                                                                                                                                                                                                                                                                                                                                                                                                                                                                                                                                                                           \n",
      " star_rating      | 2                                                                                                                                                                                                                                                                                                                                                                                                                                                                                                                                                                                                                                                                                                                                                                                                                                                                                                                                                                    \n",
      " product_category | Digital_Video_Games                                                                                                                                                                                                                                                                                                                                                                                                                                                                                                                                                                                                                                                                                                                                                                                                                                                                                                                                                  \n",
      " review_headline  | A slight improvement from last year.                                                                                                                                                                                                                                                                                                                                                                                                                                                                                                                                                                                                                                                                                                                                                                                                                                                                                                                                 \n",
      " review_body      | I keep buying madden every year hoping they get back to football. This years version is a little better than last years -- but that's not saying much.The game looks great. The only thing wrong with the animation, is the way the players are always tripping on each other.<br /><br />The gameplay is still slowed down by the bloated pre-play controls. What used to take two buttons is now a giant PITA to get done before an opponent snaps the ball or the play clock runs out.<br /><br />The turbo button is back, but the player movement is still slow and awkward. If you liked last years version, I'm guessing you'll like this too. I haven't had a chance to play anything other than training and a few online games, so I'm crossing my fingers and hoping the rest is better.<br /><br />The one thing I can recommend is NOT TO BUY THE MADDEN BUNDLE. The game comes as a download. So if you hate it, there's no trading it in at Gamestop. \n",
      " helpful_votes    | 2                                                                                                                                                                                                                                                                                                                                                                                                                                                                                                                                                                                                                                                                                                                                                                                                                                                                                                                                                                    \n",
      " total_votes      | 3                                                                                                                                                                                                                                                                                                                                                                                                                                                                                                                                                                                                                                                                                                                                                                                                                                                                                                                                                                    \n",
      "only showing top 1 row\n",
      "\n"
     ]
    }
   ],
   "source": [
    "df.show(1, vertical = True, truncate = False)"
   ]
  },
  {
   "cell_type": "code",
   "execution_count": 9,
   "metadata": {},
   "outputs": [
    {
     "data": {
      "text/plain": [
       "145414"
      ]
     },
     "execution_count": 9,
     "metadata": {},
     "output_type": "execute_result"
    }
   ],
   "source": [
    "df.dropna().count()"
   ]
  },
  {
   "cell_type": "code",
   "execution_count": 10,
   "metadata": {},
   "outputs": [
    {
     "name": "stdout",
     "output_type": "stream",
     "text": [
      "+----------+-----------+----------------+---------------+-----------+-------------+-----------+\n",
      "|product_id|star_rating|product_category|review_headline|review_body|helpful_votes|total_votes|\n",
      "+----------+-----------+----------------+---------------+-----------+-------------+-----------+\n",
      "|         0|          0|               0|             11|          6|            0|          0|\n",
      "+----------+-----------+----------------+---------------+-----------+-------------+-----------+\n",
      "\n"
     ]
    }
   ],
   "source": [
    "from pyspark.sql.functions import col,isnan, when, count\n",
    "df.select([count(when(isnan(c) | col(c).isNull(), c)).alias(c) for c in df.columns]\n",
    "   ).show()"
   ]
  },
  {
   "cell_type": "code",
   "execution_count": 11,
   "metadata": {},
   "outputs": [
    {
     "name": "stdout",
     "output_type": "stream",
     "text": [
      "-RECORD 0---------------\n",
      " product_id       | 0   \n",
      " star_rating      | 0   \n",
      " product_category | 0   \n",
      " review_headline  | 16  \n",
      " review_body      | 264 \n",
      " helpful_votes    | 0   \n",
      " total_votes      | 0   \n",
      "\n"
     ]
    }
   ],
   "source": [
    "df2 = df.select([count(when(col(c).contains('None') | \\\n",
    "                            col(c).contains('NULL') | \\\n",
    "                            (col(c) == '' ) | \\\n",
    "                            col(c).isNull() | \\\n",
    "                            isnan(c), c \n",
    "                           )).alias(c)\n",
    "                    for c in df.columns])\n",
    "df2.count()\n",
    "df2.show(5, vertical = True)"
   ]
  },
  {
   "cell_type": "code",
   "execution_count": 12,
   "metadata": {},
   "outputs": [
    {
     "data": {
      "text/plain": [
       "7527"
      ]
     },
     "execution_count": 12,
     "metadata": {},
     "output_type": "execute_result"
    }
   ],
   "source": [
    "df = df.filter(col('total_votes') > 10)\n",
    "df.count()"
   ]
  },
  {
   "cell_type": "code",
   "execution_count": 13,
   "metadata": {},
   "outputs": [],
   "source": [
    "df = df.fillna(\"\", \"review_body\")\n",
    "df = df.fillna(\"\", \"review_headline\")"
   ]
  },
  {
   "cell_type": "code",
   "execution_count": 14,
   "metadata": {},
   "outputs": [
    {
     "name": "stdout",
     "output_type": "stream",
     "text": [
      "-RECORD 0-----------------------------------------------------------------------------------------------------------------------------------------\n",
      " product_id       | B010O9XWO2                                                                                                                    \n",
      " star_rating      | 1                                                                                                                             \n",
      " product_category | Digital_Video_Games                                                                                                           \n",
      " review_headline  | One Big Mistake!                                                                                                              \n",
      " review_body      | Can't get in to it due to the fact that you have to use the arrow keys to move around.  Very disappointed!!!                  \n",
      " helpful_votes    | 2                                                                                                                             \n",
      " total_votes      | 12                                                                                                                            \n",
      " review_text      | One Big Mistake! Can't get in to it due to the fact that you have to use the arrow keys to move around.  Very disappointed!!! \n",
      "only showing top 1 row\n",
      "\n"
     ]
    }
   ],
   "source": [
    "df = df.withColumn('review_text', F.concat('review_headline', F.lit(\" \"), 'review_body'))\n",
    "df.show(1, vertical = True, truncate = False)"
   ]
  },
  {
   "cell_type": "code",
   "execution_count": 15,
   "metadata": {},
   "outputs": [
    {
     "name": "stdout",
     "output_type": "stream",
     "text": [
      "(0 rows)\n",
      "\n"
     ]
    }
   ],
   "source": [
    "df.filter((col(\"review_text\").isNull()) | ( col(\"review_text\") == \"\")).show(1, vertical = True, truncate = False)"
   ]
  },
  {
   "cell_type": "code",
   "execution_count": 16,
   "metadata": {},
   "outputs": [
    {
     "name": "stdout",
     "output_type": "stream",
     "text": [
      "-RECORD 0---------------\n",
      " product_id       | 0   \n",
      " star_rating      | 0   \n",
      " product_category | 0   \n",
      " review_headline  | 0   \n",
      " review_body      | 0   \n",
      " helpful_votes    | 0   \n",
      " total_votes      | 0   \n",
      " review_text      | 0   \n",
      "\n"
     ]
    }
   ],
   "source": [
    "df.select([count(when((col(c) == '' ) | \\\n",
    "                            col(c).isNull() | \\\n",
    "                            isnan(c), c \n",
    "                           )).alias(c)\n",
    "                    for c in df.columns]).show(5, vertical = True)"
   ]
  },
  {
   "cell_type": "code",
   "execution_count": 17,
   "metadata": {},
   "outputs": [
    {
     "name": "stdout",
     "output_type": "stream",
     "text": [
      "-RECORD 0-----------------------------------------------------------------------------------------------------------------------------------------\n",
      " product_id       | B010O9XWO2                                                                                                                    \n",
      " star_rating      | 1                                                                                                                             \n",
      " product_category | Digital_Video_Games                                                                                                           \n",
      " review_headline  | One Big Mistake!                                                                                                              \n",
      " review_body      | Can't get in to it due to the fact that you have to use the arrow keys to move around.  Very disappointed!!!                  \n",
      " helpful_votes    | 2                                                                                                                             \n",
      " total_votes      | 12                                                                                                                            \n",
      " review_text      | One Big Mistake! Can't get in to it due to the fact that you have to use the arrow keys to move around.  Very disappointed!!! \n",
      " helpful_ratio    | 0.16666666666666666                                                                                                           \n",
      "only showing top 1 row\n",
      "\n"
     ]
    }
   ],
   "source": [
    "df = df.withColumn('helpful_ratio', F.col('helpful_votes') / F.col('total_votes'))\n",
    "df.show(1, vertical = True, truncate = False)"
   ]
  },
  {
   "cell_type": "code",
   "execution_count": 18,
   "metadata": {},
   "outputs": [
    {
     "data": {
      "text/plain": [
       "0"
      ]
     },
     "execution_count": 18,
     "metadata": {},
     "output_type": "execute_result"
    }
   ],
   "source": [
    "df.filter(col('helpful_ratio') < 0).count()"
   ]
  },
  {
   "cell_type": "code",
   "execution_count": 19,
   "metadata": {},
   "outputs": [],
   "source": [
    "df = df.withColumn('helpful', when(col(\"helpful_ratio\") < 0.5, 0).otherwise(1))"
   ]
  },
  {
   "cell_type": "code",
   "execution_count": 20,
   "metadata": {
    "scrolled": true
   },
   "outputs": [
    {
     "name": "stdout",
     "output_type": "stream",
     "text": [
      "-RECORD 0--------------------------------\n",
      " product_id       | B010O9XWO2           \n",
      " star_rating      | 1                    \n",
      " product_category | Digital_Video_Games  \n",
      " review_headline  | One Big Mistake!     \n",
      " review_body      | Can't get in to i... \n",
      " helpful_votes    | 2                    \n",
      " total_votes      | 12                   \n",
      " review_text      | One Big Mistake! ... \n",
      " helpful_ratio    | 0.16666666666666666  \n",
      " helpful          | 0                    \n",
      "-RECORD 1--------------------------------\n",
      " product_id       | B0149HT55K           \n",
      " star_rating      | 5                    \n",
      " product_category | Digital_Video_Games  \n",
      " review_headline  | Mega Man Legacy C... \n",
      " review_body      | What is Mega Man?... \n",
      " helpful_votes    | 19                   \n",
      " total_votes      | 22                   \n",
      " review_text      | Mega Man Legacy C... \n",
      " helpful_ratio    | 0.8636363636363636   \n",
      " helpful          | 1                    \n",
      "-RECORD 2--------------------------------\n",
      " product_id       | B00ZQ171SW           \n",
      " star_rating      | 1                    \n",
      " product_category | Digital_Video_Games  \n",
      " review_headline  | TOTAL GARBAGE!       \n",
      " review_body      | Can't play it wit... \n",
      " helpful_votes    | 3                    \n",
      " total_votes      | 12                   \n",
      " review_text      | TOTAL GARBAGE! Ca... \n",
      " helpful_ratio    | 0.25                 \n",
      " helpful          | 0                    \n",
      "-RECORD 3--------------------------------\n",
      " product_id       | B00GDHD74A           \n",
      " star_rating      | 1                    \n",
      " product_category | Digital_Video_Games  \n",
      " review_headline  | A once great game... \n",
      " review_body      | EVE has really go... \n",
      " helpful_votes    | 4                    \n",
      " total_votes      | 11                   \n",
      " review_text      | A once great game... \n",
      " helpful_ratio    | 0.36363636363636365  \n",
      " helpful          | 0                    \n",
      "-RECORD 4--------------------------------\n",
      " product_id       | B010KYDNDG           \n",
      " star_rating      | 1                    \n",
      " product_category | Digital_Video_Games  \n",
      " review_headline  | Very Disappointed... \n",
      " review_body      | I bought the game... \n",
      " helpful_votes    | 13                   \n",
      " total_votes      | 18                   \n",
      " review_text      | Very Disappointed... \n",
      " helpful_ratio    | 0.7222222222222222   \n",
      " helpful          | 1                    \n",
      "only showing top 5 rows\n",
      "\n"
     ]
    }
   ],
   "source": [
    "df.show(5, vertical = True)"
   ]
  },
  {
   "cell_type": "markdown",
   "metadata": {},
   "source": [
    "### Cleaning the Review_Text"
   ]
  },
  {
   "cell_type": "code",
   "execution_count": 21,
   "metadata": {},
   "outputs": [],
   "source": [
    "df_clean = df"
   ]
  },
  {
   "cell_type": "code",
   "execution_count": 22,
   "metadata": {},
   "outputs": [
    {
     "name": "stdout",
     "output_type": "stream",
     "text": [
      "root\n",
      " |-- product_id: string (nullable = true)\n",
      " |-- star_rating: integer (nullable = true)\n",
      " |-- product_category: string (nullable = true)\n",
      " |-- review_headline: string (nullable = false)\n",
      " |-- review_body: string (nullable = false)\n",
      " |-- helpful_votes: integer (nullable = true)\n",
      " |-- total_votes: integer (nullable = true)\n",
      " |-- review_text: string (nullable = false)\n",
      " |-- helpful_ratio: double (nullable = true)\n",
      " |-- helpful: integer (nullable = false)\n",
      "\n"
     ]
    }
   ],
   "source": [
    "df_clean.printSchema()"
   ]
  },
  {
   "cell_type": "code",
   "execution_count": 23,
   "metadata": {
    "scrolled": true
   },
   "outputs": [
    {
     "name": "stdout",
     "output_type": "stream",
     "text": [
      "+-------+\n",
      "|helpful|\n",
      "+-------+\n",
      "|      1|\n",
      "|      0|\n",
      "+-------+\n",
      "\n"
     ]
    }
   ],
   "source": [
    "df_clean.select(\"helpful\").distinct().show()"
   ]
  },
  {
   "cell_type": "code",
   "execution_count": 24,
   "metadata": {},
   "outputs": [],
   "source": [
    "#Making the review text to all lower case\n",
    "df_clean=df_clean.withColumn('review_text_l', F.lower(F.col('review_text')))"
   ]
  },
  {
   "cell_type": "code",
   "execution_count": 25,
   "metadata": {},
   "outputs": [
    {
     "name": "stdout",
     "output_type": "stream",
     "text": [
      "-RECORD 0-----------------------------\n",
      " review_text_l | one big mistake! ... \n",
      "-RECORD 1-----------------------------\n",
      " review_text_l | mega man legacy c... \n",
      "-RECORD 2-----------------------------\n",
      " review_text_l | total garbage! ca... \n",
      "-RECORD 3-----------------------------\n",
      " review_text_l | a once great game... \n",
      "-RECORD 4-----------------------------\n",
      " review_text_l | very disappointed... \n",
      "only showing top 5 rows\n",
      "\n"
     ]
    }
   ],
   "source": [
    "df_clean.select(df_clean.columns[10]).show(5, vertical = True)"
   ]
  },
  {
   "cell_type": "code",
   "execution_count": 26,
   "metadata": {},
   "outputs": [],
   "source": [
    "#Removing all of the additional punctuations\n",
    "df_clean=df_clean.withColumn('review_text_l', F.regexp_replace('review_text_l', '\\'', ''))\n",
    "                                                                 \n",
    "df_clean=df_clean.withColumn('review_text_l', F.regexp_replace('review_text_l', '\\\\n|[^\\w]', ' ')).withColumn('review_text_l', F.regexp_replace('review_text_l', '\\s+', ' '))"
   ]
  },
  {
   "cell_type": "code",
   "execution_count": 27,
   "metadata": {},
   "outputs": [
    {
     "name": "stdout",
     "output_type": "stream",
     "text": [
      "-RECORD 0----------------------------------------------------------------------------------------------------------------------------------------------------------------------------------------------------------------------------------------------------------------------------------------------------------------------------------------------------------------------------------------------------------------------------------------------------------------------------------------------------------------------------------------------------------------------------------------------------------------------------------------------------------------------------------------------------------------------------------------------------------------------------------------------------------------------------------------------------------------------------------------------------------------------------------------------------------------------------------------------------------------------------------------------------------------------------------------------------------------------------------------------------------------------------------------------------------------------------------------------------------------------------------------------------------------------------------------------------------------------------------------------------------------------------------------------------------------------------------------------------------------------------------------------------------------------------------------------------------------------------------------------------------------------------------------------------------------------------------------------------------------------------------------------------------------------------------------------------------------------------------------------------------------------------------------------------------------------------------------------------------------------------------------------------------------------------------------------------------------------------------------------------------------------------------------------------------------------------------------------------------------------------------------------------------------------------------------------------------------------------------------------------------------------------------------------------------------------------------------------------------------------------------------------------------------------------------------------------------------------------------------------------------------------------------------------------------------------------------------------------------------------------------------------------------------------------------------------------------------------------------------------------------------------------------------------------------------------------------------------------------------------------------------------------------------------------------------------------------------------------------------------------------------------------------------------------------------------------------------------------------------------------------------------------------------------------------------------------------------------------------------------------------------------------------------------------------------------------------------------------------------------------------------------------------------------------------------------------------------------------------------------------------------------------------------------------------------------------------------------------------------------------------------------------------------------------------------------------------------------------------------------------------------------------------------------------------------------------------------------------------------------------------------------------------------------------------------------------------------------------------------------------------------------------------------------------------------------------------------------------------------------------------------------------------------------------------------------------------------------------------------------------------------------------------------------------------------------------------------------------------------------------------------------------------------------------------------------------------------------------------------------------------------------------------------------------------------------------------------------------------------------------------------------------------------------------------------------------------------------------------------------------------------------------------------------------------------------------------------------------------------------------------------------------------------------------------------------------------------------------------------------------------------------------------------------------------------------------------------------------------------------------------------------------------------------------------------------------------------------------------------------------------------------------------------------------------------------------------------------------------------------------------------------------------------------------------------------------------------------------------------------------------------------------------------------------------------------------------------------------------------------------------------------------------------------------------------------------------------------------------------------------------------------------------------------------------------------------------------------------------------------------------------------------------------------------------------------------------------------------------------------------------------------------------------------------------------------------------------------------------------------------------------------------------------------------------------------------------------------------------------------------------------------------------------------------------------------------------------------------------------------------------------------------------------------------------------------------------------------------------------------------------------------------------------------------------------------------------------------------------------------------------------------------------------------------------------------------------------------------------------------------------------------------------------------------------------------------------------------------------------------------------------------------------------------------------------------------------------------------------------------------------------------------------------------------------------------------------------------------------------------------------------------------------------------------------------------------------------------------------------------------------------------------------------------------------------------------------------------------------------------------------------------------------------------------------------------------------------------------------------------------------------------------------------------------------------------------------------------------------------------------------------------------------------------------------------------------------------------------------------------------------------------------------------------------------------------------------------------------------------------------------------------------------------------------------------------------------------------------------------------------------------------------------------------------------------------------------------------------------------\n",
      " review_text_l | one big mistake cant get in to it due to the fact that you have to use the arrow keys to move around very disappointed                                                                                                                                                                                                                                                                                                                                                                                                                                                                                                                                                                                                                                                                                                                                                                                                                                                                                                                                                                                                                                                                                                                                                                                                                                                                                                                                                                                                                                                                                                                                                                                                                                                                                                                                                                                                                                                                                                                                                                                                                                                                                                                                                                                                                                                                                                                                                                                                                                                                                                                                                                                                                                                                                                                                                                                                                                                                                                                                                                                                                                                                                                                                                                                                                                                                                                                                                                                                                                                                                                                                                                                                                                                                                                                                                                                                                                                                                                                                                                                                                                                                                                                                                                                                                                                                                                                                                                                                                                                                                                                                                                                                                                                                                                                                                                                                                                                                                                                                                                                                                                                                                                                                                                                                                                                                                                                                                                                                                                                                                                                                                                                                                                                                                                                                                                                                                                                                                                                                                                                                                                                                                                                                                                                                                                                                                                                                                                                                                                                                                                                                                                                                                                                                                                                                                                                                                                                                                                                                                                                                                                                                                                                                                                                                                                                                                                                                                                                                                                                                                                                                                                                                                                                                                                                                                                                                                                                                                                                                                                                                                                                                                                                                  \n",
      "-RECORD 1----------------------------------------------------------------------------------------------------------------------------------------------------------------------------------------------------------------------------------------------------------------------------------------------------------------------------------------------------------------------------------------------------------------------------------------------------------------------------------------------------------------------------------------------------------------------------------------------------------------------------------------------------------------------------------------------------------------------------------------------------------------------------------------------------------------------------------------------------------------------------------------------------------------------------------------------------------------------------------------------------------------------------------------------------------------------------------------------------------------------------------------------------------------------------------------------------------------------------------------------------------------------------------------------------------------------------------------------------------------------------------------------------------------------------------------------------------------------------------------------------------------------------------------------------------------------------------------------------------------------------------------------------------------------------------------------------------------------------------------------------------------------------------------------------------------------------------------------------------------------------------------------------------------------------------------------------------------------------------------------------------------------------------------------------------------------------------------------------------------------------------------------------------------------------------------------------------------------------------------------------------------------------------------------------------------------------------------------------------------------------------------------------------------------------------------------------------------------------------------------------------------------------------------------------------------------------------------------------------------------------------------------------------------------------------------------------------------------------------------------------------------------------------------------------------------------------------------------------------------------------------------------------------------------------------------------------------------------------------------------------------------------------------------------------------------------------------------------------------------------------------------------------------------------------------------------------------------------------------------------------------------------------------------------------------------------------------------------------------------------------------------------------------------------------------------------------------------------------------------------------------------------------------------------------------------------------------------------------------------------------------------------------------------------------------------------------------------------------------------------------------------------------------------------------------------------------------------------------------------------------------------------------------------------------------------------------------------------------------------------------------------------------------------------------------------------------------------------------------------------------------------------------------------------------------------------------------------------------------------------------------------------------------------------------------------------------------------------------------------------------------------------------------------------------------------------------------------------------------------------------------------------------------------------------------------------------------------------------------------------------------------------------------------------------------------------------------------------------------------------------------------------------------------------------------------------------------------------------------------------------------------------------------------------------------------------------------------------------------------------------------------------------------------------------------------------------------------------------------------------------------------------------------------------------------------------------------------------------------------------------------------------------------------------------------------------------------------------------------------------------------------------------------------------------------------------------------------------------------------------------------------------------------------------------------------------------------------------------------------------------------------------------------------------------------------------------------------------------------------------------------------------------------------------------------------------------------------------------------------------------------------------------------------------------------------------------------------------------------------------------------------------------------------------------------------------------------------------------------------------------------------------------------------------------------------------------------------------------------------------------------------------------------------------------------------------------------------------------------------------------------------------------------------------------------------------------------------------------------------------------------------------------------------------------------------------------------------------------------------------------------------------------------------------------------------------------------------------------------------------------------------------------------------------------------------------------------------------------------------------------------------------------------------------------------------------------------------------------------------------------------------------------------------------------------------------------------------------------------------------------------------------------------------------------------------------------------------------------------------------------------------------------------------------------------------------------------------------------------------------------------------------------------------------------------------------------------------------------------------------------------------------------------------------------------------------------------------------------------------------------------------------------------------------------------------------------------------------------------------------------------------------------------------------------------------------------------------------------------------------------------------------------------------------------------------------------------------------------------------------------------------------------------------------------------------------------------------------------------------------------------------------------------------------------------------------------------------------------------------------------------------\n",
      " review_text_l | mega man legacy collection mega man comes to next gen what is mega man br br if you have been living under a gaming rock in the nes era you are mega man a blue robot that is out to take out some well the original concept was basically 34 trade robots 34 gone bad it starts off with you selecting the robot you want to fight however before you can fight them you have to get through their stage br each stage is usually based on the robot itself basically 34 heat man 34 is going to have lava and fire 34 wood man 34 will be a tree stage br the game plays a lot like super mario in that you jump a lot from platform to platform but with a lot more control you have a basic weapon p that is available from the very beginning you will need to navigate the various challenges in each stage and will face an end boss which is the robot you picked after taking them out you will get a version of their weapon br each robot is weak to another robots weapon this will allow you to get through the game much easier with that in mind you will want to google the game you are playing and add the word 34 boss order 34 at least for now i would like to add a comment later that features all of the orders for all 6 gamers it just makes the game a lot easier and for most passable br you will find each game varies in difficulty mega man 1 and 3 being much harder than 2 as an example so its fun to see what it takes to take out each adventure for me i was not able to beat mega man 1 without a lot of practice now i can basically walk through the blue guys adventure br mega man has been one of those titles i have looked back with mixed emotions i thought it was a great set of games but i couldnt believe how hard it was br the level of challenge can put off some gamers but i do say keep trying you will like it br br my reaction to the collection br br so when i found out my favorite nintendo collection was coming to ps4 i was pretty excited sure the first thing i thought was 34 there was a mega man anniversary collection for the ps2 34 and you are right for those that do not know there was a game collection for ps2 that featured yes all 6 nes mega man games with that do you want to pull out your ps3 that has backwards compatibility early adopters only or for most of us that old ps2 and hook it up just to play these titles no thanks the ability to play it on my ps4 to live stream the footage with a push of a button without any extra hardware was very appealing br br so what makes this different br br let s get this out of the way first these are basically the original nintendo nes games that you knew and loved that is mega man 1 6 for the nes in terms of the actual games themselves other than a few performance improvements to frames in some places though this cannot be said by many it s the same games br what makes it different is the ability to do some challenges in the challenge mode br however the 34 challenge mode 34 makes it worth it to pick up for next gen the creators created various challenges for us tall to try to beat the fastest on top of that they have leaderboards it only shows the top 100 but you are able to watch their replay and see if you too can be the best they vary from different sections of stages from various mega mans in the collection boss rushes and so much more the even have a multi colored helmet system to determine if you were 34 3 stars 34 per challenge to push yourself to do better and better thanks a lot angry birds br the museum mode and database has a ton of concept art for each game stats for each enemy and boss as well as tips on how to take out some of those baddies br there is also a full music player which will allow you to go through some of your mega man favorite tunes includingflash man s stage my favorite any boss music any music from any of the games all available br within the game itself they also allowed people to change it from the original full screen to wide screen and you can have it look like a tv screen did back in the day those small features that you wouldn t think would be appealing have all been included br br what is it like playing it on ps4 br br i found it pretty easy to play it on my ps4 but i do have a confession i used to play these games a lot on emulators for my pc so have been used to using a ps style controller with that being said since it is a digital download it s great to sit on your couch and select the title and pick the next mega man you plan to tackle for me the live streaming was something i just started getting into which have few watchers but are appreciated and that works great i even used on the fly my sony wireless gold headset and the live stream didnt miss an audio beat see what i did there with being an early adopter i found myself taking plenty of screenshots of me being on the leaderboards for some of the challenges knowing i would be kicked off soon by other time bandits i am not jealous ok maybe a little br br so you are asking do you like it br br as a classic gamer myself who started on atari and nes mega man has a soft spot for being one of those series that i can come back to and feel like the frustrated kid i was back when i played it so many years ago being honest i still have not completed 4 6 with that in mind i have a lot of new fun to enjoy if you tried to put this collection together on the original nes you will pay hundreds if you have the collection on ps2 or gamecube all ready i am not sure you will truly need this for myself the convenience of this package and the time ill need to get through all the games and challenges i coulnd t be happier with my purchase maybe they will bring us the mega man x and ps2 games next here is hoping br br these are the other mega man collections i was talking about previously br asin b00019hnnc mega man anniversary collection playstation 2 asin b00019azc8 mega man anniversary collection gamecube within the game itself they also allowed people to change it from the original full screen to wide screen and you can have it look like a tv screen did back in the day those small features that you wouldn t think would be appealing have all been included what is it like playing it on ps4 i found it pretty easy to play it on my ps4 but i do have a confession i used to play these games a lot on emulators for my pc so have been used to using a ps style controller with that being said since it is a digital download it s great to sit on your couch and select the title and pick the next mega man you plan to tackle for me the live streaming was something i just started getting into which have few watchers but are appreciated and that works great i even used on the fly my sony wireless gold headset and the live stream didnt miss an audio beat see what i did there with being an early adopter i found myself taking plenty of screenshots of me being on the leaderboards for some of the challenges knowing i would be kicked off soon by other time bandits i am not jealous ok maybe a little so you are asking do you like it as a classic gamer myself who started on atari and nes mega man has a soft spot for being one of those series that i can come back to and feel like the frustrated kid i was back when i played it so many years ago being honest i still have not completed 4 6 with that in mind i have a lot of new fun to enjoy if you tried to put this collection together on the original nes you will pay hundreds if you have the collection on ps2 or gamecube all ready i am not sure you will truly need this for myself the convenience of this package and the time ill need to get through all the games and challenges i coulnd t be happier with my purchase maybe they will bring us the mega man x and ps2 games next here is hoping these are the other mega man collections i was talking about previously asin b00019hnnc mega man anniversary collection playstation 2 asin b00019azc8 mega man anniversary collection gamecube  \n",
      "-RECORD 2----------------------------------------------------------------------------------------------------------------------------------------------------------------------------------------------------------------------------------------------------------------------------------------------------------------------------------------------------------------------------------------------------------------------------------------------------------------------------------------------------------------------------------------------------------------------------------------------------------------------------------------------------------------------------------------------------------------------------------------------------------------------------------------------------------------------------------------------------------------------------------------------------------------------------------------------------------------------------------------------------------------------------------------------------------------------------------------------------------------------------------------------------------------------------------------------------------------------------------------------------------------------------------------------------------------------------------------------------------------------------------------------------------------------------------------------------------------------------------------------------------------------------------------------------------------------------------------------------------------------------------------------------------------------------------------------------------------------------------------------------------------------------------------------------------------------------------------------------------------------------------------------------------------------------------------------------------------------------------------------------------------------------------------------------------------------------------------------------------------------------------------------------------------------------------------------------------------------------------------------------------------------------------------------------------------------------------------------------------------------------------------------------------------------------------------------------------------------------------------------------------------------------------------------------------------------------------------------------------------------------------------------------------------------------------------------------------------------------------------------------------------------------------------------------------------------------------------------------------------------------------------------------------------------------------------------------------------------------------------------------------------------------------------------------------------------------------------------------------------------------------------------------------------------------------------------------------------------------------------------------------------------------------------------------------------------------------------------------------------------------------------------------------------------------------------------------------------------------------------------------------------------------------------------------------------------------------------------------------------------------------------------------------------------------------------------------------------------------------------------------------------------------------------------------------------------------------------------------------------------------------------------------------------------------------------------------------------------------------------------------------------------------------------------------------------------------------------------------------------------------------------------------------------------------------------------------------------------------------------------------------------------------------------------------------------------------------------------------------------------------------------------------------------------------------------------------------------------------------------------------------------------------------------------------------------------------------------------------------------------------------------------------------------------------------------------------------------------------------------------------------------------------------------------------------------------------------------------------------------------------------------------------------------------------------------------------------------------------------------------------------------------------------------------------------------------------------------------------------------------------------------------------------------------------------------------------------------------------------------------------------------------------------------------------------------------------------------------------------------------------------------------------------------------------------------------------------------------------------------------------------------------------------------------------------------------------------------------------------------------------------------------------------------------------------------------------------------------------------------------------------------------------------------------------------------------------------------------------------------------------------------------------------------------------------------------------------------------------------------------------------------------------------------------------------------------------------------------------------------------------------------------------------------------------------------------------------------------------------------------------------------------------------------------------------------------------------------------------------------------------------------------------------------------------------------------------------------------------------------------------------------------------------------------------------------------------------------------------------------------------------------------------------------------------------------------------------------------------------------------------------------------------------------------------------------------------------------------------------------------------------------------------------------------------------------------------------------------------------------------------------------------------------------------------------------------------------------------------------------------------------------------------------------------------------------------------------------------------------------------------------------------------------------------------------------------------------------------------------------------------------------------------------------------------------------------------------------------------------------------------------------------------------------------------------------------------------------------------------------------------------------------------------------------------------------------------------------------------------------------------------------------------------------------------------------------------------------------------------------------------------------------------------------------------------------------------------------------------------------------------------------------------------------------------------------------------------------------------------------------------------------------------------------------------------------------------------------------------------------------------------------\n",
      " review_text_l | total garbage cant play it without xbox live gold what kind of game wont let owners play for free total garbage                                                                                                                                                                                                                                                                                                                                                                                                                                                                                                                                                                                                                                                                                                                                                                                                                                                                                                                                                                                                                                                                                                                                                                                                                                                                                                                                                                                                                                                                                                                                                                                                                                                                                                                                                                                                                                                                                                                                                                                                                                                                                                                                                                                                                                                                                                                                                                                                                                                                                                                                                                                                                                                                                                                                                                                                                                                                                                                                                                                                                                                                                                                                                                                                                                                                                                                                                                                                                                                                                                                                                                                                                                                                                                                                                                                                                                                                                                                                                                                                                                                                                                                                                                                                                                                                                                                                                                                                                                                                                                                                                                                                                                                                                                                                                                                                                                                                                                                                                                                                                                                                                                                                                                                                                                                                                                                                                                                                                                                                                                                                                                                                                                                                                                                                                                                                                                                                                                                                                                                                                                                                                                                                                                                                                                                                                                                                                                                                                                                                                                                                                                                                                                                                                                                                                                                                                                                                                                                                                                                                                                                                                                                                                                                                                                                                                                                                                                                                                                                                                                                                                                                                                                                                                                                                                                                                                                                                                                                                                                                                                                                                                                                                         \n",
      "-RECORD 3----------------------------------------------------------------------------------------------------------------------------------------------------------------------------------------------------------------------------------------------------------------------------------------------------------------------------------------------------------------------------------------------------------------------------------------------------------------------------------------------------------------------------------------------------------------------------------------------------------------------------------------------------------------------------------------------------------------------------------------------------------------------------------------------------------------------------------------------------------------------------------------------------------------------------------------------------------------------------------------------------------------------------------------------------------------------------------------------------------------------------------------------------------------------------------------------------------------------------------------------------------------------------------------------------------------------------------------------------------------------------------------------------------------------------------------------------------------------------------------------------------------------------------------------------------------------------------------------------------------------------------------------------------------------------------------------------------------------------------------------------------------------------------------------------------------------------------------------------------------------------------------------------------------------------------------------------------------------------------------------------------------------------------------------------------------------------------------------------------------------------------------------------------------------------------------------------------------------------------------------------------------------------------------------------------------------------------------------------------------------------------------------------------------------------------------------------------------------------------------------------------------------------------------------------------------------------------------------------------------------------------------------------------------------------------------------------------------------------------------------------------------------------------------------------------------------------------------------------------------------------------------------------------------------------------------------------------------------------------------------------------------------------------------------------------------------------------------------------------------------------------------------------------------------------------------------------------------------------------------------------------------------------------------------------------------------------------------------------------------------------------------------------------------------------------------------------------------------------------------------------------------------------------------------------------------------------------------------------------------------------------------------------------------------------------------------------------------------------------------------------------------------------------------------------------------------------------------------------------------------------------------------------------------------------------------------------------------------------------------------------------------------------------------------------------------------------------------------------------------------------------------------------------------------------------------------------------------------------------------------------------------------------------------------------------------------------------------------------------------------------------------------------------------------------------------------------------------------------------------------------------------------------------------------------------------------------------------------------------------------------------------------------------------------------------------------------------------------------------------------------------------------------------------------------------------------------------------------------------------------------------------------------------------------------------------------------------------------------------------------------------------------------------------------------------------------------------------------------------------------------------------------------------------------------------------------------------------------------------------------------------------------------------------------------------------------------------------------------------------------------------------------------------------------------------------------------------------------------------------------------------------------------------------------------------------------------------------------------------------------------------------------------------------------------------------------------------------------------------------------------------------------------------------------------------------------------------------------------------------------------------------------------------------------------------------------------------------------------------------------------------------------------------------------------------------------------------------------------------------------------------------------------------------------------------------------------------------------------------------------------------------------------------------------------------------------------------------------------------------------------------------------------------------------------------------------------------------------------------------------------------------------------------------------------------------------------------------------------------------------------------------------------------------------------------------------------------------------------------------------------------------------------------------------------------------------------------------------------------------------------------------------------------------------------------------------------------------------------------------------------------------------------------------------------------------------------------------------------------------------------------------------------------------------------------------------------------------------------------------------------------------------------------------------------------------------------------------------------------------------------------------------------------------------------------------------------------------------------------------------------------------------------------------------------------------------------------------------------------------------------------------------------------------------------------------------------------------------------------------------------------------------------------------------------------------------------------------------------------------------------------------------------------------------------------------------------------------------------------------------------------------------------------------------------------------------------------------------------------------------------------------------------------------------------------------------------------------------------------------------------------------\n",
      " review_text_l | a once great game now a shadow of its former self eve has really gone downhill in the past couple years boredom has started to set in due to many of the recent changes to the game and its just more and more of grind with no real point any longer the 34 end game 34 of 34 holding sov 34 now has no real benefit and in honesty is more work than fun these days not really logging in much anymore to the point where ive cancelled all but one of my accounts and am debating whether i want to bother with that one either                                                                                                                                                                                                                                                                                                                                                                                                                                                                                                                                                                                                                                                                                                                                                                                                                                                                                                                                                                                                                                                                                                                                                                                                                                                                                                                                                                                                                                                                                                                                                                                                                                                                                                                                                                                                                                                                                                                                                                                                                                                                                                                                                                                                                                                                                                                                                                                                                                                                                                                                                                                                                                                                                                                                                                                                                                                                                                                                                                                                                                                                                                                                                                                                                                                                                                                                                                                                                                                                                                                                                                                                                                                                                                                                                                                                                                                                                                                                                                                                                                                                                                                                                                                                                                                                                                                                                                                                                                                                                                                                                                                                                                                                                                                                                                                                                                                                                                                                                                                                                                                                                                                                                                                                                                                                                                                                                                                                                                                                                                                                                                                                                                                                                                                                                                                                                                                                                                                                                                                                                                                                                                                                                                                                                                                                                                                                                                                                                                                                                                                                                                                                                                                                                                                                                                                                                                                                                                                                                                                                                                                                                                                                                                                                                                                                                                                                                                                                                                                                                                                                                                                                                                                                                                                      \n",
      "-RECORD 4----------------------------------------------------------------------------------------------------------------------------------------------------------------------------------------------------------------------------------------------------------------------------------------------------------------------------------------------------------------------------------------------------------------------------------------------------------------------------------------------------------------------------------------------------------------------------------------------------------------------------------------------------------------------------------------------------------------------------------------------------------------------------------------------------------------------------------------------------------------------------------------------------------------------------------------------------------------------------------------------------------------------------------------------------------------------------------------------------------------------------------------------------------------------------------------------------------------------------------------------------------------------------------------------------------------------------------------------------------------------------------------------------------------------------------------------------------------------------------------------------------------------------------------------------------------------------------------------------------------------------------------------------------------------------------------------------------------------------------------------------------------------------------------------------------------------------------------------------------------------------------------------------------------------------------------------------------------------------------------------------------------------------------------------------------------------------------------------------------------------------------------------------------------------------------------------------------------------------------------------------------------------------------------------------------------------------------------------------------------------------------------------------------------------------------------------------------------------------------------------------------------------------------------------------------------------------------------------------------------------------------------------------------------------------------------------------------------------------------------------------------------------------------------------------------------------------------------------------------------------------------------------------------------------------------------------------------------------------------------------------------------------------------------------------------------------------------------------------------------------------------------------------------------------------------------------------------------------------------------------------------------------------------------------------------------------------------------------------------------------------------------------------------------------------------------------------------------------------------------------------------------------------------------------------------------------------------------------------------------------------------------------------------------------------------------------------------------------------------------------------------------------------------------------------------------------------------------------------------------------------------------------------------------------------------------------------------------------------------------------------------------------------------------------------------------------------------------------------------------------------------------------------------------------------------------------------------------------------------------------------------------------------------------------------------------------------------------------------------------------------------------------------------------------------------------------------------------------------------------------------------------------------------------------------------------------------------------------------------------------------------------------------------------------------------------------------------------------------------------------------------------------------------------------------------------------------------------------------------------------------------------------------------------------------------------------------------------------------------------------------------------------------------------------------------------------------------------------------------------------------------------------------------------------------------------------------------------------------------------------------------------------------------------------------------------------------------------------------------------------------------------------------------------------------------------------------------------------------------------------------------------------------------------------------------------------------------------------------------------------------------------------------------------------------------------------------------------------------------------------------------------------------------------------------------------------------------------------------------------------------------------------------------------------------------------------------------------------------------------------------------------------------------------------------------------------------------------------------------------------------------------------------------------------------------------------------------------------------------------------------------------------------------------------------------------------------------------------------------------------------------------------------------------------------------------------------------------------------------------------------------------------------------------------------------------------------------------------------------------------------------------------------------------------------------------------------------------------------------------------------------------------------------------------------------------------------------------------------------------------------------------------------------------------------------------------------------------------------------------------------------------------------------------------------------------------------------------------------------------------------------------------------------------------------------------------------------------------------------------------------------------------------------------------------------------------------------------------------------------------------------------------------------------------------------------------------------------------------------------------------------------------------------------------------------------------------------------------------------------------------------------------------------------------------------------------------------------------------------------------------------------------------------------------------------------------------------------------------------------------------------------------------------------------------------------------------------------------------------------------------------------------------------------------------------------------------------------------------------------------------------------------------------------------------------------------------------------------------------------------------------------\n",
      " review_text_l | very disappointed dad and birthday boy i bought the game for my son on his birthday which he enjoyed for about two weeks after that it went back to demo mode and he no longer had access to the full version the level of difficulty and frustration is a 10 to resolve the matter and ive all but given up hope customer service leaves a lot to be desired                                                                                                                                                                                                                                                                                                                                                                                                                                                                                                                                                                                                                                                                                                                                                                                                                                                                                                                                                                                                                                                                                                                                                                                                                                                                                                                                                                                                                                                                                                                                                                                                                                                                                                                                                                                                                                                                                                                                                                                                                                                                                                                                                                                                                                                                                                                                                                                                                                                                                                                                                                                                                                                                                                                                                                                                                                                                                                                                                                                                                                                                                                                                                                                                                                                                                                                                                                                                                                                                                                                                                                                                                                                                                                                                                                                                                                                                                                                                                                                                                                                                                                                                                                                                                                                                                                                                                                                                                                                                                                                                                                                                                                                                                                                                                                                                                                                                                                                                                                                                                                                                                                                                                                                                                                                                                                                                                                                                                                                                                                                                                                                                                                                                                                                                                                                                                                                                                                                                                                                                                                                                                                                                                                                                                                                                                                                                                                                                                                                                                                                                                                                                                                                                                                                                                                                                                                                                                                                                                                                                                                                                                                                                                                                                                                                                                                                                                                                                                                                                                                                                                                                                                                                                                                                                                                                                                                                                                           \n",
      "only showing top 5 rows\n",
      "\n"
     ]
    }
   ],
   "source": [
    "df_clean.select('review_text_l').show(5,vertical = True, truncate = False)"
   ]
  },
  {
   "cell_type": "code",
   "execution_count": 28,
   "metadata": {},
   "outputs": [
    {
     "data": {
      "text/plain": [
       "0"
      ]
     },
     "execution_count": 28,
     "metadata": {},
     "output_type": "execute_result"
    }
   ],
   "source": [
    "#Removing reviews that have 3 or less words\n",
    "df_clean.filter(F.length(df_clean.review_text_l) < 3).count()"
   ]
  },
  {
   "cell_type": "code",
   "execution_count": 29,
   "metadata": {},
   "outputs": [],
   "source": [
    "df_clean = df_clean.filter(F.length(df_clean.review_text_l) > 3)"
   ]
  },
  {
   "cell_type": "code",
   "execution_count": 30,
   "metadata": {
    "scrolled": false
   },
   "outputs": [
    {
     "data": {
      "text/plain": [
       "7527"
      ]
     },
     "execution_count": 30,
     "metadata": {},
     "output_type": "execute_result"
    }
   ],
   "source": [
    "df_clean.count()"
   ]
  },
  {
   "cell_type": "markdown",
   "metadata": {},
   "source": [
    "## NLP Pipeline"
   ]
  },
  {
   "cell_type": "markdown",
   "metadata": {},
   "source": [
    "This pipeline consists of the following: Tokenizer, Stop Words Remover, Stemming, & TFIDF"
   ]
  },
  {
   "cell_type": "code",
   "execution_count": 31,
   "metadata": {},
   "outputs": [],
   "source": [
    "#Document & Tokenize\n",
    "document_assembler = DocumentAssembler().setInputCol(\"review_text_l\").setOutputCol(\"document\")\n",
    "tokenizer = Tokenizer().setInputCols([\"document\"]).setOutputCol(\"review_words\")\n",
    " \n",
    "#Cleaning Tokens\n",
    "remover           = StopWordsCleaner().setInputCols(\"review_words\").setOutputCol(\"review_words_stop\").setCaseSensitive(False).setStopWords(eng_stopwords)\n",
    "#lemmatizer        = Lemmatizer().setInputCols([\"review_words_stop\"]).setOutputCol(\"review_words_lemstem\")\n",
    "stemmer           = Stemmer().setInputCols([\"review_words_stop\"]).setOutputCol(\"review_words_lemstem\")\n",
    "finisher          = Finisher().setInputCols([\"review_words_lemstem\"]).setOutputCols([\"token_features\"]).setOutputAsArray(True).setCleanAnnotations(False)\n",
    "#hashingTF         = HashingTF(inputCol=\"token_features\", outputCol=\"rawFeatures\")\n",
    "#idf               = IDF(inputCol=\"rawFeatures\", outputCol=\"features\")\n",
    "\n",
    "pipeline_stem = Pipeline(stages=[document_assembler,tokenizer,remover,stemmer,finisher])#,hashingTF,idf])   "
   ]
  },
  {
   "cell_type": "markdown",
   "metadata": {},
   "source": [
    "##### Running NLP pipeline"
   ]
  },
  {
   "cell_type": "code",
   "execution_count": 32,
   "metadata": {},
   "outputs": [
    {
     "name": "stdout",
     "output_type": "stream",
     "text": [
      "Wall time: 297 ms\n"
     ]
    }
   ],
   "source": [
    "%%time\n",
    "df_clean_nlp = pipeline_stem.fit(df_clean).transform(df_clean)"
   ]
  },
  {
   "cell_type": "code",
   "execution_count": 33,
   "metadata": {},
   "outputs": [
    {
     "name": "stdout",
     "output_type": "stream",
     "text": [
      "+----------+-----------+-------------------+----------------+--------------------+-------------+-----------+--------------------+-------------------+-------+--------------------+--------------------+--------------------+--------------------+--------------------+--------------------+\n",
      "|product_id|star_rating|   product_category| review_headline|         review_body|helpful_votes|total_votes|         review_text|      helpful_ratio|helpful|       review_text_l|            document|        review_words|   review_words_stop|review_words_lemstem|      token_features|\n",
      "+----------+-----------+-------------------+----------------+--------------------+-------------+-----------+--------------------+-------------------+-------+--------------------+--------------------+--------------------+--------------------+--------------------+--------------------+\n",
      "|B010O9XWO2|          1|Digital_Video_Games|One Big Mistake!|Can't get in to i...|            2|         12|One Big Mistake! ...|0.16666666666666666|      0|one big mistake c...|[{document, 0, 11...|[{token, 0, 2, on...|[{token, 0, 2, on...|[{token, 0, 2, on...|[on, big, mistak,...|\n",
      "+----------+-----------+-------------------+----------------+--------------------+-------------+-----------+--------------------+-------------------+-------+--------------------+--------------------+--------------------+--------------------+--------------------+--------------------+\n",
      "only showing top 1 row\n",
      "\n"
     ]
    }
   ],
   "source": [
    "df_clean_nlp.show(1)"
   ]
  },
  {
   "cell_type": "markdown",
   "metadata": {},
   "source": [
    "##### Hashing TF"
   ]
  },
  {
   "cell_type": "code",
   "execution_count": 34,
   "metadata": {},
   "outputs": [
    {
     "name": "stdout",
     "output_type": "stream",
     "text": [
      "+----------+-----------+-------------------+----------------+--------------------+-------------+-----------+--------------------+-------------------+-------+--------------------+--------------------+--------------------+--------------------+--------------------+--------------------+--------------------+\n",
      "|product_id|star_rating|   product_category| review_headline|         review_body|helpful_votes|total_votes|         review_text|      helpful_ratio|helpful|       review_text_l|            document|        review_words|   review_words_stop|review_words_lemstem|      token_features|         rawFeatures|\n",
      "+----------+-----------+-------------------+----------------+--------------------+-------------+-----------+--------------------+-------------------+-------+--------------------+--------------------+--------------------+--------------------+--------------------+--------------------+--------------------+\n",
      "|B010O9XWO2|          1|Digital_Video_Games|One Big Mistake!|Can't get in to i...|            2|         12|One Big Mistake! ...|0.16666666666666666|      0|one big mistake c...|[{document, 0, 11...|[{token, 0, 2, on...|[{token, 0, 2, on...|[{token, 0, 2, on...|[on, big, mistak,...|(10000,[802,3048,...|\n",
      "+----------+-----------+-------------------+----------------+--------------------+-------------+-----------+--------------------+-------------------+-------+--------------------+--------------------+--------------------+--------------------+--------------------+--------------------+--------------------+\n",
      "only showing top 1 row\n",
      "\n"
     ]
    }
   ],
   "source": [
    "hashingTF = HashingTF(inputCol=\"token_features\", outputCol=\"rawFeatures\", numFeatures = 10000)\n",
    "df_featurizedData = hashingTF.transform(df_clean_nlp)\n",
    "df_featurizedData.show(1)"
   ]
  },
  {
   "cell_type": "markdown",
   "metadata": {},
   "source": [
    "##### IDF"
   ]
  },
  {
   "cell_type": "code",
   "execution_count": 35,
   "metadata": {},
   "outputs": [
    {
     "name": "stdout",
     "output_type": "stream",
     "text": [
      "-RECORD 0-----------------------------------------------------------------------------------------------------------------------------------------------------------------------------------------------------------------------------------------------------------------------------------------------------------------------------------------------------------------------------------------------------------------------------------------------------------------------------------------------------------------------------------------------------------------------------------------------------------------------------------------------------------------------------------------------------------------------------------------------------------------------------------------------------------------------------------------------------------------------------------------------------------------------------------------------------------------------------------------------------------------------------------------------------------------------------------------------------------------------------------------------------\n",
      " product_id           | B010O9XWO2                                                                                                                                                                                                                                                                                                                                                                                                                                                                                                                                                                                                                                                                                                                                                                                                                                                                                                                                                                                                                                                                                                                            \n",
      " star_rating          | 1                                                                                                                                                                                                                                                                                                                                                                                                                                                                                                                                                                                                                                                                                                                                                                                                                                                                                                                                                                                                                                                                                                                                     \n",
      " product_category     | Digital_Video_Games                                                                                                                                                                                                                                                                                                                                                                                                                                                                                                                                                                                                                                                                                                                                                                                                                                                                                                                                                                                                                                                                                                                   \n",
      " review_headline      | One Big Mistake!                                                                                                                                                                                                                                                                                                                                                                                                                                                                                                                                                                                                                                                                                                                                                                                                                                                                                                                                                                                                                                                                                                                      \n",
      " review_body          | Can't get in to it due to the fact that you have to use the arrow keys to move around.  Very disappointed!!!                                                                                                                                                                                                                                                                                                                                                                                                                                                                                                                                                                                                                                                                                                                                                                                                                                                                                                                                                                                                                          \n",
      " helpful_votes        | 2                                                                                                                                                                                                                                                                                                                                                                                                                                                                                                                                                                                                                                                                                                                                                                                                                                                                                                                                                                                                                                                                                                                                     \n",
      " total_votes          | 12                                                                                                                                                                                                                                                                                                                                                                                                                                                                                                                                                                                                                                                                                                                                                                                                                                                                                                                                                                                                                                                                                                                                    \n",
      " review_text          | One Big Mistake! Can't get in to it due to the fact that you have to use the arrow keys to move around.  Very disappointed!!!                                                                                                                                                                                                                                                                                                                                                                                                                                                                                                                                                                                                                                                                                                                                                                                                                                                                                                                                                                                                         \n",
      " helpful_ratio        | 0.16666666666666666                                                                                                                                                                                                                                                                                                                                                                                                                                                                                                                                                                                                                                                                                                                                                                                                                                                                                                                                                                                                                                                                                                                   \n",
      " helpful              | 0                                                                                                                                                                                                                                                                                                                                                                                                                                                                                                                                                                                                                                                                                                                                                                                                                                                                                                                                                                                                                                                                                                                                     \n",
      " review_text_l        | one big mistake cant get in to it due to the fact that you have to use the arrow keys to move around very disappointed                                                                                                                                                                                                                                                                                                                                                                                                                                                                                                                                                                                                                                                                                                                                                                                                                                                                                                                                                                                                                \n",
      " document             | [{document, 0, 118, one big mistake cant get in to it due to the fact that you have to use the arrow keys to move around very disappointed , {sentence -> 0}, []}]                                                                                                                                                                                                                                                                                                                                                                                                                                                                                                                                                                                                                                                                                                                                                                                                                                                                                                                                                                    \n",
      " review_words         | [{token, 0, 2, one, {sentence -> 0}, []}, {token, 4, 6, big, {sentence -> 0}, []}, {token, 8, 14, mistake, {sentence -> 0}, []}, {token, 16, 19, cant, {sentence -> 0}, []}, {token, 21, 23, get, {sentence -> 0}, []}, {token, 25, 26, in, {sentence -> 0}, []}, {token, 28, 29, to, {sentence -> 0}, []}, {token, 31, 32, it, {sentence -> 0}, []}, {token, 34, 36, due, {sentence -> 0}, []}, {token, 38, 39, to, {sentence -> 0}, []}, {token, 41, 43, the, {sentence -> 0}, []}, {token, 45, 48, fact, {sentence -> 0}, []}, {token, 50, 53, that, {sentence -> 0}, []}, {token, 55, 57, you, {sentence -> 0}, []}, {token, 59, 62, have, {sentence -> 0}, []}, {token, 64, 65, to, {sentence -> 0}, []}, {token, 67, 69, use, {sentence -> 0}, []}, {token, 71, 73, the, {sentence -> 0}, []}, {token, 75, 79, arrow, {sentence -> 0}, []}, {token, 81, 84, keys, {sentence -> 0}, []}, {token, 86, 87, to, {sentence -> 0}, []}, {token, 89, 92, move, {sentence -> 0}, []}, {token, 94, 99, around, {sentence -> 0}, []}, {token, 101, 104, very, {sentence -> 0}, []}, {token, 106, 117, disappointed, {sentence -> 0}, []}] \n",
      " review_words_stop    | [{token, 0, 2, one, {sentence -> 0}, []}, {token, 4, 6, big, {sentence -> 0}, []}, {token, 8, 14, mistake, {sentence -> 0}, []}, {token, 16, 19, cant, {sentence -> 0}, []}, {token, 21, 23, get, {sentence -> 0}, []}, {token, 34, 36, due, {sentence -> 0}, []}, {token, 45, 48, fact, {sentence -> 0}, []}, {token, 67, 69, use, {sentence -> 0}, []}, {token, 75, 79, arrow, {sentence -> 0}, []}, {token, 81, 84, keys, {sentence -> 0}, []}, {token, 89, 92, move, {sentence -> 0}, []}, {token, 94, 99, around, {sentence -> 0}, []}, {token, 106, 117, disappointed, {sentence -> 0}, []}]                                                                                                                                                                                                                                                                                                                                                                                                                                                                                                                                    \n",
      " review_words_lemstem | [{token, 0, 2, on, {sentence -> 0}, []}, {token, 4, 6, big, {sentence -> 0}, []}, {token, 8, 14, mistak, {sentence -> 0}, []}, {token, 16, 19, cant, {sentence -> 0}, []}, {token, 21, 23, get, {sentence -> 0}, []}, {token, 34, 36, due, {sentence -> 0}, []}, {token, 45, 48, fact, {sentence -> 0}, []}, {token, 67, 69, us, {sentence -> 0}, []}, {token, 75, 79, arrow, {sentence -> 0}, []}, {token, 81, 84, kei, {sentence -> 0}, []}, {token, 89, 92, move, {sentence -> 0}, []}, {token, 94, 99, around, {sentence -> 0}, []}, {token, 106, 117, disappoint, {sentence -> 0}, []}]                                                                                                                                                                                                                                                                                                                                                                                                                                                                                                                                          \n",
      " token_features       | [on, big, mistak, cant, get, due, fact, us, arrow, kei, move, around, disappoint]                                                                                                                                                                                                                                                                                                                                                                                                                                                                                                                                                                                                                                                                                                                                                                                                                                                                                                                                                                                                                                                     \n",
      " rawFeatures          | (10000,[802,3048,3304,4947,5539,6026,6197,6282,6660,7215,9305,9426,9736],[1.0,1.0,1.0,1.0,1.0,1.0,1.0,1.0,1.0,1.0,1.0,1.0,1.0])                                                                                                                                                                                                                                                                                                                                                                                                                                                                                                                                                                                                                                                                                                                                                                                                                                                                                                                                                                                                       \n",
      " features             | (10000,[802,3048,3304,4947,5539,6026,6197,6282,6660,7215,9305,9426,9736],[2.6348155417068955,2.6725558696897425,2.8766512260332577,2.4235946353495916,4.799250296220124,1.768649197015309,2.2195223446624683,2.7258755072225256,1.5076037985144215,2.848742437916181,3.9776247908870475,0.8933751826685477,1.111581251775856])                                                                                                                                                                                                                                                                                                                                                                                                                                                                                                                                                                                                                                                                                                                                                                                                        \n",
      "only showing top 1 row\n",
      "\n",
      "Wall time: 4.79 s\n"
     ]
    }
   ],
   "source": [
    "%%time\n",
    "idf = IDF(inputCol=\"rawFeatures\", outputCol=\"features\")\n",
    "df_nlp = idf.fit(df_featurizedData).transform(df_featurizedData)\n",
    "df_nlp.show(1, vertical = True, truncate = False)"
   ]
  },
  {
   "cell_type": "code",
   "execution_count": 36,
   "metadata": {},
   "outputs": [
    {
     "name": "stdout",
     "output_type": "stream",
     "text": [
      "-RECORD 0-----------------------------------------------------------------------------------------------------------------------------------------------------------------------------------------------------------------------------------------------------------------------------------------------------------------------------------------------------------------------------------------------------------------------------------------------------------------------------------------------------------------------------------------------------------------------------------------------------------------------------------------------------------------------------------------------------------------------------------------------------------------------------------------------------------------------------------------------------------------------------------------------------------------------------------------------------------------------------------------------------------------------------------------------------------------------------------------------------------------------------------------------------\n",
      " product_id           | B010O9XWO2                                                                                                                                                                                                                                                                                                                                                                                                                                                                                                                                                                                                                                                                                                                                                                                                                                                                                                                                                                                                                                                                                                                            \n",
      " star_rating          | 1                                                                                                                                                                                                                                                                                                                                                                                                                                                                                                                                                                                                                                                                                                                                                                                                                                                                                                                                                                                                                                                                                                                                     \n",
      " product_category     | Digital_Video_Games                                                                                                                                                                                                                                                                                                                                                                                                                                                                                                                                                                                                                                                                                                                                                                                                                                                                                                                                                                                                                                                                                                                   \n",
      " review_headline      | One Big Mistake!                                                                                                                                                                                                                                                                                                                                                                                                                                                                                                                                                                                                                                                                                                                                                                                                                                                                                                                                                                                                                                                                                                                      \n",
      " review_body          | Can't get in to it due to the fact that you have to use the arrow keys to move around.  Very disappointed!!!                                                                                                                                                                                                                                                                                                                                                                                                                                                                                                                                                                                                                                                                                                                                                                                                                                                                                                                                                                                                                          \n",
      " helpful_votes        | 2                                                                                                                                                                                                                                                                                                                                                                                                                                                                                                                                                                                                                                                                                                                                                                                                                                                                                                                                                                                                                                                                                                                                     \n",
      " total_votes          | 12                                                                                                                                                                                                                                                                                                                                                                                                                                                                                                                                                                                                                                                                                                                                                                                                                                                                                                                                                                                                                                                                                                                                    \n",
      " review_text          | One Big Mistake! Can't get in to it due to the fact that you have to use the arrow keys to move around.  Very disappointed!!!                                                                                                                                                                                                                                                                                                                                                                                                                                                                                                                                                                                                                                                                                                                                                                                                                                                                                                                                                                                                         \n",
      " helpful_ratio        | 0.16666666666666666                                                                                                                                                                                                                                                                                                                                                                                                                                                                                                                                                                                                                                                                                                                                                                                                                                                                                                                                                                                                                                                                                                                   \n",
      " helpful              | 0                                                                                                                                                                                                                                                                                                                                                                                                                                                                                                                                                                                                                                                                                                                                                                                                                                                                                                                                                                                                                                                                                                                                     \n",
      " review_text_l        | one big mistake cant get in to it due to the fact that you have to use the arrow keys to move around very disappointed                                                                                                                                                                                                                                                                                                                                                                                                                                                                                                                                                                                                                                                                                                                                                                                                                                                                                                                                                                                                                \n",
      " document             | [{document, 0, 118, one big mistake cant get in to it due to the fact that you have to use the arrow keys to move around very disappointed , {sentence -> 0}, []}]                                                                                                                                                                                                                                                                                                                                                                                                                                                                                                                                                                                                                                                                                                                                                                                                                                                                                                                                                                    \n",
      " review_words         | [{token, 0, 2, one, {sentence -> 0}, []}, {token, 4, 6, big, {sentence -> 0}, []}, {token, 8, 14, mistake, {sentence -> 0}, []}, {token, 16, 19, cant, {sentence -> 0}, []}, {token, 21, 23, get, {sentence -> 0}, []}, {token, 25, 26, in, {sentence -> 0}, []}, {token, 28, 29, to, {sentence -> 0}, []}, {token, 31, 32, it, {sentence -> 0}, []}, {token, 34, 36, due, {sentence -> 0}, []}, {token, 38, 39, to, {sentence -> 0}, []}, {token, 41, 43, the, {sentence -> 0}, []}, {token, 45, 48, fact, {sentence -> 0}, []}, {token, 50, 53, that, {sentence -> 0}, []}, {token, 55, 57, you, {sentence -> 0}, []}, {token, 59, 62, have, {sentence -> 0}, []}, {token, 64, 65, to, {sentence -> 0}, []}, {token, 67, 69, use, {sentence -> 0}, []}, {token, 71, 73, the, {sentence -> 0}, []}, {token, 75, 79, arrow, {sentence -> 0}, []}, {token, 81, 84, keys, {sentence -> 0}, []}, {token, 86, 87, to, {sentence -> 0}, []}, {token, 89, 92, move, {sentence -> 0}, []}, {token, 94, 99, around, {sentence -> 0}, []}, {token, 101, 104, very, {sentence -> 0}, []}, {token, 106, 117, disappointed, {sentence -> 0}, []}] \n",
      " review_words_stop    | [{token, 0, 2, one, {sentence -> 0}, []}, {token, 4, 6, big, {sentence -> 0}, []}, {token, 8, 14, mistake, {sentence -> 0}, []}, {token, 16, 19, cant, {sentence -> 0}, []}, {token, 21, 23, get, {sentence -> 0}, []}, {token, 34, 36, due, {sentence -> 0}, []}, {token, 45, 48, fact, {sentence -> 0}, []}, {token, 67, 69, use, {sentence -> 0}, []}, {token, 75, 79, arrow, {sentence -> 0}, []}, {token, 81, 84, keys, {sentence -> 0}, []}, {token, 89, 92, move, {sentence -> 0}, []}, {token, 94, 99, around, {sentence -> 0}, []}, {token, 106, 117, disappointed, {sentence -> 0}, []}]                                                                                                                                                                                                                                                                                                                                                                                                                                                                                                                                    \n",
      " review_words_lemstem | [{token, 0, 2, on, {sentence -> 0}, []}, {token, 4, 6, big, {sentence -> 0}, []}, {token, 8, 14, mistak, {sentence -> 0}, []}, {token, 16, 19, cant, {sentence -> 0}, []}, {token, 21, 23, get, {sentence -> 0}, []}, {token, 34, 36, due, {sentence -> 0}, []}, {token, 45, 48, fact, {sentence -> 0}, []}, {token, 67, 69, us, {sentence -> 0}, []}, {token, 75, 79, arrow, {sentence -> 0}, []}, {token, 81, 84, kei, {sentence -> 0}, []}, {token, 89, 92, move, {sentence -> 0}, []}, {token, 94, 99, around, {sentence -> 0}, []}, {token, 106, 117, disappoint, {sentence -> 0}, []}]                                                                                                                                                                                                                                                                                                                                                                                                                                                                                                                                          \n",
      " token_features       | [on, big, mistak, cant, get, due, fact, us, arrow, kei, move, around, disappoint]                                                                                                                                                                                                                                                                                                                                                                                                                                                                                                                                                                                                                                                                                                                                                                                                                                                                                                                                                                                                                                                     \n",
      " rawFeatures          | (10000,[802,3048,3304,4947,5539,6026,6197,6282,6660,7215,9305,9426,9736],[1.0,1.0,1.0,1.0,1.0,1.0,1.0,1.0,1.0,1.0,1.0,1.0,1.0])                                                                                                                                                                                                                                                                                                                                                                                                                                                                                                                                                                                                                                                                                                                                                                                                                                                                                                                                                                                                       \n",
      " features             | (10000,[802,3048,3304,4947,5539,6026,6197,6282,6660,7215,9305,9426,9736],[2.6348155417068955,2.6725558696897425,2.8766512260332577,2.4235946353495916,4.799250296220124,1.768649197015309,2.2195223446624683,2.7258755072225256,1.5076037985144215,2.848742437916181,3.9776247908870475,0.8933751826685477,1.111581251775856])                                                                                                                                                                                                                                                                                                                                                                                                                                                                                                                                                                                                                                                                                                                                                                                                        \n",
      "only showing top 1 row\n",
      "\n"
     ]
    }
   ],
   "source": [
    "df_nlp.show(1, vertical = True, truncate = False)"
   ]
  },
  {
   "cell_type": "code",
   "execution_count": 37,
   "metadata": {},
   "outputs": [],
   "source": [
    "nlpdf_model = df_nlp.select('helpful','features')"
   ]
  },
  {
   "cell_type": "code",
   "execution_count": 38,
   "metadata": {},
   "outputs": [],
   "source": [
    "from pyspark.sql.types import IntegerType\n",
    "nlpdf_model = nlpdf_model.withColumn('helpful',col('helpful').cast(IntegerType()))"
   ]
  },
  {
   "cell_type": "markdown",
   "metadata": {},
   "source": [
    "##### Train & Test Split"
   ]
  },
  {
   "cell_type": "code",
   "execution_count": 39,
   "metadata": {},
   "outputs": [],
   "source": [
    "train, test = nlpdf_model.randomSplit([0.8, 0.2], seed=12345)"
   ]
  },
  {
   "cell_type": "markdown",
   "metadata": {},
   "source": [
    "## NLP Modeling"
   ]
  },
  {
   "cell_type": "markdown",
   "metadata": {},
   "source": [
    "#### Logistic Regression (1 = Helpful, 0 = Not Helpful)"
   ]
  },
  {
   "cell_type": "code",
   "execution_count": 40,
   "metadata": {},
   "outputs": [
    {
     "name": "stdout",
     "output_type": "stream",
     "text": [
      "0.8778498918289233\n",
      "0.8772086074516362\n",
      "0.8947018693772069\n",
      "0.8778498918289233\n",
      "Wall time: 1min 19s\n"
     ]
    }
   ],
   "source": [
    "%%time\n",
    "lr = LogisticRegression(featuresCol = 'features', labelCol='helpful')\n",
    "\n",
    "paramGrid = (ParamGridBuilder().addGrid(lr.regParam, [0.3, 0.0]).addGrid(lr.elasticNetParam, [0.0]).addGrid(lr.maxIter, [20, 100]).build())\n",
    "\n",
    "#Evaluator\n",
    "evaluator = MulticlassClassificationEvaluator(labelCol='helpful', predictionCol=\"prediction\")\n",
    "    \n",
    "# Create 3-fold CrossValidator\n",
    "cv = CrossValidator(estimator=lr,estimatorParamMaps=paramGrid,evaluator=evaluator,numFolds=3)\n",
    "\n",
    "cvModel = cv.fit(train)\n",
    "\n",
    "predictions = cvModel.transform(train)\n",
    "\n",
    "print(evaluator.evaluate(predictions, {evaluator.metricName: \"accuracy\"}))\n",
    "print(evaluator.evaluate(predictions, {evaluator.metricName: \"f1\"}))\n",
    "print(evaluator.evaluate(predictions, {evaluator.metricName: \"weightedPrecision\"}))\n",
    "print(evaluator.evaluate(predictions, {evaluator.metricName: \"weightedRecall\"}))"
   ]
  },
  {
   "cell_type": "code",
   "execution_count": 41,
   "metadata": {},
   "outputs": [
    {
     "name": "stdout",
     "output_type": "stream",
     "text": [
      "{Param(parent='LogisticRegression_fd488c2e5dde', name='regParam', doc='regularization parameter (>= 0).'): 0.3, Param(parent='LogisticRegression_fd488c2e5dde', name='elasticNetParam', doc='the ElasticNet mixing parameter, in range [0, 1]. For alpha = 0, the penalty is an L2 penalty. For alpha = 1, it is an L1 penalty.'): 0.0, Param(parent='LogisticRegression_fd488c2e5dde', name='maxIter', doc='max number of iterations (>= 0).'): 20}\n"
     ]
    }
   ],
   "source": [
    "print(cvModel.getEstimatorParamMaps()[np.argmax(cvModel.avgMetrics)])"
   ]
  },
  {
   "cell_type": "code",
   "execution_count": 42,
   "metadata": {},
   "outputs": [
    {
     "name": "stdout",
     "output_type": "stream",
     "text": [
      "0.696969696969697\n",
      "0.6954183356053084\n",
      "0.7148294638811044\n",
      "0.6969696969696969\n",
      "Wall time: 9.45 s\n"
     ]
    }
   ],
   "source": [
    "%%time\n",
    "predictions = cvModel.transform(test)\n",
    "\n",
    "print(evaluator.evaluate(predictions, {evaluator.metricName: \"accuracy\"}))\n",
    "print(evaluator.evaluate(predictions, {evaluator.metricName: \"f1\"}))\n",
    "print(evaluator.evaluate(predictions, {evaluator.metricName: \"weightedPrecision\"}))\n",
    "print(evaluator.evaluate(predictions, {evaluator.metricName: \"weightedRecall\"}))"
   ]
  },
  {
   "cell_type": "markdown",
   "metadata": {},
   "source": [
    "#### Naive Bayes Classifier (1 = Helpful, 0 = Not Helpful)"
   ]
  },
  {
   "cell_type": "code",
   "execution_count": 43,
   "metadata": {},
   "outputs": [
    {
     "name": "stdout",
     "output_type": "stream",
     "text": [
      "0.7766683308370778\n",
      "0.7740151037265679\n",
      "0.8011166913090862\n",
      "0.7766683308370776\n",
      "Wall time: 28.5 s\n"
     ]
    }
   ],
   "source": [
    "%%time\n",
    "nb = NaiveBayes(featuresCol='features', labelCol='helpful')\n",
    "\n",
    "paramGrid = (ParamGridBuilder().addGrid(nb.smoothing, [0.1, 0.5, 1.0]).build())\n",
    "\n",
    "#Evaluator\n",
    "evaluator = MulticlassClassificationEvaluator(labelCol='helpful', predictionCol=\"prediction\")\n",
    "    \n",
    "# Create 3-fold CrossValidator\n",
    "cv = CrossValidator(estimator=nb,estimatorParamMaps=paramGrid,evaluator=evaluator,numFolds=3)\n",
    "\n",
    "cvModel = cv.fit(train)\n",
    "\n",
    "predictions = cvModel.transform(train)\n",
    "\n",
    "print(evaluator.evaluate(predictions, {evaluator.metricName: \"accuracy\"}))\n",
    "print(evaluator.evaluate(predictions, {evaluator.metricName: \"f1\"}))\n",
    "print(evaluator.evaluate(predictions, {evaluator.metricName: \"weightedPrecision\"}))\n",
    "print(evaluator.evaluate(predictions, {evaluator.metricName: \"weightedRecall\"}))"
   ]
  },
  {
   "cell_type": "code",
   "execution_count": 44,
   "metadata": {},
   "outputs": [
    {
     "name": "stdout",
     "output_type": "stream",
     "text": [
      "{Param(parent='NaiveBayes_2a16f1a7e655', name='smoothing', doc='The smoothing parameter, should be >= 0, default is 1.0'): 0.5}\n"
     ]
    }
   ],
   "source": [
    "print(cvModel.getEstimatorParamMaps()[np.argmax(cvModel.avgMetrics)])"
   ]
  },
  {
   "cell_type": "code",
   "execution_count": 45,
   "metadata": {},
   "outputs": [
    {
     "name": "stdout",
     "output_type": "stream",
     "text": [
      "0.6567852437417655\n",
      "0.6558013480158278\n",
      "0.6698259676558195\n",
      "0.6567852437417656\n",
      "Wall time: 9.22 s\n"
     ]
    }
   ],
   "source": [
    "%%time\n",
    "predictions = cvModel.transform(test)\n",
    "\n",
    "print(evaluator.evaluate(predictions, {evaluator.metricName: \"accuracy\"}))\n",
    "print(evaluator.evaluate(predictions, {evaluator.metricName: \"f1\"}))\n",
    "print(evaluator.evaluate(predictions, {evaluator.metricName: \"weightedPrecision\"}))\n",
    "print(evaluator.evaluate(predictions, {evaluator.metricName: \"weightedRecall\"}))"
   ]
  },
  {
   "cell_type": "markdown",
   "metadata": {},
   "source": [
    "#### Random Forest Classifier (1 = Helpful, 0 = Not Helpful)"
   ]
  },
  {
   "cell_type": "code",
   "execution_count": 46,
   "metadata": {},
   "outputs": [
    {
     "name": "stdout",
     "output_type": "stream",
     "text": [
      "0.6876352138458979\n",
      "0.6876500067759589\n",
      "0.6907652132036016\n",
      "0.6876352138458979\n",
      "Wall time: 53.8 s\n"
     ]
    }
   ],
   "source": [
    "%%time\n",
    "rfc = RandomForestClassifier(impurity=\"gini\", featuresCol='features', labelCol=\"helpful\")\n",
    "\n",
    "paramGrid = (ParamGridBuilder().addGrid(rfc.impurity, ['gini', 'entropy']).addGrid(rfc.maxBins, [32, 100]).build())\n",
    "\n",
    "#Evaluator\n",
    "evaluator = MulticlassClassificationEvaluator(labelCol='helpful', predictionCol=\"prediction\")\n",
    "    \n",
    "# Create 3-fold CrossValidator\n",
    "cv = CrossValidator(estimator=rfc,estimatorParamMaps=paramGrid,evaluator=evaluator,numFolds=3)\n",
    "\n",
    "cvModel = cv.fit(train)\n",
    "\n",
    "predictions = cvModel.transform(train)\n",
    "\n",
    "print(evaluator.evaluate(predictions, {evaluator.metricName: \"accuracy\"}))\n",
    "print(evaluator.evaluate(predictions, {evaluator.metricName: \"f1\"}))\n",
    "print(evaluator.evaluate(predictions, {evaluator.metricName: \"weightedPrecision\"}))\n",
    "print(evaluator.evaluate(predictions, {evaluator.metricName: \"weightedRecall\"}))"
   ]
  },
  {
   "cell_type": "code",
   "execution_count": 47,
   "metadata": {},
   "outputs": [
    {
     "name": "stdout",
     "output_type": "stream",
     "text": [
      "{Param(parent='RandomForestClassifier_7d8e4e67e3c0', name='impurity', doc='Criterion used for information gain calculation (case-insensitive). Supported options: entropy, gini'): 'entropy', Param(parent='RandomForestClassifier_7d8e4e67e3c0', name='maxBins', doc='Max number of bins for discretizing continuous features.  Must be >=2 and >= number of categories for any categorical feature.'): 32}\n"
     ]
    }
   ],
   "source": [
    "print(cvModel.getEstimatorParamMaps()[np.argmax(cvModel.avgMetrics)])"
   ]
  },
  {
   "cell_type": "code",
   "execution_count": 48,
   "metadata": {},
   "outputs": [
    {
     "name": "stdout",
     "output_type": "stream",
     "text": [
      "0.6851119894598156\n",
      "0.6853629158432148\n",
      "0.6918208623694557\n",
      "0.6851119894598157\n",
      "Wall time: 9.16 s\n"
     ]
    }
   ],
   "source": [
    "%%time\n",
    "predictions = cvModel.transform(test)\n",
    "\n",
    "print(evaluator.evaluate(predictions, {evaluator.metricName: \"accuracy\"}))\n",
    "print(evaluator.evaluate(predictions, {evaluator.metricName: \"f1\"}))\n",
    "print(evaluator.evaluate(predictions, {evaluator.metricName: \"weightedPrecision\"}))\n",
    "print(evaluator.evaluate(predictions, {evaluator.metricName: \"weightedRecall\"}))"
   ]
  }
 ],
 "metadata": {
  "kernelspec": {
   "display_name": "Python 3",
   "language": "python",
   "name": "python3"
  },
  "language_info": {
   "codemirror_mode": {
    "name": "ipython",
    "version": 3
   },
   "file_extension": ".py",
   "mimetype": "text/x-python",
   "name": "python",
   "nbconvert_exporter": "python",
   "pygments_lexer": "ipython3",
   "version": "3.7.6"
  }
 },
 "nbformat": 4,
 "nbformat_minor": 4
}
