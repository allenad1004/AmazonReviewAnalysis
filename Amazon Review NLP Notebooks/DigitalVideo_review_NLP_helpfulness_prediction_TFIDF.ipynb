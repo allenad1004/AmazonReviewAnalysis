{
 "cells": [
  {
   "cell_type": "markdown",
   "metadata": {},
   "source": [
    "# Review NLP Helpfulness Prediction TFIDF (Digital Video)"
   ]
  },
  {
   "cell_type": "markdown",
   "metadata": {},
   "source": [
    "## Creating Spark Session & Importing All Necessary Libraries"
   ]
  },
  {
   "cell_type": "code",
   "execution_count": 1,
   "metadata": {},
   "outputs": [],
   "source": [
    "import findspark\n",
    "findspark.init()"
   ]
  },
  {
   "cell_type": "code",
   "execution_count": 2,
   "metadata": {},
   "outputs": [],
   "source": [
    "from pyspark.sql import SparkSession\n",
    "from pyspark.sql import functions as F\n",
    "from sparknlp.base import *\n",
    "from sparknlp.annotator import *\n",
    "\n",
    "import sparknlp\n",
    "\n",
    "# Start SparkSession with Spark NLP\n",
    "# start() functions has 5 parameters: gpu, spark23, spark24, spark32, and memory\n",
    "# sparknlp.start(gpu=True) will start the session with GPU support\n",
    "# sparknlp.start(spark23=True) is when you have Apache Spark 2.3.x installed\n",
    "# sparknlp.start(spark24=True) is when you have Apache Spark 2.4.x installed\n",
    "# sparknlp.start(spark32=True) is when you have Apache Spark 3.2.x installed\n",
    "# sparknlp.start(memory=\"16G\") to change the default driver memory in SparkSession\n",
    "spark = sparknlp.start(gpu = True)"
   ]
  },
  {
   "cell_type": "code",
   "execution_count": 3,
   "metadata": {},
   "outputs": [],
   "source": [
    "from pyspark.sql.functions import lower, col\n",
    "from pyspark.sql.types import ArrayType, StringType\n",
    "from pyspark.sql import DataFrame\n",
    "from pyspark.ml.feature import HashingTF, IDF, StopWordsRemover, CountVectorizer\n",
    "from pyspark.ml import Pipeline, Transformer\n",
    "from pyspark.ml.tuning import ParamGridBuilder, TrainValidationSplit, CrossValidator\n",
    "from pyspark.ml.evaluation import MulticlassClassificationEvaluator\n",
    "from pyspark.ml.classification import LogisticRegression, RandomForestClassifier, DecisionTreeClassifier, NaiveBayes\n",
    "import numpy as np\n",
    "\n",
    "import nltk\n",
    "import matplotlib.pyplot as plt\n",
    "%matplotlib inline\n",
    "\n",
    "#nltk.download('wordnet')"
   ]
  },
  {
   "cell_type": "code",
   "execution_count": 4,
   "metadata": {},
   "outputs": [
    {
     "name": "stderr",
     "output_type": "stream",
     "text": [
      "[nltk_data] Downloading package stopwords to\n",
      "[nltk_data]     C:\\Users\\kenne\\AppData\\Roaming\\nltk_data...\n",
      "[nltk_data]   Package stopwords is already up-to-date!\n"
     ]
    }
   ],
   "source": [
    "import nltk\n",
    "nltk.download('stopwords')\n",
    "from nltk.corpus import stopwords\n",
    "eng_stopwords = stopwords.words('english')"
   ]
  },
  {
   "cell_type": "markdown",
   "metadata": {},
   "source": [
    "### Reading in Data"
   ]
  },
  {
   "cell_type": "code",
   "execution_count": 5,
   "metadata": {},
   "outputs": [],
   "source": [
    "df = spark.read \\\n",
    "    .option(\"quote\", \"\\\"\")  \\\n",
    "    .option(\"escape\", \"\\\"\") \\\n",
    "    .option(\"ignoreLeadingWhiteSpace\",True) \\\n",
    "    .csv(r\"C:\\Users\\kenne\\OneDrive\\Desktop\\UChicago\\Python\\Final Project Big Data Amazon Review\\Amazon Review Kaggle Data\\amazon_reviews_us_Digital_Video_Download_v1_00.tsv\",inferSchema=True,header=True, sep='\\t' )"
   ]
  },
  {
   "cell_type": "markdown",
   "metadata": {},
   "source": [
    "## Code Cleaning"
   ]
  },
  {
   "cell_type": "code",
   "execution_count": 6,
   "metadata": {
    "scrolled": true
   },
   "outputs": [
    {
     "name": "stdout",
     "output_type": "stream",
     "text": [
      "-RECORD 0-----------------------------------------------------------------------------------------------------\n",
      " marketplace       | US                                                                                       \n",
      " customer_id       | 12190288                                                                                 \n",
      " review_id         | R3FU16928EP5TC                                                                           \n",
      " product_id        | B00AYB1482                                                                               \n",
      " product_parent    | 668895143                                                                                \n",
      " product_title     | Enlightened: Season 1                                                                    \n",
      " product_category  | Digital_Video_Download                                                                   \n",
      " star_rating       | 5                                                                                        \n",
      " helpful_votes     | 0                                                                                        \n",
      " total_votes       | 0                                                                                        \n",
      " vine              | N                                                                                        \n",
      " verified_purchase | Y                                                                                        \n",
      " review_headline   | I loved it and I wish there was a season 3                                               \n",
      " review_body       | I loved it and I wish there was a season 3... I watched season 2 and loved that as well! \n",
      " review_date       | 2015-08-31                                                                               \n",
      "only showing top 1 row\n",
      "\n"
     ]
    }
   ],
   "source": [
    "df.show(1, vertical = True, truncate = False)"
   ]
  },
  {
   "cell_type": "code",
   "execution_count": 7,
   "metadata": {},
   "outputs": [],
   "source": [
    "df = df.select('product_id', 'star_rating', 'product_category', 'review_headline', 'review_body', 'helpful_votes', 'total_votes')"
   ]
  },
  {
   "cell_type": "code",
   "execution_count": 8,
   "metadata": {},
   "outputs": [
    {
     "name": "stdout",
     "output_type": "stream",
     "text": [
      "-RECORD 0----------------------------------------------------------------------------------------------------\n",
      " product_id       | B00AYB1482                                                                               \n",
      " star_rating      | 5                                                                                        \n",
      " product_category | Digital_Video_Download                                                                   \n",
      " review_headline  | I loved it and I wish there was a season 3                                               \n",
      " review_body      | I loved it and I wish there was a season 3... I watched season 2 and loved that as well! \n",
      " helpful_votes    | 0                                                                                        \n",
      " total_votes      | 0                                                                                        \n",
      "only showing top 1 row\n",
      "\n"
     ]
    }
   ],
   "source": [
    "df.show(1, vertical = True, truncate = False)"
   ]
  },
  {
   "cell_type": "code",
   "execution_count": 9,
   "metadata": {},
   "outputs": [
    {
     "data": {
      "text/plain": [
       "4056163"
      ]
     },
     "execution_count": 9,
     "metadata": {},
     "output_type": "execute_result"
    }
   ],
   "source": [
    "df.dropna().count()"
   ]
  },
  {
   "cell_type": "code",
   "execution_count": 10,
   "metadata": {},
   "outputs": [
    {
     "name": "stdout",
     "output_type": "stream",
     "text": [
      "+----------+-----------+----------------+---------------+-----------+-------------+-----------+\n",
      "|product_id|star_rating|product_category|review_headline|review_body|helpful_votes|total_votes|\n",
      "+----------+-----------+----------------+---------------+-----------+-------------+-----------+\n",
      "|         0|          0|               0|            369|        616|            0|          0|\n",
      "+----------+-----------+----------------+---------------+-----------+-------------+-----------+\n",
      "\n"
     ]
    }
   ],
   "source": [
    "from pyspark.sql.functions import col,isnan, when, count\n",
    "df.select([count(when(isnan(c) | col(c).isNull(), c)).alias(c) for c in df.columns]\n",
    "   ).show()"
   ]
  },
  {
   "cell_type": "code",
   "execution_count": 11,
   "metadata": {},
   "outputs": [
    {
     "name": "stdout",
     "output_type": "stream",
     "text": [
      "-RECORD 0----------------\n",
      " product_id       | 19   \n",
      " star_rating      | 0    \n",
      " product_category | 0    \n",
      " review_headline  | 601  \n",
      " review_body      | 4460 \n",
      " helpful_votes    | 0    \n",
      " total_votes      | 0    \n",
      "\n"
     ]
    }
   ],
   "source": [
    "df2 = df.select([count(when(col(c).contains('None') | \\\n",
    "                            col(c).contains('NULL') | \\\n",
    "                            (col(c) == '' ) | \\\n",
    "                            col(c).isNull() | \\\n",
    "                            isnan(c), c \n",
    "                           )).alias(c)\n",
    "                    for c in df.columns])\n",
    "df2.count()\n",
    "df2.show(5, vertical = True)"
   ]
  },
  {
   "cell_type": "code",
   "execution_count": 12,
   "metadata": {},
   "outputs": [
    {
     "data": {
      "text/plain": [
       "62710"
      ]
     },
     "execution_count": 12,
     "metadata": {},
     "output_type": "execute_result"
    }
   ],
   "source": [
    "df = df.filter(col('total_votes') > 10)\n",
    "df.count()"
   ]
  },
  {
   "cell_type": "code",
   "execution_count": 13,
   "metadata": {},
   "outputs": [],
   "source": [
    "df = df.fillna(\"\", \"review_body\")\n",
    "df = df.fillna(\"\", \"review_headline\")"
   ]
  },
  {
   "cell_type": "code",
   "execution_count": 14,
   "metadata": {},
   "outputs": [
    {
     "name": "stdout",
     "output_type": "stream",
     "text": [
      "-RECORD 0----------------------------------------------------------------------------------------------------------------------------------------------------------------------------------------------------------------------------------------------------------------------------------------------------------------------------------------------------------------------------------------------------------------------------------------------------------------------------------------------------------------------------------\n",
      " product_id       | B01489L5LQ                                                                                                                                                                                                                                                                                                                                                                                                                                                                                                             \n",
      " star_rating      | 4                                                                                                                                                                                                                                                                                                                                                                                                                                                                                                                      \n",
      " product_category | Digital_Video_Download                                                                                                                                                                                                                                                                                                                                                                                                                                                                                                 \n",
      " review_headline  | Charming movie                                                                                                                                                                                                                                                                                                                                                                                                                                                                                                         \n",
      " review_body      | This movie isn't perfect, but it gets a lot of things right. Yes, the librarian character played by Marcia Gay Harden is stereotypical and played a bit heavy-handed. But the universal nature of the story, the beautiful setting, and the likability of the characters overcome this flaw. The quote at the end brought tears to my eyes.  If you want to take a break from Hollywood's standard fare of dark, violent, or stupid movies, then give this a try. It is is entertaining and thoughtful.                \n",
      " helpful_votes    | 17                                                                                                                                                                                                                                                                                                                                                                                                                                                                                                                     \n",
      " total_votes      | 18                                                                                                                                                                                                                                                                                                                                                                                                                                                                                                                     \n",
      " review_text      | Charming movie This movie isn't perfect, but it gets a lot of things right. Yes, the librarian character played by Marcia Gay Harden is stereotypical and played a bit heavy-handed. But the universal nature of the story, the beautiful setting, and the likability of the characters overcome this flaw. The quote at the end brought tears to my eyes.  If you want to take a break from Hollywood's standard fare of dark, violent, or stupid movies, then give this a try. It is is entertaining and thoughtful. \n",
      "only showing top 1 row\n",
      "\n"
     ]
    }
   ],
   "source": [
    "df = df.withColumn('review_text', F.concat('review_headline', F.lit(\" \"), 'review_body'))\n",
    "df.show(1, vertical = True, truncate = False)"
   ]
  },
  {
   "cell_type": "code",
   "execution_count": 15,
   "metadata": {},
   "outputs": [
    {
     "name": "stdout",
     "output_type": "stream",
     "text": [
      "(0 rows)\n",
      "\n"
     ]
    }
   ],
   "source": [
    "df.filter((col(\"review_text\").isNull()) | ( col(\"review_text\") == \"\")).show(1, vertical = True, truncate = False)"
   ]
  },
  {
   "cell_type": "code",
   "execution_count": 16,
   "metadata": {},
   "outputs": [
    {
     "name": "stdout",
     "output_type": "stream",
     "text": [
      "-RECORD 0---------------\n",
      " product_id       | 0   \n",
      " star_rating      | 0   \n",
      " product_category | 0   \n",
      " review_headline  | 1   \n",
      " review_body      | 23  \n",
      " helpful_votes    | 0   \n",
      " total_votes      | 0   \n",
      " review_text      | 0   \n",
      "\n"
     ]
    }
   ],
   "source": [
    "df.select([count(when((col(c) == '' ) | \\\n",
    "                            col(c).isNull() | \\\n",
    "                            isnan(c), c \n",
    "                           )).alias(c)\n",
    "                    for c in df.columns]).show(5, vertical = True)"
   ]
  },
  {
   "cell_type": "code",
   "execution_count": 17,
   "metadata": {},
   "outputs": [
    {
     "name": "stdout",
     "output_type": "stream",
     "text": [
      "-RECORD 0----------------------------------------------------------------------------------------------------------------------------------------------------------------------------------------------------------------------------------------------------------------------------------------------------------------------------------------------------------------------------------------------------------------------------------------------------------------------------------------------------------------------------------\n",
      " product_id       | B01489L5LQ                                                                                                                                                                                                                                                                                                                                                                                                                                                                                                             \n",
      " star_rating      | 4                                                                                                                                                                                                                                                                                                                                                                                                                                                                                                                      \n",
      " product_category | Digital_Video_Download                                                                                                                                                                                                                                                                                                                                                                                                                                                                                                 \n",
      " review_headline  | Charming movie                                                                                                                                                                                                                                                                                                                                                                                                                                                                                                         \n",
      " review_body      | This movie isn't perfect, but it gets a lot of things right. Yes, the librarian character played by Marcia Gay Harden is stereotypical and played a bit heavy-handed. But the universal nature of the story, the beautiful setting, and the likability of the characters overcome this flaw. The quote at the end brought tears to my eyes.  If you want to take a break from Hollywood's standard fare of dark, violent, or stupid movies, then give this a try. It is is entertaining and thoughtful.                \n",
      " helpful_votes    | 17                                                                                                                                                                                                                                                                                                                                                                                                                                                                                                                     \n",
      " total_votes      | 18                                                                                                                                                                                                                                                                                                                                                                                                                                                                                                                     \n",
      " review_text      | Charming movie This movie isn't perfect, but it gets a lot of things right. Yes, the librarian character played by Marcia Gay Harden is stereotypical and played a bit heavy-handed. But the universal nature of the story, the beautiful setting, and the likability of the characters overcome this flaw. The quote at the end brought tears to my eyes.  If you want to take a break from Hollywood's standard fare of dark, violent, or stupid movies, then give this a try. It is is entertaining and thoughtful. \n",
      " helpful_ratio    | 0.9444444444444444                                                                                                                                                                                                                                                                                                                                                                                                                                                                                                     \n",
      "only showing top 1 row\n",
      "\n"
     ]
    }
   ],
   "source": [
    "df = df.withColumn('helpful_ratio', F.col('helpful_votes') / F.col('total_votes'))\n",
    "df.show(1, vertical = True, truncate = False)"
   ]
  },
  {
   "cell_type": "code",
   "execution_count": 18,
   "metadata": {},
   "outputs": [
    {
     "data": {
      "text/plain": [
       "0"
      ]
     },
     "execution_count": 18,
     "metadata": {},
     "output_type": "execute_result"
    }
   ],
   "source": [
    "df.filter(col('helpful_ratio') < 0).count()"
   ]
  },
  {
   "cell_type": "code",
   "execution_count": 19,
   "metadata": {},
   "outputs": [],
   "source": [
    "df = df.withColumn('helpful', when(col(\"helpful_ratio\") < 0.5, 0).otherwise(1))"
   ]
  },
  {
   "cell_type": "code",
   "execution_count": 20,
   "metadata": {
    "scrolled": true
   },
   "outputs": [
    {
     "name": "stdout",
     "output_type": "stream",
     "text": [
      "-RECORD 0--------------------------------\n",
      " product_id       | B01489L5LQ           \n",
      " star_rating      | 4                    \n",
      " product_category | Digital_Video_Dow... \n",
      " review_headline  | Charming movie       \n",
      " review_body      | This movie isn't ... \n",
      " helpful_votes    | 17                   \n",
      " total_votes      | 18                   \n",
      " review_text      | Charming movie Th... \n",
      " helpful_ratio    | 0.9444444444444444   \n",
      " helpful          | 1                    \n",
      "-RECORD 1--------------------------------\n",
      " product_id       | B00SZT6I3G           \n",
      " star_rating      | 1                    \n",
      " product_category | Digital_Video_Dow... \n",
      " review_headline  | If it can't be br... \n",
      " review_body      | If it can't be br... \n",
      " helpful_votes    | 11                   \n",
      " total_votes      | 18                   \n",
      " review_text      | If it can't be br... \n",
      " helpful_ratio    | 0.6111111111111112   \n",
      " helpful          | 1                    \n",
      "-RECORD 2--------------------------------\n",
      " product_id       | B00VO8D13K           \n",
      " star_rating      | 1                    \n",
      " product_category | Digital_Video_Dow... \n",
      " review_headline  | Unnecessarily Slo... \n",
      " review_body      | This is an unnece... \n",
      " helpful_votes    | 9                    \n",
      " total_votes      | 33                   \n",
      " review_text      | Unnecessarily Slo... \n",
      " helpful_ratio    | 0.2727272727272727   \n",
      " helpful          | 0                    \n",
      "-RECORD 3--------------------------------\n",
      " product_id       | B0142KHDI0           \n",
      " star_rating      | 1                    \n",
      " product_category | Digital_Video_Dow... \n",
      " review_headline  | Underwhelming        \n",
      " review_body      | Really bad writin... \n",
      " helpful_votes    | 11                   \n",
      " total_votes      | 13                   \n",
      " review_text      | Underwhelming Rea... \n",
      " helpful_ratio    | 0.8461538461538461   \n",
      " helpful          | 1                    \n",
      "-RECORD 4--------------------------------\n",
      " product_id       | B00ZC3X6TW           \n",
      " star_rating      | 1                    \n",
      " product_category | Digital_Video_Dow... \n",
      " review_headline  | One Star             \n",
      " review_body      | Bizarre boring, j... \n",
      " helpful_votes    | 1                    \n",
      " total_votes      | 11                   \n",
      " review_text      | One Star Bizarre ... \n",
      " helpful_ratio    | 0.09090909090909091  \n",
      " helpful          | 0                    \n",
      "only showing top 5 rows\n",
      "\n"
     ]
    }
   ],
   "source": [
    "df.show(5, vertical = True)"
   ]
  },
  {
   "cell_type": "markdown",
   "metadata": {},
   "source": [
    "### Cleaning the Review_Text"
   ]
  },
  {
   "cell_type": "code",
   "execution_count": 21,
   "metadata": {},
   "outputs": [],
   "source": [
    "df_clean = df"
   ]
  },
  {
   "cell_type": "code",
   "execution_count": 22,
   "metadata": {},
   "outputs": [
    {
     "name": "stdout",
     "output_type": "stream",
     "text": [
      "root\n",
      " |-- product_id: string (nullable = true)\n",
      " |-- star_rating: integer (nullable = true)\n",
      " |-- product_category: string (nullable = true)\n",
      " |-- review_headline: string (nullable = false)\n",
      " |-- review_body: string (nullable = false)\n",
      " |-- helpful_votes: integer (nullable = true)\n",
      " |-- total_votes: integer (nullable = true)\n",
      " |-- review_text: string (nullable = false)\n",
      " |-- helpful_ratio: double (nullable = true)\n",
      " |-- helpful: integer (nullable = false)\n",
      "\n"
     ]
    }
   ],
   "source": [
    "df_clean.printSchema()"
   ]
  },
  {
   "cell_type": "code",
   "execution_count": 23,
   "metadata": {
    "scrolled": true
   },
   "outputs": [
    {
     "name": "stdout",
     "output_type": "stream",
     "text": [
      "+-------+\n",
      "|helpful|\n",
      "+-------+\n",
      "|      1|\n",
      "|      0|\n",
      "+-------+\n",
      "\n"
     ]
    }
   ],
   "source": [
    "df_clean.select(\"helpful\").distinct().show()"
   ]
  },
  {
   "cell_type": "code",
   "execution_count": 24,
   "metadata": {},
   "outputs": [],
   "source": [
    "#Making the review text to all lower case\n",
    "df_clean=df_clean.withColumn('review_text_l', F.lower(F.col('review_text')))"
   ]
  },
  {
   "cell_type": "code",
   "execution_count": 25,
   "metadata": {},
   "outputs": [
    {
     "name": "stdout",
     "output_type": "stream",
     "text": [
      "-RECORD 0-----------------------------\n",
      " review_text_l | charming movie th... \n",
      "-RECORD 1-----------------------------\n",
      " review_text_l | if it can't be br... \n",
      "-RECORD 2-----------------------------\n",
      " review_text_l | unnecessarily slo... \n",
      "-RECORD 3-----------------------------\n",
      " review_text_l | underwhelming rea... \n",
      "-RECORD 4-----------------------------\n",
      " review_text_l | one star bizarre ... \n",
      "only showing top 5 rows\n",
      "\n"
     ]
    }
   ],
   "source": [
    "df_clean.select(df_clean.columns[10]).show(5, vertical = True)"
   ]
  },
  {
   "cell_type": "code",
   "execution_count": 26,
   "metadata": {},
   "outputs": [],
   "source": [
    "#Removing all of the additional punctuations\n",
    "df_clean=df_clean.withColumn('review_text_l', F.regexp_replace('review_text_l', '\\'', ''))\n",
    "                                                                 \n",
    "df_clean=df_clean.withColumn('review_text_l', F.regexp_replace('review_text_l', '\\\\n|[^\\w]', ' ')).withColumn('review_text_l', F.regexp_replace('review_text_l', '\\s+', ' '))"
   ]
  },
  {
   "cell_type": "code",
   "execution_count": 27,
   "metadata": {},
   "outputs": [
    {
     "name": "stdout",
     "output_type": "stream",
     "text": [
      "-RECORD 0----------------------------------------------------------------------------------------------------------------------------------------------------------------------------------------------------------------------------------------------------------------------------------------------------------------------------------------------------------------------------------------------------------------------------------------------------------------------------------------------------------------\n",
      " review_text_l | charming movie this movie isnt perfect but it gets a lot of things right yes the librarian character played by marcia gay harden is stereotypical and played a bit heavy handed but the universal nature of the story the beautiful setting and the likability of the characters overcome this flaw the quote at the end brought tears to my eyes if you want to take a break from hollywoods standard fare of dark violent or stupid movies then give this a try it is is entertaining and thoughtful  \n",
      "-RECORD 1----------------------------------------------------------------------------------------------------------------------------------------------------------------------------------------------------------------------------------------------------------------------------------------------------------------------------------------------------------------------------------------------------------------------------------------------------------------------------------------------------------------\n",
      " review_text_l | if it cant be brought if it cant be brought then dont believe the hype do your research well before you try to buy your only gonna to get hopes up for something thats not attainable                                                                                                                                                                                                                                                                                                                   \n",
      "-RECORD 2----------------------------------------------------------------------------------------------------------------------------------------------------------------------------------------------------------------------------------------------------------------------------------------------------------------------------------------------------------------------------------------------------------------------------------------------------------------------------------------------------------------\n",
      " review_text_l | unnecessarily slow and unentertaining this is an unnecessarily slow movie forget the politics of what edward snowden did and you still have a movie that fails to keep your attention there is a lot of subtitle reading that also detracts from any sense of immersion if you want to know about this story search the web and save yourself 2 hours                                                                                                                                                   \n",
      "-RECORD 3----------------------------------------------------------------------------------------------------------------------------------------------------------------------------------------------------------------------------------------------------------------------------------------------------------------------------------------------------------------------------------------------------------------------------------------------------------------------------------------------------------------\n",
      " review_text_l | underwhelming really bad writing so frustrating because the actors are amazing talents and the story is even such a great idea but the writing was terrible                                                                                                                                                                                                                                                                                                                                             \n",
      "-RECORD 4----------------------------------------------------------------------------------------------------------------------------------------------------------------------------------------------------------------------------------------------------------------------------------------------------------------------------------------------------------------------------------------------------------------------------------------------------------------------------------------------------------------\n",
      " review_text_l | one star bizarre boring just terrible                                                                                                                                                                                                                                                                                                                                                                                                                                                                   \n",
      "only showing top 5 rows\n",
      "\n"
     ]
    }
   ],
   "source": [
    "df_clean.select('review_text_l').show(5,vertical = True, truncate = False)"
   ]
  },
  {
   "cell_type": "code",
   "execution_count": 28,
   "metadata": {},
   "outputs": [
    {
     "data": {
      "text/plain": [
       "0"
      ]
     },
     "execution_count": 28,
     "metadata": {},
     "output_type": "execute_result"
    }
   ],
   "source": [
    "#Removing reviews that have 3 or less words\n",
    "df_clean.filter(F.length(df_clean.review_text_l) < 3).count()"
   ]
  },
  {
   "cell_type": "code",
   "execution_count": 29,
   "metadata": {},
   "outputs": [],
   "source": [
    "df_clean = df_clean.filter(F.length(df_clean.review_text_l) > 3)"
   ]
  },
  {
   "cell_type": "code",
   "execution_count": 30,
   "metadata": {
    "scrolled": false
   },
   "outputs": [
    {
     "data": {
      "text/plain": [
       "62710"
      ]
     },
     "execution_count": 30,
     "metadata": {},
     "output_type": "execute_result"
    }
   ],
   "source": [
    "df_clean.count()"
   ]
  },
  {
   "cell_type": "markdown",
   "metadata": {},
   "source": [
    "## NLP Pipeline"
   ]
  },
  {
   "cell_type": "markdown",
   "metadata": {},
   "source": [
    "This pipeline consists of the following: Tokenizer, Stop Words Remover, Stemming, & TFIDF"
   ]
  },
  {
   "cell_type": "code",
   "execution_count": 31,
   "metadata": {},
   "outputs": [],
   "source": [
    "#Document & Tokenize\n",
    "document_assembler = DocumentAssembler().setInputCol(\"review_text_l\").setOutputCol(\"document\")\n",
    "tokenizer = Tokenizer().setInputCols([\"document\"]).setOutputCol(\"review_words\")\n",
    " \n",
    "#Cleaning Tokens\n",
    "remover           = StopWordsCleaner().setInputCols(\"review_words\").setOutputCol(\"review_words_stop\").setCaseSensitive(False).setStopWords(eng_stopwords)\n",
    "#lemmatizer        = Lemmatizer().setInputCols([\"review_words_stop\"]).setOutputCol(\"review_words_lemstem\")\n",
    "stemmer           = Stemmer().setInputCols([\"review_words_stop\"]).setOutputCol(\"review_words_lemstem\")\n",
    "finisher          = Finisher().setInputCols([\"review_words_lemstem\"]).setOutputCols([\"token_features\"]).setOutputAsArray(True).setCleanAnnotations(False)\n",
    "#hashingTF         = HashingTF(inputCol=\"token_features\", outputCol=\"rawFeatures\")\n",
    "#idf               = IDF(inputCol=\"rawFeatures\", outputCol=\"features\")\n",
    "\n",
    "pipeline_stem = Pipeline(stages=[document_assembler,tokenizer,remover,stemmer,finisher])#,hashingTF,idf])   "
   ]
  },
  {
   "cell_type": "markdown",
   "metadata": {},
   "source": [
    "##### Running NLP pipeline"
   ]
  },
  {
   "cell_type": "code",
   "execution_count": 32,
   "metadata": {},
   "outputs": [
    {
     "name": "stdout",
     "output_type": "stream",
     "text": [
      "Wall time: 290 ms\n"
     ]
    }
   ],
   "source": [
    "%%time\n",
    "df_clean_nlp = pipeline_stem.fit(df_clean).transform(df_clean)"
   ]
  },
  {
   "cell_type": "code",
   "execution_count": 33,
   "metadata": {},
   "outputs": [
    {
     "name": "stdout",
     "output_type": "stream",
     "text": [
      "+----------+-----------+--------------------+---------------+--------------------+-------------+-----------+--------------------+------------------+-------+--------------------+--------------------+--------------------+--------------------+--------------------+--------------------+\n",
      "|product_id|star_rating|    product_category|review_headline|         review_body|helpful_votes|total_votes|         review_text|     helpful_ratio|helpful|       review_text_l|            document|        review_words|   review_words_stop|review_words_lemstem|      token_features|\n",
      "+----------+-----------+--------------------+---------------+--------------------+-------------+-----------+--------------------+------------------+-------+--------------------+--------------------+--------------------+--------------------+--------------------+--------------------+\n",
      "|B01489L5LQ|          4|Digital_Video_Dow...| Charming movie|This movie isn't ...|           17|         18|Charming movie Th...|0.9444444444444444|      1|charming movie th...|[{document, 0, 48...|[{token, 0, 7, ch...|[{token, 0, 7, ch...|[{token, 0, 7, ch...|[charm, movi, mov...|\n",
      "+----------+-----------+--------------------+---------------+--------------------+-------------+-----------+--------------------+------------------+-------+--------------------+--------------------+--------------------+--------------------+--------------------+--------------------+\n",
      "only showing top 1 row\n",
      "\n"
     ]
    }
   ],
   "source": [
    "df_clean_nlp.show(1)"
   ]
  },
  {
   "cell_type": "markdown",
   "metadata": {},
   "source": [
    "##### Hashing TF"
   ]
  },
  {
   "cell_type": "code",
   "execution_count": 34,
   "metadata": {},
   "outputs": [
    {
     "name": "stdout",
     "output_type": "stream",
     "text": [
      "+----------+-----------+--------------------+---------------+--------------------+-------------+-----------+--------------------+------------------+-------+--------------------+--------------------+--------------------+--------------------+--------------------+--------------------+--------------------+\n",
      "|product_id|star_rating|    product_category|review_headline|         review_body|helpful_votes|total_votes|         review_text|     helpful_ratio|helpful|       review_text_l|            document|        review_words|   review_words_stop|review_words_lemstem|      token_features|         rawFeatures|\n",
      "+----------+-----------+--------------------+---------------+--------------------+-------------+-----------+--------------------+------------------+-------+--------------------+--------------------+--------------------+--------------------+--------------------+--------------------+--------------------+\n",
      "|B01489L5LQ|          4|Digital_Video_Dow...| Charming movie|This movie isn't ...|           17|         18|Charming movie Th...|0.9444444444444444|      1|charming movie th...|[{document, 0, 48...|[{token, 0, 7, ch...|[{token, 0, 7, ch...|[{token, 0, 7, ch...|[charm, movi, mov...|(10000,[55,117,45...|\n",
      "+----------+-----------+--------------------+---------------+--------------------+-------------+-----------+--------------------+------------------+-------+--------------------+--------------------+--------------------+--------------------+--------------------+--------------------+--------------------+\n",
      "only showing top 1 row\n",
      "\n"
     ]
    }
   ],
   "source": [
    "hashingTF = HashingTF(inputCol=\"token_features\", outputCol=\"rawFeatures\", numFeatures = 10000)\n",
    "df_featurizedData = hashingTF.transform(df_clean_nlp)\n",
    "df_featurizedData.show(1)"
   ]
  },
  {
   "cell_type": "markdown",
   "metadata": {},
   "source": [
    "##### IDF"
   ]
  },
  {
   "cell_type": "code",
   "execution_count": 35,
   "metadata": {},
   "outputs": [
    {
     "name": "stdout",
     "output_type": "stream",
     "text": [
      "-RECORD 0----------------------------------------------------------------------------------------------------------------------------------------------------------------------------------------------------------------------------------------------------------------------------------------------------------------------------------------------------------------------------------------------------------------------------------------------------------------------------------------------------------------------------------------------------------------------------------------------------------------------------------------------------------------------------------------------------------------------------------------------------------------------------------------------------------------------------------------------------------------------------------------------------------------------------------------------------------------------------------------------------------------------------------------------------------------------------------------------------------------------------------------------------------------------------------------------------------------------------------------------------------------------------------------------------------------------------------------------------------------------------------------------------------------------------------------------------------------------------------------------------------------------------------------------------------------------------------------------------------------------------------------------------------------------------------------------------------------------------------------------------------------------------------------------------------------------------------------------------------------------------------------------------------------------------------------------------------------------------------------------------------------------------------------------------------------------------------------------------------------------------------------------------------------------------------------------------------------------------------------------------------------------------------------------------------------------------------------------------------------------------------------------------------------------------------------------------------------------------------------------------------------------------------------------------------------------------------------------------------------------------------------------------------------------------------------------------------------------------------------------------------------------------------------------------------------------------------------------------------------------------------------------------------------------------------------------------------------------------------------------------------------------------------------------------------------------------------------------------------------------------------------------------------------------------------------------------------------------------------------------------------------------------------------------------------------------------------------------------------------------------------------------------------------------------------------------------------------------------------------------------------------------------------------------------------------------------------------------------------------------------------------------------------------------------------------------------------------------------------------------------------------------------------------------------------------------------------------------------------------------------------------------------------------------------------------------------------------------------------------------------------------------------------------------------------------------------------------------------------------------------------------------------------------------------------------------------------------------------------------\n",
      " product_id           | B01489L5LQ                                                                                                                                                                                                                                                                                                                                                                                                                                                                                                                                                                                                                                                                                                                                                                                                                                                                                                                                                                                                                                                                                                                                                                                                                                                                                                                                                                                                                                                                                                                                                                                                                                                                                                                                                                                                                                                                                                                                                                                                                                                                                                                                                                                                                                                                                                                                                                                                                                                                                                                                                                                                                                                                                                                                                                                                                                                                                                                                                                                                                                                                                                                                                                                                                                                                                                                                                                                                                                                                                                                                                                                                                                                                                                                                                                                                                                                                                                                                                                                                                                                                                                                                                                                                               \n",
      " star_rating          | 4                                                                                                                                                                                                                                                                                                                                                                                                                                                                                                                                                                                                                                                                                                                                                                                                                                                                                                                                                                                                                                                                                                                                                                                                                                                                                                                                                                                                                                                                                                                                                                                                                                                                                                                                                                                                                                                                                                                                                                                                                                                                                                                                                                                                                                                                                                                                                                                                                                                                                                                                                                                                                                                                                                                                                                                                                                                                                                                                                                                                                                                                                                                                                                                                                                                                                                                                                                                                                                                                                                                                                                                                                                                                                                                                                                                                                                                                                                                                                                                                                                                                                                                                                                                                                        \n",
      " product_category     | Digital_Video_Download                                                                                                                                                                                                                                                                                                                                                                                                                                                                                                                                                                                                                                                                                                                                                                                                                                                                                                                                                                                                                                                                                                                                                                                                                                                                                                                                                                                                                                                                                                                                                                                                                                                                                                                                                                                                                                                                                                                                                                                                                                                                                                                                                                                                                                                                                                                                                                                                                                                                                                                                                                                                                                                                                                                                                                                                                                                                                                                                                                                                                                                                                                                                                                                                                                                                                                                                                                                                                                                                                                                                                                                                                                                                                                                                                                                                                                                                                                                                                                                                                                                                                                                                                                                                   \n",
      " review_headline      | Charming movie                                                                                                                                                                                                                                                                                                                                                                                                                                                                                                                                                                                                                                                                                                                                                                                                                                                                                                                                                                                                                                                                                                                                                                                                                                                                                                                                                                                                                                                                                                                                                                                                                                                                                                                                                                                                                                                                                                                                                                                                                                                                                                                                                                                                                                                                                                                                                                                                                                                                                                                                                                                                                                                                                                                                                                                                                                                                                                                                                                                                                                                                                                                                                                                                                                                                                                                                                                                                                                                                                                                                                                                                                                                                                                                                                                                                                                                                                                                                                                                                                                                                                                                                                                                                           \n",
      " review_body          | This movie isn't perfect, but it gets a lot of things right. Yes, the librarian character played by Marcia Gay Harden is stereotypical and played a bit heavy-handed. But the universal nature of the story, the beautiful setting, and the likability of the characters overcome this flaw. The quote at the end brought tears to my eyes.  If you want to take a break from Hollywood's standard fare of dark, violent, or stupid movies, then give this a try. It is is entertaining and thoughtful.                                                                                                                                                                                                                                                                                                                                                                                                                                                                                                                                                                                                                                                                                                                                                                                                                                                                                                                                                                                                                                                                                                                                                                                                                                                                                                                                                                                                                                                                                                                                                                                                                                                                                                                                                                                                                                                                                                                                                                                                                                                                                                                                                                                                                                                                                                                                                                                                                                                                                                                                                                                                                                                                                                                                                                                                                                                                                                                                                                                                                                                                                                                                                                                                                                                                                                                                                                                                                                                                                                                                                                                                                                                                                                                  \n",
      " helpful_votes        | 17                                                                                                                                                                                                                                                                                                                                                                                                                                                                                                                                                                                                                                                                                                                                                                                                                                                                                                                                                                                                                                                                                                                                                                                                                                                                                                                                                                                                                                                                                                                                                                                                                                                                                                                                                                                                                                                                                                                                                                                                                                                                                                                                                                                                                                                                                                                                                                                                                                                                                                                                                                                                                                                                                                                                                                                                                                                                                                                                                                                                                                                                                                                                                                                                                                                                                                                                                                                                                                                                                                                                                                                                                                                                                                                                                                                                                                                                                                                                                                                                                                                                                                                                                                                                                       \n",
      " total_votes          | 18                                                                                                                                                                                                                                                                                                                                                                                                                                                                                                                                                                                                                                                                                                                                                                                                                                                                                                                                                                                                                                                                                                                                                                                                                                                                                                                                                                                                                                                                                                                                                                                                                                                                                                                                                                                                                                                                                                                                                                                                                                                                                                                                                                                                                                                                                                                                                                                                                                                                                                                                                                                                                                                                                                                                                                                                                                                                                                                                                                                                                                                                                                                                                                                                                                                                                                                                                                                                                                                                                                                                                                                                                                                                                                                                                                                                                                                                                                                                                                                                                                                                                                                                                                                                                       \n",
      " review_text          | Charming movie This movie isn't perfect, but it gets a lot of things right. Yes, the librarian character played by Marcia Gay Harden is stereotypical and played a bit heavy-handed. But the universal nature of the story, the beautiful setting, and the likability of the characters overcome this flaw. The quote at the end brought tears to my eyes.  If you want to take a break from Hollywood's standard fare of dark, violent, or stupid movies, then give this a try. It is is entertaining and thoughtful.                                                                                                                                                                                                                                                                                                                                                                                                                                                                                                                                                                                                                                                                                                                                                                                                                                                                                                                                                                                                                                                                                                                                                                                                                                                                                                                                                                                                                                                                                                                                                                                                                                                                                                                                                                                                                                                                                                                                                                                                                                                                                                                                                                                                                                                                                                                                                                                                                                                                                                                                                                                                                                                                                                                                                                                                                                                                                                                                                                                                                                                                                                                                                                                                                                                                                                                                                                                                                                                                                                                                                                                                                                                                                                   \n",
      " helpful_ratio        | 0.9444444444444444                                                                                                                                                                                                                                                                                                                                                                                                                                                                                                                                                                                                                                                                                                                                                                                                                                                                                                                                                                                                                                                                                                                                                                                                                                                                                                                                                                                                                                                                                                                                                                                                                                                                                                                                                                                                                                                                                                                                                                                                                                                                                                                                                                                                                                                                                                                                                                                                                                                                                                                                                                                                                                                                                                                                                                                                                                                                                                                                                                                                                                                                                                                                                                                                                                                                                                                                                                                                                                                                                                                                                                                                                                                                                                                                                                                                                                                                                                                                                                                                                                                                                                                                                                                                       \n",
      " helpful              | 1                                                                                                                                                                                                                                                                                                                                                                                                                                                                                                                                                                                                                                                                                                                                                                                                                                                                                                                                                                                                                                                                                                                                                                                                                                                                                                                                                                                                                                                                                                                                                                                                                                                                                                                                                                                                                                                                                                                                                                                                                                                                                                                                                                                                                                                                                                                                                                                                                                                                                                                                                                                                                                                                                                                                                                                                                                                                                                                                                                                                                                                                                                                                                                                                                                                                                                                                                                                                                                                                                                                                                                                                                                                                                                                                                                                                                                                                                                                                                                                                                                                                                                                                                                                                                        \n",
      " review_text_l        | charming movie this movie isnt perfect but it gets a lot of things right yes the librarian character played by marcia gay harden is stereotypical and played a bit heavy handed but the universal nature of the story the beautiful setting and the likability of the characters overcome this flaw the quote at the end brought tears to my eyes if you want to take a break from hollywoods standard fare of dark violent or stupid movies then give this a try it is is entertaining and thoughtful                                                                                                                                                                                                                                                                                                                                                                                                                                                                                                                                                                                                                                                                                                                                                                                                                                                                                                                                                                                                                                                                                                                                                                                                                                                                                                                                                                                                                                                                                                                                                                                                                                                                                                                                                                                                                                                                                                                                                                                                                                                                                                                                                                                                                                                                                                                                                                                                                                                                                                                                                                                                                                                                                                                                                                                                                                                                                                                                                                                                                                                                                                                                                                                                                                                                                                                                                                                                                                                                                                                                                                                                                                                                                                                   \n",
      " document             | [{document, 0, 486, charming movie this movie isnt perfect but it gets a lot of things right yes the librarian character played by marcia gay harden is stereotypical and played a bit heavy handed but the universal nature of the story the beautiful setting and the likability of the characters overcome this flaw the quote at the end brought tears to my eyes if you want to take a break from hollywoods standard fare of dark violent or stupid movies then give this a try it is is entertaining and thoughtful , {sentence -> 0}, []}]                                                                                                                                                                                                                                                                                                                                                                                                                                                                                                                                                                                                                                                                                                                                                                                                                                                                                                                                                                                                                                                                                                                                                                                                                                                                                                                                                                                                                                                                                                                                                                                                                                                                                                                                                                                                                                                                                                                                                                                                                                                                                                                                                                                                                                                                                                                                                                                                                                                                                                                                                                                                                                                                                                                                                                                                                                                                                                                                                                                                                                                                                                                                                                                                                                                                                                                                                                                                                                                                                                                                                                                                                                                                       \n",
      " review_words         | [{token, 0, 7, charming, {sentence -> 0}, []}, {token, 9, 13, movie, {sentence -> 0}, []}, {token, 15, 18, this, {sentence -> 0}, []}, {token, 20, 24, movie, {sentence -> 0}, []}, {token, 26, 29, isnt, {sentence -> 0}, []}, {token, 31, 37, perfect, {sentence -> 0}, []}, {token, 39, 41, but, {sentence -> 0}, []}, {token, 43, 44, it, {sentence -> 0}, []}, {token, 46, 49, gets, {sentence -> 0}, []}, {token, 51, 51, a, {sentence -> 0}, []}, {token, 53, 55, lot, {sentence -> 0}, []}, {token, 57, 58, of, {sentence -> 0}, []}, {token, 60, 65, things, {sentence -> 0}, []}, {token, 67, 71, right, {sentence -> 0}, []}, {token, 73, 75, yes, {sentence -> 0}, []}, {token, 77, 79, the, {sentence -> 0}, []}, {token, 81, 89, librarian, {sentence -> 0}, []}, {token, 91, 99, character, {sentence -> 0}, []}, {token, 101, 106, played, {sentence -> 0}, []}, {token, 108, 109, by, {sentence -> 0}, []}, {token, 111, 116, marcia, {sentence -> 0}, []}, {token, 118, 120, gay, {sentence -> 0}, []}, {token, 122, 127, harden, {sentence -> 0}, []}, {token, 129, 130, is, {sentence -> 0}, []}, {token, 132, 144, stereotypical, {sentence -> 0}, []}, {token, 146, 148, and, {sentence -> 0}, []}, {token, 150, 155, played, {sentence -> 0}, []}, {token, 157, 157, a, {sentence -> 0}, []}, {token, 159, 161, bit, {sentence -> 0}, []}, {token, 163, 167, heavy, {sentence -> 0}, []}, {token, 169, 174, handed, {sentence -> 0}, []}, {token, 176, 178, but, {sentence -> 0}, []}, {token, 180, 182, the, {sentence -> 0}, []}, {token, 184, 192, universal, {sentence -> 0}, []}, {token, 194, 199, nature, {sentence -> 0}, []}, {token, 201, 202, of, {sentence -> 0}, []}, {token, 204, 206, the, {sentence -> 0}, []}, {token, 208, 212, story, {sentence -> 0}, []}, {token, 214, 216, the, {sentence -> 0}, []}, {token, 218, 226, beautiful, {sentence -> 0}, []}, {token, 228, 234, setting, {sentence -> 0}, []}, {token, 236, 238, and, {sentence -> 0}, []}, {token, 240, 242, the, {sentence -> 0}, []}, {token, 244, 253, likability, {sentence -> 0}, []}, {token, 255, 256, of, {sentence -> 0}, []}, {token, 258, 260, the, {sentence -> 0}, []}, {token, 262, 271, characters, {sentence -> 0}, []}, {token, 273, 280, overcome, {sentence -> 0}, []}, {token, 282, 285, this, {sentence -> 0}, []}, {token, 287, 290, flaw, {sentence -> 0}, []}, {token, 292, 294, the, {sentence -> 0}, []}, {token, 296, 300, quote, {sentence -> 0}, []}, {token, 302, 303, at, {sentence -> 0}, []}, {token, 305, 307, the, {sentence -> 0}, []}, {token, 309, 311, end, {sentence -> 0}, []}, {token, 313, 319, brought, {sentence -> 0}, []}, {token, 321, 325, tears, {sentence -> 0}, []}, {token, 327, 328, to, {sentence -> 0}, []}, {token, 330, 331, my, {sentence -> 0}, []}, {token, 333, 336, eyes, {sentence -> 0}, []}, {token, 338, 339, if, {sentence -> 0}, []}, {token, 341, 343, you, {sentence -> 0}, []}, {token, 345, 348, want, {sentence -> 0}, []}, {token, 350, 351, to, {sentence -> 0}, []}, {token, 353, 356, take, {sentence -> 0}, []}, {token, 358, 358, a, {sentence -> 0}, []}, {token, 360, 364, break, {sentence -> 0}, []}, {token, 366, 369, from, {sentence -> 0}, []}, {token, 371, 380, hollywoods, {sentence -> 0}, []}, {token, 382, 389, standard, {sentence -> 0}, []}, {token, 391, 394, fare, {sentence -> 0}, []}, {token, 396, 397, of, {sentence -> 0}, []}, {token, 399, 402, dark, {sentence -> 0}, []}, {token, 404, 410, violent, {sentence -> 0}, []}, {token, 412, 413, or, {sentence -> 0}, []}, {token, 415, 420, stupid, {sentence -> 0}, []}, {token, 422, 427, movies, {sentence -> 0}, []}, {token, 429, 432, then, {sentence -> 0}, []}, {token, 434, 437, give, {sentence -> 0}, []}, {token, 439, 442, this, {sentence -> 0}, []}, {token, 444, 444, a, {sentence -> 0}, []}, {token, 446, 448, try, {sentence -> 0}, []}, {token, 450, 451, it, {sentence -> 0}, []}, {token, 453, 454, is, {sentence -> 0}, []}, {token, 456, 457, is, {sentence -> 0}, []}, {token, 459, 470, entertaining, {sentence -> 0}, []}, {token, 472, 474, and, {sentence -> 0}, []}, {token, 476, 485, thoughtful, {sentence -> 0}, []}] \n",
      " review_words_stop    | [{token, 0, 7, charming, {sentence -> 0}, []}, {token, 9, 13, movie, {sentence -> 0}, []}, {token, 20, 24, movie, {sentence -> 0}, []}, {token, 26, 29, isnt, {sentence -> 0}, []}, {token, 31, 37, perfect, {sentence -> 0}, []}, {token, 46, 49, gets, {sentence -> 0}, []}, {token, 53, 55, lot, {sentence -> 0}, []}, {token, 60, 65, things, {sentence -> 0}, []}, {token, 67, 71, right, {sentence -> 0}, []}, {token, 73, 75, yes, {sentence -> 0}, []}, {token, 81, 89, librarian, {sentence -> 0}, []}, {token, 91, 99, character, {sentence -> 0}, []}, {token, 101, 106, played, {sentence -> 0}, []}, {token, 111, 116, marcia, {sentence -> 0}, []}, {token, 118, 120, gay, {sentence -> 0}, []}, {token, 122, 127, harden, {sentence -> 0}, []}, {token, 132, 144, stereotypical, {sentence -> 0}, []}, {token, 150, 155, played, {sentence -> 0}, []}, {token, 159, 161, bit, {sentence -> 0}, []}, {token, 163, 167, heavy, {sentence -> 0}, []}, {token, 169, 174, handed, {sentence -> 0}, []}, {token, 184, 192, universal, {sentence -> 0}, []}, {token, 194, 199, nature, {sentence -> 0}, []}, {token, 208, 212, story, {sentence -> 0}, []}, {token, 218, 226, beautiful, {sentence -> 0}, []}, {token, 228, 234, setting, {sentence -> 0}, []}, {token, 244, 253, likability, {sentence -> 0}, []}, {token, 262, 271, characters, {sentence -> 0}, []}, {token, 273, 280, overcome, {sentence -> 0}, []}, {token, 287, 290, flaw, {sentence -> 0}, []}, {token, 296, 300, quote, {sentence -> 0}, []}, {token, 309, 311, end, {sentence -> 0}, []}, {token, 313, 319, brought, {sentence -> 0}, []}, {token, 321, 325, tears, {sentence -> 0}, []}, {token, 333, 336, eyes, {sentence -> 0}, []}, {token, 345, 348, want, {sentence -> 0}, []}, {token, 353, 356, take, {sentence -> 0}, []}, {token, 360, 364, break, {sentence -> 0}, []}, {token, 371, 380, hollywoods, {sentence -> 0}, []}, {token, 382, 389, standard, {sentence -> 0}, []}, {token, 391, 394, fare, {sentence -> 0}, []}, {token, 399, 402, dark, {sentence -> 0}, []}, {token, 404, 410, violent, {sentence -> 0}, []}, {token, 415, 420, stupid, {sentence -> 0}, []}, {token, 422, 427, movies, {sentence -> 0}, []}, {token, 434, 437, give, {sentence -> 0}, []}, {token, 446, 448, try, {sentence -> 0}, []}, {token, 459, 470, entertaining, {sentence -> 0}, []}, {token, 476, 485, thoughtful, {sentence -> 0}, []}]                                                                                                                                                                                                                                                                                                                                                                                                                                                                                                                                                                                                                                                                                                                                                                                                                                                                                                                                                                                                                                                                                                                                                                                                                                                                                                                                                                                                                                                                                                                                                                                                                                                                                                                                                                                             \n",
      " review_words_lemstem | [{token, 0, 7, charm, {sentence -> 0}, []}, {token, 9, 13, movi, {sentence -> 0}, []}, {token, 20, 24, movi, {sentence -> 0}, []}, {token, 26, 29, isnt, {sentence -> 0}, []}, {token, 31, 37, perfect, {sentence -> 0}, []}, {token, 46, 49, get, {sentence -> 0}, []}, {token, 53, 55, lot, {sentence -> 0}, []}, {token, 60, 65, thing, {sentence -> 0}, []}, {token, 67, 71, right, {sentence -> 0}, []}, {token, 73, 75, ye, {sentence -> 0}, []}, {token, 81, 89, librarian, {sentence -> 0}, []}, {token, 91, 99, charact, {sentence -> 0}, []}, {token, 101, 106, playe, {sentence -> 0}, []}, {token, 111, 116, marcia, {sentence -> 0}, []}, {token, 118, 120, gai, {sentence -> 0}, []}, {token, 122, 127, harden, {sentence -> 0}, []}, {token, 132, 144, stereotyp, {sentence -> 0}, []}, {token, 150, 155, playe, {sentence -> 0}, []}, {token, 159, 161, bit, {sentence -> 0}, []}, {token, 163, 167, heavi, {sentence -> 0}, []}, {token, 169, 174, hand, {sentence -> 0}, []}, {token, 184, 192, univers, {sentence -> 0}, []}, {token, 194, 199, natur, {sentence -> 0}, []}, {token, 208, 212, stori, {sentence -> 0}, []}, {token, 218, 226, beauti, {sentence -> 0}, []}, {token, 228, 234, set, {sentence -> 0}, []}, {token, 244, 253, likabl, {sentence -> 0}, []}, {token, 262, 271, charact, {sentence -> 0}, []}, {token, 273, 280, overcom, {sentence -> 0}, []}, {token, 287, 290, flaw, {sentence -> 0}, []}, {token, 296, 300, quot, {sentence -> 0}, []}, {token, 309, 311, end, {sentence -> 0}, []}, {token, 313, 319, brought, {sentence -> 0}, []}, {token, 321, 325, tear, {sentence -> 0}, []}, {token, 333, 336, ey, {sentence -> 0}, []}, {token, 345, 348, want, {sentence -> 0}, []}, {token, 353, 356, take, {sentence -> 0}, []}, {token, 360, 364, break, {sentence -> 0}, []}, {token, 371, 380, hollywood, {sentence -> 0}, []}, {token, 382, 389, standard, {sentence -> 0}, []}, {token, 391, 394, fare, {sentence -> 0}, []}, {token, 399, 402, dark, {sentence -> 0}, []}, {token, 404, 410, violent, {sentence -> 0}, []}, {token, 415, 420, stupid, {sentence -> 0}, []}, {token, 422, 427, movi, {sentence -> 0}, []}, {token, 434, 437, give, {sentence -> 0}, []}, {token, 446, 448, try, {sentence -> 0}, []}, {token, 459, 470, entertain, {sentence -> 0}, []}, {token, 476, 485, thought, {sentence -> 0}, []}]                                                                                                                                                                                                                                                                                                                                                                                                                                                                                                                                                                                                                                                                                                                                                                                                                                                                                                                                                                                                                                                                                                                                                                                                                                                                                                                                                                                                                                                                                                                                                                                                                                                                                                                                                                                                                                              \n",
      " token_features       | [charm, movi, movi, isnt, perfect, get, lot, thing, right, ye, librarian, charact, playe, marcia, gai, harden, stereotyp, playe, bit, heavi, hand, univers, natur, stori, beauti, set, likabl, charact, overcom, flaw, quot, end, brought, tear, ey, want, take, break, hollywood, standard, fare, dark, violent, stupid, movi, give, try, entertain, thought]                                                                                                                                                                                                                                                                                                                                                                                                                                                                                                                                                                                                                                                                                                                                                                                                                                                                                                                                                                                                                                                                                                                                                                                                                                                                                                                                                                                                                                                                                                                                                                                                                                                                                                                                                                                                                                                                                                                                                                                                                                                                                                                                                                                                                                                                                                                                                                                                                                                                                                                                                                                                                                                                                                                                                                                                                                                                                                                                                                                                                                                                                                                                                                                                                                                                                                                                                                                                                                                                                                                                                                                                                                                                                                                                                                                                                                                           \n",
      " rawFeatures          | (10000,[55,117,453,472,478,510,591,668,697,855,892,1083,1434,1790,1989,2576,2596,2967,3176,3423,3465,3783,3795,3857,3957,4000,4096,4640,4664,4693,4943,4960,5129,5342,6108,6460,6916,7032,7326,7712,8031,8199,8437,9426,9980],[1.0,1.0,1.0,1.0,1.0,1.0,1.0,1.0,1.0,1.0,1.0,3.0,1.0,1.0,1.0,1.0,1.0,1.0,1.0,1.0,2.0,1.0,1.0,1.0,1.0,1.0,1.0,1.0,1.0,1.0,1.0,1.0,1.0,1.0,1.0,1.0,1.0,1.0,1.0,1.0,1.0,1.0,1.0,1.0,2.0])                                                                                                                                                                                                                                                                                                                                                                                                                                                                                                                                                                                                                                                                                                                                                                                                                                                                                                                                                                                                                                                                                                                                                                                                                                                                                                                                                                                                                                                                                                                                                                                                                                                                                                                                                                                                                                                                                                                                                                                                                                                                                                                                                                                                                                                                                                                                                                                                                                                                                                                                                                                                                                                                                                                                                                                                                                                                                                                                                                                                                                                                                                                                                                                                                                                                                                                                                                                                                                                                                                                                                                                                                                                                                                                                                                                                     \n",
      " features             | (10000,[55,117,453,472,478,510,591,668,697,855,892,1083,1434,1790,1989,2576,2596,2967,3176,3423,3465,3783,3795,3857,3957,4000,4096,4640,4664,4693,4943,4960,5129,5342,6108,6460,6916,7032,7326,7712,8031,8199,8437,9426,9980],[2.465748642912953,5.106120897109521,2.055352342889145,1.7058010933887244,4.570859433125863,3.4956309067246165,4.475409187490368,3.8186296511012974,3.566428018664926,2.349614756439921,4.361680422162025,2.5328816008791906,3.6654131142658364,2.7671023726349486,3.0270083569131594,3.549639711661669,4.393429120476606,3.8496055789956025,6.4213193365456815,3.5309475786495166,6.556363542607928,1.892522129342164,3.6567281961523173,2.160574498117833,4.153650508657863,3.167000664747682,5.621342132348549,4.59109358648983,5.316192366856378,2.4560343875567097,2.620994973118252,4.519797290259162,6.8415995304389865,2.9611134017554157,5.0573307329400885,3.6893739074739313,2.985436396895636,3.936412686757681,2.9319674406746135,1.9529351333395888,4.020753835191432,5.881506175906439,3.718511611408321,1.5546902732049115,3.5831043811141705])                                                                                                                                                                                                                                                                                                                                                                                                                                                                                                                                                                                                                                                                                                                                                                                                                                                                                                                                                                                                                                                                                                                                                                                                                                                                                                                                                                                                                                                                                                                                                                                                                                                                                                                                                                                                                                                                                                                                                                                                                                                                                                                                                                                                                                                                                                                                                                                                                                                                                                                                                                                                                                                                                                                                                                                                                                                                                                                                                                                                                                                                                                                            \n",
      "only showing top 1 row\n",
      "\n",
      "Wall time: 16.1 s\n"
     ]
    }
   ],
   "source": [
    "%%time\n",
    "idf = IDF(inputCol=\"rawFeatures\", outputCol=\"features\")\n",
    "df_nlp = idf.fit(df_featurizedData).transform(df_featurizedData)\n",
    "df_nlp.show(1, vertical = True, truncate = False)"
   ]
  },
  {
   "cell_type": "code",
   "execution_count": 36,
   "metadata": {},
   "outputs": [
    {
     "name": "stdout",
     "output_type": "stream",
     "text": [
      "-RECORD 0----------------------------------------------------------------------------------------------------------------------------------------------------------------------------------------------------------------------------------------------------------------------------------------------------------------------------------------------------------------------------------------------------------------------------------------------------------------------------------------------------------------------------------------------------------------------------------------------------------------------------------------------------------------------------------------------------------------------------------------------------------------------------------------------------------------------------------------------------------------------------------------------------------------------------------------------------------------------------------------------------------------------------------------------------------------------------------------------------------------------------------------------------------------------------------------------------------------------------------------------------------------------------------------------------------------------------------------------------------------------------------------------------------------------------------------------------------------------------------------------------------------------------------------------------------------------------------------------------------------------------------------------------------------------------------------------------------------------------------------------------------------------------------------------------------------------------------------------------------------------------------------------------------------------------------------------------------------------------------------------------------------------------------------------------------------------------------------------------------------------------------------------------------------------------------------------------------------------------------------------------------------------------------------------------------------------------------------------------------------------------------------------------------------------------------------------------------------------------------------------------------------------------------------------------------------------------------------------------------------------------------------------------------------------------------------------------------------------------------------------------------------------------------------------------------------------------------------------------------------------------------------------------------------------------------------------------------------------------------------------------------------------------------------------------------------------------------------------------------------------------------------------------------------------------------------------------------------------------------------------------------------------------------------------------------------------------------------------------------------------------------------------------------------------------------------------------------------------------------------------------------------------------------------------------------------------------------------------------------------------------------------------------------------------------------------------------------------------------------------------------------------------------------------------------------------------------------------------------------------------------------------------------------------------------------------------------------------------------------------------------------------------------------------------------------------------------------------------------------------------------------------------------------------------------------------------------------------------------------------\n",
      " product_id           | B01489L5LQ                                                                                                                                                                                                                                                                                                                                                                                                                                                                                                                                                                                                                                                                                                                                                                                                                                                                                                                                                                                                                                                                                                                                                                                                                                                                                                                                                                                                                                                                                                                                                                                                                                                                                                                                                                                                                                                                                                                                                                                                                                                                                                                                                                                                                                                                                                                                                                                                                                                                                                                                                                                                                                                                                                                                                                                                                                                                                                                                                                                                                                                                                                                                                                                                                                                                                                                                                                                                                                                                                                                                                                                                                                                                                                                                                                                                                                                                                                                                                                                                                                                                                                                                                                                                               \n",
      " star_rating          | 4                                                                                                                                                                                                                                                                                                                                                                                                                                                                                                                                                                                                                                                                                                                                                                                                                                                                                                                                                                                                                                                                                                                                                                                                                                                                                                                                                                                                                                                                                                                                                                                                                                                                                                                                                                                                                                                                                                                                                                                                                                                                                                                                                                                                                                                                                                                                                                                                                                                                                                                                                                                                                                                                                                                                                                                                                                                                                                                                                                                                                                                                                                                                                                                                                                                                                                                                                                                                                                                                                                                                                                                                                                                                                                                                                                                                                                                                                                                                                                                                                                                                                                                                                                                                                        \n",
      " product_category     | Digital_Video_Download                                                                                                                                                                                                                                                                                                                                                                                                                                                                                                                                                                                                                                                                                                                                                                                                                                                                                                                                                                                                                                                                                                                                                                                                                                                                                                                                                                                                                                                                                                                                                                                                                                                                                                                                                                                                                                                                                                                                                                                                                                                                                                                                                                                                                                                                                                                                                                                                                                                                                                                                                                                                                                                                                                                                                                                                                                                                                                                                                                                                                                                                                                                                                                                                                                                                                                                                                                                                                                                                                                                                                                                                                                                                                                                                                                                                                                                                                                                                                                                                                                                                                                                                                                                                   \n",
      " review_headline      | Charming movie                                                                                                                                                                                                                                                                                                                                                                                                                                                                                                                                                                                                                                                                                                                                                                                                                                                                                                                                                                                                                                                                                                                                                                                                                                                                                                                                                                                                                                                                                                                                                                                                                                                                                                                                                                                                                                                                                                                                                                                                                                                                                                                                                                                                                                                                                                                                                                                                                                                                                                                                                                                                                                                                                                                                                                                                                                                                                                                                                                                                                                                                                                                                                                                                                                                                                                                                                                                                                                                                                                                                                                                                                                                                                                                                                                                                                                                                                                                                                                                                                                                                                                                                                                                                           \n",
      " review_body          | This movie isn't perfect, but it gets a lot of things right. Yes, the librarian character played by Marcia Gay Harden is stereotypical and played a bit heavy-handed. But the universal nature of the story, the beautiful setting, and the likability of the characters overcome this flaw. The quote at the end brought tears to my eyes.  If you want to take a break from Hollywood's standard fare of dark, violent, or stupid movies, then give this a try. It is is entertaining and thoughtful.                                                                                                                                                                                                                                                                                                                                                                                                                                                                                                                                                                                                                                                                                                                                                                                                                                                                                                                                                                                                                                                                                                                                                                                                                                                                                                                                                                                                                                                                                                                                                                                                                                                                                                                                                                                                                                                                                                                                                                                                                                                                                                                                                                                                                                                                                                                                                                                                                                                                                                                                                                                                                                                                                                                                                                                                                                                                                                                                                                                                                                                                                                                                                                                                                                                                                                                                                                                                                                                                                                                                                                                                                                                                                                                  \n",
      " helpful_votes        | 17                                                                                                                                                                                                                                                                                                                                                                                                                                                                                                                                                                                                                                                                                                                                                                                                                                                                                                                                                                                                                                                                                                                                                                                                                                                                                                                                                                                                                                                                                                                                                                                                                                                                                                                                                                                                                                                                                                                                                                                                                                                                                                                                                                                                                                                                                                                                                                                                                                                                                                                                                                                                                                                                                                                                                                                                                                                                                                                                                                                                                                                                                                                                                                                                                                                                                                                                                                                                                                                                                                                                                                                                                                                                                                                                                                                                                                                                                                                                                                                                                                                                                                                                                                                                                       \n",
      " total_votes          | 18                                                                                                                                                                                                                                                                                                                                                                                                                                                                                                                                                                                                                                                                                                                                                                                                                                                                                                                                                                                                                                                                                                                                                                                                                                                                                                                                                                                                                                                                                                                                                                                                                                                                                                                                                                                                                                                                                                                                                                                                                                                                                                                                                                                                                                                                                                                                                                                                                                                                                                                                                                                                                                                                                                                                                                                                                                                                                                                                                                                                                                                                                                                                                                                                                                                                                                                                                                                                                                                                                                                                                                                                                                                                                                                                                                                                                                                                                                                                                                                                                                                                                                                                                                                                                       \n",
      " review_text          | Charming movie This movie isn't perfect, but it gets a lot of things right. Yes, the librarian character played by Marcia Gay Harden is stereotypical and played a bit heavy-handed. But the universal nature of the story, the beautiful setting, and the likability of the characters overcome this flaw. The quote at the end brought tears to my eyes.  If you want to take a break from Hollywood's standard fare of dark, violent, or stupid movies, then give this a try. It is is entertaining and thoughtful.                                                                                                                                                                                                                                                                                                                                                                                                                                                                                                                                                                                                                                                                                                                                                                                                                                                                                                                                                                                                                                                                                                                                                                                                                                                                                                                                                                                                                                                                                                                                                                                                                                                                                                                                                                                                                                                                                                                                                                                                                                                                                                                                                                                                                                                                                                                                                                                                                                                                                                                                                                                                                                                                                                                                                                                                                                                                                                                                                                                                                                                                                                                                                                                                                                                                                                                                                                                                                                                                                                                                                                                                                                                                                                   \n",
      " helpful_ratio        | 0.9444444444444444                                                                                                                                                                                                                                                                                                                                                                                                                                                                                                                                                                                                                                                                                                                                                                                                                                                                                                                                                                                                                                                                                                                                                                                                                                                                                                                                                                                                                                                                                                                                                                                                                                                                                                                                                                                                                                                                                                                                                                                                                                                                                                                                                                                                                                                                                                                                                                                                                                                                                                                                                                                                                                                                                                                                                                                                                                                                                                                                                                                                                                                                                                                                                                                                                                                                                                                                                                                                                                                                                                                                                                                                                                                                                                                                                                                                                                                                                                                                                                                                                                                                                                                                                                                                       \n",
      " helpful              | 1                                                                                                                                                                                                                                                                                                                                                                                                                                                                                                                                                                                                                                                                                                                                                                                                                                                                                                                                                                                                                                                                                                                                                                                                                                                                                                                                                                                                                                                                                                                                                                                                                                                                                                                                                                                                                                                                                                                                                                                                                                                                                                                                                                                                                                                                                                                                                                                                                                                                                                                                                                                                                                                                                                                                                                                                                                                                                                                                                                                                                                                                                                                                                                                                                                                                                                                                                                                                                                                                                                                                                                                                                                                                                                                                                                                                                                                                                                                                                                                                                                                                                                                                                                                                                        \n",
      " review_text_l        | charming movie this movie isnt perfect but it gets a lot of things right yes the librarian character played by marcia gay harden is stereotypical and played a bit heavy handed but the universal nature of the story the beautiful setting and the likability of the characters overcome this flaw the quote at the end brought tears to my eyes if you want to take a break from hollywoods standard fare of dark violent or stupid movies then give this a try it is is entertaining and thoughtful                                                                                                                                                                                                                                                                                                                                                                                                                                                                                                                                                                                                                                                                                                                                                                                                                                                                                                                                                                                                                                                                                                                                                                                                                                                                                                                                                                                                                                                                                                                                                                                                                                                                                                                                                                                                                                                                                                                                                                                                                                                                                                                                                                                                                                                                                                                                                                                                                                                                                                                                                                                                                                                                                                                                                                                                                                                                                                                                                                                                                                                                                                                                                                                                                                                                                                                                                                                                                                                                                                                                                                                                                                                                                                                   \n",
      " document             | [{document, 0, 486, charming movie this movie isnt perfect but it gets a lot of things right yes the librarian character played by marcia gay harden is stereotypical and played a bit heavy handed but the universal nature of the story the beautiful setting and the likability of the characters overcome this flaw the quote at the end brought tears to my eyes if you want to take a break from hollywoods standard fare of dark violent or stupid movies then give this a try it is is entertaining and thoughtful , {sentence -> 0}, []}]                                                                                                                                                                                                                                                                                                                                                                                                                                                                                                                                                                                                                                                                                                                                                                                                                                                                                                                                                                                                                                                                                                                                                                                                                                                                                                                                                                                                                                                                                                                                                                                                                                                                                                                                                                                                                                                                                                                                                                                                                                                                                                                                                                                                                                                                                                                                                                                                                                                                                                                                                                                                                                                                                                                                                                                                                                                                                                                                                                                                                                                                                                                                                                                                                                                                                                                                                                                                                                                                                                                                                                                                                                                                       \n",
      " review_words         | [{token, 0, 7, charming, {sentence -> 0}, []}, {token, 9, 13, movie, {sentence -> 0}, []}, {token, 15, 18, this, {sentence -> 0}, []}, {token, 20, 24, movie, {sentence -> 0}, []}, {token, 26, 29, isnt, {sentence -> 0}, []}, {token, 31, 37, perfect, {sentence -> 0}, []}, {token, 39, 41, but, {sentence -> 0}, []}, {token, 43, 44, it, {sentence -> 0}, []}, {token, 46, 49, gets, {sentence -> 0}, []}, {token, 51, 51, a, {sentence -> 0}, []}, {token, 53, 55, lot, {sentence -> 0}, []}, {token, 57, 58, of, {sentence -> 0}, []}, {token, 60, 65, things, {sentence -> 0}, []}, {token, 67, 71, right, {sentence -> 0}, []}, {token, 73, 75, yes, {sentence -> 0}, []}, {token, 77, 79, the, {sentence -> 0}, []}, {token, 81, 89, librarian, {sentence -> 0}, []}, {token, 91, 99, character, {sentence -> 0}, []}, {token, 101, 106, played, {sentence -> 0}, []}, {token, 108, 109, by, {sentence -> 0}, []}, {token, 111, 116, marcia, {sentence -> 0}, []}, {token, 118, 120, gay, {sentence -> 0}, []}, {token, 122, 127, harden, {sentence -> 0}, []}, {token, 129, 130, is, {sentence -> 0}, []}, {token, 132, 144, stereotypical, {sentence -> 0}, []}, {token, 146, 148, and, {sentence -> 0}, []}, {token, 150, 155, played, {sentence -> 0}, []}, {token, 157, 157, a, {sentence -> 0}, []}, {token, 159, 161, bit, {sentence -> 0}, []}, {token, 163, 167, heavy, {sentence -> 0}, []}, {token, 169, 174, handed, {sentence -> 0}, []}, {token, 176, 178, but, {sentence -> 0}, []}, {token, 180, 182, the, {sentence -> 0}, []}, {token, 184, 192, universal, {sentence -> 0}, []}, {token, 194, 199, nature, {sentence -> 0}, []}, {token, 201, 202, of, {sentence -> 0}, []}, {token, 204, 206, the, {sentence -> 0}, []}, {token, 208, 212, story, {sentence -> 0}, []}, {token, 214, 216, the, {sentence -> 0}, []}, {token, 218, 226, beautiful, {sentence -> 0}, []}, {token, 228, 234, setting, {sentence -> 0}, []}, {token, 236, 238, and, {sentence -> 0}, []}, {token, 240, 242, the, {sentence -> 0}, []}, {token, 244, 253, likability, {sentence -> 0}, []}, {token, 255, 256, of, {sentence -> 0}, []}, {token, 258, 260, the, {sentence -> 0}, []}, {token, 262, 271, characters, {sentence -> 0}, []}, {token, 273, 280, overcome, {sentence -> 0}, []}, {token, 282, 285, this, {sentence -> 0}, []}, {token, 287, 290, flaw, {sentence -> 0}, []}, {token, 292, 294, the, {sentence -> 0}, []}, {token, 296, 300, quote, {sentence -> 0}, []}, {token, 302, 303, at, {sentence -> 0}, []}, {token, 305, 307, the, {sentence -> 0}, []}, {token, 309, 311, end, {sentence -> 0}, []}, {token, 313, 319, brought, {sentence -> 0}, []}, {token, 321, 325, tears, {sentence -> 0}, []}, {token, 327, 328, to, {sentence -> 0}, []}, {token, 330, 331, my, {sentence -> 0}, []}, {token, 333, 336, eyes, {sentence -> 0}, []}, {token, 338, 339, if, {sentence -> 0}, []}, {token, 341, 343, you, {sentence -> 0}, []}, {token, 345, 348, want, {sentence -> 0}, []}, {token, 350, 351, to, {sentence -> 0}, []}, {token, 353, 356, take, {sentence -> 0}, []}, {token, 358, 358, a, {sentence -> 0}, []}, {token, 360, 364, break, {sentence -> 0}, []}, {token, 366, 369, from, {sentence -> 0}, []}, {token, 371, 380, hollywoods, {sentence -> 0}, []}, {token, 382, 389, standard, {sentence -> 0}, []}, {token, 391, 394, fare, {sentence -> 0}, []}, {token, 396, 397, of, {sentence -> 0}, []}, {token, 399, 402, dark, {sentence -> 0}, []}, {token, 404, 410, violent, {sentence -> 0}, []}, {token, 412, 413, or, {sentence -> 0}, []}, {token, 415, 420, stupid, {sentence -> 0}, []}, {token, 422, 427, movies, {sentence -> 0}, []}, {token, 429, 432, then, {sentence -> 0}, []}, {token, 434, 437, give, {sentence -> 0}, []}, {token, 439, 442, this, {sentence -> 0}, []}, {token, 444, 444, a, {sentence -> 0}, []}, {token, 446, 448, try, {sentence -> 0}, []}, {token, 450, 451, it, {sentence -> 0}, []}, {token, 453, 454, is, {sentence -> 0}, []}, {token, 456, 457, is, {sentence -> 0}, []}, {token, 459, 470, entertaining, {sentence -> 0}, []}, {token, 472, 474, and, {sentence -> 0}, []}, {token, 476, 485, thoughtful, {sentence -> 0}, []}] \n",
      " review_words_stop    | [{token, 0, 7, charming, {sentence -> 0}, []}, {token, 9, 13, movie, {sentence -> 0}, []}, {token, 20, 24, movie, {sentence -> 0}, []}, {token, 26, 29, isnt, {sentence -> 0}, []}, {token, 31, 37, perfect, {sentence -> 0}, []}, {token, 46, 49, gets, {sentence -> 0}, []}, {token, 53, 55, lot, {sentence -> 0}, []}, {token, 60, 65, things, {sentence -> 0}, []}, {token, 67, 71, right, {sentence -> 0}, []}, {token, 73, 75, yes, {sentence -> 0}, []}, {token, 81, 89, librarian, {sentence -> 0}, []}, {token, 91, 99, character, {sentence -> 0}, []}, {token, 101, 106, played, {sentence -> 0}, []}, {token, 111, 116, marcia, {sentence -> 0}, []}, {token, 118, 120, gay, {sentence -> 0}, []}, {token, 122, 127, harden, {sentence -> 0}, []}, {token, 132, 144, stereotypical, {sentence -> 0}, []}, {token, 150, 155, played, {sentence -> 0}, []}, {token, 159, 161, bit, {sentence -> 0}, []}, {token, 163, 167, heavy, {sentence -> 0}, []}, {token, 169, 174, handed, {sentence -> 0}, []}, {token, 184, 192, universal, {sentence -> 0}, []}, {token, 194, 199, nature, {sentence -> 0}, []}, {token, 208, 212, story, {sentence -> 0}, []}, {token, 218, 226, beautiful, {sentence -> 0}, []}, {token, 228, 234, setting, {sentence -> 0}, []}, {token, 244, 253, likability, {sentence -> 0}, []}, {token, 262, 271, characters, {sentence -> 0}, []}, {token, 273, 280, overcome, {sentence -> 0}, []}, {token, 287, 290, flaw, {sentence -> 0}, []}, {token, 296, 300, quote, {sentence -> 0}, []}, {token, 309, 311, end, {sentence -> 0}, []}, {token, 313, 319, brought, {sentence -> 0}, []}, {token, 321, 325, tears, {sentence -> 0}, []}, {token, 333, 336, eyes, {sentence -> 0}, []}, {token, 345, 348, want, {sentence -> 0}, []}, {token, 353, 356, take, {sentence -> 0}, []}, {token, 360, 364, break, {sentence -> 0}, []}, {token, 371, 380, hollywoods, {sentence -> 0}, []}, {token, 382, 389, standard, {sentence -> 0}, []}, {token, 391, 394, fare, {sentence -> 0}, []}, {token, 399, 402, dark, {sentence -> 0}, []}, {token, 404, 410, violent, {sentence -> 0}, []}, {token, 415, 420, stupid, {sentence -> 0}, []}, {token, 422, 427, movies, {sentence -> 0}, []}, {token, 434, 437, give, {sentence -> 0}, []}, {token, 446, 448, try, {sentence -> 0}, []}, {token, 459, 470, entertaining, {sentence -> 0}, []}, {token, 476, 485, thoughtful, {sentence -> 0}, []}]                                                                                                                                                                                                                                                                                                                                                                                                                                                                                                                                                                                                                                                                                                                                                                                                                                                                                                                                                                                                                                                                                                                                                                                                                                                                                                                                                                                                                                                                                                                                                                                                                                                                                                                                                                                             \n",
      " review_words_lemstem | [{token, 0, 7, charm, {sentence -> 0}, []}, {token, 9, 13, movi, {sentence -> 0}, []}, {token, 20, 24, movi, {sentence -> 0}, []}, {token, 26, 29, isnt, {sentence -> 0}, []}, {token, 31, 37, perfect, {sentence -> 0}, []}, {token, 46, 49, get, {sentence -> 0}, []}, {token, 53, 55, lot, {sentence -> 0}, []}, {token, 60, 65, thing, {sentence -> 0}, []}, {token, 67, 71, right, {sentence -> 0}, []}, {token, 73, 75, ye, {sentence -> 0}, []}, {token, 81, 89, librarian, {sentence -> 0}, []}, {token, 91, 99, charact, {sentence -> 0}, []}, {token, 101, 106, playe, {sentence -> 0}, []}, {token, 111, 116, marcia, {sentence -> 0}, []}, {token, 118, 120, gai, {sentence -> 0}, []}, {token, 122, 127, harden, {sentence -> 0}, []}, {token, 132, 144, stereotyp, {sentence -> 0}, []}, {token, 150, 155, playe, {sentence -> 0}, []}, {token, 159, 161, bit, {sentence -> 0}, []}, {token, 163, 167, heavi, {sentence -> 0}, []}, {token, 169, 174, hand, {sentence -> 0}, []}, {token, 184, 192, univers, {sentence -> 0}, []}, {token, 194, 199, natur, {sentence -> 0}, []}, {token, 208, 212, stori, {sentence -> 0}, []}, {token, 218, 226, beauti, {sentence -> 0}, []}, {token, 228, 234, set, {sentence -> 0}, []}, {token, 244, 253, likabl, {sentence -> 0}, []}, {token, 262, 271, charact, {sentence -> 0}, []}, {token, 273, 280, overcom, {sentence -> 0}, []}, {token, 287, 290, flaw, {sentence -> 0}, []}, {token, 296, 300, quot, {sentence -> 0}, []}, {token, 309, 311, end, {sentence -> 0}, []}, {token, 313, 319, brought, {sentence -> 0}, []}, {token, 321, 325, tear, {sentence -> 0}, []}, {token, 333, 336, ey, {sentence -> 0}, []}, {token, 345, 348, want, {sentence -> 0}, []}, {token, 353, 356, take, {sentence -> 0}, []}, {token, 360, 364, break, {sentence -> 0}, []}, {token, 371, 380, hollywood, {sentence -> 0}, []}, {token, 382, 389, standard, {sentence -> 0}, []}, {token, 391, 394, fare, {sentence -> 0}, []}, {token, 399, 402, dark, {sentence -> 0}, []}, {token, 404, 410, violent, {sentence -> 0}, []}, {token, 415, 420, stupid, {sentence -> 0}, []}, {token, 422, 427, movi, {sentence -> 0}, []}, {token, 434, 437, give, {sentence -> 0}, []}, {token, 446, 448, try, {sentence -> 0}, []}, {token, 459, 470, entertain, {sentence -> 0}, []}, {token, 476, 485, thought, {sentence -> 0}, []}]                                                                                                                                                                                                                                                                                                                                                                                                                                                                                                                                                                                                                                                                                                                                                                                                                                                                                                                                                                                                                                                                                                                                                                                                                                                                                                                                                                                                                                                                                                                                                                                                                                                                                                                                                                                                                                              \n",
      " token_features       | [charm, movi, movi, isnt, perfect, get, lot, thing, right, ye, librarian, charact, playe, marcia, gai, harden, stereotyp, playe, bit, heavi, hand, univers, natur, stori, beauti, set, likabl, charact, overcom, flaw, quot, end, brought, tear, ey, want, take, break, hollywood, standard, fare, dark, violent, stupid, movi, give, try, entertain, thought]                                                                                                                                                                                                                                                                                                                                                                                                                                                                                                                                                                                                                                                                                                                                                                                                                                                                                                                                                                                                                                                                                                                                                                                                                                                                                                                                                                                                                                                                                                                                                                                                                                                                                                                                                                                                                                                                                                                                                                                                                                                                                                                                                                                                                                                                                                                                                                                                                                                                                                                                                                                                                                                                                                                                                                                                                                                                                                                                                                                                                                                                                                                                                                                                                                                                                                                                                                                                                                                                                                                                                                                                                                                                                                                                                                                                                                                           \n",
      " rawFeatures          | (10000,[55,117,453,472,478,510,591,668,697,855,892,1083,1434,1790,1989,2576,2596,2967,3176,3423,3465,3783,3795,3857,3957,4000,4096,4640,4664,4693,4943,4960,5129,5342,6108,6460,6916,7032,7326,7712,8031,8199,8437,9426,9980],[1.0,1.0,1.0,1.0,1.0,1.0,1.0,1.0,1.0,1.0,1.0,3.0,1.0,1.0,1.0,1.0,1.0,1.0,1.0,1.0,2.0,1.0,1.0,1.0,1.0,1.0,1.0,1.0,1.0,1.0,1.0,1.0,1.0,1.0,1.0,1.0,1.0,1.0,1.0,1.0,1.0,1.0,1.0,1.0,2.0])                                                                                                                                                                                                                                                                                                                                                                                                                                                                                                                                                                                                                                                                                                                                                                                                                                                                                                                                                                                                                                                                                                                                                                                                                                                                                                                                                                                                                                                                                                                                                                                                                                                                                                                                                                                                                                                                                                                                                                                                                                                                                                                                                                                                                                                                                                                                                                                                                                                                                                                                                                                                                                                                                                                                                                                                                                                                                                                                                                                                                                                                                                                                                                                                                                                                                                                                                                                                                                                                                                                                                                                                                                                                                                                                                                                                     \n",
      " features             | (10000,[55,117,453,472,478,510,591,668,697,855,892,1083,1434,1790,1989,2576,2596,2967,3176,3423,3465,3783,3795,3857,3957,4000,4096,4640,4664,4693,4943,4960,5129,5342,6108,6460,6916,7032,7326,7712,8031,8199,8437,9426,9980],[2.465748642912953,5.106120897109521,2.055352342889145,1.7058010933887244,4.570859433125863,3.4956309067246165,4.475409187490368,3.8186296511012974,3.566428018664926,2.349614756439921,4.361680422162025,2.5328816008791906,3.6654131142658364,2.7671023726349486,3.0270083569131594,3.549639711661669,4.393429120476606,3.8496055789956025,6.4213193365456815,3.5309475786495166,6.556363542607928,1.892522129342164,3.6567281961523173,2.160574498117833,4.153650508657863,3.167000664747682,5.621342132348549,4.59109358648983,5.316192366856378,2.4560343875567097,2.620994973118252,4.519797290259162,6.8415995304389865,2.9611134017554157,5.0573307329400885,3.6893739074739313,2.985436396895636,3.936412686757681,2.9319674406746135,1.9529351333395888,4.020753835191432,5.881506175906439,3.718511611408321,1.5546902732049115,3.5831043811141705])                                                                                                                                                                                                                                                                                                                                                                                                                                                                                                                                                                                                                                                                                                                                                                                                                                                                                                                                                                                                                                                                                                                                                                                                                                                                                                                                                                                                                                                                                                                                                                                                                                                                                                                                                                                                                                                                                                                                                                                                                                                                                                                                                                                                                                                                                                                                                                                                                                                                                                                                                                                                                                                                                                                                                                                                                                                                                                                                                                                                                                                                                                                            \n",
      "only showing top 1 row\n",
      "\n"
     ]
    }
   ],
   "source": [
    "df_nlp.show(1, vertical = True, truncate = False)"
   ]
  },
  {
   "cell_type": "code",
   "execution_count": 37,
   "metadata": {},
   "outputs": [],
   "source": [
    "nlpdf_model = df_nlp.select('helpful','features')"
   ]
  },
  {
   "cell_type": "code",
   "execution_count": 38,
   "metadata": {},
   "outputs": [],
   "source": [
    "from pyspark.sql.types import IntegerType\n",
    "nlpdf_model = nlpdf_model.withColumn('helpful',col('helpful').cast(IntegerType()))"
   ]
  },
  {
   "cell_type": "markdown",
   "metadata": {},
   "source": [
    "##### Train & Test Split"
   ]
  },
  {
   "cell_type": "code",
   "execution_count": 39,
   "metadata": {},
   "outputs": [],
   "source": [
    "train, test = nlpdf_model.randomSplit([0.8, 0.2], seed=12345)"
   ]
  },
  {
   "cell_type": "markdown",
   "metadata": {},
   "source": [
    "## NLP Modeling"
   ]
  },
  {
   "cell_type": "markdown",
   "metadata": {},
   "source": [
    "#### Logistic Regression (1 = Helpful, 0 = Not Helpful)"
   ]
  },
  {
   "cell_type": "code",
   "execution_count": 40,
   "metadata": {},
   "outputs": [
    {
     "name": "stdout",
     "output_type": "stream",
     "text": [
      "0.7792051866970825\n",
      "0.7718823505867335\n",
      "0.799494368346066\n",
      "0.7792051866970825\n",
      "Wall time: 4min 16s\n"
     ]
    }
   ],
   "source": [
    "%%time\n",
    "lr = LogisticRegression(featuresCol = 'features', labelCol='helpful')\n",
    "\n",
    "paramGrid = (ParamGridBuilder().addGrid(lr.regParam, [0.3, 0.0]).addGrid(lr.elasticNetParam, [0.0]).addGrid(lr.maxIter, [20, 100]).build())\n",
    "\n",
    "#Evaluator\n",
    "evaluator = MulticlassClassificationEvaluator(labelCol='helpful', predictionCol=\"prediction\")\n",
    "    \n",
    "# Create 3-fold CrossValidator\n",
    "cv = CrossValidator(estimator=lr,estimatorParamMaps=paramGrid,evaluator=evaluator,numFolds=3)\n",
    "\n",
    "cvModel = cv.fit(train)\n",
    "\n",
    "predictions = cvModel.transform(train)\n",
    "\n",
    "print(evaluator.evaluate(predictions, {evaluator.metricName: \"accuracy\"}))\n",
    "print(evaluator.evaluate(predictions, {evaluator.metricName: \"f1\"}))\n",
    "print(evaluator.evaluate(predictions, {evaluator.metricName: \"weightedPrecision\"}))\n",
    "print(evaluator.evaluate(predictions, {evaluator.metricName: \"weightedRecall\"}))"
   ]
  },
  {
   "cell_type": "code",
   "execution_count": 41,
   "metadata": {},
   "outputs": [
    {
     "name": "stdout",
     "output_type": "stream",
     "text": [
      "{Param(parent='LogisticRegression_d598d4c4daf2', name='regParam', doc='regularization parameter (>= 0).'): 0.3, Param(parent='LogisticRegression_d598d4c4daf2', name='elasticNetParam', doc='the ElasticNet mixing parameter, in range [0, 1]. For alpha = 0, the penalty is an L2 penalty. For alpha = 1, it is an L1 penalty.'): 0.0, Param(parent='LogisticRegression_d598d4c4daf2', name='maxIter', doc='max number of iterations (>= 0).'): 20}\n"
     ]
    }
   ],
   "source": [
    "print(cvModel.getEstimatorParamMaps()[np.argmax(cvModel.avgMetrics)])"
   ]
  },
  {
   "cell_type": "code",
   "execution_count": 42,
   "metadata": {},
   "outputs": [
    {
     "name": "stdout",
     "output_type": "stream",
     "text": [
      "0.7288787688442211\n",
      "0.7189128175970296\n",
      "0.7481372200242972\n",
      "0.7288787688442211\n",
      "Wall time: 1min\n"
     ]
    }
   ],
   "source": [
    "%%time\n",
    "predictions = cvModel.transform(test)\n",
    "\n",
    "print(evaluator.evaluate(predictions, {evaluator.metricName: \"accuracy\"}))\n",
    "print(evaluator.evaluate(predictions, {evaluator.metricName: \"f1\"}))\n",
    "print(evaluator.evaluate(predictions, {evaluator.metricName: \"weightedPrecision\"}))\n",
    "print(evaluator.evaluate(predictions, {evaluator.metricName: \"weightedRecall\"}))"
   ]
  },
  {
   "cell_type": "markdown",
   "metadata": {},
   "source": [
    "#### Naive Bayes Classifier (1 = Helpful, 0 = Not Helpful)"
   ]
  },
  {
   "cell_type": "code",
   "execution_count": 43,
   "metadata": {},
   "outputs": [
    {
     "name": "stdout",
     "output_type": "stream",
     "text": [
      "0.7585144275023012\n",
      "0.7542496802270101\n",
      "0.7650004125607055\n",
      "0.7585144275023012\n",
      "Wall time: 2min 50s\n"
     ]
    }
   ],
   "source": [
    "%%time\n",
    "nb = NaiveBayes(featuresCol='features', labelCol='helpful')\n",
    "\n",
    "paramGrid = (ParamGridBuilder().addGrid(nb.smoothing, [0.1, 0.5, 1.0]).build())\n",
    "\n",
    "#Evaluator\n",
    "evaluator = MulticlassClassificationEvaluator(labelCol='helpful', predictionCol=\"prediction\")\n",
    "    \n",
    "# Create 3-fold CrossValidator\n",
    "cv = CrossValidator(estimator=nb,estimatorParamMaps=paramGrid,evaluator=evaluator,numFolds=3)\n",
    "\n",
    "cvModel = cv.fit(train)\n",
    "\n",
    "predictions = cvModel.transform(train)\n",
    "\n",
    "print(evaluator.evaluate(predictions, {evaluator.metricName: \"accuracy\"}))\n",
    "print(evaluator.evaluate(predictions, {evaluator.metricName: \"f1\"}))\n",
    "print(evaluator.evaluate(predictions, {evaluator.metricName: \"weightedPrecision\"}))\n",
    "print(evaluator.evaluate(predictions, {evaluator.metricName: \"weightedRecall\"}))"
   ]
  },
  {
   "cell_type": "code",
   "execution_count": 44,
   "metadata": {},
   "outputs": [
    {
     "name": "stdout",
     "output_type": "stream",
     "text": [
      "{Param(parent='NaiveBayes_78ed73862df7', name='smoothing', doc='The smoothing parameter, should be >= 0, default is 1.0'): 1.0}\n"
     ]
    }
   ],
   "source": [
    "print(cvModel.getEstimatorParamMaps()[np.argmax(cvModel.avgMetrics)])"
   ]
  },
  {
   "cell_type": "code",
   "execution_count": 45,
   "metadata": {},
   "outputs": [
    {
     "name": "stdout",
     "output_type": "stream",
     "text": [
      "0.7230684673366834\n",
      "0.718757752569916\n",
      "0.7276615444234262\n",
      "0.7230684673366834\n",
      "Wall time: 1min\n"
     ]
    }
   ],
   "source": [
    "%%time\n",
    "predictions = cvModel.transform(test)\n",
    "\n",
    "print(evaluator.evaluate(predictions, {evaluator.metricName: \"accuracy\"}))\n",
    "print(evaluator.evaluate(predictions, {evaluator.metricName: \"f1\"}))\n",
    "print(evaluator.evaluate(predictions, {evaluator.metricName: \"weightedPrecision\"}))\n",
    "print(evaluator.evaluate(predictions, {evaluator.metricName: \"weightedRecall\"}))"
   ]
  },
  {
   "cell_type": "markdown",
   "metadata": {},
   "source": [
    "#### Random Forest Classifier (1 = Helpful, 0 = Not Helpful)"
   ]
  },
  {
   "cell_type": "code",
   "execution_count": 46,
   "metadata": {},
   "outputs": [
    {
     "name": "stdout",
     "output_type": "stream",
     "text": [
      "0.6609436907191739\n",
      "0.6330995433558185\n",
      "0.6938038426615719\n",
      "0.6609436907191739\n",
      "Wall time: 4min 28s\n"
     ]
    }
   ],
   "source": [
    "%%time\n",
    "rfc = RandomForestClassifier(impurity=\"gini\", featuresCol='features', labelCol=\"helpful\")\n",
    "\n",
    "paramGrid = (ParamGridBuilder().addGrid(rfc.impurity, ['gini', 'entropy']).addGrid(rfc.maxBins, [32, 100]).build())\n",
    "\n",
    "#Evaluator\n",
    "evaluator = MulticlassClassificationEvaluator(labelCol='helpful', predictionCol=\"prediction\")\n",
    "    \n",
    "# Create 3-fold CrossValidator\n",
    "cv = CrossValidator(estimator=rfc,estimatorParamMaps=paramGrid,evaluator=evaluator,numFolds=3)\n",
    "\n",
    "cvModel = cv.fit(train)\n",
    "\n",
    "predictions = cvModel.transform(train)\n",
    "\n",
    "print(evaluator.evaluate(predictions, {evaluator.metricName: \"accuracy\"}))\n",
    "print(evaluator.evaluate(predictions, {evaluator.metricName: \"f1\"}))\n",
    "print(evaluator.evaluate(predictions, {evaluator.metricName: \"weightedPrecision\"}))\n",
    "print(evaluator.evaluate(predictions, {evaluator.metricName: \"weightedRecall\"}))"
   ]
  },
  {
   "cell_type": "code",
   "execution_count": 47,
   "metadata": {},
   "outputs": [
    {
     "name": "stdout",
     "output_type": "stream",
     "text": [
      "{Param(parent='RandomForestClassifier_80628e154332', name='impurity', doc='Criterion used for information gain calculation (case-insensitive). Supported options: entropy, gini'): 'gini', Param(parent='RandomForestClassifier_80628e154332', name='maxBins', doc='Max number of bins for discretizing continuous features.  Must be >=2 and >= number of categories for any categorical feature.'): 32}\n"
     ]
    }
   ],
   "source": [
    "print(cvModel.getEstimatorParamMaps()[np.argmax(cvModel.avgMetrics)])"
   ]
  },
  {
   "cell_type": "code",
   "execution_count": 48,
   "metadata": {},
   "outputs": [
    {
     "name": "stdout",
     "output_type": "stream",
     "text": [
      "0.6560144472361809\n",
      "0.6284315214057037\n",
      "0.6902293146475933\n",
      "0.6560144472361809\n",
      "Wall time: 1min\n"
     ]
    }
   ],
   "source": [
    "%%time\n",
    "predictions = cvModel.transform(test)\n",
    "\n",
    "print(evaluator.evaluate(predictions, {evaluator.metricName: \"accuracy\"}))\n",
    "print(evaluator.evaluate(predictions, {evaluator.metricName: \"f1\"}))\n",
    "print(evaluator.evaluate(predictions, {evaluator.metricName: \"weightedPrecision\"}))\n",
    "print(evaluator.evaluate(predictions, {evaluator.metricName: \"weightedRecall\"}))"
   ]
  }
 ],
 "metadata": {
  "kernelspec": {
   "display_name": "Python 3",
   "language": "python",
   "name": "python3"
  },
  "language_info": {
   "codemirror_mode": {
    "name": "ipython",
    "version": 3
   },
   "file_extension": ".py",
   "mimetype": "text/x-python",
   "name": "python",
   "nbconvert_exporter": "python",
   "pygments_lexer": "ipython3",
   "version": "3.7.6"
  }
 },
 "nbformat": 4,
 "nbformat_minor": 4
}
